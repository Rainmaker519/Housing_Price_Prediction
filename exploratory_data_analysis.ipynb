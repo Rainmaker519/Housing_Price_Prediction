{
 "cells": [
  {
   "cell_type": "markdown",
   "id": "fc2aef65",
   "metadata": {},
   "source": [
    "# Summarized Exploratory Data Analysis\n",
    "#### by Charles Selden"
   ]
  },
  {
   "cell_type": "markdown",
   "id": "1cc072cd",
   "metadata": {},
   "source": [
    "*A consolidated version of the exploratory data analysis done for this project. For the full notebook showing my step by step thought process, look at 'building_model_for_deploy_test.ipynb'.*"
   ]
  },
  {
   "cell_type": "markdown",
   "id": "5df043fb",
   "metadata": {},
   "source": [
    "***"
   ]
  },
  {
   "cell_type": "markdown",
   "id": "97f7e3a5",
   "metadata": {},
   "source": [
    "# First Look at the Dataset"
   ]
  },
  {
   "cell_type": "code",
   "execution_count": 1,
   "id": "1077a124",
   "metadata": {},
   "outputs": [],
   "source": [
    "import pandas as pd\n",
    "import numpy as np\n",
    "\n",
    "data = pd.read_csv(\"~/Documents/data/house_data/House_Rent_Dataset.csv\")"
   ]
  },
  {
   "cell_type": "markdown",
   "id": "8425744d",
   "metadata": {},
   "source": [
    "Our data is a government sourced dataset from India that keeps track of rental properties. Let's take a look at the variables kept track of in our data."
   ]
  },
  {
   "cell_type": "code",
   "execution_count": 2,
   "id": "1d898c86",
   "metadata": {},
   "outputs": [
    {
     "data": {
      "text/plain": [
       "['Posted On',\n",
       " 'BHK',\n",
       " 'Rent',\n",
       " 'Size',\n",
       " 'Floor',\n",
       " 'Area Type',\n",
       " 'Area Locality',\n",
       " 'City',\n",
       " 'Furnishing Status',\n",
       " 'Tenant Preferred',\n",
       " 'Bathroom',\n",
       " 'Point of Contact']"
      ]
     },
     "execution_count": 2,
     "metadata": {},
     "output_type": "execute_result"
    }
   ],
   "source": [
    "columns = list(data.columns)\n",
    "columns"
   ]
  },
  {
   "cell_type": "markdown",
   "id": "2e2c8e81",
   "metadata": {},
   "source": [
    "While some of these, like 'Rent' and 'City' seem straightforward, others like 'Area Type' and 'BHK' are a bit more ambiguous. Let's look at each of the variables individually to better understand them."
   ]
  },
  {
   "cell_type": "code",
   "execution_count": 3,
   "id": "e9552ed2",
   "metadata": {},
   "outputs": [],
   "source": [
    "#Setting up a dict linking column names to their descriptions.\n",
    "column_to_description = {}\n",
    "\n",
    "descriptions_temp = [\"Posted On: The date on which the house listing was posted.\",\n",
    "\"BHK: Number of Bedrooms, Hall, Kitchen.\",\n",
    "\"Rent: Rent of the Houses/Apartments/Flats.\",\n",
    "\"Size: Size of the Houses/Apartments/Flats in Square Feet.\",\n",
    "\"Floor: Houses/Apartments/Flats situated in which Floor and Total Number of Floors (Example: Ground out of 2, 3 out of 5, etc.)\",\n",
    "\"Area Type: Size of the Houses/Apartments/Flats calculated on either Super Area or Carpet Area or Build Area.\",\n",
    "\"Area Locality: Locality of the Houses/Apartments/Flats.\",\n",
    "\"City: City where the Houses/Apartments/Flats are Located.\",\n",
    "\"Furnishing Status: Furnishing Status of the Houses/Apartments/Flats, either it is Furnished or Semi-Furnished or Unfurnished.\",\n",
    "\"Tenant Preferred: Type of Tenant Preferred by the Owner or Agent.\",\n",
    "\"Bathroom: Number of Bathrooms.\",\n",
    "\"Point of Contact: Whom should you contact for more information regarding the Houses/Apartments/Flats.\"]\n",
    "\n",
    "for i in range(len(list(data.columns))):\n",
    "    column_to_description[columns[i]] = descriptions_temp[i]"
   ]
  },
  {
   "cell_type": "markdown",
   "id": "f75c9278",
   "metadata": {},
   "source": [
    "# Exploring in more Depth"
   ]
  },
  {
   "cell_type": "markdown",
   "id": "a812430c",
   "metadata": {},
   "source": [
    "Before we get ahead of ourselves, let's check to see how complete the data we have is."
   ]
  },
  {
   "cell_type": "code",
   "execution_count": 4,
   "id": "0bef6fe9",
   "metadata": {},
   "outputs": [
    {
     "name": "stdout",
     "output_type": "stream",
     "text": [
      "<class 'pandas.core.frame.DataFrame'>\n",
      "RangeIndex: 4746 entries, 0 to 4745\n",
      "Data columns (total 12 columns):\n",
      " #   Column             Non-Null Count  Dtype \n",
      "---  ------             --------------  ----- \n",
      " 0   Posted On          4746 non-null   object\n",
      " 1   BHK                4746 non-null   int64 \n",
      " 2   Rent               4746 non-null   int64 \n",
      " 3   Size               4746 non-null   int64 \n",
      " 4   Floor              4746 non-null   object\n",
      " 5   Area Type          4746 non-null   object\n",
      " 6   Area Locality      4746 non-null   object\n",
      " 7   City               4746 non-null   object\n",
      " 8   Furnishing Status  4746 non-null   object\n",
      " 9   Tenant Preferred   4746 non-null   object\n",
      " 10  Bathroom           4746 non-null   int64 \n",
      " 11  Point of Contact   4746 non-null   object\n",
      "dtypes: int64(4), object(8)\n",
      "memory usage: 445.1+ KB\n"
     ]
    }
   ],
   "source": [
    "data.info()"
   ]
  },
  {
   "cell_type": "markdown",
   "id": "9de6890a",
   "metadata": {},
   "source": [
    "Ok, we have 4746 data points across 12 columns including our target of 'Rent'. None of the entries have null values, and most of the columns are generic objects while a few are int64's. Lets get into specifics."
   ]
  },
  {
   "cell_type": "markdown",
   "id": "b6aa032b",
   "metadata": {},
   "source": [
    "## Posted On"
   ]
  },
  {
   "cell_type": "code",
   "execution_count": 5,
   "id": "1ea18e93",
   "metadata": {},
   "outputs": [
    {
     "name": "stdout",
     "output_type": "stream",
     "text": [
      "Posted On: The date on which the house listing was posted. \n",
      "\n",
      "0       2022-05-18\n",
      "1       2022-05-13\n",
      "2       2022-05-16\n",
      "3       2022-07-04\n",
      "4       2022-05-09\n",
      "           ...    \n",
      "4741    2022-05-18\n",
      "4742    2022-05-15\n",
      "4743    2022-07-10\n",
      "4744    2022-07-06\n",
      "4745    2022-05-04\n",
      "Name: Posted On, Length: 4746, dtype: object \n",
      "\n",
      "2022-07-06    311\n",
      "2022-05-12    149\n",
      "2022-06-04    135\n",
      "2022-07-09    126\n",
      "2022-05-23    125\n",
      "             ... \n",
      "2022-04-24      6\n",
      "2022-04-25      6\n",
      "2022-04-26      2\n",
      "2022-04-13      1\n",
      "2022-07-11      1\n",
      "Name: Posted On, Length: 81, dtype: int64\n"
     ]
    }
   ],
   "source": [
    "print(column_to_description[\"Posted On\"],\"\\n\")\n",
    "print(data[\"Posted On\"],\"\\n\")\n",
    "posted_counts = data[\"Posted On\"].value_counts()\n",
    "print(posted_counts)"
   ]
  },
  {
   "cell_type": "markdown",
   "id": "590b8ee1",
   "metadata": {},
   "source": [
    "Just what the name sounds like, although it will need to be converted to a scalar form for use in a regression without treating every day as a categorical class."
   ]
  },
  {
   "cell_type": "markdown",
   "id": "2498b153",
   "metadata": {},
   "source": [
    "## BHK"
   ]
  },
  {
   "cell_type": "code",
   "execution_count": 6,
   "id": "72e85c66",
   "metadata": {},
   "outputs": [
    {
     "name": "stdout",
     "output_type": "stream",
     "text": [
      "BHK: Number of Bedrooms, Hall, Kitchen. \n",
      "\n",
      "0       2\n",
      "1       2\n",
      "2       2\n",
      "3       2\n",
      "4       2\n",
      "       ..\n",
      "4741    2\n",
      "4742    3\n",
      "4743    3\n",
      "4744    3\n",
      "4745    2\n",
      "Name: BHK, Length: 4746, dtype: int64 \n",
      "\n",
      "2    2265\n",
      "1    1167\n",
      "3    1098\n",
      "4     189\n",
      "5      19\n",
      "6       8\n",
      "Name: BHK, dtype: int64\n"
     ]
    }
   ],
   "source": [
    "print(column_to_description[\"BHK\"],\"\\n\")\n",
    "print(data[\"BHK\"],\"\\n\")\n",
    "print(data[\"BHK\"].value_counts())"
   ]
  },
  {
   "cell_type": "markdown",
   "id": "6e3b7f23",
   "metadata": {},
   "source": [
    "Just stands for the total number of bedrooms plus the total number of halls and kitchens. Works for regression well in it's current form."
   ]
  },
  {
   "cell_type": "markdown",
   "id": "75c9699d",
   "metadata": {},
   "source": [
    "## Rent"
   ]
  },
  {
   "cell_type": "code",
   "execution_count": 7,
   "id": "287a87be",
   "metadata": {},
   "outputs": [
    {
     "name": "stdout",
     "output_type": "stream",
     "text": [
      "Rent: Rent of the Houses/Apartments/Flats. \n",
      "\n",
      "0       10000\n",
      "1       20000\n",
      "2       17000\n",
      "3       10000\n",
      "4        7500\n",
      "        ...  \n",
      "4741    15000\n",
      "4742    29000\n",
      "4743    35000\n",
      "4744    45000\n",
      "4745    15000\n",
      "Name: Rent, Length: 4746, dtype: int64\n"
     ]
    }
   ],
   "source": [
    "print(column_to_description[\"Rent\"],\"\\n\")\n",
    "print(data[\"Rent\"])"
   ]
  },
  {
   "cell_type": "markdown",
   "id": "4a41f9d3",
   "metadata": {},
   "source": [
    "Just the monthly rent in Indian Rupees. Since we are trying to predict this, lets look at how rent is distributed relative to abode size."
   ]
  },
  {
   "cell_type": "code",
   "execution_count": 8,
   "id": "dc42786b",
   "metadata": {},
   "outputs": [
    {
     "data": {
      "image/png": "[encoded data removed]",
      "text/plain": [
       "<Figure size 640x480 with 1 Axes>"
      ]
     },
     "metadata": {},
     "output_type": "display_data"
    }
   ],
   "source": [
    "import matplotlib.pyplot as plt\n",
    "import matplotlib.ticker as mticker  \n",
    "\n",
    "plt.scatter(data[\"Size\"],np.sort(data[\"Rent\"]))\n",
    "plt.gca().yaxis.set_major_formatter(mticker.FormatStrFormatter('%.0f Rupees'))"
   ]
  },
  {
   "cell_type": "markdown",
   "id": "87b60a3c",
   "metadata": {},
   "source": [
    "It looks like our view of the data is being obscured through a few outliers wrecking the scale on the y-axis. Lets put a limit on the max y-axis value to get a closer look at most of the data."
   ]
  },
  {
   "cell_type": "code",
   "execution_count": 9,
   "id": "51c212d1",
   "metadata": {},
   "outputs": [
    {
     "data": {
      "text/plain": [
       "(0.0, 600000.0)"
      ]
     },
     "execution_count": 9,
     "metadata": {},
     "output_type": "execute_result"
    },
    {
     "data": {
      "image/png": "[encoded data removed]",
      "text/plain": [
       "<Figure size 640x480 with 1 Axes>"
      ]
     },
     "metadata": {},
     "output_type": "display_data"
    }
   ],
   "source": [
    "plt.scatter(data[\"Size\"],np.sort(data[\"Rent\"]))\n",
    "plt.gca().yaxis.set_major_formatter(mticker.FormatStrFormatter('%.0f Rupees'))\n",
    "plt.ylim(0,600000)"
   ]
  },
  {
   "cell_type": "markdown",
   "id": "12f92a27",
   "metadata": {},
   "source": [
    "Looks much better, but we need to check to see how much the dense the cluster at the bottom is compared to the wider distribution above."
   ]
  },
  {
   "cell_type": "code",
   "execution_count": 10,
   "id": "4c80025b",
   "metadata": {},
   "outputs": [
    {
     "name": "stdout",
     "output_type": "stream",
     "text": [
      "Mean Rent: 34993.45132743363\n",
      "Median Rent: 16000.0\n"
     ]
    }
   ],
   "source": [
    "print(f\"Mean Rent: {data['Rent'].mean()}\")\n",
    "print(f\"Median Rent: {data['Rent'].median()}\")"
   ]
  },
  {
   "cell_type": "markdown",
   "id": "a3f51976",
   "metadata": {},
   "source": [
    "It looks like very dense, from the mean and median rent we can see that most apartments sit well under 100,000 rupees a month."
   ]
  },
  {
   "cell_type": "markdown",
   "id": "bfe592e5",
   "metadata": {},
   "source": [
    "## Size"
   ]
  },
  {
   "cell_type": "code",
   "execution_count": 11,
   "id": "c326ec7d",
   "metadata": {},
   "outputs": [
    {
     "name": "stdout",
     "output_type": "stream",
     "text": [
      "Size: Size of the Houses/Apartments/Flats in Square Feet. \n",
      "\n",
      "0       1100\n",
      "1        800\n",
      "2       1000\n",
      "3        800\n",
      "4        850\n",
      "        ... \n",
      "4741    1000\n",
      "4742    2000\n",
      "4743    1750\n",
      "4744    1500\n",
      "4745    1000\n",
      "Name: Size, Length: 4746, dtype: int64\n"
     ]
    }
   ],
   "source": [
    "print(column_to_description[\"Size\"],\"\\n\")\n",
    "print(data[\"Size\"])"
   ]
  },
  {
   "cell_type": "markdown",
   "id": "1a183e72",
   "metadata": {},
   "source": [
    "The size of the house/apartment/flat in square feet. Mostly straightforward other than the fact that 'Area Type' decides how the square footage is calculated."
   ]
  },
  {
   "cell_type": "markdown",
   "id": "5983e2e7",
   "metadata": {},
   "source": [
    "## Floor"
   ]
  },
  {
   "cell_type": "code",
   "execution_count": 12,
   "id": "8f206938",
   "metadata": {},
   "outputs": [
    {
     "name": "stdout",
     "output_type": "stream",
     "text": [
      "Floor: Houses/Apartments/Flats situated in which Floor and Total Number of Floors (Example: Ground out of 2, 3 out of 5, etc.) \n",
      "\n",
      "0       Ground out of 2\n",
      "1            1 out of 3\n",
      "2            1 out of 3\n",
      "3            1 out of 2\n",
      "4            1 out of 2\n",
      "             ...       \n",
      "4741         3 out of 5\n",
      "4742         1 out of 4\n",
      "4743         3 out of 5\n",
      "4744       23 out of 34\n",
      "4745         4 out of 5\n",
      "Name: Floor, Length: 4746, dtype: object \n",
      "\n",
      "1 out of 2         379\n",
      "Ground out of 2    350\n",
      "2 out of 3         312\n",
      "2 out of 4         308\n",
      "1 out of 3         293\n",
      "                  ... \n",
      "11 out of 31         1\n",
      "50 out of 75         1\n",
      "18 out of 26         1\n",
      "12 out of 27         1\n",
      "23 out of 34         1\n",
      "Name: Floor, Length: 480, dtype: int64\n"
     ]
    }
   ],
   "source": [
    "print(column_to_description[\"Floor\"],\"\\n\")\n",
    "print(data[\"Floor\"],\"\\n\")\n",
    "print(data[\"Floor\"].value_counts())"
   ]
  },
  {
   "cell_type": "markdown",
   "id": "bfc5fc31",
   "metadata": {},
   "source": [
    "Actual usable values are scalar but contained in a string.  To extract we just need to split into two seperate variables. One for how high in the building the room is (as a percent represented as a decimal), and the other for the total number of floors the place has."
   ]
  },
  {
   "cell_type": "markdown",
   "id": "e3813360",
   "metadata": {},
   "source": [
    "*Maybe second variable not necessary, and might add some covariance, but being on the penthouse of a skyscraper and being on the top floor of a single floor house should affect the prediction differently.*"
   ]
  },
  {
   "cell_type": "markdown",
   "id": "6db8667d",
   "metadata": {},
   "source": [
    "## Area Type"
   ]
  },
  {
   "cell_type": "code",
   "execution_count": 13,
   "id": "c21afd90",
   "metadata": {},
   "outputs": [
    {
     "name": "stdout",
     "output_type": "stream",
     "text": [
      "Area Type: Size of the Houses/Apartments/Flats calculated on either Super Area or Carpet Area or Build Area. \n",
      "\n",
      "0        Super Area\n",
      "1        Super Area\n",
      "2        Super Area\n",
      "3        Super Area\n",
      "4       Carpet Area\n",
      "           ...     \n",
      "4741    Carpet Area\n",
      "4742     Super Area\n",
      "4743    Carpet Area\n",
      "4744    Carpet Area\n",
      "4745    Carpet Area\n",
      "Name: Area Type, Length: 4746, dtype: object \n",
      "\n",
      "Super Area     2446\n",
      "Carpet Area    2298\n",
      "Built Area        2\n",
      "Name: Area Type, dtype: int64\n"
     ]
    }
   ],
   "source": [
    "print(column_to_description[\"Area Type\"],\"\\n\")\n",
    "print(data[\"Area Type\"],\"\\n\")\n",
    "print(data[\"Area Type\"].value_counts())"
   ]
  },
  {
   "cell_type": "markdown",
   "id": "d4439ef4",
   "metadata": {},
   "source": [
    "Super area includes square feet for areas the tenant will have access to outside his apartment/house itself such as stairways, public areas, and hallways. Carpet area just includes the square footage of the apartment or house itself."
   ]
  },
  {
   "cell_type": "markdown",
   "id": "85b468cc",
   "metadata": {},
   "source": [
    "## Area Locality"
   ]
  },
  {
   "cell_type": "code",
   "execution_count": 14,
   "id": "a4c0fdec",
   "metadata": {},
   "outputs": [
    {
     "name": "stdout",
     "output_type": "stream",
     "text": [
      "Area Locality: Locality of the Houses/Apartments/Flats. \n",
      "\n",
      "0                         Bandel\n",
      "1       Phool Bagan, Kankurgachi\n",
      "2        Salt Lake City Sector 2\n",
      "3                    Dumdum Park\n",
      "4                  South Dum Dum\n",
      "                  ...           \n",
      "4741                Bandam Kommu\n",
      "4742        Manikonda, Hyderabad\n",
      "4743        Himayath Nagar, NH 7\n",
      "4744                  Gachibowli\n",
      "4745             Suchitra Circle\n",
      "Name: Area Locality, Length: 4746, dtype: object \n",
      "\n",
      "Bandra West                                37\n",
      "Gachibowli                                 29\n",
      "Electronic City                            24\n",
      "Velachery                                  22\n",
      "Miyapur, NH 9                              22\n",
      "                                           ..\n",
      "Kengeri Upanagara                           1\n",
      "Ittamadu, Banashankari, Outer Ring Road     1\n",
      "Rmv Extension, Armane Nagar                 1\n",
      "snv la                                      1\n",
      "Manikonda, Hyderabad                        1\n",
      "Name: Area Locality, Length: 2235, dtype: int64\n"
     ]
    }
   ],
   "source": [
    "print(column_to_description[\"Area Locality\"],\"\\n\")\n",
    "print(data[\"Area Locality\"],\"\\n\")\n",
    "print(data[\"Area Locality\"].value_counts())"
   ]
  },
  {
   "cell_type": "markdown",
   "id": "d14400e0",
   "metadata": {},
   "source": [
    "It looks like there are a lot of categories here, 2235 to be exact, and the most frequent of which, 'Bandra West',  has only 37 points. Trying to learn robust information from such few points is not a good idea, especially considering that a lot of the same information is contained in the 'City' variable as well."
   ]
  },
  {
   "cell_type": "code",
   "execution_count": 15,
   "id": "424e264e",
   "metadata": {},
   "outputs": [
    {
     "data": {
      "text/plain": [
       "(array([2.018e+03, 1.450e+02, 3.200e+01, 2.500e+01, 6.000e+00, 6.000e+00,\n",
       "        1.000e+00, 1.000e+00, 0.000e+00, 1.000e+00]),\n",
       " array([ 1. ,  4.6,  8.2, 11.8, 15.4, 19. , 22.6, 26.2, 29.8, 33.4, 37. ]),\n",
       " <BarContainer object of 10 artists>)"
      ]
     },
     "execution_count": 15,
     "metadata": {},
     "output_type": "execute_result"
    },
    {
     "data": {
      "image/png": "[encoded data removed]",
      "text/plain": [
       "<Figure size 640x480 with 1 Axes>"
      ]
     },
     "metadata": {},
     "output_type": "display_data"
    }
   ],
   "source": [
    "plt.hist(data[\"Area Locality\"].value_counts())"
   ]
  },
  {
   "cell_type": "markdown",
   "id": "e4589603",
   "metadata": {},
   "source": [
    "Confirming what we thought, this histogram shows the frequency of repeated localities in our data."
   ]
  },
  {
   "cell_type": "markdown",
   "id": "76c5349f",
   "metadata": {},
   "source": [
    "## City"
   ]
  },
  {
   "cell_type": "code",
   "execution_count": 16,
   "id": "587575d3",
   "metadata": {},
   "outputs": [
    {
     "name": "stdout",
     "output_type": "stream",
     "text": [
      "City: City where the Houses/Apartments/Flats are Located. \n",
      "\n",
      "0         Kolkata\n",
      "1         Kolkata\n",
      "2         Kolkata\n",
      "3         Kolkata\n",
      "4         Kolkata\n",
      "          ...    \n",
      "4741    Hyderabad\n",
      "4742    Hyderabad\n",
      "4743    Hyderabad\n",
      "4744    Hyderabad\n",
      "4745    Hyderabad\n",
      "Name: City, Length: 4746, dtype: object \n",
      "\n",
      "Mumbai       972\n",
      "Chennai      891\n",
      "Bangalore    886\n",
      "Hyderabad    868\n",
      "Delhi        605\n",
      "Kolkata      524\n",
      "Name: City, dtype: int64\n"
     ]
    }
   ],
   "source": [
    "print(column_to_description[\"City\"],\"\\n\")\n",
    "print(data[\"City\"],\"\\n\")\n",
    "print(data[\"City\"].value_counts())"
   ]
  },
  {
   "cell_type": "markdown",
   "id": "7a87531a",
   "metadata": {},
   "source": [
    "The city/town in which each of these properties resides, much better than 'Area Locality' in that it has only six more major regions with 524 data points for the least populus value count. Will need to be encoded to be used effectively in our regression, one-hot encoding seems perfectly viable here as we don't have too many unique categories."
   ]
  },
  {
   "cell_type": "markdown",
   "id": "cfb20173",
   "metadata": {},
   "source": [
    "## Furnishing Status"
   ]
  },
  {
   "cell_type": "code",
   "execution_count": 17,
   "id": "09207b04",
   "metadata": {},
   "outputs": [
    {
     "name": "stdout",
     "output_type": "stream",
     "text": [
      "Furnishing Status: Furnishing Status of the Houses/Apartments/Flats, either it is Furnished or Semi-Furnished or Unfurnished. \n",
      "\n",
      "0          Unfurnished\n",
      "1       Semi-Furnished\n",
      "2       Semi-Furnished\n",
      "3          Unfurnished\n",
      "4          Unfurnished\n",
      "             ...      \n",
      "4741    Semi-Furnished\n",
      "4742    Semi-Furnished\n",
      "4743    Semi-Furnished\n",
      "4744    Semi-Furnished\n",
      "4745       Unfurnished\n",
      "Name: Furnishing Status, Length: 4746, dtype: object \n",
      "\n",
      "Semi-Furnished    2251\n",
      "Unfurnished       1815\n",
      "Furnished          680\n",
      "Name: Furnishing Status, dtype: int64\n"
     ]
    }
   ],
   "source": [
    "print(column_to_description[\"Furnishing Status\"],\"\\n\")\n",
    "print(data[\"Furnishing Status\"],\"\\n\")\n",
    "print(data[\"Furnishing Status\"].value_counts())"
   ]
  },
  {
   "cell_type": "markdown",
   "id": "42f4133d",
   "metadata": {},
   "source": [
    "Categorical Data but seems like it would likely perform well if label-encoded as the categories are a scale from Unfurnished  through Furnished. Just need to make sure that unfurnished = 0, semi-furnished = 1, and furnished = 2."
   ]
  },
  {
   "cell_type": "markdown",
   "id": "8a113c58",
   "metadata": {},
   "source": [
    "#### currently only label encoded, this would be a great column to use k-fold target encoding given the scalar nature of the categorical variables. Not positive if it'd work unless I'm creating a condition to evaluate the rent to a boolean and not sure what boundary to pick. Maybe the median or mean?"
   ]
  },
  {
   "cell_type": "markdown",
   "id": "97972fed",
   "metadata": {},
   "source": [
    "## Tenant Preferred"
   ]
  },
  {
   "cell_type": "code",
   "execution_count": 18,
   "id": "3727c28a",
   "metadata": {},
   "outputs": [
    {
     "name": "stdout",
     "output_type": "stream",
     "text": [
      "Tenant Preferred: Type of Tenant Preferred by the Owner or Agent. \n",
      "\n",
      "0       Bachelors/Family\n",
      "1       Bachelors/Family\n",
      "2       Bachelors/Family\n",
      "3       Bachelors/Family\n",
      "4              Bachelors\n",
      "              ...       \n",
      "4741    Bachelors/Family\n",
      "4742    Bachelors/Family\n",
      "4743    Bachelors/Family\n",
      "4744              Family\n",
      "4745           Bachelors\n",
      "Name: Tenant Preferred, Length: 4746, dtype: object \n",
      "\n",
      "Bachelors/Family    3444\n",
      "Bachelors            830\n",
      "Family               472\n",
      "Name: Tenant Preferred, dtype: int64\n"
     ]
    }
   ],
   "source": [
    "print(column_to_description[\"Tenant Preferred\"],\"\\n\")\n",
    "print(data[\"Tenant Preferred\"],\"\\n\")\n",
    "print(data[\"Tenant Preferred\"].value_counts())"
   ]
  },
  {
   "cell_type": "markdown",
   "id": "037dbb5c",
   "metadata": {},
   "source": [
    "Use one-hot encoding for this, but with only two columns for 'Bachelors' and 'Family', with the 'Bachelors/Family' category just having a 1 value for both rather than it's own column."
   ]
  },
  {
   "cell_type": "markdown",
   "id": "58016ecd",
   "metadata": {},
   "source": [
    "## Bathroom"
   ]
  },
  {
   "cell_type": "code",
   "execution_count": 19,
   "id": "fa1ff69c",
   "metadata": {},
   "outputs": [
    {
     "name": "stdout",
     "output_type": "stream",
     "text": [
      "Bathroom: Number of Bathrooms. \n",
      "\n",
      "0       2\n",
      "1       1\n",
      "2       1\n",
      "3       1\n",
      "4       1\n",
      "       ..\n",
      "4741    2\n",
      "4742    3\n",
      "4743    3\n",
      "4744    2\n",
      "4745    2\n",
      "Name: Bathroom, Length: 4746, dtype: int64 \n",
      "\n",
      "2     2291\n",
      "1     1474\n",
      "3      749\n",
      "4      156\n",
      "5       60\n",
      "6       12\n",
      "7        3\n",
      "10       1\n",
      "Name: Bathroom, dtype: int64\n"
     ]
    }
   ],
   "source": [
    "print(column_to_description[\"Bathroom\"],\"\\n\")\n",
    "print(data[\"Bathroom\"],\"\\n\")\n",
    "print(data[\"Bathroom\"].value_counts())"
   ]
  },
  {
   "cell_type": "markdown",
   "id": "755c2ec7",
   "metadata": {},
   "source": [
    "No problem to use, simple scalar integer value."
   ]
  },
  {
   "cell_type": "markdown",
   "id": "3175cc25",
   "metadata": {},
   "source": [
    "## Point of Contact"
   ]
  },
  {
   "cell_type": "code",
   "execution_count": 20,
   "id": "e3f7cfe9",
   "metadata": {},
   "outputs": [
    {
     "name": "stdout",
     "output_type": "stream",
     "text": [
      "Point of Contact: Whom should you contact for more information regarding the Houses/Apartments/Flats. \n",
      "\n",
      "0       Contact Owner\n",
      "1       Contact Owner\n",
      "2       Contact Owner\n",
      "3       Contact Owner\n",
      "4       Contact Owner\n",
      "            ...      \n",
      "4741    Contact Owner\n",
      "4742    Contact Owner\n",
      "4743    Contact Agent\n",
      "4744    Contact Agent\n",
      "4745    Contact Owner\n",
      "Name: Point of Contact, Length: 4746, dtype: object \n",
      "\n",
      "Contact Owner      3216\n",
      "Contact Agent      1529\n",
      "Contact Builder       1\n",
      "Name: Point of Contact, dtype: int64\n"
     ]
    }
   ],
   "source": [
    "print(column_to_description[\"Point of Contact\"],\"\\n\")\n",
    "print(data[\"Point of Contact\"], \"\\n\")\n",
    "print(data[\"Point of Contact\"].value_counts())"
   ]
  },
  {
   "cell_type": "markdown",
   "id": "15c19968",
   "metadata": {},
   "source": [
    "Remove contact builder since with just one data point we can't learn how this factors into the regression robustly, and since a binary category makes basic label encoding viable."
   ]
  },
  {
   "cell_type": "markdown",
   "id": "5a0d89f0",
   "metadata": {},
   "source": [
    "***"
   ]
  },
  {
   "cell_type": "markdown",
   "id": "72eaff11",
   "metadata": {},
   "source": [
    "### Now we have a good grasp on our data, as well as what steps we'll need to take to process it for use in a regression. Let's consolidate them all below for easy reference."
   ]
  },
  {
   "cell_type": "markdown",
   "id": "ef036732",
   "metadata": {},
   "source": [
    "## Steps to be taken based on EDA:\n",
    "1. `Posted On`: Convert Date to time since start of 2022.\n",
    "2. `Size`: Maybe scale this using *Area Type* if it doesn't work well in the regression elsewise. For now having *Area Type* as a label-encoded variable which learns a flat value to adjust the outcome by might be fine, but the difference between different *Size*s will vary as some super-areas will severely overestimate *Size* and some will only minimally overestimate *Size*.\n",
    "3. `Floor`: One of two options seems optimal. Both involve splitting the active floor and the total floors given the building first. The first option is just having both of those as seperate columns, the second option involves the floor the unit is on as the first column, and the ratio of that to the total floors in the building as the second.\n",
    "The first option seems like the data is presented more clearly, but the second allows the relationship between the two to be passed directly in, as learning that might be suboptimal in terms of limiting learning other relationships. Call these columns *On Floor* and *Building Floors* in either case.\n",
    "4. `Area Type`: If used to scale *Size* then don't use this column, otherwise use binary one-hot encoding for *Carpet Area* and *Super Area*, and throw out *Built Area* as that only has two data points.\n",
    "5. `City`: This needs to be one-hot encoded, definitely good in this case as there are only a small number of cities with decent data population for each. \n",
    "6. `Furnishing Status`: Label encode with the following system. *Unfurnished* = 0, *Semi-Furnished* = 1, *Furnished* = 2.\n",
    "7. `Tenant Preferred`: Do a kind of custom one-hot encoding. Normally each value would get its own column, but here we can just make two instead of three as one just represents both of the previous options simultaneously.\n",
    "8. `Point of Contact`: Just drop the *Contact Builder* as it only has a single data point, the other two can be label encoded with 0 and 1."
   ]
  }
 ],
 "metadata": {
  "kernelspec": {
   "display_name": "Python 3 (ipykernel)",
   "language": "python",
   "name": "python3"
  },
  "language_info": {
   "codemirror_mode": {
    "name": "ipython",
    "version": 3
   },
   "file_extension": ".py",
   "mimetype": "text/x-python",
   "name": "python",
   "nbconvert_exporter": "python",
   "pygments_lexer": "ipython3",
   "version": "3.9.12"
  }
 },
 "nbformat": 4,
 "nbformat_minor": 5
}
