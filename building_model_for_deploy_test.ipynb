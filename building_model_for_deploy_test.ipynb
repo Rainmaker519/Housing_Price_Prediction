{
 "cells": [
  {
   "cell_type": "code",
   "execution_count": 1,
   "id": "57164ad6",
   "metadata": {},
   "outputs": [],
   "source": [
    "import numpy as np\n",
    "import pandas as pd"
   ]
  },
  {
   "cell_type": "markdown",
   "id": "7416c377",
   "metadata": {},
   "source": [
    "## Importing the Dataset"
   ]
  },
  {
   "cell_type": "code",
   "execution_count": 4,
   "id": "6f7988ae",
   "metadata": {},
   "outputs": [
    {
     "data": {
      "text/plain": [
       "['Posted On',\n",
       " 'BHK',\n",
       " 'Rent',\n",
       " 'Size',\n",
       " 'Floor',\n",
       " 'Area Type',\n",
       " 'Area Locality',\n",
       " 'City',\n",
       " 'Furnishing Status',\n",
       " 'Tenant Preferred',\n",
       " 'Bathroom',\n",
       " 'Point of Contact']"
      ]
     },
     "execution_count": 4,
     "metadata": {},
     "output_type": "execute_result"
    }
   ],
   "source": [
    "data = pd.read_csv(\"~/Documents/data/house_data/House_Rent_Dataset.csv\")\n",
    "list(data.columns)"
   ]
  },
  {
   "cell_type": "code",
   "execution_count": 8,
   "id": "452488f2",
   "metadata": {},
   "outputs": [
    {
     "name": "stdout",
     "output_type": "stream",
     "text": [
      "[['Posted On', 'Posted On: The date on which the house listing was posted.'], ['BHK', 'BHK: Number of Bedrooms, Hall, Kitchen.'], ['Rent', 'Rent: Rent of the Houses/Apartments/Flats.'], ['Size', 'Size: Size of the Houses/Apartments/Flats in Square Feet.'], ['Floor', 'Floor: Houses/Apartments/Flats situated in which Floor and Total Number of Floors (Example: Ground out of 2, 3 out of 5, etc.)'], ['Area Type', 'Area Type: Size of the Houses/Apartments/Flats calculated on either Super Area or Carpet Area or Build Area.'], ['Area Locality', 'Area Locality: Locality of the Houses/Apartments/Flats.'], ['City', 'City: City where the Houses/Apartments/Flats are Located.'], ['Furnishing Status', 'Furnishing Status: Furnishing Status of the Houses/Apartments/Flats, either it is Furnished or Semi-Furnished or Unfurnished.'], ['Tenant Preferred', 'Tenant Preferred: Type of Tenant Preferred by the Owner or Agent.'], ['Bathroom', 'Bathroom: Number of Bathrooms.'], ['Point of Contact', 'Point of Contact: Whom should you contact for more information regarding the Houses/Apartments/Flats.']]\n"
     ]
    }
   ],
   "source": [
    "column_to_description = []\n",
    "\n",
    "descriptions_temp = [\"Posted On: The date on which the house listing was posted.\",\n",
    "\"BHK: Number of Bedrooms, Hall, Kitchen.\",\n",
    "\"Rent: Rent of the Houses/Apartments/Flats.\",\n",
    "\"Size: Size of the Houses/Apartments/Flats in Square Feet.\",\n",
    "\"Floor: Houses/Apartments/Flats situated in which Floor and Total Number of Floors (Example: Ground out of 2, 3 out of 5, etc.)\",\n",
    "\"Area Type: Size of the Houses/Apartments/Flats calculated on either Super Area or Carpet Area or Build Area.\",\n",
    "\"Area Locality: Locality of the Houses/Apartments/Flats.\",\n",
    "\"City: City where the Houses/Apartments/Flats are Located.\",\n",
    "\"Furnishing Status: Furnishing Status of the Houses/Apartments/Flats, either it is Furnished or Semi-Furnished or Unfurnished.\",\n",
    "\"Tenant Preferred: Type of Tenant Preferred by the Owner or Agent.\",\n",
    "\"Bathroom: Number of Bathrooms.\",\n",
    "\"Point of Contact: Whom should you contact for more information regarding the Houses/Apartments/Flats.\"]\n",
    "\n",
    "for i in range(len(list(data.columns))):\n",
    "    column_to_description.append([list(data.columns)[i],descriptions_temp[i]])\n",
    "                                  \n",
    "print(column_to_description)"
   ]
  },
  {
   "cell_type": "code",
   "execution_count": null,
   "id": "dcb785d0",
   "metadata": {},
   "outputs": [],
   "source": []
  }
 ],
 "metadata": {
  "kernelspec": {
   "display_name": "Python 3 (ipykernel)",
   "language": "python",
   "name": "python3"
  },
  "language_info": {
   "codemirror_mode": {
    "name": "ipython",
    "version": 3
   },
   "file_extension": ".py",
   "mimetype": "text/x-python",
   "name": "python",
   "nbconvert_exporter": "python",
   "pygments_lexer": "ipython3",
   "version": "3.9.12"
  }
 },
 "nbformat": 4,
 "nbformat_minor": 5
}
