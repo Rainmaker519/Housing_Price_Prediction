{
 "cells": [
  {
   "cell_type": "markdown",
   "id": "fcdcbadc",
   "metadata": {},
   "source": [
    "# Predicting Rent Prices Based on Unit/House Data\n",
    "*Exploratory Data Analysis, Data Processing, Model Development, and Model Deployment by Charles Selden*\n",
    "***"
   ]
  },
  {
   "cell_type": "markdown",
   "id": "a2e10c97",
   "metadata": {},
   "source": [
    "## Importing Packages"
   ]
  },
  {
   "cell_type": "code",
   "execution_count": 1,
   "id": "57164ad6",
   "metadata": {},
   "outputs": [],
   "source": [
    "import numpy as np\n",
    "import pandas as pd\n",
    "import matplotlib.pyplot as plt\n",
    "import matplotlib.ticker as mticker  \n",
    "from sklearn.preprocessing import OneHotEncoder\n",
    "from pandas.api.types import CategoricalDtype\n",
    "from sklearn.preprocessing import scale \n",
    "from sklearn import model_selection\n",
    "from sklearn.model_selection import RepeatedKFold\n",
    "from sklearn.model_selection import train_test_split\n",
    "from sklearn.decomposition import PCA\n",
    "from sklearn.linear_model import LinearRegression\n",
    "from sklearn.metrics import mean_squared_error\n",
    "from sklearn.ensemble import RandomForestRegressor"
   ]
  },
  {
   "cell_type": "markdown",
   "id": "2ad9b7e6",
   "metadata": {},
   "source": [
    "***"
   ]
  },
  {
   "cell_type": "markdown",
   "id": "7416c377",
   "metadata": {},
   "source": [
    "## Importing the Dataset"
   ]
  },
  {
   "cell_type": "code",
   "execution_count": 2,
   "id": "6f7988ae",
   "metadata": {},
   "outputs": [],
   "source": [
    "data = pd.read_csv(\"~/Documents/data/house_data/House_Rent_Dataset.csv\")\n",
    "columns = list(data.columns)"
   ]
  },
  {
   "cell_type": "code",
   "execution_count": 3,
   "id": "452488f2",
   "metadata": {},
   "outputs": [
    {
     "name": "stdout",
     "output_type": "stream",
     "text": [
      "Posted On: The date on which the house listing was posted.\n",
      "BHK: Number of Bedrooms, Hall, Kitchen.\n",
      "Rent: Rent of the Houses/Apartments/Flats.\n",
      "Size: Size of the Houses/Apartments/Flats in Square Feet.\n",
      "Floor: Houses/Apartments/Flats situated in which Floor and Total Number of Floors (Example: Ground out of 2, 3 out of 5, etc.)\n",
      "Area Type: Size of the Houses/Apartments/Flats calculated on either Super Area or Carpet Area or Build Area.\n",
      "Area Locality: Locality of the Houses/Apartments/Flats.\n",
      "City: City where the Houses/Apartments/Flats are Located.\n",
      "Furnishing Status: Furnishing Status of the Houses/Apartments/Flats, either it is Furnished or Semi-Furnished or Unfurnished.\n",
      "Tenant Preferred: Type of Tenant Preferred by the Owner or Agent.\n",
      "Bathroom: Number of Bathrooms.\n",
      "Point of Contact: Whom should you contact for more information regarding the Houses/Apartments/Flats.\n"
     ]
    }
   ],
   "source": [
    "column_to_description = {}\n",
    "\n",
    "descriptions_temp = [\"Posted On: The date on which the house listing was posted.\",\n",
    "\"BHK: Number of Bedrooms, Hall, Kitchen.\",\n",
    "\"Rent: Rent of the Houses/Apartments/Flats.\",\n",
    "\"Size: Size of the Houses/Apartments/Flats in Square Feet.\",\n",
    "\"Floor: Houses/Apartments/Flats situated in which Floor and Total Number of Floors (Example: Ground out of 2, 3 out of 5, etc.)\",\n",
    "\"Area Type: Size of the Houses/Apartments/Flats calculated on either Super Area or Carpet Area or Build Area.\",\n",
    "\"Area Locality: Locality of the Houses/Apartments/Flats.\",\n",
    "\"City: City where the Houses/Apartments/Flats are Located.\",\n",
    "\"Furnishing Status: Furnishing Status of the Houses/Apartments/Flats, either it is Furnished or Semi-Furnished or Unfurnished.\",\n",
    "\"Tenant Preferred: Type of Tenant Preferred by the Owner or Agent.\",\n",
    "\"Bathroom: Number of Bathrooms.\",\n",
    "\"Point of Contact: Whom should you contact for more information regarding the Houses/Apartments/Flats.\"]\n",
    "\n",
    "for i in range(len(list(data.columns))):\n",
    "    column_to_description[columns[i]] = descriptions_temp[i]\n",
    "                                  \n",
    "for i in columns:\n",
    "    print(column_to_description[i])"
   ]
  },
  {
   "cell_type": "markdown",
   "id": "6abd625f",
   "metadata": {},
   "source": [
    "***"
   ]
  },
  {
   "cell_type": "markdown",
   "id": "8d64efe8",
   "metadata": {},
   "source": [
    "# Exploring the Dataset\n",
    "\n",
    "## Posted On"
   ]
  },
  {
   "cell_type": "code",
   "execution_count": 4,
   "id": "bacb09fc",
   "metadata": {},
   "outputs": [
    {
     "name": "stdout",
     "output_type": "stream",
     "text": [
      "Posted On: The date on which the house listing was posted. \n",
      "\n",
      "0       2022-05-18\n",
      "1       2022-05-13\n",
      "2       2022-05-16\n",
      "3       2022-07-04\n",
      "4       2022-05-09\n",
      "           ...    \n",
      "4741    2022-05-18\n",
      "4742    2022-05-15\n",
      "4743    2022-07-10\n",
      "4744    2022-07-06\n",
      "4745    2022-05-04\n",
      "Name: Posted On, Length: 4746, dtype: object \n",
      "\n",
      "2022-07-06    311\n",
      "2022-05-12    149\n",
      "2022-06-04    135\n",
      "2022-07-09    126\n",
      "2022-05-23    125\n",
      "             ... \n",
      "2022-04-24      6\n",
      "2022-04-25      6\n",
      "2022-04-26      2\n",
      "2022-04-13      1\n",
      "2022-07-11      1\n",
      "Name: Posted On, Length: 81, dtype: int64\n"
     ]
    }
   ],
   "source": [
    "print(column_to_description[\"Posted On\"],\"\\n\")\n",
    "print(data[\"Posted On\"],\"\\n\")\n",
    "posted_counts = data[\"Posted On\"].value_counts()\n",
    "print(posted_counts)"
   ]
  },
  {
   "cell_type": "markdown",
   "id": "da4e4a94",
   "metadata": {},
   "source": [
    "#### Maybe convert dates to int representing time since first listed date/start of 2020"
   ]
  },
  {
   "cell_type": "markdown",
   "id": "88015638",
   "metadata": {},
   "source": [
    "## BHK"
   ]
  },
  {
   "cell_type": "code",
   "execution_count": 5,
   "id": "aaa73447",
   "metadata": {},
   "outputs": [
    {
     "name": "stdout",
     "output_type": "stream",
     "text": [
      "BHK: Number of Bedrooms, Hall, Kitchen. \n",
      "\n",
      "0       2\n",
      "1       2\n",
      "2       2\n",
      "3       2\n",
      "4       2\n",
      "       ..\n",
      "4741    2\n",
      "4742    3\n",
      "4743    3\n",
      "4744    3\n",
      "4745    2\n",
      "Name: BHK, Length: 4746, dtype: int64 \n",
      "\n",
      "2    2265\n",
      "1    1167\n",
      "3    1098\n",
      "4     189\n",
      "5      19\n",
      "6       8\n",
      "Name: BHK, dtype: int64\n"
     ]
    }
   ],
   "source": [
    "print(column_to_description[\"BHK\"],\"\\n\")\n",
    "print(data[\"BHK\"],\"\\n\")\n",
    "print(data[\"BHK\"].value_counts())"
   ]
  },
  {
   "cell_type": "markdown",
   "id": "c2f2ccf2",
   "metadata": {},
   "source": [
    "#### Simple, works in current form"
   ]
  },
  {
   "cell_type": "markdown",
   "id": "cf841d31",
   "metadata": {},
   "source": [
    "## Rent"
   ]
  },
  {
   "cell_type": "code",
   "execution_count": 6,
   "id": "83028a3d",
   "metadata": {},
   "outputs": [
    {
     "name": "stdout",
     "output_type": "stream",
     "text": [
      "Rent: Rent of the Houses/Apartments/Flats. \n",
      "\n",
      "0       10000\n",
      "1       20000\n",
      "2       17000\n",
      "3       10000\n",
      "4        7500\n",
      "        ...  \n",
      "4741    15000\n",
      "4742    29000\n",
      "4743    35000\n",
      "4744    45000\n",
      "4745    15000\n",
      "Name: Rent, Length: 4746, dtype: int64\n"
     ]
    }
   ],
   "source": [
    "print(column_to_description[\"Rent\"],\"\\n\")\n",
    "print(data[\"Rent\"])"
   ]
  },
  {
   "cell_type": "code",
   "execution_count": 7,
   "id": "540587be",
   "metadata": {},
   "outputs": [
    {
     "data": {
      "image/png": "[encoded data removed]",
      "text/plain": [
       "<Figure size 432x288 with 1 Axes>"
      ]
     },
     "metadata": {
      "needs_background": "light"
     },
     "output_type": "display_data"
    }
   ],
   "source": [
    "plt.scatter(data[\"Size\"],np.sort(data[\"Rent\"]))\n",
    "plt.gca().yaxis.set_major_formatter(mticker.FormatStrFormatter('%.0f Rupees'))"
   ]
  },
  {
   "cell_type": "markdown",
   "id": "8e6e163e",
   "metadata": {},
   "source": [
    "#### Lets put a limit on the y axis to ignore the extreme outliers."
   ]
  },
  {
   "cell_type": "code",
   "execution_count": 8,
   "id": "5dde7ea9",
   "metadata": {},
   "outputs": [
    {
     "data": {
      "text/plain": [
       "(0.0, 600000.0)"
      ]
     },
     "execution_count": 8,
     "metadata": {},
     "output_type": "execute_result"
    },
    {
     "data": {
      "image/png": "[encoded data removed]",
      "text/plain": [
       "<Figure size 432x288 with 1 Axes>"
      ]
     },
     "metadata": {
      "needs_background": "light"
     },
     "output_type": "display_data"
    }
   ],
   "source": [
    "plt.scatter(data[\"Size\"],np.sort(data[\"Rent\"]))\n",
    "plt.gca().yaxis.set_major_formatter(mticker.FormatStrFormatter('%.0f Rupees'))\n",
    "plt.ylim(0,600000)"
   ]
  },
  {
   "cell_type": "markdown",
   "id": "723d327a",
   "metadata": {},
   "source": [
    "#### Scalar value, easy to use. Our y value, what we want to predict using the model. A few extremely high outliers, but the majority values are under 100,000 and an even larger majority are under 400,000."
   ]
  },
  {
   "cell_type": "markdown",
   "id": "dd8ae035",
   "metadata": {},
   "source": [
    "## Size"
   ]
  },
  {
   "cell_type": "code",
   "execution_count": 9,
   "id": "75afdc35",
   "metadata": {},
   "outputs": [
    {
     "name": "stdout",
     "output_type": "stream",
     "text": [
      "Size: Size of the Houses/Apartments/Flats in Square Feet. \n",
      "\n",
      "0       1100\n",
      "1        800\n",
      "2       1000\n",
      "3        800\n",
      "4        850\n",
      "        ... \n",
      "4741    1000\n",
      "4742    2000\n",
      "4743    1750\n",
      "4744    1500\n",
      "4745    1000\n",
      "Name: Size, Length: 4746, dtype: int64\n"
     ]
    }
   ],
   "source": [
    "print(column_to_description[\"Size\"],\"\\n\")\n",
    "print(data[\"Size\"])"
   ]
  },
  {
   "cell_type": "markdown",
   "id": "95e6f0aa",
   "metadata": {},
   "source": [
    "#### In square feet, makes using much easier than a categorical version."
   ]
  },
  {
   "cell_type": "markdown",
   "id": "0efc24a3",
   "metadata": {},
   "source": [
    "## Floor"
   ]
  },
  {
   "cell_type": "code",
   "execution_count": 10,
   "id": "96680ca7",
   "metadata": {},
   "outputs": [
    {
     "name": "stdout",
     "output_type": "stream",
     "text": [
      "Floor: Houses/Apartments/Flats situated in which Floor and Total Number of Floors (Example: Ground out of 2, 3 out of 5, etc.) \n",
      "\n",
      "0       Ground out of 2\n",
      "1            1 out of 3\n",
      "2            1 out of 3\n",
      "3            1 out of 2\n",
      "4            1 out of 2\n",
      "             ...       \n",
      "4741         3 out of 5\n",
      "4742         1 out of 4\n",
      "4743         3 out of 5\n",
      "4744       23 out of 34\n",
      "4745         4 out of 5\n",
      "Name: Floor, Length: 4746, dtype: object \n",
      "\n",
      "1 out of 2         379\n",
      "Ground out of 2    350\n",
      "2 out of 3         312\n",
      "2 out of 4         308\n",
      "1 out of 3         293\n",
      "                  ... \n",
      "11 out of 31         1\n",
      "50 out of 75         1\n",
      "18 out of 26         1\n",
      "12 out of 27         1\n",
      "23 out of 34         1\n",
      "Name: Floor, Length: 480, dtype: int64\n"
     ]
    }
   ],
   "source": [
    "print(column_to_description[\"Floor\"],\"\\n\")\n",
    "print(data[\"Floor\"],\"\\n\")\n",
    "print(data[\"Floor\"].value_counts())"
   ]
  },
  {
   "cell_type": "markdown",
   "id": "f9d16f37",
   "metadata": {},
   "source": [
    "#### Actual values are scalar but in a string format, split into two seperate columns for the floor the room is on as well as the total number of floors the place has."
   ]
  },
  {
   "cell_type": "markdown",
   "id": "146ac1a3",
   "metadata": {},
   "source": [
    "## Area Type"
   ]
  },
  {
   "cell_type": "code",
   "execution_count": 11,
   "id": "4787a98b",
   "metadata": {},
   "outputs": [
    {
     "name": "stdout",
     "output_type": "stream",
     "text": [
      "Area Type: Size of the Houses/Apartments/Flats calculated on either Super Area or Carpet Area or Build Area. \n",
      "\n",
      "0        Super Area\n",
      "1        Super Area\n",
      "2        Super Area\n",
      "3        Super Area\n",
      "4       Carpet Area\n",
      "           ...     \n",
      "4741    Carpet Area\n",
      "4742     Super Area\n",
      "4743    Carpet Area\n",
      "4744    Carpet Area\n",
      "4745    Carpet Area\n",
      "Name: Area Type, Length: 4746, dtype: object \n",
      "\n",
      "Super Area     2446\n",
      "Carpet Area    2298\n",
      "Built Area        2\n",
      "Name: Area Type, dtype: int64\n"
     ]
    }
   ],
   "source": [
    "print(column_to_description[\"Area Type\"],\"\\n\")\n",
    "print(data[\"Area Type\"],\"\\n\")\n",
    "print(data[\"Area Type\"].value_counts())"
   ]
  },
  {
   "cell_type": "markdown",
   "id": "b06b1871",
   "metadata": {},
   "source": [
    "#### Super area includes sq feet for areas the tenant will have access to outside his apartment/house (stairways, public areas, hallways), while carpet area is just the apartment or house itself."
   ]
  },
  {
   "cell_type": "markdown",
   "id": "022d20d3",
   "metadata": {},
   "source": [
    "## Area Locality"
   ]
  },
  {
   "cell_type": "code",
   "execution_count": 12,
   "id": "add89193",
   "metadata": {},
   "outputs": [
    {
     "name": "stdout",
     "output_type": "stream",
     "text": [
      "Area Locality: Locality of the Houses/Apartments/Flats. \n",
      "\n",
      "0                         Bandel\n",
      "1       Phool Bagan, Kankurgachi\n",
      "2        Salt Lake City Sector 2\n",
      "3                    Dumdum Park\n",
      "4                  South Dum Dum\n",
      "                  ...           \n",
      "4741                Bandam Kommu\n",
      "4742        Manikonda, Hyderabad\n",
      "4743        Himayath Nagar, NH 7\n",
      "4744                  Gachibowli\n",
      "4745             Suchitra Circle\n",
      "Name: Area Locality, Length: 4746, dtype: object \n",
      "\n",
      "Bandra West                                37\n",
      "Gachibowli                                 29\n",
      "Electronic City                            24\n",
      "Velachery                                  22\n",
      "Miyapur, NH 9                              22\n",
      "                                           ..\n",
      "Kengeri Upanagara                           1\n",
      "Ittamadu, Banashankari, Outer Ring Road     1\n",
      "Rmv Extension, Armane Nagar                 1\n",
      "snv la                                      1\n",
      "Manikonda, Hyderabad                        1\n",
      "Name: Area Locality, Length: 2235, dtype: int64\n"
     ]
    }
   ],
   "source": [
    "print(column_to_description[\"Area Locality\"],\"\\n\")\n",
    "print(data[\"Area Locality\"],\"\\n\")\n",
    "print(data[\"Area Locality\"].value_counts())"
   ]
  },
  {
   "cell_type": "code",
   "execution_count": 13,
   "id": "2a66edf3",
   "metadata": {},
   "outputs": [
    {
     "data": {
      "text/plain": [
       "(array([496., 499., 301., 332., 551., 430., 379., 769., 644., 345.]),\n",
       " array([   0. ,  223.4,  446.8,  670.2,  893.6, 1117. , 1340.4, 1563.8,\n",
       "        1787.2, 2010.6, 2234. ]),\n",
       " <BarContainer object of 10 artists>)"
      ]
     },
     "execution_count": 13,
     "metadata": {},
     "output_type": "execute_result"
    },
    {
     "data": {
      "image/png": "[encoded data removed]",
      "text/plain": [
       "<Figure size 432x288 with 1 Axes>"
      ]
     },
     "metadata": {
      "needs_background": "light"
     },
     "output_type": "display_data"
    }
   ],
   "source": [
    "plt.hist(data[\"Area Locality\"])"
   ]
  },
  {
   "cell_type": "markdown",
   "id": "bd505290",
   "metadata": {},
   "source": [
    "#### Too many categorical variables with only a few data points to one-hot encode or label encode, just use city instead."
   ]
  },
  {
   "cell_type": "markdown",
   "id": "645489c7",
   "metadata": {},
   "source": [
    "## City"
   ]
  },
  {
   "cell_type": "code",
   "execution_count": 14,
   "id": "db5419d0",
   "metadata": {},
   "outputs": [
    {
     "name": "stdout",
     "output_type": "stream",
     "text": [
      "City: City where the Houses/Apartments/Flats are Located. \n",
      "\n",
      "0         Kolkata\n",
      "1         Kolkata\n",
      "2         Kolkata\n",
      "3         Kolkata\n",
      "4         Kolkata\n",
      "          ...    \n",
      "4741    Hyderabad\n",
      "4742    Hyderabad\n",
      "4743    Hyderabad\n",
      "4744    Hyderabad\n",
      "4745    Hyderabad\n",
      "Name: City, Length: 4746, dtype: object \n",
      "\n",
      "Mumbai       972\n",
      "Chennai      891\n",
      "Bangalore    886\n",
      "Hyderabad    868\n",
      "Delhi        605\n",
      "Kolkata      524\n",
      "Name: City, dtype: int64\n"
     ]
    }
   ],
   "source": [
    "print(column_to_description[\"City\"],\"\\n\")\n",
    "print(data[\"City\"],\"\\n\")\n",
    "print(data[\"City\"].value_counts())"
   ]
  },
  {
   "cell_type": "markdown",
   "id": "dd70086a",
   "metadata": {},
   "source": [
    "#### To be used instead of Locality, the issue of how to encode this categorical data is still a concern. Forgot that one-hot encoding created a column for each value which have binary values, this definitely is the best encoding scheme to use here."
   ]
  },
  {
   "cell_type": "markdown",
   "id": "e6e9b932",
   "metadata": {},
   "source": [
    "## Furnishing Status"
   ]
  },
  {
   "cell_type": "code",
   "execution_count": 15,
   "id": "989b781f",
   "metadata": {},
   "outputs": [
    {
     "name": "stdout",
     "output_type": "stream",
     "text": [
      "Furnishing Status: Furnishing Status of the Houses/Apartments/Flats, either it is Furnished or Semi-Furnished or Unfurnished. \n",
      "\n",
      "0          Unfurnished\n",
      "1       Semi-Furnished\n",
      "2       Semi-Furnished\n",
      "3          Unfurnished\n",
      "4          Unfurnished\n",
      "             ...      \n",
      "4741    Semi-Furnished\n",
      "4742    Semi-Furnished\n",
      "4743    Semi-Furnished\n",
      "4744    Semi-Furnished\n",
      "4745       Unfurnished\n",
      "Name: Furnishing Status, Length: 4746, dtype: object \n",
      "\n",
      "Semi-Furnished    2251\n",
      "Unfurnished       1815\n",
      "Furnished          680\n",
      "Name: Furnishing Status, dtype: int64\n"
     ]
    }
   ],
   "source": [
    "print(column_to_description[\"Furnishing Status\"],\"\\n\")\n",
    "print(data[\"Furnishing Status\"],\"\\n\")\n",
    "print(data[\"Furnishing Status\"].value_counts())"
   ]
  },
  {
   "cell_type": "markdown",
   "id": "472a033e",
   "metadata": {},
   "source": [
    "#### Categorical Data but seems like it would likely perform well if label-encoded as the categories are a scale from Unfurnished  through Furnished. Just need to make sure that unfurnished = 0, semi-furnished = 1, and furnished = 2"
   ]
  },
  {
   "cell_type": "markdown",
   "id": "9f9d0895",
   "metadata": {},
   "source": [
    "## Tenant Preferred"
   ]
  },
  {
   "cell_type": "code",
   "execution_count": 16,
   "id": "deaf09fe",
   "metadata": {},
   "outputs": [
    {
     "name": "stdout",
     "output_type": "stream",
     "text": [
      "Tenant Preferred: Type of Tenant Preferred by the Owner or Agent. \n",
      "\n",
      "0       Bachelors/Family\n",
      "1       Bachelors/Family\n",
      "2       Bachelors/Family\n",
      "3       Bachelors/Family\n",
      "4              Bachelors\n",
      "              ...       \n",
      "4741    Bachelors/Family\n",
      "4742    Bachelors/Family\n",
      "4743    Bachelors/Family\n",
      "4744              Family\n",
      "4745           Bachelors\n",
      "Name: Tenant Preferred, Length: 4746, dtype: object \n",
      "\n",
      "Bachelors/Family    3444\n",
      "Bachelors            830\n",
      "Family               472\n",
      "Name: Tenant Preferred, dtype: int64\n"
     ]
    }
   ],
   "source": [
    "print(column_to_description[\"Tenant Preferred\"],\"\\n\")\n",
    "print(data[\"Tenant Preferred\"],\"\\n\")\n",
    "print(data[\"Tenant Preferred\"].value_counts())"
   ]
  },
  {
   "cell_type": "markdown",
   "id": "767e3d26",
   "metadata": {},
   "source": [
    "#### Potentially able to use one-hot encoding for this, but might not give as much information as it potentially could."
   ]
  },
  {
   "cell_type": "markdown",
   "id": "2f8e5469",
   "metadata": {},
   "source": [
    "## Bathroom"
   ]
  },
  {
   "cell_type": "code",
   "execution_count": 17,
   "id": "cd49dec2",
   "metadata": {},
   "outputs": [
    {
     "name": "stdout",
     "output_type": "stream",
     "text": [
      "Bathroom: Number of Bathrooms. \n",
      "\n",
      "0       2\n",
      "1       1\n",
      "2       1\n",
      "3       1\n",
      "4       1\n",
      "       ..\n",
      "4741    2\n",
      "4742    3\n",
      "4743    3\n",
      "4744    2\n",
      "4745    2\n",
      "Name: Bathroom, Length: 4746, dtype: int64 \n",
      "\n",
      "2     2291\n",
      "1     1474\n",
      "3      749\n",
      "4      156\n",
      "5       60\n",
      "6       12\n",
      "7        3\n",
      "10       1\n",
      "Name: Bathroom, dtype: int64\n"
     ]
    }
   ],
   "source": [
    "print(column_to_description[\"Bathroom\"],\"\\n\")\n",
    "print(data[\"Bathroom\"],\"\\n\")\n",
    "print(data[\"Bathroom\"].value_counts())"
   ]
  },
  {
   "cell_type": "markdown",
   "id": "3e18ac64",
   "metadata": {},
   "source": [
    "#### No problem to use, simple scalar integer value."
   ]
  },
  {
   "cell_type": "markdown",
   "id": "977949a5",
   "metadata": {},
   "source": [
    "## Point of Contact"
   ]
  },
  {
   "cell_type": "code",
   "execution_count": 18,
   "id": "9d6494ed",
   "metadata": {},
   "outputs": [
    {
     "name": "stdout",
     "output_type": "stream",
     "text": [
      "Point of Contact: Whom should you contact for more information regarding the Houses/Apartments/Flats. \n",
      "\n",
      "0       Contact Owner\n",
      "1       Contact Owner\n",
      "2       Contact Owner\n",
      "3       Contact Owner\n",
      "4       Contact Owner\n",
      "            ...      \n",
      "4741    Contact Owner\n",
      "4742    Contact Owner\n",
      "4743    Contact Agent\n",
      "4744    Contact Agent\n",
      "4745    Contact Owner\n",
      "Name: Point of Contact, Length: 4746, dtype: object \n",
      "\n",
      "Contact Owner      3216\n",
      "Contact Agent      1529\n",
      "Contact Builder       1\n",
      "Name: Point of Contact, dtype: int64\n"
     ]
    }
   ],
   "source": [
    "print(column_to_description[\"Point of Contact\"],\"\\n\")\n",
    "print(data[\"Point of Contact\"], \"\\n\")\n",
    "print(data[\"Point of Contact\"].value_counts())"
   ]
  },
  {
   "cell_type": "markdown",
   "id": "71285ff1",
   "metadata": {},
   "source": [
    "#### Maybe remove contact builder since with just one data point we can't learn how this factors into the regression robustly.\n",
    "***"
   ]
  },
  {
   "cell_type": "markdown",
   "id": "9c9fa5f9",
   "metadata": {},
   "source": [
    "# Checking for Missing Values"
   ]
  },
  {
   "cell_type": "code",
   "execution_count": 19,
   "id": "c26afa1a",
   "metadata": {},
   "outputs": [
    {
     "name": "stdout",
     "output_type": "stream",
     "text": [
      "Posted On: 0\n",
      "BHK: 0\n",
      "Rent: 0\n",
      "Size: 0\n",
      "Floor: 0\n",
      "Area Type: 0\n",
      "Area Locality: 0\n",
      "City: 0\n",
      "Furnishing Status: 0\n",
      "Tenant Preferred: 0\n",
      "Bathroom: 0\n",
      "Point of Contact: 0\n"
     ]
    }
   ],
   "source": [
    "for i in columns:\n",
    "    print(str(i) + \":\",data[i].isnull().sum())"
   ]
  },
  {
   "cell_type": "markdown",
   "id": "86aa3349",
   "metadata": {},
   "source": [
    "#### There are no missing values in this dataset."
   ]
  },
  {
   "cell_type": "markdown",
   "id": "826bbc89",
   "metadata": {},
   "source": [
    "***"
   ]
  },
  {
   "cell_type": "markdown",
   "id": "40fc766b",
   "metadata": {},
   "source": [
    "# Data Engineering and Processing"
   ]
  },
  {
   "cell_type": "markdown",
   "id": "0bdeb0d8",
   "metadata": {},
   "source": [
    "## Steps to be taken based on EDA:\n",
    "1. `Posted On`: Convert Date to time since start of 2022.\n",
    "2. `Size`: Maybe scale this using *Area Type* if it doesn't work well in the regression elsewise. For now having *Area Type* as a label-encoded variable which learns a flat value to adjust the outcome by might be fine, but the difference between different *Size*s will vary as some super-areas will severely overestimate *Size* and some will only minimally overestimate *Size*.\n",
    "3. `Floor`: One of two options seems optimal. Both involve splitting the active floor and the total floors given the building first. The first option is just having both of those as seperate columns, the second option involves the floor the unit is on as the first column, and the ratio of that to the total floors in the building as the second.\n",
    "The first option seems like the data is presented more clearly, but the second allows the relationship between the two to be passed directly in, as learning that might be suboptimal in terms of limiting learning other relationships. Call these columns *On Floor* and *Building Floors* in either case.\n",
    "4. `Area Type`: If used to scale *Size* then don't use this column, otherwise use binary one-hot encoding for *Carpet Area* and *Super Area*, and throw out *Built Area* as that only has two data points.\n",
    "5. `City`: This needs to be one-hot encoded, definitely good in this case as there are only a small number of cities with decent data population for each. \n",
    "6. `Furnishing Status`: Label encode with the following system. *Unfurnished* = 0, *Semi-Furnished* = 1, *Furnished* = 2.\n",
    "7. `Tenant Preferred`: Do a kind of custom one-hot encoding. Normally each value would get its own column, but here we can just make two instead of three as one just represents both of the previous options simultaneously.\n",
    "8. `Point of Contact`: Just drop the *Contact Builder* as it only has a single data point, the other two can be label encoded with 0 and 1."
   ]
  },
  {
   "cell_type": "markdown",
   "id": "c0ce215a",
   "metadata": {},
   "source": [
    "***\n",
    "## Taking these Steps"
   ]
  },
  {
   "cell_type": "markdown",
   "id": "a4389228",
   "metadata": {},
   "source": [
    "### Initial Data Shape"
   ]
  },
  {
   "cell_type": "code",
   "execution_count": 20,
   "id": "d3a0a5b5",
   "metadata": {},
   "outputs": [
    {
     "data": {
      "text/plain": [
       "(4746, 12)"
      ]
     },
     "execution_count": 20,
     "metadata": {},
     "output_type": "execute_result"
    }
   ],
   "source": [
    "data.shape"
   ]
  },
  {
   "cell_type": "markdown",
   "id": "e80b62c9",
   "metadata": {},
   "source": [
    "### Step One - Making a Function to Update Posted On"
   ]
  },
  {
   "cell_type": "code",
   "execution_count": 21,
   "id": "2c5848e0",
   "metadata": {},
   "outputs": [
    {
     "data": {
      "text/plain": [
       "0       2022-05-18\n",
       "1       2022-05-13\n",
       "2       2022-05-16\n",
       "3       2022-07-04\n",
       "4       2022-05-09\n",
       "           ...    \n",
       "4741    2022-05-18\n",
       "4742    2022-05-15\n",
       "4743    2022-07-10\n",
       "4744    2022-07-06\n",
       "4745    2022-05-04\n",
       "Name: Posted On, Length: 4746, dtype: object"
      ]
     },
     "execution_count": 21,
     "metadata": {},
     "output_type": "execute_result"
    }
   ],
   "source": [
    "posted_on_temp = data[\"Posted On\"]\n",
    "posted_on_temp"
   ]
  },
  {
   "cell_type": "code",
   "execution_count": 22,
   "id": "6b69a9de",
   "metadata": {},
   "outputs": [],
   "source": [
    "#First we can check whether all the dates start in 2022, this same method can be applied using whatever year\n",
    "# is the earliest date in the dataset.\n",
    "\n",
    "split_dates = []\n",
    "\n",
    "for i in range(len(posted_on_temp)):\n",
    "    split_dates.append(posted_on_temp[i].split(\"-\"))\n",
    "    \n",
    "    if split_dates[i][0] != \"2022\":\n",
    "        print(\"diff date\",split_dates[i])\n",
    "        \n",
    "#All data is from 2022, so will set 2022-01-01 to be 0, and every day past will increment.\n",
    "\n",
    "#Tell number of days in a month given the month and year.\n",
    "def numberOfDays(y, m):\n",
    "      leap = 0\n",
    "      if y% 400 == 0:\n",
    "         leap = 1\n",
    "      elif y % 100 == 0:\n",
    "         leap = 0\n",
    "      elif y% 4 == 0:\n",
    "         leap = 1\n",
    "      if m==2:\n",
    "         return 28 + leap\n",
    "      list = [1,3,5,7,8,10,12]\n",
    "      if m in list:\n",
    "         return 31\n",
    "      return 30\n",
    "    \n",
    "def updatePostedOnToScalar(data,inPlace=True):\n",
    "    list_of_date_num_equivalent = []    \n",
    "    \n",
    "    for i in range(len(split_dates)):\n",
    "        date_num_equivalent = 0\n",
    "        \n",
    "        for j in range(int(split_dates[i][1])):\n",
    "            date_num_equivalent = date_num_equivalent + numberOfDays(int(split_dates[i][0]),j)\n",
    "            \n",
    "        date_num_equivalent = date_num_equivalent + int(split_dates[i][2])\n",
    "        \n",
    "        list_of_date_num_equivalent.append(date_num_equivalent)\n",
    "        \n",
    "    list_of_date_num_equivalent = np.array(list_of_date_num_equivalent)\n",
    "        \n",
    "    if inPlace:\n",
    "        #update passed dataset\n",
    "        data[\"Posted On\"] = list_of_date_num_equivalent\n",
    "        \n",
    "        return data\n",
    "    else:\n",
    "        #return new dataset which is the old dataset with the wanted updates but DONT update passed dataset\n",
    "        # itself\n",
    "        new_frame = data.copy(deep=True)\n",
    "        new_frame[\"Posted On\"] = list_of_date_num_equivalent\n",
    "        \n",
    "        return new_frame"
   ]
  },
  {
   "cell_type": "markdown",
   "id": "73a29780",
   "metadata": {},
   "source": [
    "### Step Two - Making a Function to Adjust Size if Necessary\n",
    "*Nothing necessary here so far.*"
   ]
  },
  {
   "cell_type": "markdown",
   "id": "15d67282",
   "metadata": {},
   "source": [
    "### Step Three - Making a Function to Split Floor Column"
   ]
  },
  {
   "cell_type": "code",
   "execution_count": 23,
   "id": "172c1921",
   "metadata": {},
   "outputs": [],
   "source": [
    "#For now the method will split using the first option, implement the second if this seems to be inhibiting model\n",
    "# performance during training.\n",
    "\n",
    "def splitFloorIntoTwo(data,inPlace=True):\n",
    "    original_floor = data[\"Floor\"]\n",
    "    floor_on = []\n",
    "    floor_out_of = []\n",
    "    for i in range(len(original_floor)):\n",
    "        split = original_floor[i].split(\" out of \")\n",
    "        if len(split) == 1:\n",
    "            if split[0] == 'Ground':\n",
    "                floor_on.append(0)\n",
    "                floor_out_of.append(0)\n",
    "            else:\n",
    "                floor_on.append(split[0])\n",
    "                floor_out_of.append(split[0])\n",
    "        else:  \n",
    "            #Ground is 0, others are basement and such so all other non-int convertables go to -1\n",
    "            if split[0] == 'Ground':\n",
    "                floor_on.append(0)\n",
    "            else:\n",
    "                try:\n",
    "                    floor_on.append(int(split[0]))\n",
    "                except:\n",
    "                    floor_on.append(-1)\n",
    "            floor_out_of.append(int(split[1]))\n",
    "    \n",
    "    floor_on = np.array(floor_on)\n",
    "    floor_out_of = np.array(floor_out_of)\n",
    "    \n",
    "    if inPlace:\n",
    "        data[\"Floor On\"] = floor_on\n",
    "        data[\"Floor Out Of\"] = floor_out_of\n",
    "        \n",
    "        data.drop(\"Floor\",axis=1,inplace=True)\n",
    "        \n",
    "        return data\n",
    "    else:\n",
    "        new_data = data.copy(deep=True)\n",
    "        \n",
    "        new_data[\"Floor On\"] = floor_on\n",
    "        new_data[\"Floor Out Of\"] = floor_out_of\n",
    "        \n",
    "        new_data.drop(\"Floor\",axis=1,inplace=True)\n",
    "        \n",
    "        return new_data"
   ]
  },
  {
   "cell_type": "markdown",
   "id": "7b2d1b39",
   "metadata": {},
   "source": [
    "### Step Four - Making a Function to Label Encode a Given Column"
   ]
  },
  {
   "cell_type": "code",
   "execution_count": 24,
   "id": "83ce6ea7",
   "metadata": {},
   "outputs": [],
   "source": [
    "#Works for all columns which I need to label encode. MIGHT NEED TO GIVE A LIST OF THE CATEGORIES IN THE ORDER\n",
    "# I WANT THEM ENCODED TO ENSURE THAT THEY ARE IN THE RIGHT SEQUENCE\n",
    "# e.g. avoid (0-furnished,1-unfurnished,2-semifurnished) in favor of (0-unfurnished,1-semifurnished,2-furnisheds)\n",
    "\n",
    "def labelEncodeColumn(data,column_name,inPlace=True):\n",
    "    if inPlace:\n",
    "        if column_name == \"Furnishing Status\":\n",
    "            cat_type = CategoricalDtype(categories=[\"Unfurnished\", \"Semi-Furnished\", \"Furnished\"], ordered=True)\n",
    "            data[column_name] = data[column_name].astype(cat_type)\n",
    "            data[column_name] = data[column_name].cat.codes\n",
    "        else:\n",
    "            data[column_name] = data[column_name].astype('category')\n",
    "            data[column_name] = data[column_name].cat.codes\n",
    "        \n",
    "        return data\n",
    "    else:\n",
    "        data_copy = data.copy(deep=True)\n",
    "        if column_name == \"Furnishing Status\":\n",
    "            cat_type = CategoricalDtype(categories=[\"Unfurnished\", \"Semi-Furnished\", \"Furnished\"], ordered=True)\n",
    "            data_copy[column_name] = data_copy[column_name].astype(cat_type)\n",
    "            data_copy[column_name] = data_copy[column_name].cat.codes\n",
    "        else:\n",
    "            data_copy[column_name] = data_copy[column_name].astype('category')\n",
    "            data_copy[column_name] = data_copy[column_name].cat.codes\n",
    "        \n",
    "    return data_copy"
   ]
  },
  {
   "cell_type": "markdown",
   "id": "b0d83df4",
   "metadata": {},
   "source": [
    "### Step Five - Making a Function to One-Hot Encode a Given Column"
   ]
  },
  {
   "cell_type": "code",
   "execution_count": 25,
   "id": "3d5e27ee",
   "metadata": {},
   "outputs": [],
   "source": [
    "#Works for all columns which I need to one-hot encode. UPDATE inPlace = FALSE!!!!\n",
    "\n",
    "def oneHotEncodeColumn(data,column_name,inPlace=True):\n",
    "    encoder = OneHotEncoder(handle_unknown='ignore',sparse=False)\n",
    "    if inPlace:\n",
    "        if column_name == \"Tenant Preferred\":\n",
    "            bachelors = []\n",
    "            family = []\n",
    "            for i in range(len(data[\"Tenant Preferred\"])):\n",
    "                if data[\"Tenant Preferred\"][i] == \"Bachelors\":\n",
    "                    bachelors.append(1)\n",
    "                    family.append(0)\n",
    "                elif data[\"Tenant Preferred\"][i] == \"Family\":\n",
    "                    bachelors.append(0)\n",
    "                    family.append(1)\n",
    "                elif data[\"Tenant Preferred\"][i] == \"Bachelors/Family\":\n",
    "                    bachelors.append(1)\n",
    "                    family.append(1)\n",
    "                else:\n",
    "                    print(\"issue w tenant preferred encoding\")\n",
    "            bachelors = pd.Series(bachelors)\n",
    "            bachelors.name = \"Bachelors\"\n",
    "            family = pd.Series(family)\n",
    "            family.name = \"Family\"\n",
    "            \n",
    "            data = pd.concat([data,bachelors,family],axis=1)\n",
    "            \n",
    "            return data\n",
    "                    \n",
    "        else:\n",
    "            encoded_data = pd.DataFrame(encoder.fit_transform(data[[column_name]]))\n",
    "\n",
    "            feature_names = encoder.get_feature_names_out()\n",
    "            for i in range(len(feature_names)):\n",
    "                feature_names[i] = feature_names[i].split(\"_\")\n",
    "            for i in range(len(feature_names)):\n",
    "                feature_names[i] = feature_names[i][1]\n",
    "\n",
    "            encoded_data.columns = feature_names\n",
    "\n",
    "            data = pd.concat([data,encoded_data],axis=1)\n",
    "        \n",
    "        return data\n",
    "    else:\n",
    "        data_copy = data.copy(deep=True)\n",
    "        encoded_data = pd.DataFrame(encoder.fit_transform(data_copy[[column_name]]).toarray())\n",
    "        \n",
    "        return encoded_data"
   ]
  },
  {
   "cell_type": "markdown",
   "id": "e197a97d",
   "metadata": {},
   "source": [
    "***\n",
    "## Processing the Data for Training our Model"
   ]
  },
  {
   "cell_type": "code",
   "execution_count": 26,
   "id": "c18420fd",
   "metadata": {},
   "outputs": [
    {
     "data": {
      "text/plain": [
       "(4746, 12)"
      ]
     },
     "execution_count": 26,
     "metadata": {},
     "output_type": "execute_result"
    }
   ],
   "source": [
    "data.shape"
   ]
  },
  {
   "cell_type": "code",
   "execution_count": 27,
   "id": "a92b7510",
   "metadata": {},
   "outputs": [
    {
     "data": {
      "text/plain": [
       "Index(['Posted On', 'BHK', 'Rent', 'Size', 'Floor', 'Area Type',\n",
       "       'Area Locality', 'City', 'Furnishing Status', 'Tenant Preferred',\n",
       "       'Bathroom', 'Point of Contact'],\n",
       "      dtype='object')"
      ]
     },
     "execution_count": 27,
     "metadata": {},
     "output_type": "execute_result"
    }
   ],
   "source": [
    "data.columns"
   ]
  },
  {
   "cell_type": "markdown",
   "id": "1509989e",
   "metadata": {},
   "source": [
    "## Step One - Update Posted On to Scalar Values"
   ]
  },
  {
   "cell_type": "code",
   "execution_count": 28,
   "id": "53274645",
   "metadata": {},
   "outputs": [
    {
     "data": {
      "text/plain": [
       "0       2022-05-18\n",
       "1       2022-05-13\n",
       "2       2022-05-16\n",
       "3       2022-07-04\n",
       "4       2022-05-09\n",
       "           ...    \n",
       "4741    2022-05-18\n",
       "4742    2022-05-15\n",
       "4743    2022-07-10\n",
       "4744    2022-07-06\n",
       "4745    2022-05-04\n",
       "Name: Posted On, Length: 4746, dtype: object"
      ]
     },
     "execution_count": 28,
     "metadata": {},
     "output_type": "execute_result"
    }
   ],
   "source": [
    "data[\"Posted On\"]"
   ]
  },
  {
   "cell_type": "code",
   "execution_count": 29,
   "id": "2d9a6f43",
   "metadata": {},
   "outputs": [],
   "source": [
    "data = updatePostedOnToScalar(data)"
   ]
  },
  {
   "cell_type": "code",
   "execution_count": 30,
   "id": "690e38a1",
   "metadata": {},
   "outputs": [
    {
     "data": {
      "text/plain": [
       "0       168\n",
       "1       163\n",
       "2       166\n",
       "3       215\n",
       "4       159\n",
       "       ... \n",
       "4741    168\n",
       "4742    165\n",
       "4743    221\n",
       "4744    217\n",
       "4745    154\n",
       "Name: Posted On, Length: 4746, dtype: int64"
      ]
     },
     "execution_count": 30,
     "metadata": {},
     "output_type": "execute_result"
    }
   ],
   "source": [
    "data[\"Posted On\"]"
   ]
  },
  {
   "cell_type": "markdown",
   "id": "40027d01",
   "metadata": {},
   "source": [
    "*Check that the update didn't create any null values unintentionally.*"
   ]
  },
  {
   "cell_type": "code",
   "execution_count": 31,
   "id": "c5088044",
   "metadata": {},
   "outputs": [
    {
     "name": "stdout",
     "output_type": "stream",
     "text": [
      "Posted On: 0\n",
      "BHK: 0\n",
      "Rent: 0\n",
      "Size: 0\n",
      "Floor: 0\n",
      "Area Type: 0\n",
      "Area Locality: 0\n",
      "City: 0\n",
      "Furnishing Status: 0\n",
      "Tenant Preferred: 0\n",
      "Bathroom: 0\n",
      "Point of Contact: 0\n"
     ]
    }
   ],
   "source": [
    "columns = data.columns\n",
    "for i in columns:\n",
    "    print(str(i) + \":\",data[i].isnull().sum())"
   ]
  },
  {
   "cell_type": "markdown",
   "id": "f932ba6d",
   "metadata": {},
   "source": [
    "### Step Two - Adjust Size *(if necessary)*"
   ]
  },
  {
   "cell_type": "markdown",
   "id": "1f2e4260",
   "metadata": {},
   "source": [
    "### Step Three - Split Floor Column into Floor On and Floor Out Of"
   ]
  },
  {
   "cell_type": "code",
   "execution_count": 32,
   "id": "651157f4",
   "metadata": {},
   "outputs": [
    {
     "data": {
      "text/plain": [
       "0       Ground out of 2\n",
       "1            1 out of 3\n",
       "2            1 out of 3\n",
       "3            1 out of 2\n",
       "4            1 out of 2\n",
       "             ...       \n",
       "4741         3 out of 5\n",
       "4742         1 out of 4\n",
       "4743         3 out of 5\n",
       "4744       23 out of 34\n",
       "4745         4 out of 5\n",
       "Name: Floor, Length: 4746, dtype: object"
      ]
     },
     "execution_count": 32,
     "metadata": {},
     "output_type": "execute_result"
    }
   ],
   "source": [
    "data[\"Floor\"]"
   ]
  },
  {
   "cell_type": "code",
   "execution_count": 33,
   "id": "79a7a0c4",
   "metadata": {},
   "outputs": [],
   "source": [
    "data = splitFloorIntoTwo(data)"
   ]
  },
  {
   "cell_type": "code",
   "execution_count": 34,
   "id": "60afda44",
   "metadata": {},
   "outputs": [
    {
     "data": {
      "text/plain": [
       "1     1161\n",
       "2      945\n",
       "0      927\n",
       "3      512\n",
       "4      272\n",
       "5      164\n",
       "6       93\n",
       "7       74\n",
       "10      67\n",
       "8       66\n",
       "9       65\n",
       "12      47\n",
       "11      43\n",
       "15      41\n",
       "-1      34\n",
       "14      34\n",
       "18      26\n",
       "17      22\n",
       "16      21\n",
       "19      16\n",
       "13      15\n",
       "20      12\n",
       "25      12\n",
       "23       9\n",
       "24       6\n",
       "21       6\n",
       "30       5\n",
       "34       4\n",
       "28       4\n",
       "27       3\n",
       "26       3\n",
       "32       3\n",
       "60       3\n",
       "65       3\n",
       "35       3\n",
       "22       3\n",
       "48       2\n",
       "53       2\n",
       "45       2\n",
       "36       2\n",
       "40       2\n",
       "29       1\n",
       "50       1\n",
       "49       1\n",
       "39       1\n",
       "46       1\n",
       "41       1\n",
       "44       1\n",
       "33       1\n",
       "37       1\n",
       "47       1\n",
       "43       1\n",
       "76       1\n",
       "Name: Floor On, dtype: int64"
      ]
     },
     "execution_count": 34,
     "metadata": {},
     "output_type": "execute_result"
    }
   ],
   "source": [
    "data[\"Floor On\"].value_counts()"
   ]
  },
  {
   "cell_type": "code",
   "execution_count": 35,
   "id": "86c3f6a3",
   "metadata": {},
   "outputs": [
    {
     "data": {
      "text/plain": [
       "4     938\n",
       "3     915\n",
       "2     868\n",
       "5     422\n",
       "1     335\n",
       "     ... \n",
       "39      1\n",
       "62      1\n",
       "59      1\n",
       "66      1\n",
       "0       1\n",
       "Name: Floor Out Of, Length: 67, dtype: int64"
      ]
     },
     "execution_count": 35,
     "metadata": {},
     "output_type": "execute_result"
    }
   ],
   "source": [
    "data[\"Floor Out Of\"].value_counts()"
   ]
  },
  {
   "cell_type": "markdown",
   "id": "727f95c1",
   "metadata": {},
   "source": [
    "*Check that the update didn't create any null values unintentionally.*"
   ]
  },
  {
   "cell_type": "code",
   "execution_count": 36,
   "id": "64373c1b",
   "metadata": {},
   "outputs": [
    {
     "name": "stdout",
     "output_type": "stream",
     "text": [
      "Posted On: 0\n",
      "BHK: 0\n",
      "Rent: 0\n",
      "Size: 0\n",
      "Area Type: 0\n",
      "Area Locality: 0\n",
      "City: 0\n",
      "Furnishing Status: 0\n",
      "Tenant Preferred: 0\n",
      "Bathroom: 0\n",
      "Point of Contact: 0\n",
      "Floor On: 0\n",
      "Floor Out Of: 0\n"
     ]
    }
   ],
   "source": [
    "columns = data.columns\n",
    "for i in columns:\n",
    "    print(str(i) + \":\",data[i].isnull().sum())"
   ]
  },
  {
   "cell_type": "markdown",
   "id": "2cbbb825",
   "metadata": {},
   "source": [
    "### Step Four - Encode Area Type"
   ]
  },
  {
   "cell_type": "markdown",
   "id": "40b239cc",
   "metadata": {},
   "source": [
    "*First we need to drop Built Area as it has too few data points.*"
   ]
  },
  {
   "cell_type": "code",
   "execution_count": 37,
   "id": "fe9cde8d",
   "metadata": {},
   "outputs": [
    {
     "data": {
      "text/plain": [
       "0        Super Area\n",
       "1        Super Area\n",
       "2        Super Area\n",
       "3        Super Area\n",
       "4       Carpet Area\n",
       "           ...     \n",
       "4741    Carpet Area\n",
       "4742     Super Area\n",
       "4743    Carpet Area\n",
       "4744    Carpet Area\n",
       "4745    Carpet Area\n",
       "Name: Area Type, Length: 4746, dtype: object"
      ]
     },
     "execution_count": 37,
     "metadata": {},
     "output_type": "execute_result"
    }
   ],
   "source": [
    "data['Area Type']"
   ]
  },
  {
   "cell_type": "code",
   "execution_count": 38,
   "id": "1a5463c7",
   "metadata": {},
   "outputs": [
    {
     "data": {
      "text/plain": [
       "Super Area     2446\n",
       "Carpet Area    2298\n",
       "Name: Area Type, dtype: int64"
      ]
     },
     "execution_count": 38,
     "metadata": {},
     "output_type": "execute_result"
    }
   ],
   "source": [
    "data = data.drop(data[data['Area Type'] == 'Built Area'].index)\n",
    "data['Area Type'].value_counts()"
   ]
  },
  {
   "cell_type": "code",
   "execution_count": 39,
   "id": "539f001f",
   "metadata": {},
   "outputs": [
    {
     "data": {
      "text/html": [
       "<div>\n",
       "<style scoped>\n",
       "    .dataframe tbody tr th:only-of-type {\n",
       "        vertical-align: middle;\n",
       "    }\n",
       "\n",
       "    .dataframe tbody tr th {\n",
       "        vertical-align: top;\n",
       "    }\n",
       "\n",
       "    .dataframe thead th {\n",
       "        text-align: right;\n",
       "    }\n",
       "</style>\n",
       "<table border=\"1\" class=\"dataframe\">\n",
       "  <thead>\n",
       "    <tr style=\"text-align: right;\">\n",
       "      <th></th>\n",
       "      <th>index</th>\n",
       "      <th>Posted On</th>\n",
       "      <th>BHK</th>\n",
       "      <th>Rent</th>\n",
       "      <th>Size</th>\n",
       "      <th>Area Type</th>\n",
       "      <th>Area Locality</th>\n",
       "      <th>City</th>\n",
       "      <th>Furnishing Status</th>\n",
       "      <th>Tenant Preferred</th>\n",
       "      <th>Bathroom</th>\n",
       "      <th>Point of Contact</th>\n",
       "      <th>Floor On</th>\n",
       "      <th>Floor Out Of</th>\n",
       "    </tr>\n",
       "  </thead>\n",
       "  <tbody>\n",
       "    <tr>\n",
       "      <th>0</th>\n",
       "      <td>0</td>\n",
       "      <td>168</td>\n",
       "      <td>2</td>\n",
       "      <td>10000</td>\n",
       "      <td>1100</td>\n",
       "      <td>Super Area</td>\n",
       "      <td>Bandel</td>\n",
       "      <td>Kolkata</td>\n",
       "      <td>Unfurnished</td>\n",
       "      <td>Bachelors/Family</td>\n",
       "      <td>2</td>\n",
       "      <td>Contact Owner</td>\n",
       "      <td>0</td>\n",
       "      <td>2</td>\n",
       "    </tr>\n",
       "    <tr>\n",
       "      <th>1</th>\n",
       "      <td>1</td>\n",
       "      <td>163</td>\n",
       "      <td>2</td>\n",
       "      <td>20000</td>\n",
       "      <td>800</td>\n",
       "      <td>Super Area</td>\n",
       "      <td>Phool Bagan, Kankurgachi</td>\n",
       "      <td>Kolkata</td>\n",
       "      <td>Semi-Furnished</td>\n",
       "      <td>Bachelors/Family</td>\n",
       "      <td>1</td>\n",
       "      <td>Contact Owner</td>\n",
       "      <td>1</td>\n",
       "      <td>3</td>\n",
       "    </tr>\n",
       "    <tr>\n",
       "      <th>2</th>\n",
       "      <td>2</td>\n",
       "      <td>166</td>\n",
       "      <td>2</td>\n",
       "      <td>17000</td>\n",
       "      <td>1000</td>\n",
       "      <td>Super Area</td>\n",
       "      <td>Salt Lake City Sector 2</td>\n",
       "      <td>Kolkata</td>\n",
       "      <td>Semi-Furnished</td>\n",
       "      <td>Bachelors/Family</td>\n",
       "      <td>1</td>\n",
       "      <td>Contact Owner</td>\n",
       "      <td>1</td>\n",
       "      <td>3</td>\n",
       "    </tr>\n",
       "    <tr>\n",
       "      <th>3</th>\n",
       "      <td>3</td>\n",
       "      <td>215</td>\n",
       "      <td>2</td>\n",
       "      <td>10000</td>\n",
       "      <td>800</td>\n",
       "      <td>Super Area</td>\n",
       "      <td>Dumdum Park</td>\n",
       "      <td>Kolkata</td>\n",
       "      <td>Unfurnished</td>\n",
       "      <td>Bachelors/Family</td>\n",
       "      <td>1</td>\n",
       "      <td>Contact Owner</td>\n",
       "      <td>1</td>\n",
       "      <td>2</td>\n",
       "    </tr>\n",
       "    <tr>\n",
       "      <th>4</th>\n",
       "      <td>4</td>\n",
       "      <td>159</td>\n",
       "      <td>2</td>\n",
       "      <td>7500</td>\n",
       "      <td>850</td>\n",
       "      <td>Carpet Area</td>\n",
       "      <td>South Dum Dum</td>\n",
       "      <td>Kolkata</td>\n",
       "      <td>Unfurnished</td>\n",
       "      <td>Bachelors</td>\n",
       "      <td>1</td>\n",
       "      <td>Contact Owner</td>\n",
       "      <td>1</td>\n",
       "      <td>2</td>\n",
       "    </tr>\n",
       "    <tr>\n",
       "      <th>...</th>\n",
       "      <td>...</td>\n",
       "      <td>...</td>\n",
       "      <td>...</td>\n",
       "      <td>...</td>\n",
       "      <td>...</td>\n",
       "      <td>...</td>\n",
       "      <td>...</td>\n",
       "      <td>...</td>\n",
       "      <td>...</td>\n",
       "      <td>...</td>\n",
       "      <td>...</td>\n",
       "      <td>...</td>\n",
       "      <td>...</td>\n",
       "      <td>...</td>\n",
       "    </tr>\n",
       "    <tr>\n",
       "      <th>4739</th>\n",
       "      <td>4741</td>\n",
       "      <td>168</td>\n",
       "      <td>2</td>\n",
       "      <td>15000</td>\n",
       "      <td>1000</td>\n",
       "      <td>Carpet Area</td>\n",
       "      <td>Bandam Kommu</td>\n",
       "      <td>Hyderabad</td>\n",
       "      <td>Semi-Furnished</td>\n",
       "      <td>Bachelors/Family</td>\n",
       "      <td>2</td>\n",
       "      <td>Contact Owner</td>\n",
       "      <td>3</td>\n",
       "      <td>5</td>\n",
       "    </tr>\n",
       "    <tr>\n",
       "      <th>4740</th>\n",
       "      <td>4742</td>\n",
       "      <td>165</td>\n",
       "      <td>3</td>\n",
       "      <td>29000</td>\n",
       "      <td>2000</td>\n",
       "      <td>Super Area</td>\n",
       "      <td>Manikonda, Hyderabad</td>\n",
       "      <td>Hyderabad</td>\n",
       "      <td>Semi-Furnished</td>\n",
       "      <td>Bachelors/Family</td>\n",
       "      <td>3</td>\n",
       "      <td>Contact Owner</td>\n",
       "      <td>1</td>\n",
       "      <td>4</td>\n",
       "    </tr>\n",
       "    <tr>\n",
       "      <th>4741</th>\n",
       "      <td>4743</td>\n",
       "      <td>221</td>\n",
       "      <td>3</td>\n",
       "      <td>35000</td>\n",
       "      <td>1750</td>\n",
       "      <td>Carpet Area</td>\n",
       "      <td>Himayath Nagar, NH 7</td>\n",
       "      <td>Hyderabad</td>\n",
       "      <td>Semi-Furnished</td>\n",
       "      <td>Bachelors/Family</td>\n",
       "      <td>3</td>\n",
       "      <td>Contact Agent</td>\n",
       "      <td>3</td>\n",
       "      <td>5</td>\n",
       "    </tr>\n",
       "    <tr>\n",
       "      <th>4742</th>\n",
       "      <td>4744</td>\n",
       "      <td>217</td>\n",
       "      <td>3</td>\n",
       "      <td>45000</td>\n",
       "      <td>1500</td>\n",
       "      <td>Carpet Area</td>\n",
       "      <td>Gachibowli</td>\n",
       "      <td>Hyderabad</td>\n",
       "      <td>Semi-Furnished</td>\n",
       "      <td>Family</td>\n",
       "      <td>2</td>\n",
       "      <td>Contact Agent</td>\n",
       "      <td>23</td>\n",
       "      <td>34</td>\n",
       "    </tr>\n",
       "    <tr>\n",
       "      <th>4743</th>\n",
       "      <td>4745</td>\n",
       "      <td>154</td>\n",
       "      <td>2</td>\n",
       "      <td>15000</td>\n",
       "      <td>1000</td>\n",
       "      <td>Carpet Area</td>\n",
       "      <td>Suchitra Circle</td>\n",
       "      <td>Hyderabad</td>\n",
       "      <td>Unfurnished</td>\n",
       "      <td>Bachelors</td>\n",
       "      <td>2</td>\n",
       "      <td>Contact Owner</td>\n",
       "      <td>4</td>\n",
       "      <td>5</td>\n",
       "    </tr>\n",
       "  </tbody>\n",
       "</table>\n",
       "<p>4744 rows × 14 columns</p>\n",
       "</div>"
      ],
      "text/plain": [
       "      index  Posted On  BHK   Rent  Size    Area Type  \\\n",
       "0         0        168    2  10000  1100   Super Area   \n",
       "1         1        163    2  20000   800   Super Area   \n",
       "2         2        166    2  17000  1000   Super Area   \n",
       "3         3        215    2  10000   800   Super Area   \n",
       "4         4        159    2   7500   850  Carpet Area   \n",
       "...     ...        ...  ...    ...   ...          ...   \n",
       "4739   4741        168    2  15000  1000  Carpet Area   \n",
       "4740   4742        165    3  29000  2000   Super Area   \n",
       "4741   4743        221    3  35000  1750  Carpet Area   \n",
       "4742   4744        217    3  45000  1500  Carpet Area   \n",
       "4743   4745        154    2  15000  1000  Carpet Area   \n",
       "\n",
       "                 Area Locality       City Furnishing Status  Tenant Preferred  \\\n",
       "0                       Bandel    Kolkata       Unfurnished  Bachelors/Family   \n",
       "1     Phool Bagan, Kankurgachi    Kolkata    Semi-Furnished  Bachelors/Family   \n",
       "2      Salt Lake City Sector 2    Kolkata    Semi-Furnished  Bachelors/Family   \n",
       "3                  Dumdum Park    Kolkata       Unfurnished  Bachelors/Family   \n",
       "4                South Dum Dum    Kolkata       Unfurnished         Bachelors   \n",
       "...                        ...        ...               ...               ...   \n",
       "4739              Bandam Kommu  Hyderabad    Semi-Furnished  Bachelors/Family   \n",
       "4740      Manikonda, Hyderabad  Hyderabad    Semi-Furnished  Bachelors/Family   \n",
       "4741      Himayath Nagar, NH 7  Hyderabad    Semi-Furnished  Bachelors/Family   \n",
       "4742                Gachibowli  Hyderabad    Semi-Furnished            Family   \n",
       "4743           Suchitra Circle  Hyderabad       Unfurnished         Bachelors   \n",
       "\n",
       "      Bathroom Point of Contact Floor On Floor Out Of  \n",
       "0            2    Contact Owner        0            2  \n",
       "1            1    Contact Owner        1            3  \n",
       "2            1    Contact Owner        1            3  \n",
       "3            1    Contact Owner        1            2  \n",
       "4            1    Contact Owner        1            2  \n",
       "...        ...              ...      ...          ...  \n",
       "4739         2    Contact Owner        3            5  \n",
       "4740         3    Contact Owner        1            4  \n",
       "4741         3    Contact Agent        3            5  \n",
       "4742         2    Contact Agent       23           34  \n",
       "4743         2    Contact Owner        4            5  \n",
       "\n",
       "[4744 rows x 14 columns]"
      ]
     },
     "execution_count": 39,
     "metadata": {},
     "output_type": "execute_result"
    }
   ],
   "source": [
    "data = data.reset_index()\n",
    "data"
   ]
  },
  {
   "cell_type": "code",
   "execution_count": 40,
   "id": "36d8e239",
   "metadata": {},
   "outputs": [
    {
     "data": {
      "text/plain": [
       "(4744, 14)"
      ]
     },
     "execution_count": 40,
     "metadata": {},
     "output_type": "execute_result"
    }
   ],
   "source": [
    "data.shape"
   ]
  },
  {
   "cell_type": "markdown",
   "id": "15679aed",
   "metadata": {},
   "source": [
    "*Check that dropping rows didn't create any null values unintentionally.*"
   ]
  },
  {
   "cell_type": "code",
   "execution_count": 41,
   "id": "d0958adb",
   "metadata": {},
   "outputs": [
    {
     "name": "stdout",
     "output_type": "stream",
     "text": [
      "index: 0\n",
      "Posted On: 0\n",
      "BHK: 0\n",
      "Rent: 0\n",
      "Size: 0\n",
      "Area Type: 0\n",
      "Area Locality: 0\n",
      "City: 0\n",
      "Furnishing Status: 0\n",
      "Tenant Preferred: 0\n",
      "Bathroom: 0\n",
      "Point of Contact: 0\n",
      "Floor On: 0\n",
      "Floor Out Of: 0\n"
     ]
    }
   ],
   "source": [
    "columns = data.columns\n",
    "for i in columns:\n",
    "    print(str(i) + \":\",data[i].isnull().sum())"
   ]
  },
  {
   "cell_type": "markdown",
   "id": "deb28a41",
   "metadata": {},
   "source": [
    "*We can label encode into two categories after having dropped Built Area. Since there are only two potential categories, we don't need to worry about ordinality of the categories.*"
   ]
  },
  {
   "cell_type": "code",
   "execution_count": 42,
   "id": "966cdd88",
   "metadata": {},
   "outputs": [
    {
     "data": {
      "text/plain": [
       "0        Super Area\n",
       "1        Super Area\n",
       "2        Super Area\n",
       "3        Super Area\n",
       "4       Carpet Area\n",
       "           ...     \n",
       "4739    Carpet Area\n",
       "4740     Super Area\n",
       "4741    Carpet Area\n",
       "4742    Carpet Area\n",
       "4743    Carpet Area\n",
       "Name: Area Type, Length: 4744, dtype: object"
      ]
     },
     "execution_count": 42,
     "metadata": {},
     "output_type": "execute_result"
    }
   ],
   "source": [
    "data['Area Type']"
   ]
  },
  {
   "cell_type": "code",
   "execution_count": 43,
   "id": "7c98f741",
   "metadata": {},
   "outputs": [
    {
     "data": {
      "text/plain": [
       "0       1\n",
       "1       1\n",
       "2       1\n",
       "3       1\n",
       "4       0\n",
       "       ..\n",
       "4739    0\n",
       "4740    1\n",
       "4741    0\n",
       "4742    0\n",
       "4743    0\n",
       "Name: Area Type, Length: 4744, dtype: int8"
      ]
     },
     "execution_count": 43,
     "metadata": {},
     "output_type": "execute_result"
    }
   ],
   "source": [
    "data = labelEncodeColumn(data,'Area Type')\n",
    "data['Area Type']"
   ]
  },
  {
   "cell_type": "markdown",
   "id": "c227d075",
   "metadata": {},
   "source": [
    "*Check that the update didn't create any null values unintentionally.*"
   ]
  },
  {
   "cell_type": "code",
   "execution_count": 44,
   "id": "9fb454e1",
   "metadata": {
    "scrolled": true
   },
   "outputs": [
    {
     "name": "stdout",
     "output_type": "stream",
     "text": [
      "index: 0\n",
      "Posted On: 0\n",
      "BHK: 0\n",
      "Rent: 0\n",
      "Size: 0\n",
      "Area Type: 0\n",
      "Area Locality: 0\n",
      "City: 0\n",
      "Furnishing Status: 0\n",
      "Tenant Preferred: 0\n",
      "Bathroom: 0\n",
      "Point of Contact: 0\n",
      "Floor On: 0\n",
      "Floor Out Of: 0\n"
     ]
    }
   ],
   "source": [
    "columns = data.columns\n",
    "for i in columns:\n",
    "    print(str(i) + \":\",data[i].isnull().sum())"
   ]
  },
  {
   "cell_type": "markdown",
   "id": "9889bc19",
   "metadata": {},
   "source": [
    "### Step Five - One-Hot Encoding for City"
   ]
  },
  {
   "cell_type": "code",
   "execution_count": 45,
   "id": "7ee43484",
   "metadata": {},
   "outputs": [
    {
     "data": {
      "text/plain": [
       "0         Kolkata\n",
       "1         Kolkata\n",
       "2         Kolkata\n",
       "3         Kolkata\n",
       "4         Kolkata\n",
       "          ...    \n",
       "4739    Hyderabad\n",
       "4740    Hyderabad\n",
       "4741    Hyderabad\n",
       "4742    Hyderabad\n",
       "4743    Hyderabad\n",
       "Name: City, Length: 4744, dtype: object"
      ]
     },
     "execution_count": 45,
     "metadata": {},
     "output_type": "execute_result"
    }
   ],
   "source": [
    "data['City']"
   ]
  },
  {
   "cell_type": "code",
   "execution_count": 46,
   "id": "6c8fa208",
   "metadata": {},
   "outputs": [],
   "source": [
    "data = oneHotEncodeColumn(data,'City')"
   ]
  },
  {
   "cell_type": "code",
   "execution_count": 47,
   "id": "536824ae",
   "metadata": {},
   "outputs": [],
   "source": [
    "data = data.drop(\"City\",axis=1)\n",
    "data = data.drop(\"Area Locality\",axis=1)"
   ]
  },
  {
   "cell_type": "code",
   "execution_count": 48,
   "id": "73f0ca1c",
   "metadata": {},
   "outputs": [
    {
     "data": {
      "text/html": [
       "<div>\n",
       "<style scoped>\n",
       "    .dataframe tbody tr th:only-of-type {\n",
       "        vertical-align: middle;\n",
       "    }\n",
       "\n",
       "    .dataframe tbody tr th {\n",
       "        vertical-align: top;\n",
       "    }\n",
       "\n",
       "    .dataframe thead th {\n",
       "        text-align: right;\n",
       "    }\n",
       "</style>\n",
       "<table border=\"1\" class=\"dataframe\">\n",
       "  <thead>\n",
       "    <tr style=\"text-align: right;\">\n",
       "      <th></th>\n",
       "      <th>index</th>\n",
       "      <th>Posted On</th>\n",
       "      <th>BHK</th>\n",
       "      <th>Rent</th>\n",
       "      <th>Size</th>\n",
       "      <th>Area Type</th>\n",
       "      <th>Furnishing Status</th>\n",
       "      <th>Tenant Preferred</th>\n",
       "      <th>Bathroom</th>\n",
       "      <th>Point of Contact</th>\n",
       "      <th>Floor On</th>\n",
       "      <th>Floor Out Of</th>\n",
       "      <th>Bangalore</th>\n",
       "      <th>Chennai</th>\n",
       "      <th>Delhi</th>\n",
       "      <th>Hyderabad</th>\n",
       "      <th>Kolkata</th>\n",
       "      <th>Mumbai</th>\n",
       "    </tr>\n",
       "  </thead>\n",
       "  <tbody>\n",
       "    <tr>\n",
       "      <th>0</th>\n",
       "      <td>0</td>\n",
       "      <td>168</td>\n",
       "      <td>2</td>\n",
       "      <td>10000</td>\n",
       "      <td>1100</td>\n",
       "      <td>1</td>\n",
       "      <td>Unfurnished</td>\n",
       "      <td>Bachelors/Family</td>\n",
       "      <td>2</td>\n",
       "      <td>Contact Owner</td>\n",
       "      <td>0</td>\n",
       "      <td>2</td>\n",
       "      <td>0.0</td>\n",
       "      <td>0.0</td>\n",
       "      <td>0.0</td>\n",
       "      <td>0.0</td>\n",
       "      <td>1.0</td>\n",
       "      <td>0.0</td>\n",
       "    </tr>\n",
       "    <tr>\n",
       "      <th>1</th>\n",
       "      <td>1</td>\n",
       "      <td>163</td>\n",
       "      <td>2</td>\n",
       "      <td>20000</td>\n",
       "      <td>800</td>\n",
       "      <td>1</td>\n",
       "      <td>Semi-Furnished</td>\n",
       "      <td>Bachelors/Family</td>\n",
       "      <td>1</td>\n",
       "      <td>Contact Owner</td>\n",
       "      <td>1</td>\n",
       "      <td>3</td>\n",
       "      <td>0.0</td>\n",
       "      <td>0.0</td>\n",
       "      <td>0.0</td>\n",
       "      <td>0.0</td>\n",
       "      <td>1.0</td>\n",
       "      <td>0.0</td>\n",
       "    </tr>\n",
       "    <tr>\n",
       "      <th>2</th>\n",
       "      <td>2</td>\n",
       "      <td>166</td>\n",
       "      <td>2</td>\n",
       "      <td>17000</td>\n",
       "      <td>1000</td>\n",
       "      <td>1</td>\n",
       "      <td>Semi-Furnished</td>\n",
       "      <td>Bachelors/Family</td>\n",
       "      <td>1</td>\n",
       "      <td>Contact Owner</td>\n",
       "      <td>1</td>\n",
       "      <td>3</td>\n",
       "      <td>0.0</td>\n",
       "      <td>0.0</td>\n",
       "      <td>0.0</td>\n",
       "      <td>0.0</td>\n",
       "      <td>1.0</td>\n",
       "      <td>0.0</td>\n",
       "    </tr>\n",
       "    <tr>\n",
       "      <th>3</th>\n",
       "      <td>3</td>\n",
       "      <td>215</td>\n",
       "      <td>2</td>\n",
       "      <td>10000</td>\n",
       "      <td>800</td>\n",
       "      <td>1</td>\n",
       "      <td>Unfurnished</td>\n",
       "      <td>Bachelors/Family</td>\n",
       "      <td>1</td>\n",
       "      <td>Contact Owner</td>\n",
       "      <td>1</td>\n",
       "      <td>2</td>\n",
       "      <td>0.0</td>\n",
       "      <td>0.0</td>\n",
       "      <td>0.0</td>\n",
       "      <td>0.0</td>\n",
       "      <td>1.0</td>\n",
       "      <td>0.0</td>\n",
       "    </tr>\n",
       "    <tr>\n",
       "      <th>4</th>\n",
       "      <td>4</td>\n",
       "      <td>159</td>\n",
       "      <td>2</td>\n",
       "      <td>7500</td>\n",
       "      <td>850</td>\n",
       "      <td>0</td>\n",
       "      <td>Unfurnished</td>\n",
       "      <td>Bachelors</td>\n",
       "      <td>1</td>\n",
       "      <td>Contact Owner</td>\n",
       "      <td>1</td>\n",
       "      <td>2</td>\n",
       "      <td>0.0</td>\n",
       "      <td>0.0</td>\n",
       "      <td>0.0</td>\n",
       "      <td>0.0</td>\n",
       "      <td>1.0</td>\n",
       "      <td>0.0</td>\n",
       "    </tr>\n",
       "    <tr>\n",
       "      <th>...</th>\n",
       "      <td>...</td>\n",
       "      <td>...</td>\n",
       "      <td>...</td>\n",
       "      <td>...</td>\n",
       "      <td>...</td>\n",
       "      <td>...</td>\n",
       "      <td>...</td>\n",
       "      <td>...</td>\n",
       "      <td>...</td>\n",
       "      <td>...</td>\n",
       "      <td>...</td>\n",
       "      <td>...</td>\n",
       "      <td>...</td>\n",
       "      <td>...</td>\n",
       "      <td>...</td>\n",
       "      <td>...</td>\n",
       "      <td>...</td>\n",
       "      <td>...</td>\n",
       "    </tr>\n",
       "    <tr>\n",
       "      <th>4739</th>\n",
       "      <td>4741</td>\n",
       "      <td>168</td>\n",
       "      <td>2</td>\n",
       "      <td>15000</td>\n",
       "      <td>1000</td>\n",
       "      <td>0</td>\n",
       "      <td>Semi-Furnished</td>\n",
       "      <td>Bachelors/Family</td>\n",
       "      <td>2</td>\n",
       "      <td>Contact Owner</td>\n",
       "      <td>3</td>\n",
       "      <td>5</td>\n",
       "      <td>0.0</td>\n",
       "      <td>0.0</td>\n",
       "      <td>0.0</td>\n",
       "      <td>1.0</td>\n",
       "      <td>0.0</td>\n",
       "      <td>0.0</td>\n",
       "    </tr>\n",
       "    <tr>\n",
       "      <th>4740</th>\n",
       "      <td>4742</td>\n",
       "      <td>165</td>\n",
       "      <td>3</td>\n",
       "      <td>29000</td>\n",
       "      <td>2000</td>\n",
       "      <td>1</td>\n",
       "      <td>Semi-Furnished</td>\n",
       "      <td>Bachelors/Family</td>\n",
       "      <td>3</td>\n",
       "      <td>Contact Owner</td>\n",
       "      <td>1</td>\n",
       "      <td>4</td>\n",
       "      <td>0.0</td>\n",
       "      <td>0.0</td>\n",
       "      <td>0.0</td>\n",
       "      <td>1.0</td>\n",
       "      <td>0.0</td>\n",
       "      <td>0.0</td>\n",
       "    </tr>\n",
       "    <tr>\n",
       "      <th>4741</th>\n",
       "      <td>4743</td>\n",
       "      <td>221</td>\n",
       "      <td>3</td>\n",
       "      <td>35000</td>\n",
       "      <td>1750</td>\n",
       "      <td>0</td>\n",
       "      <td>Semi-Furnished</td>\n",
       "      <td>Bachelors/Family</td>\n",
       "      <td>3</td>\n",
       "      <td>Contact Agent</td>\n",
       "      <td>3</td>\n",
       "      <td>5</td>\n",
       "      <td>0.0</td>\n",
       "      <td>0.0</td>\n",
       "      <td>0.0</td>\n",
       "      <td>1.0</td>\n",
       "      <td>0.0</td>\n",
       "      <td>0.0</td>\n",
       "    </tr>\n",
       "    <tr>\n",
       "      <th>4742</th>\n",
       "      <td>4744</td>\n",
       "      <td>217</td>\n",
       "      <td>3</td>\n",
       "      <td>45000</td>\n",
       "      <td>1500</td>\n",
       "      <td>0</td>\n",
       "      <td>Semi-Furnished</td>\n",
       "      <td>Family</td>\n",
       "      <td>2</td>\n",
       "      <td>Contact Agent</td>\n",
       "      <td>23</td>\n",
       "      <td>34</td>\n",
       "      <td>0.0</td>\n",
       "      <td>0.0</td>\n",
       "      <td>0.0</td>\n",
       "      <td>1.0</td>\n",
       "      <td>0.0</td>\n",
       "      <td>0.0</td>\n",
       "    </tr>\n",
       "    <tr>\n",
       "      <th>4743</th>\n",
       "      <td>4745</td>\n",
       "      <td>154</td>\n",
       "      <td>2</td>\n",
       "      <td>15000</td>\n",
       "      <td>1000</td>\n",
       "      <td>0</td>\n",
       "      <td>Unfurnished</td>\n",
       "      <td>Bachelors</td>\n",
       "      <td>2</td>\n",
       "      <td>Contact Owner</td>\n",
       "      <td>4</td>\n",
       "      <td>5</td>\n",
       "      <td>0.0</td>\n",
       "      <td>0.0</td>\n",
       "      <td>0.0</td>\n",
       "      <td>1.0</td>\n",
       "      <td>0.0</td>\n",
       "      <td>0.0</td>\n",
       "    </tr>\n",
       "  </tbody>\n",
       "</table>\n",
       "<p>4744 rows × 18 columns</p>\n",
       "</div>"
      ],
      "text/plain": [
       "      index  Posted On  BHK   Rent  Size  Area Type Furnishing Status  \\\n",
       "0         0        168    2  10000  1100          1       Unfurnished   \n",
       "1         1        163    2  20000   800          1    Semi-Furnished   \n",
       "2         2        166    2  17000  1000          1    Semi-Furnished   \n",
       "3         3        215    2  10000   800          1       Unfurnished   \n",
       "4         4        159    2   7500   850          0       Unfurnished   \n",
       "...     ...        ...  ...    ...   ...        ...               ...   \n",
       "4739   4741        168    2  15000  1000          0    Semi-Furnished   \n",
       "4740   4742        165    3  29000  2000          1    Semi-Furnished   \n",
       "4741   4743        221    3  35000  1750          0    Semi-Furnished   \n",
       "4742   4744        217    3  45000  1500          0    Semi-Furnished   \n",
       "4743   4745        154    2  15000  1000          0       Unfurnished   \n",
       "\n",
       "      Tenant Preferred  Bathroom Point of Contact Floor On Floor Out Of  \\\n",
       "0     Bachelors/Family         2    Contact Owner        0            2   \n",
       "1     Bachelors/Family         1    Contact Owner        1            3   \n",
       "2     Bachelors/Family         1    Contact Owner        1            3   \n",
       "3     Bachelors/Family         1    Contact Owner        1            2   \n",
       "4            Bachelors         1    Contact Owner        1            2   \n",
       "...                ...       ...              ...      ...          ...   \n",
       "4739  Bachelors/Family         2    Contact Owner        3            5   \n",
       "4740  Bachelors/Family         3    Contact Owner        1            4   \n",
       "4741  Bachelors/Family         3    Contact Agent        3            5   \n",
       "4742            Family         2    Contact Agent       23           34   \n",
       "4743         Bachelors         2    Contact Owner        4            5   \n",
       "\n",
       "      Bangalore  Chennai  Delhi  Hyderabad  Kolkata  Mumbai  \n",
       "0           0.0      0.0    0.0        0.0      1.0     0.0  \n",
       "1           0.0      0.0    0.0        0.0      1.0     0.0  \n",
       "2           0.0      0.0    0.0        0.0      1.0     0.0  \n",
       "3           0.0      0.0    0.0        0.0      1.0     0.0  \n",
       "4           0.0      0.0    0.0        0.0      1.0     0.0  \n",
       "...         ...      ...    ...        ...      ...     ...  \n",
       "4739        0.0      0.0    0.0        1.0      0.0     0.0  \n",
       "4740        0.0      0.0    0.0        1.0      0.0     0.0  \n",
       "4741        0.0      0.0    0.0        1.0      0.0     0.0  \n",
       "4742        0.0      0.0    0.0        1.0      0.0     0.0  \n",
       "4743        0.0      0.0    0.0        1.0      0.0     0.0  \n",
       "\n",
       "[4744 rows x 18 columns]"
      ]
     },
     "execution_count": 48,
     "metadata": {},
     "output_type": "execute_result"
    }
   ],
   "source": [
    "data"
   ]
  },
  {
   "cell_type": "markdown",
   "id": "f4d11294",
   "metadata": {},
   "source": [
    "*Check that the update didn't create any null values unintentionally.*"
   ]
  },
  {
   "cell_type": "code",
   "execution_count": 49,
   "id": "00741dd6",
   "metadata": {},
   "outputs": [
    {
     "name": "stdout",
     "output_type": "stream",
     "text": [
      "index: 0\n",
      "Posted On: 0\n",
      "BHK: 0\n",
      "Rent: 0\n",
      "Size: 0\n",
      "Area Type: 0\n",
      "Furnishing Status: 0\n",
      "Tenant Preferred: 0\n",
      "Bathroom: 0\n",
      "Point of Contact: 0\n",
      "Floor On: 0\n",
      "Floor Out Of: 0\n",
      "Bangalore: 0\n",
      "Chennai: 0\n",
      "Delhi: 0\n",
      "Hyderabad: 0\n",
      "Kolkata: 0\n",
      "Mumbai: 0\n"
     ]
    }
   ],
   "source": [
    "columns = data.columns\n",
    "for i in columns:\n",
    "    print(str(i) + \":\",data[i].isnull().sum())"
   ]
  },
  {
   "cell_type": "markdown",
   "id": "fa3a7261",
   "metadata": {},
   "source": [
    "### Step Six - Label *(or maybe ordinal)* Encode Furnishing Status"
   ]
  },
  {
   "cell_type": "code",
   "execution_count": 50,
   "id": "fa491ce2",
   "metadata": {},
   "outputs": [
    {
     "data": {
      "text/plain": [
       "0          Unfurnished\n",
       "1       Semi-Furnished\n",
       "2       Semi-Furnished\n",
       "3          Unfurnished\n",
       "4          Unfurnished\n",
       "             ...      \n",
       "4739    Semi-Furnished\n",
       "4740    Semi-Furnished\n",
       "4741    Semi-Furnished\n",
       "4742    Semi-Furnished\n",
       "4743       Unfurnished\n",
       "Name: Furnishing Status, Length: 4744, dtype: object"
      ]
     },
     "execution_count": 50,
     "metadata": {},
     "output_type": "execute_result"
    }
   ],
   "source": [
    "data['Furnishing Status']"
   ]
  },
  {
   "cell_type": "code",
   "execution_count": 51,
   "id": "bc114560",
   "metadata": {},
   "outputs": [
    {
     "data": {
      "text/plain": [
       "0       0\n",
       "1       1\n",
       "2       1\n",
       "3       0\n",
       "4       0\n",
       "       ..\n",
       "4739    1\n",
       "4740    1\n",
       "4741    1\n",
       "4742    1\n",
       "4743    0\n",
       "Name: Furnishing Status, Length: 4744, dtype: int8"
      ]
     },
     "execution_count": 51,
     "metadata": {},
     "output_type": "execute_result"
    }
   ],
   "source": [
    "data = labelEncodeColumn(data,'Furnishing Status',inPlace=True)\n",
    "data['Furnishing Status']"
   ]
  },
  {
   "cell_type": "markdown",
   "id": "ca1cf66f",
   "metadata": {},
   "source": [
    "*Check that the update didn't create any null values unintentionally.*"
   ]
  },
  {
   "cell_type": "code",
   "execution_count": 52,
   "id": "8c1f9b7c",
   "metadata": {},
   "outputs": [
    {
     "name": "stdout",
     "output_type": "stream",
     "text": [
      "index: 0\n",
      "Posted On: 0\n",
      "BHK: 0\n",
      "Rent: 0\n",
      "Size: 0\n",
      "Area Type: 0\n",
      "Furnishing Status: 0\n",
      "Tenant Preferred: 0\n",
      "Bathroom: 0\n",
      "Point of Contact: 0\n",
      "Floor On: 0\n",
      "Floor Out Of: 0\n",
      "Bangalore: 0\n",
      "Chennai: 0\n",
      "Delhi: 0\n",
      "Hyderabad: 0\n",
      "Kolkata: 0\n",
      "Mumbai: 0\n"
     ]
    }
   ],
   "source": [
    "columns = data.columns\n",
    "for i in columns:\n",
    "    print(str(i) + \":\",data[i].isnull().sum())"
   ]
  },
  {
   "cell_type": "markdown",
   "id": "e4c21dc5",
   "metadata": {},
   "source": [
    "### Step Seven - One-Hot Encode Tenant Preferred *(with bachelor and family both binary so they can include bachelor/family with just those columns)*"
   ]
  },
  {
   "cell_type": "code",
   "execution_count": 53,
   "id": "3b25d4fa",
   "metadata": {},
   "outputs": [
    {
     "data": {
      "text/plain": [
       "0       Bachelors/Family\n",
       "1       Bachelors/Family\n",
       "2       Bachelors/Family\n",
       "3       Bachelors/Family\n",
       "4              Bachelors\n",
       "              ...       \n",
       "4739    Bachelors/Family\n",
       "4740    Bachelors/Family\n",
       "4741    Bachelors/Family\n",
       "4742              Family\n",
       "4743           Bachelors\n",
       "Name: Tenant Preferred, Length: 4744, dtype: object"
      ]
     },
     "execution_count": 53,
     "metadata": {},
     "output_type": "execute_result"
    }
   ],
   "source": [
    "data[\"Tenant Preferred\"]"
   ]
  },
  {
   "cell_type": "code",
   "execution_count": 54,
   "id": "387fa106",
   "metadata": {},
   "outputs": [
    {
     "data": {
      "text/plain": [
       "Index(['index', 'Posted On', 'BHK', 'Rent', 'Size', 'Area Type',\n",
       "       'Furnishing Status', 'Tenant Preferred', 'Bathroom', 'Point of Contact',\n",
       "       'Floor On', 'Floor Out Of', 'Bangalore', 'Chennai', 'Delhi',\n",
       "       'Hyderabad', 'Kolkata', 'Mumbai', 'Bachelors', 'Family'],\n",
       "      dtype='object')"
      ]
     },
     "execution_count": 54,
     "metadata": {},
     "output_type": "execute_result"
    }
   ],
   "source": [
    "data = oneHotEncodeColumn(data,\"Tenant Preferred\")\n",
    "columns = data.columns\n",
    "columns"
   ]
  },
  {
   "cell_type": "code",
   "execution_count": 55,
   "id": "7bfa03e7",
   "metadata": {},
   "outputs": [
    {
     "data": {
      "text/html": [
       "<div>\n",
       "<style scoped>\n",
       "    .dataframe tbody tr th:only-of-type {\n",
       "        vertical-align: middle;\n",
       "    }\n",
       "\n",
       "    .dataframe tbody tr th {\n",
       "        vertical-align: top;\n",
       "    }\n",
       "\n",
       "    .dataframe thead th {\n",
       "        text-align: right;\n",
       "    }\n",
       "</style>\n",
       "<table border=\"1\" class=\"dataframe\">\n",
       "  <thead>\n",
       "    <tr style=\"text-align: right;\">\n",
       "      <th></th>\n",
       "      <th>index</th>\n",
       "      <th>Posted On</th>\n",
       "      <th>BHK</th>\n",
       "      <th>Rent</th>\n",
       "      <th>Size</th>\n",
       "      <th>Area Type</th>\n",
       "      <th>Furnishing Status</th>\n",
       "      <th>Bathroom</th>\n",
       "      <th>Point of Contact</th>\n",
       "      <th>Floor On</th>\n",
       "      <th>Floor Out Of</th>\n",
       "      <th>Bangalore</th>\n",
       "      <th>Chennai</th>\n",
       "      <th>Delhi</th>\n",
       "      <th>Hyderabad</th>\n",
       "      <th>Kolkata</th>\n",
       "      <th>Mumbai</th>\n",
       "      <th>Bachelors</th>\n",
       "      <th>Family</th>\n",
       "    </tr>\n",
       "  </thead>\n",
       "  <tbody>\n",
       "    <tr>\n",
       "      <th>0</th>\n",
       "      <td>0</td>\n",
       "      <td>168</td>\n",
       "      <td>2</td>\n",
       "      <td>10000</td>\n",
       "      <td>1100</td>\n",
       "      <td>1</td>\n",
       "      <td>0</td>\n",
       "      <td>2</td>\n",
       "      <td>Contact Owner</td>\n",
       "      <td>0</td>\n",
       "      <td>2</td>\n",
       "      <td>0.0</td>\n",
       "      <td>0.0</td>\n",
       "      <td>0.0</td>\n",
       "      <td>0.0</td>\n",
       "      <td>1.0</td>\n",
       "      <td>0.0</td>\n",
       "      <td>1</td>\n",
       "      <td>1</td>\n",
       "    </tr>\n",
       "    <tr>\n",
       "      <th>1</th>\n",
       "      <td>1</td>\n",
       "      <td>163</td>\n",
       "      <td>2</td>\n",
       "      <td>20000</td>\n",
       "      <td>800</td>\n",
       "      <td>1</td>\n",
       "      <td>1</td>\n",
       "      <td>1</td>\n",
       "      <td>Contact Owner</td>\n",
       "      <td>1</td>\n",
       "      <td>3</td>\n",
       "      <td>0.0</td>\n",
       "      <td>0.0</td>\n",
       "      <td>0.0</td>\n",
       "      <td>0.0</td>\n",
       "      <td>1.0</td>\n",
       "      <td>0.0</td>\n",
       "      <td>1</td>\n",
       "      <td>1</td>\n",
       "    </tr>\n",
       "    <tr>\n",
       "      <th>2</th>\n",
       "      <td>2</td>\n",
       "      <td>166</td>\n",
       "      <td>2</td>\n",
       "      <td>17000</td>\n",
       "      <td>1000</td>\n",
       "      <td>1</td>\n",
       "      <td>1</td>\n",
       "      <td>1</td>\n",
       "      <td>Contact Owner</td>\n",
       "      <td>1</td>\n",
       "      <td>3</td>\n",
       "      <td>0.0</td>\n",
       "      <td>0.0</td>\n",
       "      <td>0.0</td>\n",
       "      <td>0.0</td>\n",
       "      <td>1.0</td>\n",
       "      <td>0.0</td>\n",
       "      <td>1</td>\n",
       "      <td>1</td>\n",
       "    </tr>\n",
       "    <tr>\n",
       "      <th>3</th>\n",
       "      <td>3</td>\n",
       "      <td>215</td>\n",
       "      <td>2</td>\n",
       "      <td>10000</td>\n",
       "      <td>800</td>\n",
       "      <td>1</td>\n",
       "      <td>0</td>\n",
       "      <td>1</td>\n",
       "      <td>Contact Owner</td>\n",
       "      <td>1</td>\n",
       "      <td>2</td>\n",
       "      <td>0.0</td>\n",
       "      <td>0.0</td>\n",
       "      <td>0.0</td>\n",
       "      <td>0.0</td>\n",
       "      <td>1.0</td>\n",
       "      <td>0.0</td>\n",
       "      <td>1</td>\n",
       "      <td>1</td>\n",
       "    </tr>\n",
       "    <tr>\n",
       "      <th>4</th>\n",
       "      <td>4</td>\n",
       "      <td>159</td>\n",
       "      <td>2</td>\n",
       "      <td>7500</td>\n",
       "      <td>850</td>\n",
       "      <td>0</td>\n",
       "      <td>0</td>\n",
       "      <td>1</td>\n",
       "      <td>Contact Owner</td>\n",
       "      <td>1</td>\n",
       "      <td>2</td>\n",
       "      <td>0.0</td>\n",
       "      <td>0.0</td>\n",
       "      <td>0.0</td>\n",
       "      <td>0.0</td>\n",
       "      <td>1.0</td>\n",
       "      <td>0.0</td>\n",
       "      <td>1</td>\n",
       "      <td>0</td>\n",
       "    </tr>\n",
       "    <tr>\n",
       "      <th>...</th>\n",
       "      <td>...</td>\n",
       "      <td>...</td>\n",
       "      <td>...</td>\n",
       "      <td>...</td>\n",
       "      <td>...</td>\n",
       "      <td>...</td>\n",
       "      <td>...</td>\n",
       "      <td>...</td>\n",
       "      <td>...</td>\n",
       "      <td>...</td>\n",
       "      <td>...</td>\n",
       "      <td>...</td>\n",
       "      <td>...</td>\n",
       "      <td>...</td>\n",
       "      <td>...</td>\n",
       "      <td>...</td>\n",
       "      <td>...</td>\n",
       "      <td>...</td>\n",
       "      <td>...</td>\n",
       "    </tr>\n",
       "    <tr>\n",
       "      <th>4739</th>\n",
       "      <td>4741</td>\n",
       "      <td>168</td>\n",
       "      <td>2</td>\n",
       "      <td>15000</td>\n",
       "      <td>1000</td>\n",
       "      <td>0</td>\n",
       "      <td>1</td>\n",
       "      <td>2</td>\n",
       "      <td>Contact Owner</td>\n",
       "      <td>3</td>\n",
       "      <td>5</td>\n",
       "      <td>0.0</td>\n",
       "      <td>0.0</td>\n",
       "      <td>0.0</td>\n",
       "      <td>1.0</td>\n",
       "      <td>0.0</td>\n",
       "      <td>0.0</td>\n",
       "      <td>1</td>\n",
       "      <td>1</td>\n",
       "    </tr>\n",
       "    <tr>\n",
       "      <th>4740</th>\n",
       "      <td>4742</td>\n",
       "      <td>165</td>\n",
       "      <td>3</td>\n",
       "      <td>29000</td>\n",
       "      <td>2000</td>\n",
       "      <td>1</td>\n",
       "      <td>1</td>\n",
       "      <td>3</td>\n",
       "      <td>Contact Owner</td>\n",
       "      <td>1</td>\n",
       "      <td>4</td>\n",
       "      <td>0.0</td>\n",
       "      <td>0.0</td>\n",
       "      <td>0.0</td>\n",
       "      <td>1.0</td>\n",
       "      <td>0.0</td>\n",
       "      <td>0.0</td>\n",
       "      <td>1</td>\n",
       "      <td>1</td>\n",
       "    </tr>\n",
       "    <tr>\n",
       "      <th>4741</th>\n",
       "      <td>4743</td>\n",
       "      <td>221</td>\n",
       "      <td>3</td>\n",
       "      <td>35000</td>\n",
       "      <td>1750</td>\n",
       "      <td>0</td>\n",
       "      <td>1</td>\n",
       "      <td>3</td>\n",
       "      <td>Contact Agent</td>\n",
       "      <td>3</td>\n",
       "      <td>5</td>\n",
       "      <td>0.0</td>\n",
       "      <td>0.0</td>\n",
       "      <td>0.0</td>\n",
       "      <td>1.0</td>\n",
       "      <td>0.0</td>\n",
       "      <td>0.0</td>\n",
       "      <td>1</td>\n",
       "      <td>1</td>\n",
       "    </tr>\n",
       "    <tr>\n",
       "      <th>4742</th>\n",
       "      <td>4744</td>\n",
       "      <td>217</td>\n",
       "      <td>3</td>\n",
       "      <td>45000</td>\n",
       "      <td>1500</td>\n",
       "      <td>0</td>\n",
       "      <td>1</td>\n",
       "      <td>2</td>\n",
       "      <td>Contact Agent</td>\n",
       "      <td>23</td>\n",
       "      <td>34</td>\n",
       "      <td>0.0</td>\n",
       "      <td>0.0</td>\n",
       "      <td>0.0</td>\n",
       "      <td>1.0</td>\n",
       "      <td>0.0</td>\n",
       "      <td>0.0</td>\n",
       "      <td>0</td>\n",
       "      <td>1</td>\n",
       "    </tr>\n",
       "    <tr>\n",
       "      <th>4743</th>\n",
       "      <td>4745</td>\n",
       "      <td>154</td>\n",
       "      <td>2</td>\n",
       "      <td>15000</td>\n",
       "      <td>1000</td>\n",
       "      <td>0</td>\n",
       "      <td>0</td>\n",
       "      <td>2</td>\n",
       "      <td>Contact Owner</td>\n",
       "      <td>4</td>\n",
       "      <td>5</td>\n",
       "      <td>0.0</td>\n",
       "      <td>0.0</td>\n",
       "      <td>0.0</td>\n",
       "      <td>1.0</td>\n",
       "      <td>0.0</td>\n",
       "      <td>0.0</td>\n",
       "      <td>1</td>\n",
       "      <td>0</td>\n",
       "    </tr>\n",
       "  </tbody>\n",
       "</table>\n",
       "<p>4744 rows × 19 columns</p>\n",
       "</div>"
      ],
      "text/plain": [
       "      index  Posted On  BHK   Rent  Size  Area Type  Furnishing Status  \\\n",
       "0         0        168    2  10000  1100          1                  0   \n",
       "1         1        163    2  20000   800          1                  1   \n",
       "2         2        166    2  17000  1000          1                  1   \n",
       "3         3        215    2  10000   800          1                  0   \n",
       "4         4        159    2   7500   850          0                  0   \n",
       "...     ...        ...  ...    ...   ...        ...                ...   \n",
       "4739   4741        168    2  15000  1000          0                  1   \n",
       "4740   4742        165    3  29000  2000          1                  1   \n",
       "4741   4743        221    3  35000  1750          0                  1   \n",
       "4742   4744        217    3  45000  1500          0                  1   \n",
       "4743   4745        154    2  15000  1000          0                  0   \n",
       "\n",
       "      Bathroom Point of Contact Floor On Floor Out Of  Bangalore  Chennai  \\\n",
       "0            2    Contact Owner        0            2        0.0      0.0   \n",
       "1            1    Contact Owner        1            3        0.0      0.0   \n",
       "2            1    Contact Owner        1            3        0.0      0.0   \n",
       "3            1    Contact Owner        1            2        0.0      0.0   \n",
       "4            1    Contact Owner        1            2        0.0      0.0   \n",
       "...        ...              ...      ...          ...        ...      ...   \n",
       "4739         2    Contact Owner        3            5        0.0      0.0   \n",
       "4740         3    Contact Owner        1            4        0.0      0.0   \n",
       "4741         3    Contact Agent        3            5        0.0      0.0   \n",
       "4742         2    Contact Agent       23           34        0.0      0.0   \n",
       "4743         2    Contact Owner        4            5        0.0      0.0   \n",
       "\n",
       "      Delhi  Hyderabad  Kolkata  Mumbai  Bachelors  Family  \n",
       "0       0.0        0.0      1.0     0.0          1       1  \n",
       "1       0.0        0.0      1.0     0.0          1       1  \n",
       "2       0.0        0.0      1.0     0.0          1       1  \n",
       "3       0.0        0.0      1.0     0.0          1       1  \n",
       "4       0.0        0.0      1.0     0.0          1       0  \n",
       "...     ...        ...      ...     ...        ...     ...  \n",
       "4739    0.0        1.0      0.0     0.0          1       1  \n",
       "4740    0.0        1.0      0.0     0.0          1       1  \n",
       "4741    0.0        1.0      0.0     0.0          1       1  \n",
       "4742    0.0        1.0      0.0     0.0          0       1  \n",
       "4743    0.0        1.0      0.0     0.0          1       0  \n",
       "\n",
       "[4744 rows x 19 columns]"
      ]
     },
     "execution_count": 55,
     "metadata": {},
     "output_type": "execute_result"
    }
   ],
   "source": [
    "data = data.drop(\"Tenant Preferred\",axis=1)\n",
    "data"
   ]
  },
  {
   "cell_type": "markdown",
   "id": "95971df2",
   "metadata": {},
   "source": [
    "*Check that the update didn't create any null values unintentionally.*"
   ]
  },
  {
   "cell_type": "code",
   "execution_count": 56,
   "id": "d3e61ca8",
   "metadata": {},
   "outputs": [
    {
     "name": "stdout",
     "output_type": "stream",
     "text": [
      "index: 0\n",
      "Posted On: 0\n",
      "BHK: 0\n",
      "Rent: 0\n",
      "Size: 0\n",
      "Area Type: 0\n",
      "Furnishing Status: 0\n",
      "Bathroom: 0\n",
      "Point of Contact: 0\n",
      "Floor On: 0\n",
      "Floor Out Of: 0\n",
      "Bangalore: 0\n",
      "Chennai: 0\n",
      "Delhi: 0\n",
      "Hyderabad: 0\n",
      "Kolkata: 0\n",
      "Mumbai: 0\n",
      "Bachelors: 0\n",
      "Family: 0\n"
     ]
    }
   ],
   "source": [
    "columns = data.columns\n",
    "for i in columns:\n",
    "    print(str(i) + \":\",data[i].isnull().sum())"
   ]
  },
  {
   "cell_type": "markdown",
   "id": "4bdfafae",
   "metadata": {},
   "source": [
    "### Step Eight - Label Encode Point of Contact"
   ]
  },
  {
   "cell_type": "code",
   "execution_count": 57,
   "id": "2fb46735",
   "metadata": {},
   "outputs": [
    {
     "data": {
      "text/plain": [
       "0       Contact Owner\n",
       "1       Contact Owner\n",
       "2       Contact Owner\n",
       "3       Contact Owner\n",
       "4       Contact Owner\n",
       "            ...      \n",
       "4739    Contact Owner\n",
       "4740    Contact Owner\n",
       "4741    Contact Agent\n",
       "4742    Contact Agent\n",
       "4743    Contact Owner\n",
       "Name: Point of Contact, Length: 4744, dtype: object"
      ]
     },
     "execution_count": 57,
     "metadata": {},
     "output_type": "execute_result"
    }
   ],
   "source": [
    "data['Point of Contact']"
   ]
  },
  {
   "cell_type": "markdown",
   "id": "a90acab4",
   "metadata": {},
   "source": [
    "*First I need to drop Contact Builder given the scarcity of data using that value.*"
   ]
  },
  {
   "cell_type": "code",
   "execution_count": 58,
   "id": "aaac75c8",
   "metadata": {},
   "outputs": [
    {
     "data": {
      "text/plain": [
       "Contact Owner    3214\n",
       "Contact Agent    1529\n",
       "Name: Point of Contact, dtype: int64"
      ]
     },
     "execution_count": 58,
     "metadata": {},
     "output_type": "execute_result"
    }
   ],
   "source": [
    "data = data.drop(data[data['Point of Contact'] == 'Contact Builder'].index)\n",
    "data['Point of Contact'].value_counts()"
   ]
  },
  {
   "cell_type": "code",
   "execution_count": 59,
   "id": "69366f73",
   "metadata": {},
   "outputs": [
    {
     "data": {
      "text/html": [
       "<div>\n",
       "<style scoped>\n",
       "    .dataframe tbody tr th:only-of-type {\n",
       "        vertical-align: middle;\n",
       "    }\n",
       "\n",
       "    .dataframe tbody tr th {\n",
       "        vertical-align: top;\n",
       "    }\n",
       "\n",
       "    .dataframe thead th {\n",
       "        text-align: right;\n",
       "    }\n",
       "</style>\n",
       "<table border=\"1\" class=\"dataframe\">\n",
       "  <thead>\n",
       "    <tr style=\"text-align: right;\">\n",
       "      <th></th>\n",
       "      <th>level_0</th>\n",
       "      <th>index</th>\n",
       "      <th>Posted On</th>\n",
       "      <th>BHK</th>\n",
       "      <th>Rent</th>\n",
       "      <th>Size</th>\n",
       "      <th>Area Type</th>\n",
       "      <th>Furnishing Status</th>\n",
       "      <th>Bathroom</th>\n",
       "      <th>Point of Contact</th>\n",
       "      <th>Floor On</th>\n",
       "      <th>Floor Out Of</th>\n",
       "      <th>Bangalore</th>\n",
       "      <th>Chennai</th>\n",
       "      <th>Delhi</th>\n",
       "      <th>Hyderabad</th>\n",
       "      <th>Kolkata</th>\n",
       "      <th>Mumbai</th>\n",
       "      <th>Bachelors</th>\n",
       "      <th>Family</th>\n",
       "    </tr>\n",
       "  </thead>\n",
       "  <tbody>\n",
       "    <tr>\n",
       "      <th>0</th>\n",
       "      <td>0</td>\n",
       "      <td>0</td>\n",
       "      <td>168</td>\n",
       "      <td>2</td>\n",
       "      <td>10000</td>\n",
       "      <td>1100</td>\n",
       "      <td>1</td>\n",
       "      <td>0</td>\n",
       "      <td>2</td>\n",
       "      <td>Contact Owner</td>\n",
       "      <td>0</td>\n",
       "      <td>2</td>\n",
       "      <td>0.0</td>\n",
       "      <td>0.0</td>\n",
       "      <td>0.0</td>\n",
       "      <td>0.0</td>\n",
       "      <td>1.0</td>\n",
       "      <td>0.0</td>\n",
       "      <td>1</td>\n",
       "      <td>1</td>\n",
       "    </tr>\n",
       "    <tr>\n",
       "      <th>1</th>\n",
       "      <td>1</td>\n",
       "      <td>1</td>\n",
       "      <td>163</td>\n",
       "      <td>2</td>\n",
       "      <td>20000</td>\n",
       "      <td>800</td>\n",
       "      <td>1</td>\n",
       "      <td>1</td>\n",
       "      <td>1</td>\n",
       "      <td>Contact Owner</td>\n",
       "      <td>1</td>\n",
       "      <td>3</td>\n",
       "      <td>0.0</td>\n",
       "      <td>0.0</td>\n",
       "      <td>0.0</td>\n",
       "      <td>0.0</td>\n",
       "      <td>1.0</td>\n",
       "      <td>0.0</td>\n",
       "      <td>1</td>\n",
       "      <td>1</td>\n",
       "    </tr>\n",
       "    <tr>\n",
       "      <th>2</th>\n",
       "      <td>2</td>\n",
       "      <td>2</td>\n",
       "      <td>166</td>\n",
       "      <td>2</td>\n",
       "      <td>17000</td>\n",
       "      <td>1000</td>\n",
       "      <td>1</td>\n",
       "      <td>1</td>\n",
       "      <td>1</td>\n",
       "      <td>Contact Owner</td>\n",
       "      <td>1</td>\n",
       "      <td>3</td>\n",
       "      <td>0.0</td>\n",
       "      <td>0.0</td>\n",
       "      <td>0.0</td>\n",
       "      <td>0.0</td>\n",
       "      <td>1.0</td>\n",
       "      <td>0.0</td>\n",
       "      <td>1</td>\n",
       "      <td>1</td>\n",
       "    </tr>\n",
       "    <tr>\n",
       "      <th>3</th>\n",
       "      <td>3</td>\n",
       "      <td>3</td>\n",
       "      <td>215</td>\n",
       "      <td>2</td>\n",
       "      <td>10000</td>\n",
       "      <td>800</td>\n",
       "      <td>1</td>\n",
       "      <td>0</td>\n",
       "      <td>1</td>\n",
       "      <td>Contact Owner</td>\n",
       "      <td>1</td>\n",
       "      <td>2</td>\n",
       "      <td>0.0</td>\n",
       "      <td>0.0</td>\n",
       "      <td>0.0</td>\n",
       "      <td>0.0</td>\n",
       "      <td>1.0</td>\n",
       "      <td>0.0</td>\n",
       "      <td>1</td>\n",
       "      <td>1</td>\n",
       "    </tr>\n",
       "    <tr>\n",
       "      <th>4</th>\n",
       "      <td>4</td>\n",
       "      <td>4</td>\n",
       "      <td>159</td>\n",
       "      <td>2</td>\n",
       "      <td>7500</td>\n",
       "      <td>850</td>\n",
       "      <td>0</td>\n",
       "      <td>0</td>\n",
       "      <td>1</td>\n",
       "      <td>Contact Owner</td>\n",
       "      <td>1</td>\n",
       "      <td>2</td>\n",
       "      <td>0.0</td>\n",
       "      <td>0.0</td>\n",
       "      <td>0.0</td>\n",
       "      <td>0.0</td>\n",
       "      <td>1.0</td>\n",
       "      <td>0.0</td>\n",
       "      <td>1</td>\n",
       "      <td>0</td>\n",
       "    </tr>\n",
       "    <tr>\n",
       "      <th>...</th>\n",
       "      <td>...</td>\n",
       "      <td>...</td>\n",
       "      <td>...</td>\n",
       "      <td>...</td>\n",
       "      <td>...</td>\n",
       "      <td>...</td>\n",
       "      <td>...</td>\n",
       "      <td>...</td>\n",
       "      <td>...</td>\n",
       "      <td>...</td>\n",
       "      <td>...</td>\n",
       "      <td>...</td>\n",
       "      <td>...</td>\n",
       "      <td>...</td>\n",
       "      <td>...</td>\n",
       "      <td>...</td>\n",
       "      <td>...</td>\n",
       "      <td>...</td>\n",
       "      <td>...</td>\n",
       "      <td>...</td>\n",
       "    </tr>\n",
       "    <tr>\n",
       "      <th>4738</th>\n",
       "      <td>4739</td>\n",
       "      <td>4741</td>\n",
       "      <td>168</td>\n",
       "      <td>2</td>\n",
       "      <td>15000</td>\n",
       "      <td>1000</td>\n",
       "      <td>0</td>\n",
       "      <td>1</td>\n",
       "      <td>2</td>\n",
       "      <td>Contact Owner</td>\n",
       "      <td>3</td>\n",
       "      <td>5</td>\n",
       "      <td>0.0</td>\n",
       "      <td>0.0</td>\n",
       "      <td>0.0</td>\n",
       "      <td>1.0</td>\n",
       "      <td>0.0</td>\n",
       "      <td>0.0</td>\n",
       "      <td>1</td>\n",
       "      <td>1</td>\n",
       "    </tr>\n",
       "    <tr>\n",
       "      <th>4739</th>\n",
       "      <td>4740</td>\n",
       "      <td>4742</td>\n",
       "      <td>165</td>\n",
       "      <td>3</td>\n",
       "      <td>29000</td>\n",
       "      <td>2000</td>\n",
       "      <td>1</td>\n",
       "      <td>1</td>\n",
       "      <td>3</td>\n",
       "      <td>Contact Owner</td>\n",
       "      <td>1</td>\n",
       "      <td>4</td>\n",
       "      <td>0.0</td>\n",
       "      <td>0.0</td>\n",
       "      <td>0.0</td>\n",
       "      <td>1.0</td>\n",
       "      <td>0.0</td>\n",
       "      <td>0.0</td>\n",
       "      <td>1</td>\n",
       "      <td>1</td>\n",
       "    </tr>\n",
       "    <tr>\n",
       "      <th>4740</th>\n",
       "      <td>4741</td>\n",
       "      <td>4743</td>\n",
       "      <td>221</td>\n",
       "      <td>3</td>\n",
       "      <td>35000</td>\n",
       "      <td>1750</td>\n",
       "      <td>0</td>\n",
       "      <td>1</td>\n",
       "      <td>3</td>\n",
       "      <td>Contact Agent</td>\n",
       "      <td>3</td>\n",
       "      <td>5</td>\n",
       "      <td>0.0</td>\n",
       "      <td>0.0</td>\n",
       "      <td>0.0</td>\n",
       "      <td>1.0</td>\n",
       "      <td>0.0</td>\n",
       "      <td>0.0</td>\n",
       "      <td>1</td>\n",
       "      <td>1</td>\n",
       "    </tr>\n",
       "    <tr>\n",
       "      <th>4741</th>\n",
       "      <td>4742</td>\n",
       "      <td>4744</td>\n",
       "      <td>217</td>\n",
       "      <td>3</td>\n",
       "      <td>45000</td>\n",
       "      <td>1500</td>\n",
       "      <td>0</td>\n",
       "      <td>1</td>\n",
       "      <td>2</td>\n",
       "      <td>Contact Agent</td>\n",
       "      <td>23</td>\n",
       "      <td>34</td>\n",
       "      <td>0.0</td>\n",
       "      <td>0.0</td>\n",
       "      <td>0.0</td>\n",
       "      <td>1.0</td>\n",
       "      <td>0.0</td>\n",
       "      <td>0.0</td>\n",
       "      <td>0</td>\n",
       "      <td>1</td>\n",
       "    </tr>\n",
       "    <tr>\n",
       "      <th>4742</th>\n",
       "      <td>4743</td>\n",
       "      <td>4745</td>\n",
       "      <td>154</td>\n",
       "      <td>2</td>\n",
       "      <td>15000</td>\n",
       "      <td>1000</td>\n",
       "      <td>0</td>\n",
       "      <td>0</td>\n",
       "      <td>2</td>\n",
       "      <td>Contact Owner</td>\n",
       "      <td>4</td>\n",
       "      <td>5</td>\n",
       "      <td>0.0</td>\n",
       "      <td>0.0</td>\n",
       "      <td>0.0</td>\n",
       "      <td>1.0</td>\n",
       "      <td>0.0</td>\n",
       "      <td>0.0</td>\n",
       "      <td>1</td>\n",
       "      <td>0</td>\n",
       "    </tr>\n",
       "  </tbody>\n",
       "</table>\n",
       "<p>4743 rows × 20 columns</p>\n",
       "</div>"
      ],
      "text/plain": [
       "      level_0  index  Posted On  BHK   Rent  Size  Area Type  \\\n",
       "0           0      0        168    2  10000  1100          1   \n",
       "1           1      1        163    2  20000   800          1   \n",
       "2           2      2        166    2  17000  1000          1   \n",
       "3           3      3        215    2  10000   800          1   \n",
       "4           4      4        159    2   7500   850          0   \n",
       "...       ...    ...        ...  ...    ...   ...        ...   \n",
       "4738     4739   4741        168    2  15000  1000          0   \n",
       "4739     4740   4742        165    3  29000  2000          1   \n",
       "4740     4741   4743        221    3  35000  1750          0   \n",
       "4741     4742   4744        217    3  45000  1500          0   \n",
       "4742     4743   4745        154    2  15000  1000          0   \n",
       "\n",
       "      Furnishing Status  Bathroom Point of Contact Floor On Floor Out Of  \\\n",
       "0                     0         2    Contact Owner        0            2   \n",
       "1                     1         1    Contact Owner        1            3   \n",
       "2                     1         1    Contact Owner        1            3   \n",
       "3                     0         1    Contact Owner        1            2   \n",
       "4                     0         1    Contact Owner        1            2   \n",
       "...                 ...       ...              ...      ...          ...   \n",
       "4738                  1         2    Contact Owner        3            5   \n",
       "4739                  1         3    Contact Owner        1            4   \n",
       "4740                  1         3    Contact Agent        3            5   \n",
       "4741                  1         2    Contact Agent       23           34   \n",
       "4742                  0         2    Contact Owner        4            5   \n",
       "\n",
       "      Bangalore  Chennai  Delhi  Hyderabad  Kolkata  Mumbai  Bachelors  Family  \n",
       "0           0.0      0.0    0.0        0.0      1.0     0.0          1       1  \n",
       "1           0.0      0.0    0.0        0.0      1.0     0.0          1       1  \n",
       "2           0.0      0.0    0.0        0.0      1.0     0.0          1       1  \n",
       "3           0.0      0.0    0.0        0.0      1.0     0.0          1       1  \n",
       "4           0.0      0.0    0.0        0.0      1.0     0.0          1       0  \n",
       "...         ...      ...    ...        ...      ...     ...        ...     ...  \n",
       "4738        0.0      0.0    0.0        1.0      0.0     0.0          1       1  \n",
       "4739        0.0      0.0    0.0        1.0      0.0     0.0          1       1  \n",
       "4740        0.0      0.0    0.0        1.0      0.0     0.0          1       1  \n",
       "4741        0.0      0.0    0.0        1.0      0.0     0.0          0       1  \n",
       "4742        0.0      0.0    0.0        1.0      0.0     0.0          1       0  \n",
       "\n",
       "[4743 rows x 20 columns]"
      ]
     },
     "execution_count": 59,
     "metadata": {},
     "output_type": "execute_result"
    }
   ],
   "source": [
    "data = data.reset_index()\n",
    "data"
   ]
  },
  {
   "cell_type": "markdown",
   "id": "bc8ee1fa",
   "metadata": {},
   "source": [
    "*Check that dropping rows didn't create any null values unintentionally.*"
   ]
  },
  {
   "cell_type": "code",
   "execution_count": 60,
   "id": "3f36fbe7",
   "metadata": {},
   "outputs": [
    {
     "name": "stdout",
     "output_type": "stream",
     "text": [
      "level_0: 0\n",
      "index: 0\n",
      "Posted On: 0\n",
      "BHK: 0\n",
      "Rent: 0\n",
      "Size: 0\n",
      "Area Type: 0\n",
      "Furnishing Status: 0\n",
      "Bathroom: 0\n",
      "Point of Contact: 0\n",
      "Floor On: 0\n",
      "Floor Out Of: 0\n",
      "Bangalore: 0\n",
      "Chennai: 0\n",
      "Delhi: 0\n",
      "Hyderabad: 0\n",
      "Kolkata: 0\n",
      "Mumbai: 0\n",
      "Bachelors: 0\n",
      "Family: 0\n"
     ]
    }
   ],
   "source": [
    "columns = data.columns\n",
    "for i in columns:\n",
    "    print(str(i) + \":\",data[i].isnull().sum())"
   ]
  },
  {
   "cell_type": "markdown",
   "id": "4b360da9",
   "metadata": {},
   "source": [
    "*Next I just label encode the Point of Contact column.*"
   ]
  },
  {
   "cell_type": "code",
   "execution_count": 61,
   "id": "b4f1bda2",
   "metadata": {},
   "outputs": [
    {
     "data": {
      "text/html": [
       "<div>\n",
       "<style scoped>\n",
       "    .dataframe tbody tr th:only-of-type {\n",
       "        vertical-align: middle;\n",
       "    }\n",
       "\n",
       "    .dataframe tbody tr th {\n",
       "        vertical-align: top;\n",
       "    }\n",
       "\n",
       "    .dataframe thead th {\n",
       "        text-align: right;\n",
       "    }\n",
       "</style>\n",
       "<table border=\"1\" class=\"dataframe\">\n",
       "  <thead>\n",
       "    <tr style=\"text-align: right;\">\n",
       "      <th></th>\n",
       "      <th>level_0</th>\n",
       "      <th>index</th>\n",
       "      <th>Posted On</th>\n",
       "      <th>BHK</th>\n",
       "      <th>Rent</th>\n",
       "      <th>Size</th>\n",
       "      <th>Area Type</th>\n",
       "      <th>Furnishing Status</th>\n",
       "      <th>Bathroom</th>\n",
       "      <th>Point of Contact</th>\n",
       "      <th>Floor On</th>\n",
       "      <th>Floor Out Of</th>\n",
       "      <th>Bangalore</th>\n",
       "      <th>Chennai</th>\n",
       "      <th>Delhi</th>\n",
       "      <th>Hyderabad</th>\n",
       "      <th>Kolkata</th>\n",
       "      <th>Mumbai</th>\n",
       "      <th>Bachelors</th>\n",
       "      <th>Family</th>\n",
       "    </tr>\n",
       "  </thead>\n",
       "  <tbody>\n",
       "    <tr>\n",
       "      <th>0</th>\n",
       "      <td>0</td>\n",
       "      <td>0</td>\n",
       "      <td>168</td>\n",
       "      <td>2</td>\n",
       "      <td>10000</td>\n",
       "      <td>1100</td>\n",
       "      <td>1</td>\n",
       "      <td>0</td>\n",
       "      <td>2</td>\n",
       "      <td>1</td>\n",
       "      <td>0</td>\n",
       "      <td>2</td>\n",
       "      <td>0.0</td>\n",
       "      <td>0.0</td>\n",
       "      <td>0.0</td>\n",
       "      <td>0.0</td>\n",
       "      <td>1.0</td>\n",
       "      <td>0.0</td>\n",
       "      <td>1</td>\n",
       "      <td>1</td>\n",
       "    </tr>\n",
       "    <tr>\n",
       "      <th>1</th>\n",
       "      <td>1</td>\n",
       "      <td>1</td>\n",
       "      <td>163</td>\n",
       "      <td>2</td>\n",
       "      <td>20000</td>\n",
       "      <td>800</td>\n",
       "      <td>1</td>\n",
       "      <td>1</td>\n",
       "      <td>1</td>\n",
       "      <td>1</td>\n",
       "      <td>1</td>\n",
       "      <td>3</td>\n",
       "      <td>0.0</td>\n",
       "      <td>0.0</td>\n",
       "      <td>0.0</td>\n",
       "      <td>0.0</td>\n",
       "      <td>1.0</td>\n",
       "      <td>0.0</td>\n",
       "      <td>1</td>\n",
       "      <td>1</td>\n",
       "    </tr>\n",
       "    <tr>\n",
       "      <th>2</th>\n",
       "      <td>2</td>\n",
       "      <td>2</td>\n",
       "      <td>166</td>\n",
       "      <td>2</td>\n",
       "      <td>17000</td>\n",
       "      <td>1000</td>\n",
       "      <td>1</td>\n",
       "      <td>1</td>\n",
       "      <td>1</td>\n",
       "      <td>1</td>\n",
       "      <td>1</td>\n",
       "      <td>3</td>\n",
       "      <td>0.0</td>\n",
       "      <td>0.0</td>\n",
       "      <td>0.0</td>\n",
       "      <td>0.0</td>\n",
       "      <td>1.0</td>\n",
       "      <td>0.0</td>\n",
       "      <td>1</td>\n",
       "      <td>1</td>\n",
       "    </tr>\n",
       "    <tr>\n",
       "      <th>3</th>\n",
       "      <td>3</td>\n",
       "      <td>3</td>\n",
       "      <td>215</td>\n",
       "      <td>2</td>\n",
       "      <td>10000</td>\n",
       "      <td>800</td>\n",
       "      <td>1</td>\n",
       "      <td>0</td>\n",
       "      <td>1</td>\n",
       "      <td>1</td>\n",
       "      <td>1</td>\n",
       "      <td>2</td>\n",
       "      <td>0.0</td>\n",
       "      <td>0.0</td>\n",
       "      <td>0.0</td>\n",
       "      <td>0.0</td>\n",
       "      <td>1.0</td>\n",
       "      <td>0.0</td>\n",
       "      <td>1</td>\n",
       "      <td>1</td>\n",
       "    </tr>\n",
       "    <tr>\n",
       "      <th>4</th>\n",
       "      <td>4</td>\n",
       "      <td>4</td>\n",
       "      <td>159</td>\n",
       "      <td>2</td>\n",
       "      <td>7500</td>\n",
       "      <td>850</td>\n",
       "      <td>0</td>\n",
       "      <td>0</td>\n",
       "      <td>1</td>\n",
       "      <td>1</td>\n",
       "      <td>1</td>\n",
       "      <td>2</td>\n",
       "      <td>0.0</td>\n",
       "      <td>0.0</td>\n",
       "      <td>0.0</td>\n",
       "      <td>0.0</td>\n",
       "      <td>1.0</td>\n",
       "      <td>0.0</td>\n",
       "      <td>1</td>\n",
       "      <td>0</td>\n",
       "    </tr>\n",
       "    <tr>\n",
       "      <th>...</th>\n",
       "      <td>...</td>\n",
       "      <td>...</td>\n",
       "      <td>...</td>\n",
       "      <td>...</td>\n",
       "      <td>...</td>\n",
       "      <td>...</td>\n",
       "      <td>...</td>\n",
       "      <td>...</td>\n",
       "      <td>...</td>\n",
       "      <td>...</td>\n",
       "      <td>...</td>\n",
       "      <td>...</td>\n",
       "      <td>...</td>\n",
       "      <td>...</td>\n",
       "      <td>...</td>\n",
       "      <td>...</td>\n",
       "      <td>...</td>\n",
       "      <td>...</td>\n",
       "      <td>...</td>\n",
       "      <td>...</td>\n",
       "    </tr>\n",
       "    <tr>\n",
       "      <th>4738</th>\n",
       "      <td>4739</td>\n",
       "      <td>4741</td>\n",
       "      <td>168</td>\n",
       "      <td>2</td>\n",
       "      <td>15000</td>\n",
       "      <td>1000</td>\n",
       "      <td>0</td>\n",
       "      <td>1</td>\n",
       "      <td>2</td>\n",
       "      <td>1</td>\n",
       "      <td>3</td>\n",
       "      <td>5</td>\n",
       "      <td>0.0</td>\n",
       "      <td>0.0</td>\n",
       "      <td>0.0</td>\n",
       "      <td>1.0</td>\n",
       "      <td>0.0</td>\n",
       "      <td>0.0</td>\n",
       "      <td>1</td>\n",
       "      <td>1</td>\n",
       "    </tr>\n",
       "    <tr>\n",
       "      <th>4739</th>\n",
       "      <td>4740</td>\n",
       "      <td>4742</td>\n",
       "      <td>165</td>\n",
       "      <td>3</td>\n",
       "      <td>29000</td>\n",
       "      <td>2000</td>\n",
       "      <td>1</td>\n",
       "      <td>1</td>\n",
       "      <td>3</td>\n",
       "      <td>1</td>\n",
       "      <td>1</td>\n",
       "      <td>4</td>\n",
       "      <td>0.0</td>\n",
       "      <td>0.0</td>\n",
       "      <td>0.0</td>\n",
       "      <td>1.0</td>\n",
       "      <td>0.0</td>\n",
       "      <td>0.0</td>\n",
       "      <td>1</td>\n",
       "      <td>1</td>\n",
       "    </tr>\n",
       "    <tr>\n",
       "      <th>4740</th>\n",
       "      <td>4741</td>\n",
       "      <td>4743</td>\n",
       "      <td>221</td>\n",
       "      <td>3</td>\n",
       "      <td>35000</td>\n",
       "      <td>1750</td>\n",
       "      <td>0</td>\n",
       "      <td>1</td>\n",
       "      <td>3</td>\n",
       "      <td>0</td>\n",
       "      <td>3</td>\n",
       "      <td>5</td>\n",
       "      <td>0.0</td>\n",
       "      <td>0.0</td>\n",
       "      <td>0.0</td>\n",
       "      <td>1.0</td>\n",
       "      <td>0.0</td>\n",
       "      <td>0.0</td>\n",
       "      <td>1</td>\n",
       "      <td>1</td>\n",
       "    </tr>\n",
       "    <tr>\n",
       "      <th>4741</th>\n",
       "      <td>4742</td>\n",
       "      <td>4744</td>\n",
       "      <td>217</td>\n",
       "      <td>3</td>\n",
       "      <td>45000</td>\n",
       "      <td>1500</td>\n",
       "      <td>0</td>\n",
       "      <td>1</td>\n",
       "      <td>2</td>\n",
       "      <td>0</td>\n",
       "      <td>23</td>\n",
       "      <td>34</td>\n",
       "      <td>0.0</td>\n",
       "      <td>0.0</td>\n",
       "      <td>0.0</td>\n",
       "      <td>1.0</td>\n",
       "      <td>0.0</td>\n",
       "      <td>0.0</td>\n",
       "      <td>0</td>\n",
       "      <td>1</td>\n",
       "    </tr>\n",
       "    <tr>\n",
       "      <th>4742</th>\n",
       "      <td>4743</td>\n",
       "      <td>4745</td>\n",
       "      <td>154</td>\n",
       "      <td>2</td>\n",
       "      <td>15000</td>\n",
       "      <td>1000</td>\n",
       "      <td>0</td>\n",
       "      <td>0</td>\n",
       "      <td>2</td>\n",
       "      <td>1</td>\n",
       "      <td>4</td>\n",
       "      <td>5</td>\n",
       "      <td>0.0</td>\n",
       "      <td>0.0</td>\n",
       "      <td>0.0</td>\n",
       "      <td>1.0</td>\n",
       "      <td>0.0</td>\n",
       "      <td>0.0</td>\n",
       "      <td>1</td>\n",
       "      <td>0</td>\n",
       "    </tr>\n",
       "  </tbody>\n",
       "</table>\n",
       "<p>4743 rows × 20 columns</p>\n",
       "</div>"
      ],
      "text/plain": [
       "      level_0  index  Posted On  BHK   Rent  Size  Area Type  \\\n",
       "0           0      0        168    2  10000  1100          1   \n",
       "1           1      1        163    2  20000   800          1   \n",
       "2           2      2        166    2  17000  1000          1   \n",
       "3           3      3        215    2  10000   800          1   \n",
       "4           4      4        159    2   7500   850          0   \n",
       "...       ...    ...        ...  ...    ...   ...        ...   \n",
       "4738     4739   4741        168    2  15000  1000          0   \n",
       "4739     4740   4742        165    3  29000  2000          1   \n",
       "4740     4741   4743        221    3  35000  1750          0   \n",
       "4741     4742   4744        217    3  45000  1500          0   \n",
       "4742     4743   4745        154    2  15000  1000          0   \n",
       "\n",
       "      Furnishing Status  Bathroom  Point of Contact Floor On Floor Out Of  \\\n",
       "0                     0         2                 1        0            2   \n",
       "1                     1         1                 1        1            3   \n",
       "2                     1         1                 1        1            3   \n",
       "3                     0         1                 1        1            2   \n",
       "4                     0         1                 1        1            2   \n",
       "...                 ...       ...               ...      ...          ...   \n",
       "4738                  1         2                 1        3            5   \n",
       "4739                  1         3                 1        1            4   \n",
       "4740                  1         3                 0        3            5   \n",
       "4741                  1         2                 0       23           34   \n",
       "4742                  0         2                 1        4            5   \n",
       "\n",
       "      Bangalore  Chennai  Delhi  Hyderabad  Kolkata  Mumbai  Bachelors  Family  \n",
       "0           0.0      0.0    0.0        0.0      1.0     0.0          1       1  \n",
       "1           0.0      0.0    0.0        0.0      1.0     0.0          1       1  \n",
       "2           0.0      0.0    0.0        0.0      1.0     0.0          1       1  \n",
       "3           0.0      0.0    0.0        0.0      1.0     0.0          1       1  \n",
       "4           0.0      0.0    0.0        0.0      1.0     0.0          1       0  \n",
       "...         ...      ...    ...        ...      ...     ...        ...     ...  \n",
       "4738        0.0      0.0    0.0        1.0      0.0     0.0          1       1  \n",
       "4739        0.0      0.0    0.0        1.0      0.0     0.0          1       1  \n",
       "4740        0.0      0.0    0.0        1.0      0.0     0.0          1       1  \n",
       "4741        0.0      0.0    0.0        1.0      0.0     0.0          0       1  \n",
       "4742        0.0      0.0    0.0        1.0      0.0     0.0          1       0  \n",
       "\n",
       "[4743 rows x 20 columns]"
      ]
     },
     "execution_count": 61,
     "metadata": {},
     "output_type": "execute_result"
    }
   ],
   "source": [
    "data = labelEncodeColumn(data,'Point of Contact')\n",
    "data"
   ]
  },
  {
   "cell_type": "markdown",
   "id": "64587e02",
   "metadata": {},
   "source": [
    "*Now after we remove the columns representing the indices at points in the process, we are finished processing our data.*"
   ]
  },
  {
   "cell_type": "code",
   "execution_count": 62,
   "id": "625e287e",
   "metadata": {},
   "outputs": [
    {
     "data": {
      "text/html": [
       "<div>\n",
       "<style scoped>\n",
       "    .dataframe tbody tr th:only-of-type {\n",
       "        vertical-align: middle;\n",
       "    }\n",
       "\n",
       "    .dataframe tbody tr th {\n",
       "        vertical-align: top;\n",
       "    }\n",
       "\n",
       "    .dataframe thead th {\n",
       "        text-align: right;\n",
       "    }\n",
       "</style>\n",
       "<table border=\"1\" class=\"dataframe\">\n",
       "  <thead>\n",
       "    <tr style=\"text-align: right;\">\n",
       "      <th></th>\n",
       "      <th>Posted On</th>\n",
       "      <th>BHK</th>\n",
       "      <th>Rent</th>\n",
       "      <th>Size</th>\n",
       "      <th>Area Type</th>\n",
       "      <th>Furnishing Status</th>\n",
       "      <th>Bathroom</th>\n",
       "      <th>Point of Contact</th>\n",
       "      <th>Floor On</th>\n",
       "      <th>Floor Out Of</th>\n",
       "      <th>Bangalore</th>\n",
       "      <th>Chennai</th>\n",
       "      <th>Delhi</th>\n",
       "      <th>Hyderabad</th>\n",
       "      <th>Kolkata</th>\n",
       "      <th>Mumbai</th>\n",
       "      <th>Bachelors</th>\n",
       "      <th>Family</th>\n",
       "    </tr>\n",
       "  </thead>\n",
       "  <tbody>\n",
       "    <tr>\n",
       "      <th>0</th>\n",
       "      <td>168</td>\n",
       "      <td>2</td>\n",
       "      <td>10000</td>\n",
       "      <td>1100</td>\n",
       "      <td>1</td>\n",
       "      <td>0</td>\n",
       "      <td>2</td>\n",
       "      <td>1</td>\n",
       "      <td>0</td>\n",
       "      <td>2</td>\n",
       "      <td>0.0</td>\n",
       "      <td>0.0</td>\n",
       "      <td>0.0</td>\n",
       "      <td>0.0</td>\n",
       "      <td>1.0</td>\n",
       "      <td>0.0</td>\n",
       "      <td>1</td>\n",
       "      <td>1</td>\n",
       "    </tr>\n",
       "    <tr>\n",
       "      <th>1</th>\n",
       "      <td>163</td>\n",
       "      <td>2</td>\n",
       "      <td>20000</td>\n",
       "      <td>800</td>\n",
       "      <td>1</td>\n",
       "      <td>1</td>\n",
       "      <td>1</td>\n",
       "      <td>1</td>\n",
       "      <td>1</td>\n",
       "      <td>3</td>\n",
       "      <td>0.0</td>\n",
       "      <td>0.0</td>\n",
       "      <td>0.0</td>\n",
       "      <td>0.0</td>\n",
       "      <td>1.0</td>\n",
       "      <td>0.0</td>\n",
       "      <td>1</td>\n",
       "      <td>1</td>\n",
       "    </tr>\n",
       "    <tr>\n",
       "      <th>2</th>\n",
       "      <td>166</td>\n",
       "      <td>2</td>\n",
       "      <td>17000</td>\n",
       "      <td>1000</td>\n",
       "      <td>1</td>\n",
       "      <td>1</td>\n",
       "      <td>1</td>\n",
       "      <td>1</td>\n",
       "      <td>1</td>\n",
       "      <td>3</td>\n",
       "      <td>0.0</td>\n",
       "      <td>0.0</td>\n",
       "      <td>0.0</td>\n",
       "      <td>0.0</td>\n",
       "      <td>1.0</td>\n",
       "      <td>0.0</td>\n",
       "      <td>1</td>\n",
       "      <td>1</td>\n",
       "    </tr>\n",
       "    <tr>\n",
       "      <th>3</th>\n",
       "      <td>215</td>\n",
       "      <td>2</td>\n",
       "      <td>10000</td>\n",
       "      <td>800</td>\n",
       "      <td>1</td>\n",
       "      <td>0</td>\n",
       "      <td>1</td>\n",
       "      <td>1</td>\n",
       "      <td>1</td>\n",
       "      <td>2</td>\n",
       "      <td>0.0</td>\n",
       "      <td>0.0</td>\n",
       "      <td>0.0</td>\n",
       "      <td>0.0</td>\n",
       "      <td>1.0</td>\n",
       "      <td>0.0</td>\n",
       "      <td>1</td>\n",
       "      <td>1</td>\n",
       "    </tr>\n",
       "    <tr>\n",
       "      <th>4</th>\n",
       "      <td>159</td>\n",
       "      <td>2</td>\n",
       "      <td>7500</td>\n",
       "      <td>850</td>\n",
       "      <td>0</td>\n",
       "      <td>0</td>\n",
       "      <td>1</td>\n",
       "      <td>1</td>\n",
       "      <td>1</td>\n",
       "      <td>2</td>\n",
       "      <td>0.0</td>\n",
       "      <td>0.0</td>\n",
       "      <td>0.0</td>\n",
       "      <td>0.0</td>\n",
       "      <td>1.0</td>\n",
       "      <td>0.0</td>\n",
       "      <td>1</td>\n",
       "      <td>0</td>\n",
       "    </tr>\n",
       "    <tr>\n",
       "      <th>...</th>\n",
       "      <td>...</td>\n",
       "      <td>...</td>\n",
       "      <td>...</td>\n",
       "      <td>...</td>\n",
       "      <td>...</td>\n",
       "      <td>...</td>\n",
       "      <td>...</td>\n",
       "      <td>...</td>\n",
       "      <td>...</td>\n",
       "      <td>...</td>\n",
       "      <td>...</td>\n",
       "      <td>...</td>\n",
       "      <td>...</td>\n",
       "      <td>...</td>\n",
       "      <td>...</td>\n",
       "      <td>...</td>\n",
       "      <td>...</td>\n",
       "      <td>...</td>\n",
       "    </tr>\n",
       "    <tr>\n",
       "      <th>4738</th>\n",
       "      <td>168</td>\n",
       "      <td>2</td>\n",
       "      <td>15000</td>\n",
       "      <td>1000</td>\n",
       "      <td>0</td>\n",
       "      <td>1</td>\n",
       "      <td>2</td>\n",
       "      <td>1</td>\n",
       "      <td>3</td>\n",
       "      <td>5</td>\n",
       "      <td>0.0</td>\n",
       "      <td>0.0</td>\n",
       "      <td>0.0</td>\n",
       "      <td>1.0</td>\n",
       "      <td>0.0</td>\n",
       "      <td>0.0</td>\n",
       "      <td>1</td>\n",
       "      <td>1</td>\n",
       "    </tr>\n",
       "    <tr>\n",
       "      <th>4739</th>\n",
       "      <td>165</td>\n",
       "      <td>3</td>\n",
       "      <td>29000</td>\n",
       "      <td>2000</td>\n",
       "      <td>1</td>\n",
       "      <td>1</td>\n",
       "      <td>3</td>\n",
       "      <td>1</td>\n",
       "      <td>1</td>\n",
       "      <td>4</td>\n",
       "      <td>0.0</td>\n",
       "      <td>0.0</td>\n",
       "      <td>0.0</td>\n",
       "      <td>1.0</td>\n",
       "      <td>0.0</td>\n",
       "      <td>0.0</td>\n",
       "      <td>1</td>\n",
       "      <td>1</td>\n",
       "    </tr>\n",
       "    <tr>\n",
       "      <th>4740</th>\n",
       "      <td>221</td>\n",
       "      <td>3</td>\n",
       "      <td>35000</td>\n",
       "      <td>1750</td>\n",
       "      <td>0</td>\n",
       "      <td>1</td>\n",
       "      <td>3</td>\n",
       "      <td>0</td>\n",
       "      <td>3</td>\n",
       "      <td>5</td>\n",
       "      <td>0.0</td>\n",
       "      <td>0.0</td>\n",
       "      <td>0.0</td>\n",
       "      <td>1.0</td>\n",
       "      <td>0.0</td>\n",
       "      <td>0.0</td>\n",
       "      <td>1</td>\n",
       "      <td>1</td>\n",
       "    </tr>\n",
       "    <tr>\n",
       "      <th>4741</th>\n",
       "      <td>217</td>\n",
       "      <td>3</td>\n",
       "      <td>45000</td>\n",
       "      <td>1500</td>\n",
       "      <td>0</td>\n",
       "      <td>1</td>\n",
       "      <td>2</td>\n",
       "      <td>0</td>\n",
       "      <td>23</td>\n",
       "      <td>34</td>\n",
       "      <td>0.0</td>\n",
       "      <td>0.0</td>\n",
       "      <td>0.0</td>\n",
       "      <td>1.0</td>\n",
       "      <td>0.0</td>\n",
       "      <td>0.0</td>\n",
       "      <td>0</td>\n",
       "      <td>1</td>\n",
       "    </tr>\n",
       "    <tr>\n",
       "      <th>4742</th>\n",
       "      <td>154</td>\n",
       "      <td>2</td>\n",
       "      <td>15000</td>\n",
       "      <td>1000</td>\n",
       "      <td>0</td>\n",
       "      <td>0</td>\n",
       "      <td>2</td>\n",
       "      <td>1</td>\n",
       "      <td>4</td>\n",
       "      <td>5</td>\n",
       "      <td>0.0</td>\n",
       "      <td>0.0</td>\n",
       "      <td>0.0</td>\n",
       "      <td>1.0</td>\n",
       "      <td>0.0</td>\n",
       "      <td>0.0</td>\n",
       "      <td>1</td>\n",
       "      <td>0</td>\n",
       "    </tr>\n",
       "  </tbody>\n",
       "</table>\n",
       "<p>4743 rows × 18 columns</p>\n",
       "</div>"
      ],
      "text/plain": [
       "      Posted On  BHK   Rent  Size  Area Type  Furnishing Status  Bathroom  \\\n",
       "0           168    2  10000  1100          1                  0         2   \n",
       "1           163    2  20000   800          1                  1         1   \n",
       "2           166    2  17000  1000          1                  1         1   \n",
       "3           215    2  10000   800          1                  0         1   \n",
       "4           159    2   7500   850          0                  0         1   \n",
       "...         ...  ...    ...   ...        ...                ...       ...   \n",
       "4738        168    2  15000  1000          0                  1         2   \n",
       "4739        165    3  29000  2000          1                  1         3   \n",
       "4740        221    3  35000  1750          0                  1         3   \n",
       "4741        217    3  45000  1500          0                  1         2   \n",
       "4742        154    2  15000  1000          0                  0         2   \n",
       "\n",
       "      Point of Contact Floor On Floor Out Of  Bangalore  Chennai  Delhi  \\\n",
       "0                    1        0            2        0.0      0.0    0.0   \n",
       "1                    1        1            3        0.0      0.0    0.0   \n",
       "2                    1        1            3        0.0      0.0    0.0   \n",
       "3                    1        1            2        0.0      0.0    0.0   \n",
       "4                    1        1            2        0.0      0.0    0.0   \n",
       "...                ...      ...          ...        ...      ...    ...   \n",
       "4738                 1        3            5        0.0      0.0    0.0   \n",
       "4739                 1        1            4        0.0      0.0    0.0   \n",
       "4740                 0        3            5        0.0      0.0    0.0   \n",
       "4741                 0       23           34        0.0      0.0    0.0   \n",
       "4742                 1        4            5        0.0      0.0    0.0   \n",
       "\n",
       "      Hyderabad  Kolkata  Mumbai  Bachelors  Family  \n",
       "0           0.0      1.0     0.0          1       1  \n",
       "1           0.0      1.0     0.0          1       1  \n",
       "2           0.0      1.0     0.0          1       1  \n",
       "3           0.0      1.0     0.0          1       1  \n",
       "4           0.0      1.0     0.0          1       0  \n",
       "...         ...      ...     ...        ...     ...  \n",
       "4738        1.0      0.0     0.0          1       1  \n",
       "4739        1.0      0.0     0.0          1       1  \n",
       "4740        1.0      0.0     0.0          1       1  \n",
       "4741        1.0      0.0     0.0          0       1  \n",
       "4742        1.0      0.0     0.0          1       0  \n",
       "\n",
       "[4743 rows x 18 columns]"
      ]
     },
     "execution_count": 62,
     "metadata": {},
     "output_type": "execute_result"
    }
   ],
   "source": [
    "data = data.drop(\"level_0\",axis=1)\n",
    "data = data.drop(\"index\",axis=1)\n",
    "data"
   ]
  },
  {
   "cell_type": "markdown",
   "id": "8aaf694d",
   "metadata": {},
   "source": [
    "*Now we just need to make sure that all of our data types are numbers (just not strings)*"
   ]
  },
  {
   "cell_type": "code",
   "execution_count": 63,
   "id": "1b419e32",
   "metadata": {},
   "outputs": [],
   "source": [
    "columns = data.columns\n",
    "for i in columns:\n",
    "    data[i] = data[i].astype(int)"
   ]
  },
  {
   "cell_type": "markdown",
   "id": "4614e191",
   "metadata": {},
   "source": [
    "*Check that the update didn't create any null values unintentionally.*"
   ]
  },
  {
   "cell_type": "code",
   "execution_count": 64,
   "id": "52e48471",
   "metadata": {},
   "outputs": [
    {
     "name": "stdout",
     "output_type": "stream",
     "text": [
      "Posted On: 0\n",
      "BHK: 0\n",
      "Rent: 0\n",
      "Size: 0\n",
      "Area Type: 0\n",
      "Furnishing Status: 0\n",
      "Bathroom: 0\n",
      "Point of Contact: 0\n",
      "Floor On: 0\n",
      "Floor Out Of: 0\n",
      "Bangalore: 0\n",
      "Chennai: 0\n",
      "Delhi: 0\n",
      "Hyderabad: 0\n",
      "Kolkata: 0\n",
      "Mumbai: 0\n",
      "Bachelors: 0\n",
      "Family: 0\n"
     ]
    }
   ],
   "source": [
    "columns = data.columns\n",
    "for i in columns:\n",
    "    print(str(i) + \":\",data[i].isnull().sum())"
   ]
  },
  {
   "cell_type": "markdown",
   "id": "a6384ebc",
   "metadata": {},
   "source": [
    "# Model Usability Experimentation and Model Development"
   ]
  },
  {
   "cell_type": "markdown",
   "id": "c65a915d",
   "metadata": {},
   "source": [
    "**Start here next time!**"
   ]
  },
  {
   "cell_type": "markdown",
   "id": "c903622f",
   "metadata": {},
   "source": [
    "*btw: BHK is bathrooms, hallways, and kitchens. Maybe subtract bathrooms from it and use the remainder as another column representing HK (hallways and kitchens). Otherwise we need to deal with multicollinearity from the two variables.*"
   ]
  },
  {
   "cell_type": "markdown",
   "id": "3c0668ad",
   "metadata": {},
   "source": [
    "### To start model development lets begin by looking at the main types of regression techniques we could potentially use."
   ]
  },
  {
   "cell_type": "markdown",
   "id": "2a21b945",
   "metadata": {},
   "source": [
    "1. Multiple Linear Regression - By this I mean a regression done with the simple/multiple linear regression model ((((EQUATION -   Y = XB + epsilon)))). Uses OLS or Ordinary Least Squares [SUM:(yHat - y)^2]"
   ]
  },
  {
   "cell_type": "markdown",
   "id": "08719ecd",
   "metadata": {},
   "source": [
    "2. Neural network regression - This type of model has its advantages, but before testing I think our data sample size is too small from which to learn anything meaningful."
   ]
  },
  {
   "cell_type": "markdown",
   "id": "f086c555",
   "metadata": {},
   "source": [
    "3. Lasso Regression - Uses Least Absolute Shrinkage and Selection Operator in place of the classic OLS. Good for datasets with highly correlated variables which you're having a hard time seperating."
   ]
  },
  {
   "cell_type": "markdown",
   "id": "0e6679d2",
   "metadata": {},
   "source": [
    "4. Decision Tree or Random Forest Regression - Using either a single main decision tree or a forest of small trees built from random sampling, either case uses these trees to evaluate a sum as the nodes are evaluated which works in the end as a regression."
   ]
  },
  {
   "cell_type": "markdown",
   "id": "180fe625",
   "metadata": {},
   "source": [
    "5. KNN (or other clustering) - Cluster the data using a KNN or other clustering algorithm, and evaluate the value of any newly presented point by taking the mean of the nearby points after the new point is plotted."
   ]
  },
  {
   "cell_type": "markdown",
   "id": "316688da",
   "metadata": {},
   "source": [
    "6. SVM - SVM's are excellent for both classification and regression due to their use of the kernel trick to create arbitrarily complex domains in which to perform the regression without knowing what those domains are. "
   ]
  },
  {
   "cell_type": "markdown",
   "id": "0dceef78",
   "metadata": {},
   "source": [
    "7. Gaussian Process Regression - Models the probability distribution for the domain of all inputs to the function used rather than for any specific inputs. Sounds really nice, and each prediction comes with a uncertainty measure. "
   ]
  },
  {
   "cell_type": "markdown",
   "id": "684c6744",
   "metadata": {},
   "source": [
    "8. Polynomial Regression - Like simple linear regression, but instead of y = x0 + b(x1), the series is increasing polynomials. Therefore, y = x0 + a(x1) + b(x1)^2 + c(x1)^3 + ... n(x1)^n. Seems a little useful, but I have too many variables to use a simple regression model."
   ]
  },
  {
   "cell_type": "markdown",
   "id": "1d69b08a",
   "metadata": {},
   "source": [
    "### Now we just need to decide actual models to test based on these techniques."
   ]
  },
  {
   "cell_type": "markdown",
   "id": "f382c9be",
   "metadata": {},
   "source": [
    "1. Multiple Linear Regression"
   ]
  },
  {
   "cell_type": "markdown",
   "id": "016b4bf8",
   "metadata": {},
   "source": [
    "2. Neural Network Regression"
   ]
  },
  {
   "cell_type": "markdown",
   "id": "26f86d06",
   "metadata": {},
   "source": [
    "3. Lasso Regression"
   ]
  },
  {
   "cell_type": "markdown",
   "id": "80b3adbe",
   "metadata": {},
   "source": [
    "4. Random Forest Regression"
   ]
  },
  {
   "cell_type": "markdown",
   "id": "61c0bd20",
   "metadata": {},
   "source": [
    "5. K-Means Clustering with an SVM Regression per Cluster\n",
    "https://blog.paperspace.com/svr-kmeans-clustering-for-regression/"
   ]
  },
  {
   "cell_type": "markdown",
   "id": "379f8115",
   "metadata": {},
   "source": [
    "6. SVM with Linear Kernel"
   ]
  },
  {
   "cell_type": "markdown",
   "id": "7b24f23f",
   "metadata": {},
   "source": [
    "7. SVM with Gaussian Kernel"
   ]
  },
  {
   "cell_type": "markdown",
   "id": "b77f3d62",
   "metadata": {},
   "source": [
    "8. SVM with Linear Kernel"
   ]
  },
  {
   "cell_type": "markdown",
   "id": "0a563cd0",
   "metadata": {},
   "source": [
    "### Now before we start testing models and their accuracies, we need to check some assumptions that need to be met for regression (or just linear regression?) models need to meet before they can be even considered as potentially valid."
   ]
  },
  {
   "cell_type": "code",
   "execution_count": 65,
   "id": "d5ccb2b0",
   "metadata": {},
   "outputs": [
    {
     "data": {
      "image/png": "[encoded data removed]",
      "text/plain": [
       "<Figure size 432x288 with 1 Axes>"
      ]
     },
     "metadata": {
      "needs_background": "light"
     },
     "output_type": "display_data"
    }
   ],
   "source": [
    "plt.scatter(data['Size'], data['Rent'], color='red')\n",
    "plt.title('Rent Vs Size', fontsize=14)\n",
    "plt.xlabel('Size', fontsize=14)\n",
    "plt.ylabel('Rent', fontsize=14)\n",
    "plt.grid(True)\n",
    "plt.show()"
   ]
  },
  {
   "cell_type": "markdown",
   "id": "89fcda86",
   "metadata": {},
   "source": [
    "### Why don't we try PCA?"
   ]
  },
  {
   "cell_type": "code",
   "execution_count": 66,
   "id": "ff0ffa28",
   "metadata": {},
   "outputs": [
    {
     "data": {
      "text/html": [
       "<div>\n",
       "<style scoped>\n",
       "    .dataframe tbody tr th:only-of-type {\n",
       "        vertical-align: middle;\n",
       "    }\n",
       "\n",
       "    .dataframe tbody tr th {\n",
       "        vertical-align: top;\n",
       "    }\n",
       "\n",
       "    .dataframe thead th {\n",
       "        text-align: right;\n",
       "    }\n",
       "</style>\n",
       "<table border=\"1\" class=\"dataframe\">\n",
       "  <thead>\n",
       "    <tr style=\"text-align: right;\">\n",
       "      <th></th>\n",
       "      <th>Posted On</th>\n",
       "      <th>BHK</th>\n",
       "      <th>Size</th>\n",
       "      <th>Area Type</th>\n",
       "      <th>Furnishing Status</th>\n",
       "      <th>Bathroom</th>\n",
       "      <th>Point of Contact</th>\n",
       "      <th>Floor On</th>\n",
       "      <th>Floor Out Of</th>\n",
       "      <th>Bangalore</th>\n",
       "      <th>Chennai</th>\n",
       "      <th>Delhi</th>\n",
       "      <th>Hyderabad</th>\n",
       "      <th>Kolkata</th>\n",
       "      <th>Mumbai</th>\n",
       "      <th>Bachelors</th>\n",
       "      <th>Family</th>\n",
       "    </tr>\n",
       "  </thead>\n",
       "  <tbody>\n",
       "    <tr>\n",
       "      <th>0</th>\n",
       "      <td>168</td>\n",
       "      <td>2</td>\n",
       "      <td>1100</td>\n",
       "      <td>1</td>\n",
       "      <td>0</td>\n",
       "      <td>2</td>\n",
       "      <td>1</td>\n",
       "      <td>0</td>\n",
       "      <td>2</td>\n",
       "      <td>0</td>\n",
       "      <td>0</td>\n",
       "      <td>0</td>\n",
       "      <td>0</td>\n",
       "      <td>1</td>\n",
       "      <td>0</td>\n",
       "      <td>1</td>\n",
       "      <td>1</td>\n",
       "    </tr>\n",
       "    <tr>\n",
       "      <th>1</th>\n",
       "      <td>163</td>\n",
       "      <td>2</td>\n",
       "      <td>800</td>\n",
       "      <td>1</td>\n",
       "      <td>1</td>\n",
       "      <td>1</td>\n",
       "      <td>1</td>\n",
       "      <td>1</td>\n",
       "      <td>3</td>\n",
       "      <td>0</td>\n",
       "      <td>0</td>\n",
       "      <td>0</td>\n",
       "      <td>0</td>\n",
       "      <td>1</td>\n",
       "      <td>0</td>\n",
       "      <td>1</td>\n",
       "      <td>1</td>\n",
       "    </tr>\n",
       "    <tr>\n",
       "      <th>2</th>\n",
       "      <td>166</td>\n",
       "      <td>2</td>\n",
       "      <td>1000</td>\n",
       "      <td>1</td>\n",
       "      <td>1</td>\n",
       "      <td>1</td>\n",
       "      <td>1</td>\n",
       "      <td>1</td>\n",
       "      <td>3</td>\n",
       "      <td>0</td>\n",
       "      <td>0</td>\n",
       "      <td>0</td>\n",
       "      <td>0</td>\n",
       "      <td>1</td>\n",
       "      <td>0</td>\n",
       "      <td>1</td>\n",
       "      <td>1</td>\n",
       "    </tr>\n",
       "    <tr>\n",
       "      <th>3</th>\n",
       "      <td>215</td>\n",
       "      <td>2</td>\n",
       "      <td>800</td>\n",
       "      <td>1</td>\n",
       "      <td>0</td>\n",
       "      <td>1</td>\n",
       "      <td>1</td>\n",
       "      <td>1</td>\n",
       "      <td>2</td>\n",
       "      <td>0</td>\n",
       "      <td>0</td>\n",
       "      <td>0</td>\n",
       "      <td>0</td>\n",
       "      <td>1</td>\n",
       "      <td>0</td>\n",
       "      <td>1</td>\n",
       "      <td>1</td>\n",
       "    </tr>\n",
       "    <tr>\n",
       "      <th>4</th>\n",
       "      <td>159</td>\n",
       "      <td>2</td>\n",
       "      <td>850</td>\n",
       "      <td>0</td>\n",
       "      <td>0</td>\n",
       "      <td>1</td>\n",
       "      <td>1</td>\n",
       "      <td>1</td>\n",
       "      <td>2</td>\n",
       "      <td>0</td>\n",
       "      <td>0</td>\n",
       "      <td>0</td>\n",
       "      <td>0</td>\n",
       "      <td>1</td>\n",
       "      <td>0</td>\n",
       "      <td>1</td>\n",
       "      <td>0</td>\n",
       "    </tr>\n",
       "    <tr>\n",
       "      <th>...</th>\n",
       "      <td>...</td>\n",
       "      <td>...</td>\n",
       "      <td>...</td>\n",
       "      <td>...</td>\n",
       "      <td>...</td>\n",
       "      <td>...</td>\n",
       "      <td>...</td>\n",
       "      <td>...</td>\n",
       "      <td>...</td>\n",
       "      <td>...</td>\n",
       "      <td>...</td>\n",
       "      <td>...</td>\n",
       "      <td>...</td>\n",
       "      <td>...</td>\n",
       "      <td>...</td>\n",
       "      <td>...</td>\n",
       "      <td>...</td>\n",
       "    </tr>\n",
       "    <tr>\n",
       "      <th>4738</th>\n",
       "      <td>168</td>\n",
       "      <td>2</td>\n",
       "      <td>1000</td>\n",
       "      <td>0</td>\n",
       "      <td>1</td>\n",
       "      <td>2</td>\n",
       "      <td>1</td>\n",
       "      <td>3</td>\n",
       "      <td>5</td>\n",
       "      <td>0</td>\n",
       "      <td>0</td>\n",
       "      <td>0</td>\n",
       "      <td>1</td>\n",
       "      <td>0</td>\n",
       "      <td>0</td>\n",
       "      <td>1</td>\n",
       "      <td>1</td>\n",
       "    </tr>\n",
       "    <tr>\n",
       "      <th>4739</th>\n",
       "      <td>165</td>\n",
       "      <td>3</td>\n",
       "      <td>2000</td>\n",
       "      <td>1</td>\n",
       "      <td>1</td>\n",
       "      <td>3</td>\n",
       "      <td>1</td>\n",
       "      <td>1</td>\n",
       "      <td>4</td>\n",
       "      <td>0</td>\n",
       "      <td>0</td>\n",
       "      <td>0</td>\n",
       "      <td>1</td>\n",
       "      <td>0</td>\n",
       "      <td>0</td>\n",
       "      <td>1</td>\n",
       "      <td>1</td>\n",
       "    </tr>\n",
       "    <tr>\n",
       "      <th>4740</th>\n",
       "      <td>221</td>\n",
       "      <td>3</td>\n",
       "      <td>1750</td>\n",
       "      <td>0</td>\n",
       "      <td>1</td>\n",
       "      <td>3</td>\n",
       "      <td>0</td>\n",
       "      <td>3</td>\n",
       "      <td>5</td>\n",
       "      <td>0</td>\n",
       "      <td>0</td>\n",
       "      <td>0</td>\n",
       "      <td>1</td>\n",
       "      <td>0</td>\n",
       "      <td>0</td>\n",
       "      <td>1</td>\n",
       "      <td>1</td>\n",
       "    </tr>\n",
       "    <tr>\n",
       "      <th>4741</th>\n",
       "      <td>217</td>\n",
       "      <td>3</td>\n",
       "      <td>1500</td>\n",
       "      <td>0</td>\n",
       "      <td>1</td>\n",
       "      <td>2</td>\n",
       "      <td>0</td>\n",
       "      <td>23</td>\n",
       "      <td>34</td>\n",
       "      <td>0</td>\n",
       "      <td>0</td>\n",
       "      <td>0</td>\n",
       "      <td>1</td>\n",
       "      <td>0</td>\n",
       "      <td>0</td>\n",
       "      <td>0</td>\n",
       "      <td>1</td>\n",
       "    </tr>\n",
       "    <tr>\n",
       "      <th>4742</th>\n",
       "      <td>154</td>\n",
       "      <td>2</td>\n",
       "      <td>1000</td>\n",
       "      <td>0</td>\n",
       "      <td>0</td>\n",
       "      <td>2</td>\n",
       "      <td>1</td>\n",
       "      <td>4</td>\n",
       "      <td>5</td>\n",
       "      <td>0</td>\n",
       "      <td>0</td>\n",
       "      <td>0</td>\n",
       "      <td>1</td>\n",
       "      <td>0</td>\n",
       "      <td>0</td>\n",
       "      <td>1</td>\n",
       "      <td>0</td>\n",
       "    </tr>\n",
       "  </tbody>\n",
       "</table>\n",
       "<p>4743 rows × 17 columns</p>\n",
       "</div>"
      ],
      "text/plain": [
       "      Posted On  BHK  Size  Area Type  Furnishing Status  Bathroom  \\\n",
       "0           168    2  1100          1                  0         2   \n",
       "1           163    2   800          1                  1         1   \n",
       "2           166    2  1000          1                  1         1   \n",
       "3           215    2   800          1                  0         1   \n",
       "4           159    2   850          0                  0         1   \n",
       "...         ...  ...   ...        ...                ...       ...   \n",
       "4738        168    2  1000          0                  1         2   \n",
       "4739        165    3  2000          1                  1         3   \n",
       "4740        221    3  1750          0                  1         3   \n",
       "4741        217    3  1500          0                  1         2   \n",
       "4742        154    2  1000          0                  0         2   \n",
       "\n",
       "      Point of Contact  Floor On  Floor Out Of  Bangalore  Chennai  Delhi  \\\n",
       "0                    1         0             2          0        0      0   \n",
       "1                    1         1             3          0        0      0   \n",
       "2                    1         1             3          0        0      0   \n",
       "3                    1         1             2          0        0      0   \n",
       "4                    1         1             2          0        0      0   \n",
       "...                ...       ...           ...        ...      ...    ...   \n",
       "4738                 1         3             5          0        0      0   \n",
       "4739                 1         1             4          0        0      0   \n",
       "4740                 0         3             5          0        0      0   \n",
       "4741                 0        23            34          0        0      0   \n",
       "4742                 1         4             5          0        0      0   \n",
       "\n",
       "      Hyderabad  Kolkata  Mumbai  Bachelors  Family  \n",
       "0             0        1       0          1       1  \n",
       "1             0        1       0          1       1  \n",
       "2             0        1       0          1       1  \n",
       "3             0        1       0          1       1  \n",
       "4             0        1       0          1       0  \n",
       "...         ...      ...     ...        ...     ...  \n",
       "4738          1        0       0          1       1  \n",
       "4739          1        0       0          1       1  \n",
       "4740          1        0       0          1       1  \n",
       "4741          1        0       0          0       1  \n",
       "4742          1        0       0          1       0  \n",
       "\n",
       "[4743 rows x 17 columns]"
      ]
     },
     "execution_count": 66,
     "metadata": {},
     "output_type": "execute_result"
    }
   ],
   "source": [
    "columns = data.columns\n",
    "X = data[columns]\n",
    "y = data[[\"Rent\"]]\n",
    "X = X.drop(\"Rent\",axis=1)\n",
    "X"
   ]
  },
  {
   "cell_type": "code",
   "execution_count": 67,
   "id": "7172d423",
   "metadata": {},
   "outputs": [
    {
     "data": {
      "text/plain": [
       "array([[-1.67364730e+00,  3.60641034e-01, -4.07787686e-01, ...,\n",
       "         4.27396013e-01,  6.48111408e-02, -4.29272193e-15],\n",
       "       [-1.96759968e+00, -2.18057345e-01, -3.25602690e-02, ...,\n",
       "        -3.61976306e-01,  1.84844947e-02, -5.20262108e-16],\n",
       "       [-1.85717210e+00, -7.07665007e-02, -7.85675075e-02, ...,\n",
       "        -4.27679410e-01,  1.35389871e-02, -1.32110627e-16],\n",
       "       ...,\n",
       "       [ 1.92262742e+00,  1.79017838e+00, -5.74236164e-01, ...,\n",
       "         6.91839445e-02, -1.58519595e-01, -1.40720931e-16],\n",
       "       [ 4.31721398e+00,  5.84963035e-02,  1.97528756e+00, ...,\n",
       "        -7.49485728e-01, -2.10730821e-01, -1.60255059e-16],\n",
       "       [-4.58352226e-01,  3.62011834e-01, -9.79998755e-01, ...,\n",
       "         6.86908352e-02, -1.29472729e-01,  1.12675757e-16]])"
      ]
     },
     "execution_count": 67,
     "metadata": {},
     "output_type": "execute_result"
    }
   ],
   "source": [
    "#scale predictor variables\n",
    "pca = PCA()\n",
    "X_reduced = pca.fit_transform(scale(X))\n",
    "X_reduced"
   ]
  },
  {
   "cell_type": "code",
   "execution_count": 68,
   "id": "05b5d62d",
   "metadata": {},
   "outputs": [],
   "source": [
    "#define cross validation method\n",
    "cv = RepeatedKFold(n_splits=10, n_repeats=3, random_state=1)"
   ]
  },
  {
   "cell_type": "code",
   "execution_count": 69,
   "id": "857df34a",
   "metadata": {},
   "outputs": [],
   "source": [
    "regr = LinearRegression()\n",
    "#regr = RandomForestRegressor()\n",
    "mse = []"
   ]
  },
  {
   "cell_type": "code",
   "execution_count": 70,
   "id": "ea989ad5",
   "metadata": {},
   "outputs": [],
   "source": [
    "# Calculate MSE with only the intercept\n",
    "score = -1*model_selection.cross_val_score(regr,\n",
    "           np.ones((len(X_reduced),1)), y, cv=cv,\n",
    "           scoring='neg_mean_squared_error').mean()  \n",
    "mse.append(score)"
   ]
  },
  {
   "cell_type": "code",
   "execution_count": 71,
   "id": "d4330f35",
   "metadata": {},
   "outputs": [],
   "source": [
    "# Calculate MSE using cross-validation, adding one component at a time\n",
    "for i in np.arange(1, 17):\n",
    "    score = -1*model_selection.cross_val_score(regr,\n",
    "               X_reduced[:,:i], y, cv=cv, scoring='neg_mean_squared_error').mean()\n",
    "    mse.append(score)\n",
    "    "
   ]
  },
  {
   "cell_type": "code",
   "execution_count": 72,
   "id": "03569420",
   "metadata": {},
   "outputs": [
    {
     "data": {
      "text/plain": [
       "[6104547614.166117,\n",
       " 4499382170.0068035,\n",
       " 4443398829.43102,\n",
       " 4440577946.442569,\n",
       " 4421085808.019679,\n",
       " 4420956822.910687,\n",
       " 4423597662.7904215,\n",
       " 4355665169.162713,\n",
       " 4353421107.73055,\n",
       " 4351803302.361875,\n",
       " 4352829303.72387,\n",
       " 4303927231.675111,\n",
       " 4271492958.367032,\n",
       " 4273510683.9649816,\n",
       " 4182383856.6134424,\n",
       " 4183394668.2989635,\n",
       " 4187222465.889566]"
      ]
     },
     "execution_count": 72,
     "metadata": {},
     "output_type": "execute_result"
    },
    {
     "data": {
      "image/png": "[encoded data removed]",
      "text/plain": [
       "<Figure size 432x288 with 1 Axes>"
      ]
     },
     "metadata": {
      "needs_background": "light"
     },
     "output_type": "display_data"
    }
   ],
   "source": [
    "# Plot cross-validation results    \n",
    "plt.plot(mse)\n",
    "plt.xlabel('Number of Principal Components')\n",
    "plt.ylabel('MSE')\n",
    "plt.title('Rent')\n",
    "mse\n",
    "#Multiple Linear Regression"
   ]
  },
  {
   "cell_type": "code",
   "execution_count": null,
   "id": "c1f123db",
   "metadata": {},
   "outputs": [],
   "source": []
  }
 ],
 "metadata": {
  "kernelspec": {
   "display_name": "Python 3 (ipykernel)",
   "language": "python",
   "name": "python3"
  },
  "language_info": {
   "codemirror_mode": {
    "name": "ipython",
    "version": 3
   },
   "file_extension": ".py",
   "mimetype": "text/x-python",
   "name": "python",
   "nbconvert_exporter": "python",
   "pygments_lexer": "ipython3",
   "version": "3.9.12"
  }
 },
 "nbformat": 4,
 "nbformat_minor": 5
}
