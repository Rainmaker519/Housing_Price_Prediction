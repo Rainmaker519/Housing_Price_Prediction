{
 "cells": [
  {
   "cell_type": "markdown",
   "id": "fcdcbadc",
   "metadata": {},
   "source": [
    "# Predicting Rent Prices Based on Unit/House Data\n",
    "*Exploratory Data Analysis, Data Processing, Model Development, and Model Deployment by Charles Selden*\n",
    "***"
   ]
  },
  {
   "cell_type": "markdown",
   "id": "a2e10c97",
   "metadata": {},
   "source": [
    "## Importing Packages"
   ]
  },
  {
   "cell_type": "code",
   "execution_count": 1,
   "id": "57164ad6",
   "metadata": {},
   "outputs": [],
   "source": [
    "import numpy as np\n",
    "import pandas as pd\n",
    "import matplotlib.pyplot as plt\n",
    "import matplotlib.ticker as mticker  \n",
    "from sklearn.preprocessing import OneHotEncoder\n",
    "from pandas.api.types import CategoricalDtype\n",
    "from sklearn.preprocessing import scale \n",
    "from sklearn import model_selection\n",
    "from sklearn.model_selection import RepeatedKFold\n",
    "from sklearn.model_selection import train_test_split\n",
    "from sklearn.decomposition import PCA\n",
    "from sklearn.linear_model import LinearRegression\n",
    "from sklearn.metrics import mean_squared_error\n",
    "from sklearn.ensemble import RandomForestRegressor\n",
    "from statsmodels.stats.stattools import durbin_watson\n",
    "from scipy.stats import chi2_contingency\n",
    "import researchpy as rp\n",
    "import math\n",
    "from sklearn.linear_model import Lasso"
   ]
  },
  {
   "cell_type": "markdown",
   "id": "2ad9b7e6",
   "metadata": {},
   "source": [
    "***"
   ]
  },
  {
   "cell_type": "markdown",
   "id": "7416c377",
   "metadata": {},
   "source": [
    "## Importing the Dataset"
   ]
  },
  {
   "cell_type": "code",
   "execution_count": 2,
   "id": "6f7988ae",
   "metadata": {},
   "outputs": [],
   "source": [
    "data = pd.read_csv(\"~/Documents/data/house_data/House_Rent_Dataset.csv\")\n",
    "columns = list(data.columns)"
   ]
  },
  {
   "cell_type": "code",
   "execution_count": 3,
   "id": "452488f2",
   "metadata": {},
   "outputs": [
    {
     "name": "stdout",
     "output_type": "stream",
     "text": [
      "Posted On: The date on which the house listing was posted.\n",
      "BHK: Number of Bedrooms, Hall, Kitchen.\n",
      "Rent: Rent of the Houses/Apartments/Flats.\n",
      "Size: Size of the Houses/Apartments/Flats in Square Feet.\n",
      "Floor: Houses/Apartments/Flats situated in which Floor and Total Number of Floors (Example: Ground out of 2, 3 out of 5, etc.)\n",
      "Area Type: Size of the Houses/Apartments/Flats calculated on either Super Area or Carpet Area or Build Area.\n",
      "Area Locality: Locality of the Houses/Apartments/Flats.\n",
      "City: City where the Houses/Apartments/Flats are Located.\n",
      "Furnishing Status: Furnishing Status of the Houses/Apartments/Flats, either it is Furnished or Semi-Furnished or Unfurnished.\n",
      "Tenant Preferred: Type of Tenant Preferred by the Owner or Agent.\n",
      "Bathroom: Number of Bathrooms.\n",
      "Point of Contact: Whom should you contact for more information regarding the Houses/Apartments/Flats.\n"
     ]
    }
   ],
   "source": [
    "column_to_description = {}\n",
    "\n",
    "descriptions_temp = [\"Posted On: The date on which the house listing was posted.\",\n",
    "\"BHK: Number of Bedrooms, Hall, Kitchen.\",\n",
    "\"Rent: Rent of the Houses/Apartments/Flats.\",\n",
    "\"Size: Size of the Houses/Apartments/Flats in Square Feet.\",\n",
    "\"Floor: Houses/Apartments/Flats situated in which Floor and Total Number of Floors (Example: Ground out of 2, 3 out of 5, etc.)\",\n",
    "\"Area Type: Size of the Houses/Apartments/Flats calculated on either Super Area or Carpet Area or Build Area.\",\n",
    "\"Area Locality: Locality of the Houses/Apartments/Flats.\",\n",
    "\"City: City where the Houses/Apartments/Flats are Located.\",\n",
    "\"Furnishing Status: Furnishing Status of the Houses/Apartments/Flats, either it is Furnished or Semi-Furnished or Unfurnished.\",\n",
    "\"Tenant Preferred: Type of Tenant Preferred by the Owner or Agent.\",\n",
    "\"Bathroom: Number of Bathrooms.\",\n",
    "\"Point of Contact: Whom should you contact for more information regarding the Houses/Apartments/Flats.\"]\n",
    "\n",
    "for i in range(len(list(data.columns))):\n",
    "    column_to_description[columns[i]] = descriptions_temp[i]\n",
    "                                  \n",
    "for i in columns:\n",
    "    print(column_to_description[i])"
   ]
  },
  {
   "cell_type": "markdown",
   "id": "6abd625f",
   "metadata": {},
   "source": [
    "***"
   ]
  },
  {
   "cell_type": "markdown",
   "id": "8d64efe8",
   "metadata": {},
   "source": [
    "# Exploring the Dataset"
   ]
  },
  {
   "cell_type": "code",
   "execution_count": 4,
   "id": "6acec8e7",
   "metadata": {},
   "outputs": [
    {
     "name": "stdout",
     "output_type": "stream",
     "text": [
      "<class 'pandas.core.frame.DataFrame'>\n",
      "RangeIndex: 4746 entries, 0 to 4745\n",
      "Data columns (total 12 columns):\n",
      " #   Column             Non-Null Count  Dtype \n",
      "---  ------             --------------  ----- \n",
      " 0   Posted On          4746 non-null   object\n",
      " 1   BHK                4746 non-null   int64 \n",
      " 2   Rent               4746 non-null   int64 \n",
      " 3   Size               4746 non-null   int64 \n",
      " 4   Floor              4746 non-null   object\n",
      " 5   Area Type          4746 non-null   object\n",
      " 6   Area Locality      4746 non-null   object\n",
      " 7   City               4746 non-null   object\n",
      " 8   Furnishing Status  4746 non-null   object\n",
      " 9   Tenant Preferred   4746 non-null   object\n",
      " 10  Bathroom           4746 non-null   int64 \n",
      " 11  Point of Contact   4746 non-null   object\n",
      "dtypes: int64(4), object(8)\n",
      "memory usage: 445.1+ KB\n"
     ]
    }
   ],
   "source": [
    "data.info()"
   ]
  },
  {
   "cell_type": "markdown",
   "id": "55774d0c",
   "metadata": {},
   "source": [
    "## Posted On"
   ]
  },
  {
   "cell_type": "code",
   "execution_count": 5,
   "id": "bacb09fc",
   "metadata": {},
   "outputs": [
    {
     "name": "stdout",
     "output_type": "stream",
     "text": [
      "Posted On: The date on which the house listing was posted. \n",
      "\n",
      "0       2022-05-18\n",
      "1       2022-05-13\n",
      "2       2022-05-16\n",
      "3       2022-07-04\n",
      "4       2022-05-09\n",
      "           ...    \n",
      "4741    2022-05-18\n",
      "4742    2022-05-15\n",
      "4743    2022-07-10\n",
      "4744    2022-07-06\n",
      "4745    2022-05-04\n",
      "Name: Posted On, Length: 4746, dtype: object \n",
      "\n",
      "2022-07-06    311\n",
      "2022-05-12    149\n",
      "2022-06-04    135\n",
      "2022-07-09    126\n",
      "2022-05-23    125\n",
      "             ... \n",
      "2022-04-24      6\n",
      "2022-04-25      6\n",
      "2022-04-26      2\n",
      "2022-04-13      1\n",
      "2022-07-11      1\n",
      "Name: Posted On, Length: 81, dtype: int64\n"
     ]
    }
   ],
   "source": [
    "print(column_to_description[\"Posted On\"],\"\\n\")\n",
    "print(data[\"Posted On\"],\"\\n\")\n",
    "posted_counts = data[\"Posted On\"].value_counts()\n",
    "print(posted_counts)"
   ]
  },
  {
   "cell_type": "markdown",
   "id": "da4e4a94",
   "metadata": {},
   "source": [
    "#### Maybe convert dates to int representing time since first listed date/start of 2020"
   ]
  },
  {
   "cell_type": "markdown",
   "id": "88015638",
   "metadata": {},
   "source": [
    "## BHK"
   ]
  },
  {
   "cell_type": "code",
   "execution_count": 6,
   "id": "aaa73447",
   "metadata": {},
   "outputs": [
    {
     "name": "stdout",
     "output_type": "stream",
     "text": [
      "BHK: Number of Bedrooms, Hall, Kitchen. \n",
      "\n",
      "0       2\n",
      "1       2\n",
      "2       2\n",
      "3       2\n",
      "4       2\n",
      "       ..\n",
      "4741    2\n",
      "4742    3\n",
      "4743    3\n",
      "4744    3\n",
      "4745    2\n",
      "Name: BHK, Length: 4746, dtype: int64 \n",
      "\n",
      "2    2265\n",
      "1    1167\n",
      "3    1098\n",
      "4     189\n",
      "5      19\n",
      "6       8\n",
      "Name: BHK, dtype: int64\n"
     ]
    }
   ],
   "source": [
    "print(column_to_description[\"BHK\"],\"\\n\")\n",
    "print(data[\"BHK\"],\"\\n\")\n",
    "print(data[\"BHK\"].value_counts())"
   ]
  },
  {
   "cell_type": "markdown",
   "id": "c2f2ccf2",
   "metadata": {},
   "source": [
    "#### Simple, works in current form"
   ]
  },
  {
   "cell_type": "markdown",
   "id": "cf841d31",
   "metadata": {},
   "source": [
    "## Rent"
   ]
  },
  {
   "cell_type": "code",
   "execution_count": 7,
   "id": "83028a3d",
   "metadata": {},
   "outputs": [
    {
     "name": "stdout",
     "output_type": "stream",
     "text": [
      "Rent: Rent of the Houses/Apartments/Flats. \n",
      "\n",
      "0       10000\n",
      "1       20000\n",
      "2       17000\n",
      "3       10000\n",
      "4        7500\n",
      "        ...  \n",
      "4741    15000\n",
      "4742    29000\n",
      "4743    35000\n",
      "4744    45000\n",
      "4745    15000\n",
      "Name: Rent, Length: 4746, dtype: int64\n"
     ]
    }
   ],
   "source": [
    "print(column_to_description[\"Rent\"],\"\\n\")\n",
    "print(data[\"Rent\"])"
   ]
  },
  {
   "cell_type": "code",
   "execution_count": 8,
   "id": "540587be",
   "metadata": {},
   "outputs": [
    {
     "data": {
      "image/png": "[encoded data removed]",
      "text/plain": [
       "<Figure size 640x480 with 1 Axes>"
      ]
     },
     "metadata": {},
     "output_type": "display_data"
    }
   ],
   "source": [
    "plt.scatter(data[\"Size\"],np.sort(data[\"Rent\"]))\n",
    "plt.gca().yaxis.set_major_formatter(mticker.FormatStrFormatter('%.0f Rupees'))"
   ]
  },
  {
   "cell_type": "markdown",
   "id": "8e6e163e",
   "metadata": {},
   "source": [
    "*Lets put a limit on the y axis to ignore the extreme outliers.*"
   ]
  },
  {
   "cell_type": "code",
   "execution_count": 9,
   "id": "5dde7ea9",
   "metadata": {},
   "outputs": [
    {
     "data": {
      "text/plain": [
       "(0.0, 600000.0)"
      ]
     },
     "execution_count": 9,
     "metadata": {},
     "output_type": "execute_result"
    },
    {
     "data": {
      "image/png": "[encoded data removed]",
      "text/plain": [
       "<Figure size 640x480 with 1 Axes>"
      ]
     },
     "metadata": {},
     "output_type": "display_data"
    }
   ],
   "source": [
    "plt.scatter(data[\"Size\"],np.sort(data[\"Rent\"]))\n",
    "plt.gca().yaxis.set_major_formatter(mticker.FormatStrFormatter('%.0f Rupees'))\n",
    "plt.ylim(0,600000)"
   ]
  },
  {
   "cell_type": "markdown",
   "id": "723d327a",
   "metadata": {},
   "source": [
    "*As a scalar value, it's easy to use. Our y value, what we want to predict using the model. A few extremely high outliers, but the majority values are under 100,000 and an even larger majority are under 400,000*"
   ]
  },
  {
   "cell_type": "markdown",
   "id": "dd8ae035",
   "metadata": {},
   "source": [
    "## Size"
   ]
  },
  {
   "cell_type": "code",
   "execution_count": 10,
   "id": "75afdc35",
   "metadata": {},
   "outputs": [
    {
     "name": "stdout",
     "output_type": "stream",
     "text": [
      "Size: Size of the Houses/Apartments/Flats in Square Feet. \n",
      "\n",
      "0       1100\n",
      "1        800\n",
      "2       1000\n",
      "3        800\n",
      "4        850\n",
      "        ... \n",
      "4741    1000\n",
      "4742    2000\n",
      "4743    1750\n",
      "4744    1500\n",
      "4745    1000\n",
      "Name: Size, Length: 4746, dtype: int64\n"
     ]
    }
   ],
   "source": [
    "print(column_to_description[\"Size\"],\"\\n\")\n",
    "print(data[\"Size\"])"
   ]
  },
  {
   "cell_type": "markdown",
   "id": "95e6f0aa",
   "metadata": {},
   "source": [
    "*In square feet, makes using much easier than a categorical version.*"
   ]
  },
  {
   "cell_type": "markdown",
   "id": "0efc24a3",
   "metadata": {},
   "source": [
    "## Floor"
   ]
  },
  {
   "cell_type": "code",
   "execution_count": 11,
   "id": "96680ca7",
   "metadata": {},
   "outputs": [
    {
     "name": "stdout",
     "output_type": "stream",
     "text": [
      "Floor: Houses/Apartments/Flats situated in which Floor and Total Number of Floors (Example: Ground out of 2, 3 out of 5, etc.) \n",
      "\n",
      "0       Ground out of 2\n",
      "1            1 out of 3\n",
      "2            1 out of 3\n",
      "3            1 out of 2\n",
      "4            1 out of 2\n",
      "             ...       \n",
      "4741         3 out of 5\n",
      "4742         1 out of 4\n",
      "4743         3 out of 5\n",
      "4744       23 out of 34\n",
      "4745         4 out of 5\n",
      "Name: Floor, Length: 4746, dtype: object \n",
      "\n",
      "1 out of 2         379\n",
      "Ground out of 2    350\n",
      "2 out of 3         312\n",
      "2 out of 4         308\n",
      "1 out of 3         293\n",
      "                  ... \n",
      "11 out of 31         1\n",
      "50 out of 75         1\n",
      "18 out of 26         1\n",
      "12 out of 27         1\n",
      "23 out of 34         1\n",
      "Name: Floor, Length: 480, dtype: int64\n"
     ]
    }
   ],
   "source": [
    "print(column_to_description[\"Floor\"],\"\\n\")\n",
    "print(data[\"Floor\"],\"\\n\")\n",
    "print(data[\"Floor\"].value_counts())"
   ]
  },
  {
   "cell_type": "markdown",
   "id": "f9d16f37",
   "metadata": {},
   "source": [
    "*Actual values are scalar but in a string format, split into two seperate columns for the floor the room is on as well as the total number of floors the place has.*"
   ]
  },
  {
   "cell_type": "markdown",
   "id": "146ac1a3",
   "metadata": {},
   "source": [
    "## Area Type"
   ]
  },
  {
   "cell_type": "code",
   "execution_count": 12,
   "id": "4787a98b",
   "metadata": {},
   "outputs": [
    {
     "name": "stdout",
     "output_type": "stream",
     "text": [
      "Area Type: Size of the Houses/Apartments/Flats calculated on either Super Area or Carpet Area or Build Area. \n",
      "\n",
      "0        Super Area\n",
      "1        Super Area\n",
      "2        Super Area\n",
      "3        Super Area\n",
      "4       Carpet Area\n",
      "           ...     \n",
      "4741    Carpet Area\n",
      "4742     Super Area\n",
      "4743    Carpet Area\n",
      "4744    Carpet Area\n",
      "4745    Carpet Area\n",
      "Name: Area Type, Length: 4746, dtype: object \n",
      "\n",
      "Super Area     2446\n",
      "Carpet Area    2298\n",
      "Built Area        2\n",
      "Name: Area Type, dtype: int64\n"
     ]
    }
   ],
   "source": [
    "print(column_to_description[\"Area Type\"],\"\\n\")\n",
    "print(data[\"Area Type\"],\"\\n\")\n",
    "print(data[\"Area Type\"].value_counts())"
   ]
  },
  {
   "cell_type": "markdown",
   "id": "b06b1871",
   "metadata": {},
   "source": [
    "*Super area includes sq feet for areas the tenant will have access to outside his apartment/house (stairways, public areas, hallways), while carpet area is just the apartment or house itself.*"
   ]
  },
  {
   "cell_type": "markdown",
   "id": "022d20d3",
   "metadata": {},
   "source": [
    "## Area Locality"
   ]
  },
  {
   "cell_type": "code",
   "execution_count": 13,
   "id": "add89193",
   "metadata": {},
   "outputs": [
    {
     "name": "stdout",
     "output_type": "stream",
     "text": [
      "Area Locality: Locality of the Houses/Apartments/Flats. \n",
      "\n",
      "0                         Bandel\n",
      "1       Phool Bagan, Kankurgachi\n",
      "2        Salt Lake City Sector 2\n",
      "3                    Dumdum Park\n",
      "4                  South Dum Dum\n",
      "                  ...           \n",
      "4741                Bandam Kommu\n",
      "4742        Manikonda, Hyderabad\n",
      "4743        Himayath Nagar, NH 7\n",
      "4744                  Gachibowli\n",
      "4745             Suchitra Circle\n",
      "Name: Area Locality, Length: 4746, dtype: object \n",
      "\n",
      "Bandra West                                37\n",
      "Gachibowli                                 29\n",
      "Electronic City                            24\n",
      "Velachery                                  22\n",
      "Miyapur, NH 9                              22\n",
      "                                           ..\n",
      "Kengeri Upanagara                           1\n",
      "Ittamadu, Banashankari, Outer Ring Road     1\n",
      "Rmv Extension, Armane Nagar                 1\n",
      "snv la                                      1\n",
      "Manikonda, Hyderabad                        1\n",
      "Name: Area Locality, Length: 2235, dtype: int64\n"
     ]
    }
   ],
   "source": [
    "print(column_to_description[\"Area Locality\"],\"\\n\")\n",
    "print(data[\"Area Locality\"],\"\\n\")\n",
    "print(data[\"Area Locality\"].value_counts())"
   ]
  },
  {
   "cell_type": "code",
   "execution_count": 14,
   "id": "2a66edf3",
   "metadata": {},
   "outputs": [
    {
     "data": {
      "text/plain": [
       "(array([496., 499., 301., 332., 551., 430., 379., 769., 644., 345.]),\n",
       " array([   0. ,  223.4,  446.8,  670.2,  893.6, 1117. , 1340.4, 1563.8,\n",
       "        1787.2, 2010.6, 2234. ]),\n",
       " <BarContainer object of 10 artists>)"
      ]
     },
     "execution_count": 14,
     "metadata": {},
     "output_type": "execute_result"
    },
    {
     "data": {
      "image/png": "[encoded data removed]",
      "text/plain": [
       "<Figure size 640x480 with 1 Axes>"
      ]
     },
     "metadata": {},
     "output_type": "display_data"
    }
   ],
   "source": [
    "plt.hist(data[\"Area Locality\"])"
   ]
  },
  {
   "cell_type": "markdown",
   "id": "bd505290",
   "metadata": {},
   "source": [
    "*Too many categorical variables with only a few data points to one-hot encode or label encode, just use city instead.*"
   ]
  },
  {
   "cell_type": "markdown",
   "id": "645489c7",
   "metadata": {},
   "source": [
    "## City"
   ]
  },
  {
   "cell_type": "code",
   "execution_count": 15,
   "id": "db5419d0",
   "metadata": {},
   "outputs": [
    {
     "name": "stdout",
     "output_type": "stream",
     "text": [
      "City: City where the Houses/Apartments/Flats are Located. \n",
      "\n",
      "0         Kolkata\n",
      "1         Kolkata\n",
      "2         Kolkata\n",
      "3         Kolkata\n",
      "4         Kolkata\n",
      "          ...    \n",
      "4741    Hyderabad\n",
      "4742    Hyderabad\n",
      "4743    Hyderabad\n",
      "4744    Hyderabad\n",
      "4745    Hyderabad\n",
      "Name: City, Length: 4746, dtype: object \n",
      "\n",
      "Mumbai       972\n",
      "Chennai      891\n",
      "Bangalore    886\n",
      "Hyderabad    868\n",
      "Delhi        605\n",
      "Kolkata      524\n",
      "Name: City, dtype: int64\n"
     ]
    }
   ],
   "source": [
    "print(column_to_description[\"City\"],\"\\n\")\n",
    "print(data[\"City\"],\"\\n\")\n",
    "print(data[\"City\"].value_counts())"
   ]
  },
  {
   "cell_type": "markdown",
   "id": "dd70086a",
   "metadata": {},
   "source": [
    "*To be used instead of Locality, the issue of how to encode this categorical data is still a concern. Forgot that one-hot encoding created a column for each value which have binary values, this definitely is the best encoding scheme to use here.*"
   ]
  },
  {
   "cell_type": "markdown",
   "id": "e6e9b932",
   "metadata": {},
   "source": [
    "## Furnishing Status"
   ]
  },
  {
   "cell_type": "code",
   "execution_count": 16,
   "id": "989b781f",
   "metadata": {},
   "outputs": [
    {
     "name": "stdout",
     "output_type": "stream",
     "text": [
      "Furnishing Status: Furnishing Status of the Houses/Apartments/Flats, either it is Furnished or Semi-Furnished or Unfurnished. \n",
      "\n",
      "0          Unfurnished\n",
      "1       Semi-Furnished\n",
      "2       Semi-Furnished\n",
      "3          Unfurnished\n",
      "4          Unfurnished\n",
      "             ...      \n",
      "4741    Semi-Furnished\n",
      "4742    Semi-Furnished\n",
      "4743    Semi-Furnished\n",
      "4744    Semi-Furnished\n",
      "4745       Unfurnished\n",
      "Name: Furnishing Status, Length: 4746, dtype: object \n",
      "\n",
      "Semi-Furnished    2251\n",
      "Unfurnished       1815\n",
      "Furnished          680\n",
      "Name: Furnishing Status, dtype: int64\n"
     ]
    }
   ],
   "source": [
    "print(column_to_description[\"Furnishing Status\"],\"\\n\")\n",
    "print(data[\"Furnishing Status\"],\"\\n\")\n",
    "print(data[\"Furnishing Status\"].value_counts())"
   ]
  },
  {
   "cell_type": "markdown",
   "id": "472a033e",
   "metadata": {},
   "source": [
    "*Categorical Data but seems like it would likely perform well if label-encoded as the categories are a scale from Unfurnished  through Furnished. Just need to make sure that unfurnished = 0, semi-furnished = 1, and furnished = 2.*"
   ]
  },
  {
   "cell_type": "markdown",
   "id": "9f9d0895",
   "metadata": {},
   "source": [
    "## Tenant Preferred"
   ]
  },
  {
   "cell_type": "code",
   "execution_count": 17,
   "id": "deaf09fe",
   "metadata": {},
   "outputs": [
    {
     "name": "stdout",
     "output_type": "stream",
     "text": [
      "Tenant Preferred: Type of Tenant Preferred by the Owner or Agent. \n",
      "\n",
      "0       Bachelors/Family\n",
      "1       Bachelors/Family\n",
      "2       Bachelors/Family\n",
      "3       Bachelors/Family\n",
      "4              Bachelors\n",
      "              ...       \n",
      "4741    Bachelors/Family\n",
      "4742    Bachelors/Family\n",
      "4743    Bachelors/Family\n",
      "4744              Family\n",
      "4745           Bachelors\n",
      "Name: Tenant Preferred, Length: 4746, dtype: object \n",
      "\n",
      "Bachelors/Family    3444\n",
      "Bachelors            830\n",
      "Family               472\n",
      "Name: Tenant Preferred, dtype: int64\n"
     ]
    }
   ],
   "source": [
    "print(column_to_description[\"Tenant Preferred\"],\"\\n\")\n",
    "print(data[\"Tenant Preferred\"],\"\\n\")\n",
    "print(data[\"Tenant Preferred\"].value_counts())"
   ]
  },
  {
   "cell_type": "markdown",
   "id": "767e3d26",
   "metadata": {},
   "source": [
    "*Potentially able to use one-hot encoding for this, but might not give as much information as it potentially could.*"
   ]
  },
  {
   "cell_type": "markdown",
   "id": "2f8e5469",
   "metadata": {},
   "source": [
    "## Bathroom"
   ]
  },
  {
   "cell_type": "code",
   "execution_count": 18,
   "id": "cd49dec2",
   "metadata": {},
   "outputs": [
    {
     "name": "stdout",
     "output_type": "stream",
     "text": [
      "Bathroom: Number of Bathrooms. \n",
      "\n",
      "0       2\n",
      "1       1\n",
      "2       1\n",
      "3       1\n",
      "4       1\n",
      "       ..\n",
      "4741    2\n",
      "4742    3\n",
      "4743    3\n",
      "4744    2\n",
      "4745    2\n",
      "Name: Bathroom, Length: 4746, dtype: int64 \n",
      "\n",
      "2     2291\n",
      "1     1474\n",
      "3      749\n",
      "4      156\n",
      "5       60\n",
      "6       12\n",
      "7        3\n",
      "10       1\n",
      "Name: Bathroom, dtype: int64\n"
     ]
    }
   ],
   "source": [
    "print(column_to_description[\"Bathroom\"],\"\\n\")\n",
    "print(data[\"Bathroom\"],\"\\n\")\n",
    "print(data[\"Bathroom\"].value_counts())"
   ]
  },
  {
   "cell_type": "markdown",
   "id": "3e18ac64",
   "metadata": {},
   "source": [
    "*No problem to use, simple scalar integer value.*"
   ]
  },
  {
   "cell_type": "markdown",
   "id": "977949a5",
   "metadata": {},
   "source": [
    "## Point of Contact"
   ]
  },
  {
   "cell_type": "code",
   "execution_count": 19,
   "id": "9d6494ed",
   "metadata": {},
   "outputs": [
    {
     "name": "stdout",
     "output_type": "stream",
     "text": [
      "Point of Contact: Whom should you contact for more information regarding the Houses/Apartments/Flats. \n",
      "\n",
      "0       Contact Owner\n",
      "1       Contact Owner\n",
      "2       Contact Owner\n",
      "3       Contact Owner\n",
      "4       Contact Owner\n",
      "            ...      \n",
      "4741    Contact Owner\n",
      "4742    Contact Owner\n",
      "4743    Contact Agent\n",
      "4744    Contact Agent\n",
      "4745    Contact Owner\n",
      "Name: Point of Contact, Length: 4746, dtype: object \n",
      "\n",
      "Contact Owner      3216\n",
      "Contact Agent      1529\n",
      "Contact Builder       1\n",
      "Name: Point of Contact, dtype: int64\n"
     ]
    }
   ],
   "source": [
    "print(column_to_description[\"Point of Contact\"],\"\\n\")\n",
    "print(data[\"Point of Contact\"], \"\\n\")\n",
    "print(data[\"Point of Contact\"].value_counts())"
   ]
  },
  {
   "cell_type": "markdown",
   "id": "71285ff1",
   "metadata": {},
   "source": [
    "*Maybe remove contact builder since with just one data point we can't learn how this factors into the regression robustly.*\n",
    "***"
   ]
  },
  {
   "cell_type": "markdown",
   "id": "9c9fa5f9",
   "metadata": {},
   "source": [
    "# Checking for Missing Values"
   ]
  },
  {
   "cell_type": "code",
   "execution_count": 20,
   "id": "c26afa1a",
   "metadata": {},
   "outputs": [
    {
     "name": "stdout",
     "output_type": "stream",
     "text": [
      "Posted On: 0\n",
      "BHK: 0\n",
      "Rent: 0\n",
      "Size: 0\n",
      "Floor: 0\n",
      "Area Type: 0\n",
      "Area Locality: 0\n",
      "City: 0\n",
      "Furnishing Status: 0\n",
      "Tenant Preferred: 0\n",
      "Bathroom: 0\n",
      "Point of Contact: 0\n"
     ]
    }
   ],
   "source": [
    "for i in columns:\n",
    "    print(str(i) + \":\",data[i].isnull().sum())"
   ]
  },
  {
   "cell_type": "markdown",
   "id": "86aa3349",
   "metadata": {},
   "source": [
    "*There are no missing values in this dataset.*"
   ]
  },
  {
   "cell_type": "markdown",
   "id": "826bbc89",
   "metadata": {},
   "source": [
    "***"
   ]
  },
  {
   "cell_type": "markdown",
   "id": "40fc766b",
   "metadata": {},
   "source": [
    "# Data Engineering and Processing"
   ]
  },
  {
   "cell_type": "markdown",
   "id": "0bdeb0d8",
   "metadata": {},
   "source": [
    "## Steps to be taken based on EDA:\n",
    "1. `Posted On`: Convert Date to time since start of 2022.\n",
    "2. `Size`: Maybe scale this using *Area Type* if it doesn't work well in the regression elsewise. For now having *Area Type* as a label-encoded variable which learns a flat value to adjust the outcome by might be fine, but the difference between different *Size*s will vary as some super-areas will severely overestimate *Size* and some will only minimally overestimate *Size*.\n",
    "3. `Floor`: One of two options seems optimal. Both involve splitting the active floor and the total floors given the building first. The first option is just having both of those as seperate columns, the second option involves the floor the unit is on as the first column, and the ratio of that to the total floors in the building as the second.\n",
    "The first option seems like the data is presented more clearly, but the second allows the relationship between the two to be passed directly in, as learning that might be suboptimal in terms of limiting learning other relationships. Call these columns *On Floor* and *Building Floors* in either case.\n",
    "4. `Area Type`: If used to scale *Size* then don't use this column, otherwise use binary one-hot encoding for *Carpet Area* and *Super Area*, and throw out *Built Area* as that only has two data points.\n",
    "5. `City`: This needs to be one-hot encoded, definitely good in this case as there are only a small number of cities with decent data population for each. \n",
    "6. `Furnishing Status`: Label encode with the following system. *Unfurnished* = 0, *Semi-Furnished* = 1, *Furnished* = 2.\n",
    "7. `Tenant Preferred`: Do a kind of custom one-hot encoding. Normally each value would get its own column, but here we can just make two instead of three as one just represents both of the previous options simultaneously.\n",
    "8. `Point of Contact`: Just drop the *Contact Builder* as it only has a single data point, the other two can be label encoded with 0 and 1."
   ]
  },
  {
   "cell_type": "markdown",
   "id": "c0ce215a",
   "metadata": {},
   "source": [
    "***\n",
    "## Taking these Steps"
   ]
  },
  {
   "cell_type": "markdown",
   "id": "a4389228",
   "metadata": {},
   "source": [
    "### Initial Data Shape"
   ]
  },
  {
   "cell_type": "code",
   "execution_count": 21,
   "id": "d3a0a5b5",
   "metadata": {},
   "outputs": [
    {
     "data": {
      "text/plain": [
       "(4746, 12)"
      ]
     },
     "execution_count": 21,
     "metadata": {},
     "output_type": "execute_result"
    }
   ],
   "source": [
    "data.shape"
   ]
  },
  {
   "cell_type": "markdown",
   "id": "e80b62c9",
   "metadata": {},
   "source": [
    "### Step One - Making a Function to Update Posted On"
   ]
  },
  {
   "cell_type": "code",
   "execution_count": 22,
   "id": "2c5848e0",
   "metadata": {},
   "outputs": [
    {
     "data": {
      "text/plain": [
       "0       2022-05-18\n",
       "1       2022-05-13\n",
       "2       2022-05-16\n",
       "3       2022-07-04\n",
       "4       2022-05-09\n",
       "           ...    \n",
       "4741    2022-05-18\n",
       "4742    2022-05-15\n",
       "4743    2022-07-10\n",
       "4744    2022-07-06\n",
       "4745    2022-05-04\n",
       "Name: Posted On, Length: 4746, dtype: object"
      ]
     },
     "execution_count": 22,
     "metadata": {},
     "output_type": "execute_result"
    }
   ],
   "source": [
    "posted_on_temp = data[\"Posted On\"]\n",
    "posted_on_temp"
   ]
  },
  {
   "cell_type": "markdown",
   "id": "6351454e",
   "metadata": {},
   "source": [
    "*First we can check whether all the dates start in 2022, this same method can be applied using whatever year is the earliest date in the dataset.*"
   ]
  },
  {
   "cell_type": "code",
   "execution_count": 23,
   "id": "6b69a9de",
   "metadata": {},
   "outputs": [],
   "source": [
    "split_dates = []\n",
    "\n",
    "for i in range(len(posted_on_temp)):\n",
    "    split_dates.append(posted_on_temp[i].split(\"-\"))\n",
    "    \n",
    "    if split_dates[i][0] != \"2022\":\n",
    "        print(\"diff date\",split_dates[i])"
   ]
  },
  {
   "cell_type": "markdown",
   "id": "4c3c4205",
   "metadata": {},
   "source": [
    "*Since all the data is from 2022, we will set 2022-01-01 to be 0, and every day past will increment.*\n",
    "\n",
    "*First we need some way to tell the number of days in a month given the month and year.*"
   ]
  },
  {
   "cell_type": "code",
   "execution_count": 24,
   "id": "bd834bcd",
   "metadata": {},
   "outputs": [],
   "source": [
    "def numberOfDays(y, m):\n",
    "      leap = 0\n",
    "      if y% 400 == 0:\n",
    "         leap = 1\n",
    "      elif y % 100 == 0:\n",
    "         leap = 0\n",
    "      elif y% 4 == 0:\n",
    "         leap = 1\n",
    "      if m==2:\n",
    "         return 28 + leap\n",
    "      list = [1,3,5,7,8,10,12]\n",
    "      if m in list:\n",
    "         return 31\n",
    "      return 30"
   ]
  },
  {
   "cell_type": "markdown",
   "id": "10290395",
   "metadata": {},
   "source": [
    "*Now we can build our update function.*"
   ]
  },
  {
   "cell_type": "code",
   "execution_count": 25,
   "id": "c44e58d1",
   "metadata": {},
   "outputs": [],
   "source": [
    "def updatePostedOnToScalar(data):\n",
    "    list_of_date_num_equivalent = []    \n",
    "    \n",
    "    for i in range(len(split_dates)):\n",
    "        date_num_equivalent = 0\n",
    "        \n",
    "        for j in range(int(split_dates[i][1])):\n",
    "            date_num_equivalent = date_num_equivalent + numberOfDays(int(split_dates[i][0]),j)\n",
    "            \n",
    "        date_num_equivalent = date_num_equivalent + int(split_dates[i][2])\n",
    "        \n",
    "        list_of_date_num_equivalent.append(date_num_equivalent)\n",
    "        \n",
    "    list_of_date_num_equivalent = np.array(list_of_date_num_equivalent)\n",
    "        \n",
    "    data[\"Posted On\"] = list_of_date_num_equivalent\n",
    "\n",
    "    return data"
   ]
  },
  {
   "cell_type": "markdown",
   "id": "73a29780",
   "metadata": {},
   "source": [
    "### Step Two - Making a Function to Adjust Size if Necessary\n",
    "*Nothing necessary here so far.*"
   ]
  },
  {
   "cell_type": "markdown",
   "id": "15d67282",
   "metadata": {},
   "source": [
    "### Step Three - Making a Function to Split Floor Column"
   ]
  },
  {
   "cell_type": "code",
   "execution_count": 26,
   "id": "172c1921",
   "metadata": {},
   "outputs": [],
   "source": [
    "def splitFloorIntoTwo(data):\n",
    "    original_floor = data[\"Floor\"]\n",
    "    floor_on = []\n",
    "    floor_out_of = []\n",
    "    for i in range(len(original_floor)):\n",
    "        split = original_floor[i].split(\" out of \")\n",
    "        if len(split) == 1:\n",
    "            if split[0] == 'Ground':\n",
    "                floor_on.append(0)\n",
    "                floor_out_of.append(0)\n",
    "            else:\n",
    "                floor_on.append(split[0])\n",
    "                floor_out_of.append(split[0])\n",
    "        else:  \n",
    "            #Ground is 0, others are basement and such so all other non-int convertables go to -1\n",
    "            if split[0] == 'Ground':\n",
    "                floor_on.append(0)\n",
    "            else:\n",
    "                try:\n",
    "                    floor_on.append(int(split[0]))\n",
    "                except:\n",
    "                    floor_on.append(-1)\n",
    "            floor_out_of.append(int(split[1]))\n",
    "    \n",
    "    floor_on = np.array(floor_on)\n",
    "    floor_out_of = np.array(floor_out_of)\n",
    "    \n",
    "    data[\"Floor On\"] = floor_on\n",
    "    data[\"Floor Out Of\"] = floor_out_of\n",
    "\n",
    "    data.drop(\"Floor\",axis=1,inplace=True)\n",
    "\n",
    "    return data"
   ]
  },
  {
   "cell_type": "markdown",
   "id": "7b2d1b39",
   "metadata": {},
   "source": [
    "### Step Four - Making a Function to Label Encode a Given Column"
   ]
  },
  {
   "cell_type": "code",
   "execution_count": 27,
   "id": "83ce6ea7",
   "metadata": {},
   "outputs": [],
   "source": [
    "def labelEncodeColumn(data,column_name):\n",
    "    if column_name == \"Furnishing Status\":\n",
    "        cat_type = CategoricalDtype(categories=[\"Unfurnished\", \"Semi-Furnished\", \"Furnished\"], ordered=True)\n",
    "        data[column_name] = data[column_name].astype(cat_type)\n",
    "        data[column_name] = data[column_name].cat.codes\n",
    "    else:\n",
    "        data[column_name] = data[column_name].astype('category')\n",
    "        data[column_name] = data[column_name].cat.codes\n",
    "\n",
    "    return data"
   ]
  },
  {
   "cell_type": "markdown",
   "id": "b0d83df4",
   "metadata": {},
   "source": [
    "### Step Five - Making a Function to One-Hot Encode a Given Column"
   ]
  },
  {
   "cell_type": "code",
   "execution_count": 28,
   "id": "3d5e27ee",
   "metadata": {},
   "outputs": [],
   "source": [
    "def oneHotEncodeColumn(data,column_name):\n",
    "    encoder = OneHotEncoder(handle_unknown='ignore',sparse=False)\n",
    "    if column_name == \"Tenant Preferred\":\n",
    "        bachelors = []\n",
    "        family = []\n",
    "        for i in range(len(data[\"Tenant Preferred\"])):\n",
    "            if data[\"Tenant Preferred\"][i] == \"Bachelors\":\n",
    "                bachelors.append(1)\n",
    "                family.append(0)\n",
    "            elif data[\"Tenant Preferred\"][i] == \"Family\":\n",
    "                bachelors.append(0)\n",
    "                family.append(1)\n",
    "            elif data[\"Tenant Preferred\"][i] == \"Bachelors/Family\":\n",
    "                bachelors.append(1)\n",
    "                family.append(1)\n",
    "            else:\n",
    "                print(\"issue w tenant preferred encoding\")\n",
    "        bachelors = pd.Series(bachelors)\n",
    "        bachelors.name = \"Bachelors\"\n",
    "        family = pd.Series(family)\n",
    "        family.name = \"Family\"\n",
    "\n",
    "        data = pd.concat([data,bachelors,family],axis=1)\n",
    "\n",
    "        return data\n",
    "\n",
    "    else:\n",
    "        encoded_data = pd.DataFrame(encoder.fit_transform(data[[column_name]]))\n",
    "\n",
    "        feature_names = encoder.get_feature_names_out()\n",
    "        for i in range(len(feature_names)):\n",
    "            feature_names[i] = feature_names[i].split(\"_\")\n",
    "        for i in range(len(feature_names)):\n",
    "            feature_names[i] = feature_names[i][1]\n",
    "\n",
    "        encoded_data.columns = feature_names\n",
    "\n",
    "        data = pd.concat([data,encoded_data],axis=1)\n",
    "\n",
    "    return data"
   ]
  },
  {
   "cell_type": "markdown",
   "id": "e197a97d",
   "metadata": {},
   "source": [
    "***\n",
    "## Processing the Data for Training our Model"
   ]
  },
  {
   "cell_type": "code",
   "execution_count": 29,
   "id": "c18420fd",
   "metadata": {},
   "outputs": [
    {
     "data": {
      "text/plain": [
       "(4746, 12)"
      ]
     },
     "execution_count": 29,
     "metadata": {},
     "output_type": "execute_result"
    }
   ],
   "source": [
    "data.shape"
   ]
  },
  {
   "cell_type": "code",
   "execution_count": 30,
   "id": "a92b7510",
   "metadata": {},
   "outputs": [
    {
     "data": {
      "text/plain": [
       "Index(['Posted On', 'BHK', 'Rent', 'Size', 'Floor', 'Area Type',\n",
       "       'Area Locality', 'City', 'Furnishing Status', 'Tenant Preferred',\n",
       "       'Bathroom', 'Point of Contact'],\n",
       "      dtype='object')"
      ]
     },
     "execution_count": 30,
     "metadata": {},
     "output_type": "execute_result"
    }
   ],
   "source": [
    "data.columns"
   ]
  },
  {
   "cell_type": "markdown",
   "id": "1509989e",
   "metadata": {},
   "source": [
    "## Step One - Update Posted On to Scalar Values"
   ]
  },
  {
   "cell_type": "code",
   "execution_count": 31,
   "id": "53274645",
   "metadata": {},
   "outputs": [
    {
     "data": {
      "text/plain": [
       "0       2022-05-18\n",
       "1       2022-05-13\n",
       "2       2022-05-16\n",
       "3       2022-07-04\n",
       "4       2022-05-09\n",
       "           ...    \n",
       "4741    2022-05-18\n",
       "4742    2022-05-15\n",
       "4743    2022-07-10\n",
       "4744    2022-07-06\n",
       "4745    2022-05-04\n",
       "Name: Posted On, Length: 4746, dtype: object"
      ]
     },
     "execution_count": 31,
     "metadata": {},
     "output_type": "execute_result"
    }
   ],
   "source": [
    "data[\"Posted On\"]"
   ]
  },
  {
   "cell_type": "code",
   "execution_count": 32,
   "id": "2d9a6f43",
   "metadata": {},
   "outputs": [],
   "source": [
    "data = updatePostedOnToScalar(data)"
   ]
  },
  {
   "cell_type": "code",
   "execution_count": 33,
   "id": "690e38a1",
   "metadata": {},
   "outputs": [
    {
     "data": {
      "text/plain": [
       "0       168\n",
       "1       163\n",
       "2       166\n",
       "3       215\n",
       "4       159\n",
       "       ... \n",
       "4741    168\n",
       "4742    165\n",
       "4743    221\n",
       "4744    217\n",
       "4745    154\n",
       "Name: Posted On, Length: 4746, dtype: int64"
      ]
     },
     "execution_count": 33,
     "metadata": {},
     "output_type": "execute_result"
    }
   ],
   "source": [
    "data[\"Posted On\"]"
   ]
  },
  {
   "cell_type": "markdown",
   "id": "40027d01",
   "metadata": {},
   "source": [
    "*Check that the update didn't create any null values unintentionally.*"
   ]
  },
  {
   "cell_type": "code",
   "execution_count": 34,
   "id": "c5088044",
   "metadata": {},
   "outputs": [
    {
     "name": "stdout",
     "output_type": "stream",
     "text": [
      "Posted On: 0\n",
      "BHK: 0\n",
      "Rent: 0\n",
      "Size: 0\n",
      "Floor: 0\n",
      "Area Type: 0\n",
      "Area Locality: 0\n",
      "City: 0\n",
      "Furnishing Status: 0\n",
      "Tenant Preferred: 0\n",
      "Bathroom: 0\n",
      "Point of Contact: 0\n"
     ]
    }
   ],
   "source": [
    "columns = data.columns\n",
    "for i in columns:\n",
    "    print(str(i) + \":\",data[i].isnull().sum())"
   ]
  },
  {
   "cell_type": "markdown",
   "id": "f932ba6d",
   "metadata": {},
   "source": [
    "### Step Two - Adjust Size *(if necessary)*"
   ]
  },
  {
   "cell_type": "markdown",
   "id": "1f2e4260",
   "metadata": {},
   "source": [
    "### Step Three - Split Floor Column into Floor On and Floor Out Of"
   ]
  },
  {
   "cell_type": "code",
   "execution_count": 35,
   "id": "651157f4",
   "metadata": {},
   "outputs": [
    {
     "data": {
      "text/plain": [
       "0       Ground out of 2\n",
       "1            1 out of 3\n",
       "2            1 out of 3\n",
       "3            1 out of 2\n",
       "4            1 out of 2\n",
       "             ...       \n",
       "4741         3 out of 5\n",
       "4742         1 out of 4\n",
       "4743         3 out of 5\n",
       "4744       23 out of 34\n",
       "4745         4 out of 5\n",
       "Name: Floor, Length: 4746, dtype: object"
      ]
     },
     "execution_count": 35,
     "metadata": {},
     "output_type": "execute_result"
    }
   ],
   "source": [
    "data[\"Floor\"]"
   ]
  },
  {
   "cell_type": "code",
   "execution_count": 36,
   "id": "79a7a0c4",
   "metadata": {},
   "outputs": [],
   "source": [
    "data = splitFloorIntoTwo(data)"
   ]
  },
  {
   "cell_type": "code",
   "execution_count": 37,
   "id": "60afda44",
   "metadata": {},
   "outputs": [
    {
     "data": {
      "text/plain": [
       "1     1161\n",
       "2      945\n",
       "0      927\n",
       "3      512\n",
       "4      272\n",
       "5      164\n",
       "6       93\n",
       "7       74\n",
       "10      67\n",
       "8       66\n",
       "9       65\n",
       "12      47\n",
       "11      43\n",
       "15      41\n",
       "-1      34\n",
       "14      34\n",
       "18      26\n",
       "17      22\n",
       "16      21\n",
       "19      16\n",
       "13      15\n",
       "20      12\n",
       "25      12\n",
       "23       9\n",
       "24       6\n",
       "21       6\n",
       "30       5\n",
       "34       4\n",
       "28       4\n",
       "27       3\n",
       "26       3\n",
       "32       3\n",
       "60       3\n",
       "65       3\n",
       "35       3\n",
       "22       3\n",
       "48       2\n",
       "53       2\n",
       "45       2\n",
       "36       2\n",
       "40       2\n",
       "29       1\n",
       "50       1\n",
       "49       1\n",
       "39       1\n",
       "46       1\n",
       "41       1\n",
       "44       1\n",
       "33       1\n",
       "37       1\n",
       "47       1\n",
       "43       1\n",
       "76       1\n",
       "Name: Floor On, dtype: int64"
      ]
     },
     "execution_count": 37,
     "metadata": {},
     "output_type": "execute_result"
    }
   ],
   "source": [
    "data[\"Floor On\"].value_counts()"
   ]
  },
  {
   "cell_type": "code",
   "execution_count": 38,
   "id": "86c3f6a3",
   "metadata": {},
   "outputs": [
    {
     "data": {
      "text/plain": [
       "4     938\n",
       "3     915\n",
       "2     868\n",
       "5     422\n",
       "1     335\n",
       "     ... \n",
       "39      1\n",
       "62      1\n",
       "59      1\n",
       "66      1\n",
       "0       1\n",
       "Name: Floor Out Of, Length: 67, dtype: int64"
      ]
     },
     "execution_count": 38,
     "metadata": {},
     "output_type": "execute_result"
    }
   ],
   "source": [
    "data[\"Floor Out Of\"].value_counts()"
   ]
  },
  {
   "cell_type": "markdown",
   "id": "727f95c1",
   "metadata": {},
   "source": [
    "*Check that the update didn't create any null values unintentionally.*"
   ]
  },
  {
   "cell_type": "code",
   "execution_count": 39,
   "id": "64373c1b",
   "metadata": {},
   "outputs": [
    {
     "name": "stdout",
     "output_type": "stream",
     "text": [
      "Posted On: 0\n",
      "BHK: 0\n",
      "Rent: 0\n",
      "Size: 0\n",
      "Area Type: 0\n",
      "Area Locality: 0\n",
      "City: 0\n",
      "Furnishing Status: 0\n",
      "Tenant Preferred: 0\n",
      "Bathroom: 0\n",
      "Point of Contact: 0\n",
      "Floor On: 0\n",
      "Floor Out Of: 0\n"
     ]
    }
   ],
   "source": [
    "columns = data.columns\n",
    "for i in columns:\n",
    "    print(str(i) + \":\",data[i].isnull().sum())"
   ]
  },
  {
   "cell_type": "markdown",
   "id": "2cbbb825",
   "metadata": {},
   "source": [
    "### Step Four - Encode Area Type"
   ]
  },
  {
   "cell_type": "markdown",
   "id": "40b239cc",
   "metadata": {},
   "source": [
    "*First we need to drop Built Area as it has too few data points.*"
   ]
  },
  {
   "cell_type": "code",
   "execution_count": 40,
   "id": "fe9cde8d",
   "metadata": {},
   "outputs": [
    {
     "data": {
      "text/plain": [
       "0        Super Area\n",
       "1        Super Area\n",
       "2        Super Area\n",
       "3        Super Area\n",
       "4       Carpet Area\n",
       "           ...     \n",
       "4741    Carpet Area\n",
       "4742     Super Area\n",
       "4743    Carpet Area\n",
       "4744    Carpet Area\n",
       "4745    Carpet Area\n",
       "Name: Area Type, Length: 4746, dtype: object"
      ]
     },
     "execution_count": 40,
     "metadata": {},
     "output_type": "execute_result"
    }
   ],
   "source": [
    "data['Area Type']"
   ]
  },
  {
   "cell_type": "code",
   "execution_count": 41,
   "id": "1a5463c7",
   "metadata": {},
   "outputs": [
    {
     "data": {
      "text/plain": [
       "Super Area     2446\n",
       "Carpet Area    2298\n",
       "Name: Area Type, dtype: int64"
      ]
     },
     "execution_count": 41,
     "metadata": {},
     "output_type": "execute_result"
    }
   ],
   "source": [
    "data = data.drop(data[data['Area Type'] == 'Built Area'].index)\n",
    "data['Area Type'].value_counts()"
   ]
  },
  {
   "cell_type": "code",
   "execution_count": 42,
   "id": "539f001f",
   "metadata": {},
   "outputs": [
    {
     "data": {
      "text/html": [
       "<div>\n",
       "<style scoped>\n",
       "    .dataframe tbody tr th:only-of-type {\n",
       "        vertical-align: middle;\n",
       "    }\n",
       "\n",
       "    .dataframe tbody tr th {\n",
       "        vertical-align: top;\n",
       "    }\n",
       "\n",
       "    .dataframe thead th {\n",
       "        text-align: right;\n",
       "    }\n",
       "</style>\n",
       "<table border=\"1\" class=\"dataframe\">\n",
       "  <thead>\n",
       "    <tr style=\"text-align: right;\">\n",
       "      <th></th>\n",
       "      <th>index</th>\n",
       "      <th>Posted On</th>\n",
       "      <th>BHK</th>\n",
       "      <th>Rent</th>\n",
       "      <th>Size</th>\n",
       "      <th>Area Type</th>\n",
       "      <th>Area Locality</th>\n",
       "      <th>City</th>\n",
       "      <th>Furnishing Status</th>\n",
       "      <th>Tenant Preferred</th>\n",
       "      <th>Bathroom</th>\n",
       "      <th>Point of Contact</th>\n",
       "      <th>Floor On</th>\n",
       "      <th>Floor Out Of</th>\n",
       "    </tr>\n",
       "  </thead>\n",
       "  <tbody>\n",
       "    <tr>\n",
       "      <th>0</th>\n",
       "      <td>0</td>\n",
       "      <td>168</td>\n",
       "      <td>2</td>\n",
       "      <td>10000</td>\n",
       "      <td>1100</td>\n",
       "      <td>Super Area</td>\n",
       "      <td>Bandel</td>\n",
       "      <td>Kolkata</td>\n",
       "      <td>Unfurnished</td>\n",
       "      <td>Bachelors/Family</td>\n",
       "      <td>2</td>\n",
       "      <td>Contact Owner</td>\n",
       "      <td>0</td>\n",
       "      <td>2</td>\n",
       "    </tr>\n",
       "    <tr>\n",
       "      <th>1</th>\n",
       "      <td>1</td>\n",
       "      <td>163</td>\n",
       "      <td>2</td>\n",
       "      <td>20000</td>\n",
       "      <td>800</td>\n",
       "      <td>Super Area</td>\n",
       "      <td>Phool Bagan, Kankurgachi</td>\n",
       "      <td>Kolkata</td>\n",
       "      <td>Semi-Furnished</td>\n",
       "      <td>Bachelors/Family</td>\n",
       "      <td>1</td>\n",
       "      <td>Contact Owner</td>\n",
       "      <td>1</td>\n",
       "      <td>3</td>\n",
       "    </tr>\n",
       "    <tr>\n",
       "      <th>2</th>\n",
       "      <td>2</td>\n",
       "      <td>166</td>\n",
       "      <td>2</td>\n",
       "      <td>17000</td>\n",
       "      <td>1000</td>\n",
       "      <td>Super Area</td>\n",
       "      <td>Salt Lake City Sector 2</td>\n",
       "      <td>Kolkata</td>\n",
       "      <td>Semi-Furnished</td>\n",
       "      <td>Bachelors/Family</td>\n",
       "      <td>1</td>\n",
       "      <td>Contact Owner</td>\n",
       "      <td>1</td>\n",
       "      <td>3</td>\n",
       "    </tr>\n",
       "    <tr>\n",
       "      <th>3</th>\n",
       "      <td>3</td>\n",
       "      <td>215</td>\n",
       "      <td>2</td>\n",
       "      <td>10000</td>\n",
       "      <td>800</td>\n",
       "      <td>Super Area</td>\n",
       "      <td>Dumdum Park</td>\n",
       "      <td>Kolkata</td>\n",
       "      <td>Unfurnished</td>\n",
       "      <td>Bachelors/Family</td>\n",
       "      <td>1</td>\n",
       "      <td>Contact Owner</td>\n",
       "      <td>1</td>\n",
       "      <td>2</td>\n",
       "    </tr>\n",
       "    <tr>\n",
       "      <th>4</th>\n",
       "      <td>4</td>\n",
       "      <td>159</td>\n",
       "      <td>2</td>\n",
       "      <td>7500</td>\n",
       "      <td>850</td>\n",
       "      <td>Carpet Area</td>\n",
       "      <td>South Dum Dum</td>\n",
       "      <td>Kolkata</td>\n",
       "      <td>Unfurnished</td>\n",
       "      <td>Bachelors</td>\n",
       "      <td>1</td>\n",
       "      <td>Contact Owner</td>\n",
       "      <td>1</td>\n",
       "      <td>2</td>\n",
       "    </tr>\n",
       "    <tr>\n",
       "      <th>...</th>\n",
       "      <td>...</td>\n",
       "      <td>...</td>\n",
       "      <td>...</td>\n",
       "      <td>...</td>\n",
       "      <td>...</td>\n",
       "      <td>...</td>\n",
       "      <td>...</td>\n",
       "      <td>...</td>\n",
       "      <td>...</td>\n",
       "      <td>...</td>\n",
       "      <td>...</td>\n",
       "      <td>...</td>\n",
       "      <td>...</td>\n",
       "      <td>...</td>\n",
       "    </tr>\n",
       "    <tr>\n",
       "      <th>4739</th>\n",
       "      <td>4741</td>\n",
       "      <td>168</td>\n",
       "      <td>2</td>\n",
       "      <td>15000</td>\n",
       "      <td>1000</td>\n",
       "      <td>Carpet Area</td>\n",
       "      <td>Bandam Kommu</td>\n",
       "      <td>Hyderabad</td>\n",
       "      <td>Semi-Furnished</td>\n",
       "      <td>Bachelors/Family</td>\n",
       "      <td>2</td>\n",
       "      <td>Contact Owner</td>\n",
       "      <td>3</td>\n",
       "      <td>5</td>\n",
       "    </tr>\n",
       "    <tr>\n",
       "      <th>4740</th>\n",
       "      <td>4742</td>\n",
       "      <td>165</td>\n",
       "      <td>3</td>\n",
       "      <td>29000</td>\n",
       "      <td>2000</td>\n",
       "      <td>Super Area</td>\n",
       "      <td>Manikonda, Hyderabad</td>\n",
       "      <td>Hyderabad</td>\n",
       "      <td>Semi-Furnished</td>\n",
       "      <td>Bachelors/Family</td>\n",
       "      <td>3</td>\n",
       "      <td>Contact Owner</td>\n",
       "      <td>1</td>\n",
       "      <td>4</td>\n",
       "    </tr>\n",
       "    <tr>\n",
       "      <th>4741</th>\n",
       "      <td>4743</td>\n",
       "      <td>221</td>\n",
       "      <td>3</td>\n",
       "      <td>35000</td>\n",
       "      <td>1750</td>\n",
       "      <td>Carpet Area</td>\n",
       "      <td>Himayath Nagar, NH 7</td>\n",
       "      <td>Hyderabad</td>\n",
       "      <td>Semi-Furnished</td>\n",
       "      <td>Bachelors/Family</td>\n",
       "      <td>3</td>\n",
       "      <td>Contact Agent</td>\n",
       "      <td>3</td>\n",
       "      <td>5</td>\n",
       "    </tr>\n",
       "    <tr>\n",
       "      <th>4742</th>\n",
       "      <td>4744</td>\n",
       "      <td>217</td>\n",
       "      <td>3</td>\n",
       "      <td>45000</td>\n",
       "      <td>1500</td>\n",
       "      <td>Carpet Area</td>\n",
       "      <td>Gachibowli</td>\n",
       "      <td>Hyderabad</td>\n",
       "      <td>Semi-Furnished</td>\n",
       "      <td>Family</td>\n",
       "      <td>2</td>\n",
       "      <td>Contact Agent</td>\n",
       "      <td>23</td>\n",
       "      <td>34</td>\n",
       "    </tr>\n",
       "    <tr>\n",
       "      <th>4743</th>\n",
       "      <td>4745</td>\n",
       "      <td>154</td>\n",
       "      <td>2</td>\n",
       "      <td>15000</td>\n",
       "      <td>1000</td>\n",
       "      <td>Carpet Area</td>\n",
       "      <td>Suchitra Circle</td>\n",
       "      <td>Hyderabad</td>\n",
       "      <td>Unfurnished</td>\n",
       "      <td>Bachelors</td>\n",
       "      <td>2</td>\n",
       "      <td>Contact Owner</td>\n",
       "      <td>4</td>\n",
       "      <td>5</td>\n",
       "    </tr>\n",
       "  </tbody>\n",
       "</table>\n",
       "<p>4744 rows × 14 columns</p>\n",
       "</div>"
      ],
      "text/plain": [
       "      index  Posted On  BHK   Rent  Size    Area Type  \\\n",
       "0         0        168    2  10000  1100   Super Area   \n",
       "1         1        163    2  20000   800   Super Area   \n",
       "2         2        166    2  17000  1000   Super Area   \n",
       "3         3        215    2  10000   800   Super Area   \n",
       "4         4        159    2   7500   850  Carpet Area   \n",
       "...     ...        ...  ...    ...   ...          ...   \n",
       "4739   4741        168    2  15000  1000  Carpet Area   \n",
       "4740   4742        165    3  29000  2000   Super Area   \n",
       "4741   4743        221    3  35000  1750  Carpet Area   \n",
       "4742   4744        217    3  45000  1500  Carpet Area   \n",
       "4743   4745        154    2  15000  1000  Carpet Area   \n",
       "\n",
       "                 Area Locality       City Furnishing Status  Tenant Preferred  \\\n",
       "0                       Bandel    Kolkata       Unfurnished  Bachelors/Family   \n",
       "1     Phool Bagan, Kankurgachi    Kolkata    Semi-Furnished  Bachelors/Family   \n",
       "2      Salt Lake City Sector 2    Kolkata    Semi-Furnished  Bachelors/Family   \n",
       "3                  Dumdum Park    Kolkata       Unfurnished  Bachelors/Family   \n",
       "4                South Dum Dum    Kolkata       Unfurnished         Bachelors   \n",
       "...                        ...        ...               ...               ...   \n",
       "4739              Bandam Kommu  Hyderabad    Semi-Furnished  Bachelors/Family   \n",
       "4740      Manikonda, Hyderabad  Hyderabad    Semi-Furnished  Bachelors/Family   \n",
       "4741      Himayath Nagar, NH 7  Hyderabad    Semi-Furnished  Bachelors/Family   \n",
       "4742                Gachibowli  Hyderabad    Semi-Furnished            Family   \n",
       "4743           Suchitra Circle  Hyderabad       Unfurnished         Bachelors   \n",
       "\n",
       "      Bathroom Point of Contact Floor On Floor Out Of  \n",
       "0            2    Contact Owner        0            2  \n",
       "1            1    Contact Owner        1            3  \n",
       "2            1    Contact Owner        1            3  \n",
       "3            1    Contact Owner        1            2  \n",
       "4            1    Contact Owner        1            2  \n",
       "...        ...              ...      ...          ...  \n",
       "4739         2    Contact Owner        3            5  \n",
       "4740         3    Contact Owner        1            4  \n",
       "4741         3    Contact Agent        3            5  \n",
       "4742         2    Contact Agent       23           34  \n",
       "4743         2    Contact Owner        4            5  \n",
       "\n",
       "[4744 rows x 14 columns]"
      ]
     },
     "execution_count": 42,
     "metadata": {},
     "output_type": "execute_result"
    }
   ],
   "source": [
    "data = data.reset_index()\n",
    "data"
   ]
  },
  {
   "cell_type": "code",
   "execution_count": 43,
   "id": "36d8e239",
   "metadata": {},
   "outputs": [
    {
     "data": {
      "text/plain": [
       "(4744, 14)"
      ]
     },
     "execution_count": 43,
     "metadata": {},
     "output_type": "execute_result"
    }
   ],
   "source": [
    "data.shape"
   ]
  },
  {
   "cell_type": "markdown",
   "id": "15679aed",
   "metadata": {},
   "source": [
    "*Check that dropping rows didn't create any null values unintentionally.*"
   ]
  },
  {
   "cell_type": "code",
   "execution_count": 44,
   "id": "d0958adb",
   "metadata": {},
   "outputs": [
    {
     "name": "stdout",
     "output_type": "stream",
     "text": [
      "index: 0\n",
      "Posted On: 0\n",
      "BHK: 0\n",
      "Rent: 0\n",
      "Size: 0\n",
      "Area Type: 0\n",
      "Area Locality: 0\n",
      "City: 0\n",
      "Furnishing Status: 0\n",
      "Tenant Preferred: 0\n",
      "Bathroom: 0\n",
      "Point of Contact: 0\n",
      "Floor On: 0\n",
      "Floor Out Of: 0\n"
     ]
    }
   ],
   "source": [
    "columns = data.columns\n",
    "for i in columns:\n",
    "    print(str(i) + \":\",data[i].isnull().sum())"
   ]
  },
  {
   "cell_type": "markdown",
   "id": "deb28a41",
   "metadata": {},
   "source": [
    "*We can label encode into two categories after having dropped Built Area. Since there are only two potential categories, we don't need to worry about ordinality of the categories.*"
   ]
  },
  {
   "cell_type": "code",
   "execution_count": 45,
   "id": "966cdd88",
   "metadata": {},
   "outputs": [
    {
     "data": {
      "text/plain": [
       "0        Super Area\n",
       "1        Super Area\n",
       "2        Super Area\n",
       "3        Super Area\n",
       "4       Carpet Area\n",
       "           ...     \n",
       "4739    Carpet Area\n",
       "4740     Super Area\n",
       "4741    Carpet Area\n",
       "4742    Carpet Area\n",
       "4743    Carpet Area\n",
       "Name: Area Type, Length: 4744, dtype: object"
      ]
     },
     "execution_count": 45,
     "metadata": {},
     "output_type": "execute_result"
    }
   ],
   "source": [
    "data['Area Type']"
   ]
  },
  {
   "cell_type": "code",
   "execution_count": 46,
   "id": "7c98f741",
   "metadata": {},
   "outputs": [
    {
     "data": {
      "text/plain": [
       "0       1\n",
       "1       1\n",
       "2       1\n",
       "3       1\n",
       "4       0\n",
       "       ..\n",
       "4739    0\n",
       "4740    1\n",
       "4741    0\n",
       "4742    0\n",
       "4743    0\n",
       "Name: Area Type, Length: 4744, dtype: int8"
      ]
     },
     "execution_count": 46,
     "metadata": {},
     "output_type": "execute_result"
    }
   ],
   "source": [
    "data = labelEncodeColumn(data,'Area Type')\n",
    "data['Area Type']"
   ]
  },
  {
   "cell_type": "markdown",
   "id": "c227d075",
   "metadata": {},
   "source": [
    "*Check that the update didn't create any null values unintentionally.*"
   ]
  },
  {
   "cell_type": "code",
   "execution_count": 47,
   "id": "9fb454e1",
   "metadata": {},
   "outputs": [
    {
     "name": "stdout",
     "output_type": "stream",
     "text": [
      "index: 0\n",
      "Posted On: 0\n",
      "BHK: 0\n",
      "Rent: 0\n",
      "Size: 0\n",
      "Area Type: 0\n",
      "Area Locality: 0\n",
      "City: 0\n",
      "Furnishing Status: 0\n",
      "Tenant Preferred: 0\n",
      "Bathroom: 0\n",
      "Point of Contact: 0\n",
      "Floor On: 0\n",
      "Floor Out Of: 0\n"
     ]
    }
   ],
   "source": [
    "columns = data.columns\n",
    "for i in columns:\n",
    "    print(str(i) + \":\",data[i].isnull().sum())"
   ]
  },
  {
   "cell_type": "markdown",
   "id": "9889bc19",
   "metadata": {},
   "source": [
    "### Step Five - One-Hot Encoding for City"
   ]
  },
  {
   "cell_type": "code",
   "execution_count": 48,
   "id": "7ee43484",
   "metadata": {},
   "outputs": [
    {
     "data": {
      "text/plain": [
       "0         Kolkata\n",
       "1         Kolkata\n",
       "2         Kolkata\n",
       "3         Kolkata\n",
       "4         Kolkata\n",
       "          ...    \n",
       "4739    Hyderabad\n",
       "4740    Hyderabad\n",
       "4741    Hyderabad\n",
       "4742    Hyderabad\n",
       "4743    Hyderabad\n",
       "Name: City, Length: 4744, dtype: object"
      ]
     },
     "execution_count": 48,
     "metadata": {},
     "output_type": "execute_result"
    }
   ],
   "source": [
    "data['City']"
   ]
  },
  {
   "cell_type": "code",
   "execution_count": 49,
   "id": "6c8fa208",
   "metadata": {},
   "outputs": [],
   "source": [
    "data = oneHotEncodeColumn(data,'City')"
   ]
  },
  {
   "cell_type": "code",
   "execution_count": 50,
   "id": "536824ae",
   "metadata": {},
   "outputs": [],
   "source": [
    "data = data.drop(\"City\",axis=1)\n",
    "data = data.drop(\"Area Locality\",axis=1)"
   ]
  },
  {
   "cell_type": "code",
   "execution_count": 51,
   "id": "73f0ca1c",
   "metadata": {},
   "outputs": [
    {
     "data": {
      "text/html": [
       "<div>\n",
       "<style scoped>\n",
       "    .dataframe tbody tr th:only-of-type {\n",
       "        vertical-align: middle;\n",
       "    }\n",
       "\n",
       "    .dataframe tbody tr th {\n",
       "        vertical-align: top;\n",
       "    }\n",
       "\n",
       "    .dataframe thead th {\n",
       "        text-align: right;\n",
       "    }\n",
       "</style>\n",
       "<table border=\"1\" class=\"dataframe\">\n",
       "  <thead>\n",
       "    <tr style=\"text-align: right;\">\n",
       "      <th></th>\n",
       "      <th>index</th>\n",
       "      <th>Posted On</th>\n",
       "      <th>BHK</th>\n",
       "      <th>Rent</th>\n",
       "      <th>Size</th>\n",
       "      <th>Area Type</th>\n",
       "      <th>Furnishing Status</th>\n",
       "      <th>Tenant Preferred</th>\n",
       "      <th>Bathroom</th>\n",
       "      <th>Point of Contact</th>\n",
       "      <th>Floor On</th>\n",
       "      <th>Floor Out Of</th>\n",
       "      <th>Bangalore</th>\n",
       "      <th>Chennai</th>\n",
       "      <th>Delhi</th>\n",
       "      <th>Hyderabad</th>\n",
       "      <th>Kolkata</th>\n",
       "      <th>Mumbai</th>\n",
       "    </tr>\n",
       "  </thead>\n",
       "  <tbody>\n",
       "    <tr>\n",
       "      <th>0</th>\n",
       "      <td>0</td>\n",
       "      <td>168</td>\n",
       "      <td>2</td>\n",
       "      <td>10000</td>\n",
       "      <td>1100</td>\n",
       "      <td>1</td>\n",
       "      <td>Unfurnished</td>\n",
       "      <td>Bachelors/Family</td>\n",
       "      <td>2</td>\n",
       "      <td>Contact Owner</td>\n",
       "      <td>0</td>\n",
       "      <td>2</td>\n",
       "      <td>0.0</td>\n",
       "      <td>0.0</td>\n",
       "      <td>0.0</td>\n",
       "      <td>0.0</td>\n",
       "      <td>1.0</td>\n",
       "      <td>0.0</td>\n",
       "    </tr>\n",
       "    <tr>\n",
       "      <th>1</th>\n",
       "      <td>1</td>\n",
       "      <td>163</td>\n",
       "      <td>2</td>\n",
       "      <td>20000</td>\n",
       "      <td>800</td>\n",
       "      <td>1</td>\n",
       "      <td>Semi-Furnished</td>\n",
       "      <td>Bachelors/Family</td>\n",
       "      <td>1</td>\n",
       "      <td>Contact Owner</td>\n",
       "      <td>1</td>\n",
       "      <td>3</td>\n",
       "      <td>0.0</td>\n",
       "      <td>0.0</td>\n",
       "      <td>0.0</td>\n",
       "      <td>0.0</td>\n",
       "      <td>1.0</td>\n",
       "      <td>0.0</td>\n",
       "    </tr>\n",
       "    <tr>\n",
       "      <th>2</th>\n",
       "      <td>2</td>\n",
       "      <td>166</td>\n",
       "      <td>2</td>\n",
       "      <td>17000</td>\n",
       "      <td>1000</td>\n",
       "      <td>1</td>\n",
       "      <td>Semi-Furnished</td>\n",
       "      <td>Bachelors/Family</td>\n",
       "      <td>1</td>\n",
       "      <td>Contact Owner</td>\n",
       "      <td>1</td>\n",
       "      <td>3</td>\n",
       "      <td>0.0</td>\n",
       "      <td>0.0</td>\n",
       "      <td>0.0</td>\n",
       "      <td>0.0</td>\n",
       "      <td>1.0</td>\n",
       "      <td>0.0</td>\n",
       "    </tr>\n",
       "    <tr>\n",
       "      <th>3</th>\n",
       "      <td>3</td>\n",
       "      <td>215</td>\n",
       "      <td>2</td>\n",
       "      <td>10000</td>\n",
       "      <td>800</td>\n",
       "      <td>1</td>\n",
       "      <td>Unfurnished</td>\n",
       "      <td>Bachelors/Family</td>\n",
       "      <td>1</td>\n",
       "      <td>Contact Owner</td>\n",
       "      <td>1</td>\n",
       "      <td>2</td>\n",
       "      <td>0.0</td>\n",
       "      <td>0.0</td>\n",
       "      <td>0.0</td>\n",
       "      <td>0.0</td>\n",
       "      <td>1.0</td>\n",
       "      <td>0.0</td>\n",
       "    </tr>\n",
       "    <tr>\n",
       "      <th>4</th>\n",
       "      <td>4</td>\n",
       "      <td>159</td>\n",
       "      <td>2</td>\n",
       "      <td>7500</td>\n",
       "      <td>850</td>\n",
       "      <td>0</td>\n",
       "      <td>Unfurnished</td>\n",
       "      <td>Bachelors</td>\n",
       "      <td>1</td>\n",
       "      <td>Contact Owner</td>\n",
       "      <td>1</td>\n",
       "      <td>2</td>\n",
       "      <td>0.0</td>\n",
       "      <td>0.0</td>\n",
       "      <td>0.0</td>\n",
       "      <td>0.0</td>\n",
       "      <td>1.0</td>\n",
       "      <td>0.0</td>\n",
       "    </tr>\n",
       "    <tr>\n",
       "      <th>...</th>\n",
       "      <td>...</td>\n",
       "      <td>...</td>\n",
       "      <td>...</td>\n",
       "      <td>...</td>\n",
       "      <td>...</td>\n",
       "      <td>...</td>\n",
       "      <td>...</td>\n",
       "      <td>...</td>\n",
       "      <td>...</td>\n",
       "      <td>...</td>\n",
       "      <td>...</td>\n",
       "      <td>...</td>\n",
       "      <td>...</td>\n",
       "      <td>...</td>\n",
       "      <td>...</td>\n",
       "      <td>...</td>\n",
       "      <td>...</td>\n",
       "      <td>...</td>\n",
       "    </tr>\n",
       "    <tr>\n",
       "      <th>4739</th>\n",
       "      <td>4741</td>\n",
       "      <td>168</td>\n",
       "      <td>2</td>\n",
       "      <td>15000</td>\n",
       "      <td>1000</td>\n",
       "      <td>0</td>\n",
       "      <td>Semi-Furnished</td>\n",
       "      <td>Bachelors/Family</td>\n",
       "      <td>2</td>\n",
       "      <td>Contact Owner</td>\n",
       "      <td>3</td>\n",
       "      <td>5</td>\n",
       "      <td>0.0</td>\n",
       "      <td>0.0</td>\n",
       "      <td>0.0</td>\n",
       "      <td>1.0</td>\n",
       "      <td>0.0</td>\n",
       "      <td>0.0</td>\n",
       "    </tr>\n",
       "    <tr>\n",
       "      <th>4740</th>\n",
       "      <td>4742</td>\n",
       "      <td>165</td>\n",
       "      <td>3</td>\n",
       "      <td>29000</td>\n",
       "      <td>2000</td>\n",
       "      <td>1</td>\n",
       "      <td>Semi-Furnished</td>\n",
       "      <td>Bachelors/Family</td>\n",
       "      <td>3</td>\n",
       "      <td>Contact Owner</td>\n",
       "      <td>1</td>\n",
       "      <td>4</td>\n",
       "      <td>0.0</td>\n",
       "      <td>0.0</td>\n",
       "      <td>0.0</td>\n",
       "      <td>1.0</td>\n",
       "      <td>0.0</td>\n",
       "      <td>0.0</td>\n",
       "    </tr>\n",
       "    <tr>\n",
       "      <th>4741</th>\n",
       "      <td>4743</td>\n",
       "      <td>221</td>\n",
       "      <td>3</td>\n",
       "      <td>35000</td>\n",
       "      <td>1750</td>\n",
       "      <td>0</td>\n",
       "      <td>Semi-Furnished</td>\n",
       "      <td>Bachelors/Family</td>\n",
       "      <td>3</td>\n",
       "      <td>Contact Agent</td>\n",
       "      <td>3</td>\n",
       "      <td>5</td>\n",
       "      <td>0.0</td>\n",
       "      <td>0.0</td>\n",
       "      <td>0.0</td>\n",
       "      <td>1.0</td>\n",
       "      <td>0.0</td>\n",
       "      <td>0.0</td>\n",
       "    </tr>\n",
       "    <tr>\n",
       "      <th>4742</th>\n",
       "      <td>4744</td>\n",
       "      <td>217</td>\n",
       "      <td>3</td>\n",
       "      <td>45000</td>\n",
       "      <td>1500</td>\n",
       "      <td>0</td>\n",
       "      <td>Semi-Furnished</td>\n",
       "      <td>Family</td>\n",
       "      <td>2</td>\n",
       "      <td>Contact Agent</td>\n",
       "      <td>23</td>\n",
       "      <td>34</td>\n",
       "      <td>0.0</td>\n",
       "      <td>0.0</td>\n",
       "      <td>0.0</td>\n",
       "      <td>1.0</td>\n",
       "      <td>0.0</td>\n",
       "      <td>0.0</td>\n",
       "    </tr>\n",
       "    <tr>\n",
       "      <th>4743</th>\n",
       "      <td>4745</td>\n",
       "      <td>154</td>\n",
       "      <td>2</td>\n",
       "      <td>15000</td>\n",
       "      <td>1000</td>\n",
       "      <td>0</td>\n",
       "      <td>Unfurnished</td>\n",
       "      <td>Bachelors</td>\n",
       "      <td>2</td>\n",
       "      <td>Contact Owner</td>\n",
       "      <td>4</td>\n",
       "      <td>5</td>\n",
       "      <td>0.0</td>\n",
       "      <td>0.0</td>\n",
       "      <td>0.0</td>\n",
       "      <td>1.0</td>\n",
       "      <td>0.0</td>\n",
       "      <td>0.0</td>\n",
       "    </tr>\n",
       "  </tbody>\n",
       "</table>\n",
       "<p>4744 rows × 18 columns</p>\n",
       "</div>"
      ],
      "text/plain": [
       "      index  Posted On  BHK   Rent  Size  Area Type Furnishing Status  \\\n",
       "0         0        168    2  10000  1100          1       Unfurnished   \n",
       "1         1        163    2  20000   800          1    Semi-Furnished   \n",
       "2         2        166    2  17000  1000          1    Semi-Furnished   \n",
       "3         3        215    2  10000   800          1       Unfurnished   \n",
       "4         4        159    2   7500   850          0       Unfurnished   \n",
       "...     ...        ...  ...    ...   ...        ...               ...   \n",
       "4739   4741        168    2  15000  1000          0    Semi-Furnished   \n",
       "4740   4742        165    3  29000  2000          1    Semi-Furnished   \n",
       "4741   4743        221    3  35000  1750          0    Semi-Furnished   \n",
       "4742   4744        217    3  45000  1500          0    Semi-Furnished   \n",
       "4743   4745        154    2  15000  1000          0       Unfurnished   \n",
       "\n",
       "      Tenant Preferred  Bathroom Point of Contact Floor On Floor Out Of  \\\n",
       "0     Bachelors/Family         2    Contact Owner        0            2   \n",
       "1     Bachelors/Family         1    Contact Owner        1            3   \n",
       "2     Bachelors/Family         1    Contact Owner        1            3   \n",
       "3     Bachelors/Family         1    Contact Owner        1            2   \n",
       "4            Bachelors         1    Contact Owner        1            2   \n",
       "...                ...       ...              ...      ...          ...   \n",
       "4739  Bachelors/Family         2    Contact Owner        3            5   \n",
       "4740  Bachelors/Family         3    Contact Owner        1            4   \n",
       "4741  Bachelors/Family         3    Contact Agent        3            5   \n",
       "4742            Family         2    Contact Agent       23           34   \n",
       "4743         Bachelors         2    Contact Owner        4            5   \n",
       "\n",
       "      Bangalore  Chennai  Delhi  Hyderabad  Kolkata  Mumbai  \n",
       "0           0.0      0.0    0.0        0.0      1.0     0.0  \n",
       "1           0.0      0.0    0.0        0.0      1.0     0.0  \n",
       "2           0.0      0.0    0.0        0.0      1.0     0.0  \n",
       "3           0.0      0.0    0.0        0.0      1.0     0.0  \n",
       "4           0.0      0.0    0.0        0.0      1.0     0.0  \n",
       "...         ...      ...    ...        ...      ...     ...  \n",
       "4739        0.0      0.0    0.0        1.0      0.0     0.0  \n",
       "4740        0.0      0.0    0.0        1.0      0.0     0.0  \n",
       "4741        0.0      0.0    0.0        1.0      0.0     0.0  \n",
       "4742        0.0      0.0    0.0        1.0      0.0     0.0  \n",
       "4743        0.0      0.0    0.0        1.0      0.0     0.0  \n",
       "\n",
       "[4744 rows x 18 columns]"
      ]
     },
     "metadata": {},
     "output_type": "display_data"
    }
   ],
   "source": [
    "display(data)"
   ]
  },
  {
   "cell_type": "markdown",
   "id": "f4d11294",
   "metadata": {},
   "source": [
    "*Check that the update didn't create any null values unintentionally.*"
   ]
  },
  {
   "cell_type": "code",
   "execution_count": 52,
   "id": "00741dd6",
   "metadata": {},
   "outputs": [
    {
     "name": "stdout",
     "output_type": "stream",
     "text": [
      "index: 0\n",
      "Posted On: 0\n",
      "BHK: 0\n",
      "Rent: 0\n",
      "Size: 0\n",
      "Area Type: 0\n",
      "Furnishing Status: 0\n",
      "Tenant Preferred: 0\n",
      "Bathroom: 0\n",
      "Point of Contact: 0\n",
      "Floor On: 0\n",
      "Floor Out Of: 0\n",
      "Bangalore: 0\n",
      "Chennai: 0\n",
      "Delhi: 0\n",
      "Hyderabad: 0\n",
      "Kolkata: 0\n",
      "Mumbai: 0\n"
     ]
    }
   ],
   "source": [
    "columns = data.columns\n",
    "for i in columns:\n",
    "    print(str(i) + \":\",data[i].isnull().sum())"
   ]
  },
  {
   "cell_type": "markdown",
   "id": "fa3a7261",
   "metadata": {},
   "source": [
    "### Step Six - Label *(or maybe ordinal)* Encode Furnishing Status"
   ]
  },
  {
   "cell_type": "code",
   "execution_count": 53,
   "id": "fa491ce2",
   "metadata": {},
   "outputs": [
    {
     "data": {
      "text/plain": [
       "0          Unfurnished\n",
       "1       Semi-Furnished\n",
       "2       Semi-Furnished\n",
       "3          Unfurnished\n",
       "4          Unfurnished\n",
       "             ...      \n",
       "4739    Semi-Furnished\n",
       "4740    Semi-Furnished\n",
       "4741    Semi-Furnished\n",
       "4742    Semi-Furnished\n",
       "4743       Unfurnished\n",
       "Name: Furnishing Status, Length: 4744, dtype: object"
      ]
     },
     "execution_count": 53,
     "metadata": {},
     "output_type": "execute_result"
    }
   ],
   "source": [
    "data['Furnishing Status']"
   ]
  },
  {
   "cell_type": "code",
   "execution_count": 54,
   "id": "bc114560",
   "metadata": {},
   "outputs": [
    {
     "data": {
      "text/plain": [
       "0       0\n",
       "1       1\n",
       "2       1\n",
       "3       0\n",
       "4       0\n",
       "       ..\n",
       "4739    1\n",
       "4740    1\n",
       "4741    1\n",
       "4742    1\n",
       "4743    0\n",
       "Name: Furnishing Status, Length: 4744, dtype: int8"
      ]
     },
     "execution_count": 54,
     "metadata": {},
     "output_type": "execute_result"
    }
   ],
   "source": [
    "data = labelEncodeColumn(data,'Furnishing Status')\n",
    "data['Furnishing Status']"
   ]
  },
  {
   "cell_type": "markdown",
   "id": "ca1cf66f",
   "metadata": {},
   "source": [
    "*Check that the update didn't create any null values unintentionally.*"
   ]
  },
  {
   "cell_type": "code",
   "execution_count": 55,
   "id": "8c1f9b7c",
   "metadata": {},
   "outputs": [
    {
     "name": "stdout",
     "output_type": "stream",
     "text": [
      "index: 0\n",
      "Posted On: 0\n",
      "BHK: 0\n",
      "Rent: 0\n",
      "Size: 0\n",
      "Area Type: 0\n",
      "Furnishing Status: 0\n",
      "Tenant Preferred: 0\n",
      "Bathroom: 0\n",
      "Point of Contact: 0\n",
      "Floor On: 0\n",
      "Floor Out Of: 0\n",
      "Bangalore: 0\n",
      "Chennai: 0\n",
      "Delhi: 0\n",
      "Hyderabad: 0\n",
      "Kolkata: 0\n",
      "Mumbai: 0\n"
     ]
    }
   ],
   "source": [
    "columns = data.columns\n",
    "for i in columns:\n",
    "    print(str(i) + \":\",data[i].isnull().sum())"
   ]
  },
  {
   "cell_type": "markdown",
   "id": "e4c21dc5",
   "metadata": {},
   "source": [
    "### Step Seven - One-Hot Encode Tenant Preferred *(with bachelor and family both binary so they can include bachelor/family with just those columns)*"
   ]
  },
  {
   "cell_type": "code",
   "execution_count": 56,
   "id": "3b25d4fa",
   "metadata": {},
   "outputs": [
    {
     "data": {
      "text/plain": [
       "0       Bachelors/Family\n",
       "1       Bachelors/Family\n",
       "2       Bachelors/Family\n",
       "3       Bachelors/Family\n",
       "4              Bachelors\n",
       "              ...       \n",
       "4739    Bachelors/Family\n",
       "4740    Bachelors/Family\n",
       "4741    Bachelors/Family\n",
       "4742              Family\n",
       "4743           Bachelors\n",
       "Name: Tenant Preferred, Length: 4744, dtype: object"
      ]
     },
     "execution_count": 56,
     "metadata": {},
     "output_type": "execute_result"
    }
   ],
   "source": [
    "data[\"Tenant Preferred\"]"
   ]
  },
  {
   "cell_type": "code",
   "execution_count": 57,
   "id": "387fa106",
   "metadata": {},
   "outputs": [
    {
     "data": {
      "text/plain": [
       "Index(['index', 'Posted On', 'BHK', 'Rent', 'Size', 'Area Type',\n",
       "       'Furnishing Status', 'Tenant Preferred', 'Bathroom', 'Point of Contact',\n",
       "       'Floor On', 'Floor Out Of', 'Bangalore', 'Chennai', 'Delhi',\n",
       "       'Hyderabad', 'Kolkata', 'Mumbai', 'Bachelors', 'Family'],\n",
       "      dtype='object')"
      ]
     },
     "execution_count": 57,
     "metadata": {},
     "output_type": "execute_result"
    }
   ],
   "source": [
    "data = oneHotEncodeColumn(data,\"Tenant Preferred\")\n",
    "columns = data.columns\n",
    "columns"
   ]
  },
  {
   "cell_type": "code",
   "execution_count": 58,
   "id": "7bfa03e7",
   "metadata": {},
   "outputs": [
    {
     "data": {
      "text/html": [
       "<div>\n",
       "<style scoped>\n",
       "    .dataframe tbody tr th:only-of-type {\n",
       "        vertical-align: middle;\n",
       "    }\n",
       "\n",
       "    .dataframe tbody tr th {\n",
       "        vertical-align: top;\n",
       "    }\n",
       "\n",
       "    .dataframe thead th {\n",
       "        text-align: right;\n",
       "    }\n",
       "</style>\n",
       "<table border=\"1\" class=\"dataframe\">\n",
       "  <thead>\n",
       "    <tr style=\"text-align: right;\">\n",
       "      <th></th>\n",
       "      <th>index</th>\n",
       "      <th>Posted On</th>\n",
       "      <th>BHK</th>\n",
       "      <th>Rent</th>\n",
       "      <th>Size</th>\n",
       "      <th>Area Type</th>\n",
       "      <th>Furnishing Status</th>\n",
       "      <th>Bathroom</th>\n",
       "      <th>Point of Contact</th>\n",
       "      <th>Floor On</th>\n",
       "      <th>Floor Out Of</th>\n",
       "      <th>Bangalore</th>\n",
       "      <th>Chennai</th>\n",
       "      <th>Delhi</th>\n",
       "      <th>Hyderabad</th>\n",
       "      <th>Kolkata</th>\n",
       "      <th>Mumbai</th>\n",
       "      <th>Bachelors</th>\n",
       "      <th>Family</th>\n",
       "    </tr>\n",
       "  </thead>\n",
       "  <tbody>\n",
       "    <tr>\n",
       "      <th>0</th>\n",
       "      <td>0</td>\n",
       "      <td>168</td>\n",
       "      <td>2</td>\n",
       "      <td>10000</td>\n",
       "      <td>1100</td>\n",
       "      <td>1</td>\n",
       "      <td>0</td>\n",
       "      <td>2</td>\n",
       "      <td>Contact Owner</td>\n",
       "      <td>0</td>\n",
       "      <td>2</td>\n",
       "      <td>0.0</td>\n",
       "      <td>0.0</td>\n",
       "      <td>0.0</td>\n",
       "      <td>0.0</td>\n",
       "      <td>1.0</td>\n",
       "      <td>0.0</td>\n",
       "      <td>1</td>\n",
       "      <td>1</td>\n",
       "    </tr>\n",
       "    <tr>\n",
       "      <th>1</th>\n",
       "      <td>1</td>\n",
       "      <td>163</td>\n",
       "      <td>2</td>\n",
       "      <td>20000</td>\n",
       "      <td>800</td>\n",
       "      <td>1</td>\n",
       "      <td>1</td>\n",
       "      <td>1</td>\n",
       "      <td>Contact Owner</td>\n",
       "      <td>1</td>\n",
       "      <td>3</td>\n",
       "      <td>0.0</td>\n",
       "      <td>0.0</td>\n",
       "      <td>0.0</td>\n",
       "      <td>0.0</td>\n",
       "      <td>1.0</td>\n",
       "      <td>0.0</td>\n",
       "      <td>1</td>\n",
       "      <td>1</td>\n",
       "    </tr>\n",
       "    <tr>\n",
       "      <th>2</th>\n",
       "      <td>2</td>\n",
       "      <td>166</td>\n",
       "      <td>2</td>\n",
       "      <td>17000</td>\n",
       "      <td>1000</td>\n",
       "      <td>1</td>\n",
       "      <td>1</td>\n",
       "      <td>1</td>\n",
       "      <td>Contact Owner</td>\n",
       "      <td>1</td>\n",
       "      <td>3</td>\n",
       "      <td>0.0</td>\n",
       "      <td>0.0</td>\n",
       "      <td>0.0</td>\n",
       "      <td>0.0</td>\n",
       "      <td>1.0</td>\n",
       "      <td>0.0</td>\n",
       "      <td>1</td>\n",
       "      <td>1</td>\n",
       "    </tr>\n",
       "    <tr>\n",
       "      <th>3</th>\n",
       "      <td>3</td>\n",
       "      <td>215</td>\n",
       "      <td>2</td>\n",
       "      <td>10000</td>\n",
       "      <td>800</td>\n",
       "      <td>1</td>\n",
       "      <td>0</td>\n",
       "      <td>1</td>\n",
       "      <td>Contact Owner</td>\n",
       "      <td>1</td>\n",
       "      <td>2</td>\n",
       "      <td>0.0</td>\n",
       "      <td>0.0</td>\n",
       "      <td>0.0</td>\n",
       "      <td>0.0</td>\n",
       "      <td>1.0</td>\n",
       "      <td>0.0</td>\n",
       "      <td>1</td>\n",
       "      <td>1</td>\n",
       "    </tr>\n",
       "    <tr>\n",
       "      <th>4</th>\n",
       "      <td>4</td>\n",
       "      <td>159</td>\n",
       "      <td>2</td>\n",
       "      <td>7500</td>\n",
       "      <td>850</td>\n",
       "      <td>0</td>\n",
       "      <td>0</td>\n",
       "      <td>1</td>\n",
       "      <td>Contact Owner</td>\n",
       "      <td>1</td>\n",
       "      <td>2</td>\n",
       "      <td>0.0</td>\n",
       "      <td>0.0</td>\n",
       "      <td>0.0</td>\n",
       "      <td>0.0</td>\n",
       "      <td>1.0</td>\n",
       "      <td>0.0</td>\n",
       "      <td>1</td>\n",
       "      <td>0</td>\n",
       "    </tr>\n",
       "    <tr>\n",
       "      <th>...</th>\n",
       "      <td>...</td>\n",
       "      <td>...</td>\n",
       "      <td>...</td>\n",
       "      <td>...</td>\n",
       "      <td>...</td>\n",
       "      <td>...</td>\n",
       "      <td>...</td>\n",
       "      <td>...</td>\n",
       "      <td>...</td>\n",
       "      <td>...</td>\n",
       "      <td>...</td>\n",
       "      <td>...</td>\n",
       "      <td>...</td>\n",
       "      <td>...</td>\n",
       "      <td>...</td>\n",
       "      <td>...</td>\n",
       "      <td>...</td>\n",
       "      <td>...</td>\n",
       "      <td>...</td>\n",
       "    </tr>\n",
       "    <tr>\n",
       "      <th>4739</th>\n",
       "      <td>4741</td>\n",
       "      <td>168</td>\n",
       "      <td>2</td>\n",
       "      <td>15000</td>\n",
       "      <td>1000</td>\n",
       "      <td>0</td>\n",
       "      <td>1</td>\n",
       "      <td>2</td>\n",
       "      <td>Contact Owner</td>\n",
       "      <td>3</td>\n",
       "      <td>5</td>\n",
       "      <td>0.0</td>\n",
       "      <td>0.0</td>\n",
       "      <td>0.0</td>\n",
       "      <td>1.0</td>\n",
       "      <td>0.0</td>\n",
       "      <td>0.0</td>\n",
       "      <td>1</td>\n",
       "      <td>1</td>\n",
       "    </tr>\n",
       "    <tr>\n",
       "      <th>4740</th>\n",
       "      <td>4742</td>\n",
       "      <td>165</td>\n",
       "      <td>3</td>\n",
       "      <td>29000</td>\n",
       "      <td>2000</td>\n",
       "      <td>1</td>\n",
       "      <td>1</td>\n",
       "      <td>3</td>\n",
       "      <td>Contact Owner</td>\n",
       "      <td>1</td>\n",
       "      <td>4</td>\n",
       "      <td>0.0</td>\n",
       "      <td>0.0</td>\n",
       "      <td>0.0</td>\n",
       "      <td>1.0</td>\n",
       "      <td>0.0</td>\n",
       "      <td>0.0</td>\n",
       "      <td>1</td>\n",
       "      <td>1</td>\n",
       "    </tr>\n",
       "    <tr>\n",
       "      <th>4741</th>\n",
       "      <td>4743</td>\n",
       "      <td>221</td>\n",
       "      <td>3</td>\n",
       "      <td>35000</td>\n",
       "      <td>1750</td>\n",
       "      <td>0</td>\n",
       "      <td>1</td>\n",
       "      <td>3</td>\n",
       "      <td>Contact Agent</td>\n",
       "      <td>3</td>\n",
       "      <td>5</td>\n",
       "      <td>0.0</td>\n",
       "      <td>0.0</td>\n",
       "      <td>0.0</td>\n",
       "      <td>1.0</td>\n",
       "      <td>0.0</td>\n",
       "      <td>0.0</td>\n",
       "      <td>1</td>\n",
       "      <td>1</td>\n",
       "    </tr>\n",
       "    <tr>\n",
       "      <th>4742</th>\n",
       "      <td>4744</td>\n",
       "      <td>217</td>\n",
       "      <td>3</td>\n",
       "      <td>45000</td>\n",
       "      <td>1500</td>\n",
       "      <td>0</td>\n",
       "      <td>1</td>\n",
       "      <td>2</td>\n",
       "      <td>Contact Agent</td>\n",
       "      <td>23</td>\n",
       "      <td>34</td>\n",
       "      <td>0.0</td>\n",
       "      <td>0.0</td>\n",
       "      <td>0.0</td>\n",
       "      <td>1.0</td>\n",
       "      <td>0.0</td>\n",
       "      <td>0.0</td>\n",
       "      <td>0</td>\n",
       "      <td>1</td>\n",
       "    </tr>\n",
       "    <tr>\n",
       "      <th>4743</th>\n",
       "      <td>4745</td>\n",
       "      <td>154</td>\n",
       "      <td>2</td>\n",
       "      <td>15000</td>\n",
       "      <td>1000</td>\n",
       "      <td>0</td>\n",
       "      <td>0</td>\n",
       "      <td>2</td>\n",
       "      <td>Contact Owner</td>\n",
       "      <td>4</td>\n",
       "      <td>5</td>\n",
       "      <td>0.0</td>\n",
       "      <td>0.0</td>\n",
       "      <td>0.0</td>\n",
       "      <td>1.0</td>\n",
       "      <td>0.0</td>\n",
       "      <td>0.0</td>\n",
       "      <td>1</td>\n",
       "      <td>0</td>\n",
       "    </tr>\n",
       "  </tbody>\n",
       "</table>\n",
       "<p>4744 rows × 19 columns</p>\n",
       "</div>"
      ],
      "text/plain": [
       "      index  Posted On  BHK   Rent  Size  Area Type  Furnishing Status  \\\n",
       "0         0        168    2  10000  1100          1                  0   \n",
       "1         1        163    2  20000   800          1                  1   \n",
       "2         2        166    2  17000  1000          1                  1   \n",
       "3         3        215    2  10000   800          1                  0   \n",
       "4         4        159    2   7500   850          0                  0   \n",
       "...     ...        ...  ...    ...   ...        ...                ...   \n",
       "4739   4741        168    2  15000  1000          0                  1   \n",
       "4740   4742        165    3  29000  2000          1                  1   \n",
       "4741   4743        221    3  35000  1750          0                  1   \n",
       "4742   4744        217    3  45000  1500          0                  1   \n",
       "4743   4745        154    2  15000  1000          0                  0   \n",
       "\n",
       "      Bathroom Point of Contact Floor On Floor Out Of  Bangalore  Chennai  \\\n",
       "0            2    Contact Owner        0            2        0.0      0.0   \n",
       "1            1    Contact Owner        1            3        0.0      0.0   \n",
       "2            1    Contact Owner        1            3        0.0      0.0   \n",
       "3            1    Contact Owner        1            2        0.0      0.0   \n",
       "4            1    Contact Owner        1            2        0.0      0.0   \n",
       "...        ...              ...      ...          ...        ...      ...   \n",
       "4739         2    Contact Owner        3            5        0.0      0.0   \n",
       "4740         3    Contact Owner        1            4        0.0      0.0   \n",
       "4741         3    Contact Agent        3            5        0.0      0.0   \n",
       "4742         2    Contact Agent       23           34        0.0      0.0   \n",
       "4743         2    Contact Owner        4            5        0.0      0.0   \n",
       "\n",
       "      Delhi  Hyderabad  Kolkata  Mumbai  Bachelors  Family  \n",
       "0       0.0        0.0      1.0     0.0          1       1  \n",
       "1       0.0        0.0      1.0     0.0          1       1  \n",
       "2       0.0        0.0      1.0     0.0          1       1  \n",
       "3       0.0        0.0      1.0     0.0          1       1  \n",
       "4       0.0        0.0      1.0     0.0          1       0  \n",
       "...     ...        ...      ...     ...        ...     ...  \n",
       "4739    0.0        1.0      0.0     0.0          1       1  \n",
       "4740    0.0        1.0      0.0     0.0          1       1  \n",
       "4741    0.0        1.0      0.0     0.0          1       1  \n",
       "4742    0.0        1.0      0.0     0.0          0       1  \n",
       "4743    0.0        1.0      0.0     0.0          1       0  \n",
       "\n",
       "[4744 rows x 19 columns]"
      ]
     },
     "metadata": {},
     "output_type": "display_data"
    }
   ],
   "source": [
    "data = data.drop(\"Tenant Preferred\",axis=1)\n",
    "display(data)"
   ]
  },
  {
   "cell_type": "markdown",
   "id": "95971df2",
   "metadata": {},
   "source": [
    "*Check that the update didn't create any null values unintentionally.*"
   ]
  },
  {
   "cell_type": "code",
   "execution_count": 59,
   "id": "d3e61ca8",
   "metadata": {},
   "outputs": [
    {
     "name": "stdout",
     "output_type": "stream",
     "text": [
      "index: 0\n",
      "Posted On: 0\n",
      "BHK: 0\n",
      "Rent: 0\n",
      "Size: 0\n",
      "Area Type: 0\n",
      "Furnishing Status: 0\n",
      "Bathroom: 0\n",
      "Point of Contact: 0\n",
      "Floor On: 0\n",
      "Floor Out Of: 0\n",
      "Bangalore: 0\n",
      "Chennai: 0\n",
      "Delhi: 0\n",
      "Hyderabad: 0\n",
      "Kolkata: 0\n",
      "Mumbai: 0\n",
      "Bachelors: 0\n",
      "Family: 0\n"
     ]
    }
   ],
   "source": [
    "columns = data.columns\n",
    "for i in columns:\n",
    "    print(str(i) + \":\",data[i].isnull().sum())"
   ]
  },
  {
   "cell_type": "markdown",
   "id": "4bdfafae",
   "metadata": {},
   "source": [
    "### Step Eight - Label Encode Point of Contact"
   ]
  },
  {
   "cell_type": "code",
   "execution_count": 60,
   "id": "2fb46735",
   "metadata": {},
   "outputs": [
    {
     "data": {
      "text/plain": [
       "0       Contact Owner\n",
       "1       Contact Owner\n",
       "2       Contact Owner\n",
       "3       Contact Owner\n",
       "4       Contact Owner\n",
       "            ...      \n",
       "4739    Contact Owner\n",
       "4740    Contact Owner\n",
       "4741    Contact Agent\n",
       "4742    Contact Agent\n",
       "4743    Contact Owner\n",
       "Name: Point of Contact, Length: 4744, dtype: object"
      ]
     },
     "execution_count": 60,
     "metadata": {},
     "output_type": "execute_result"
    }
   ],
   "source": [
    "data['Point of Contact']"
   ]
  },
  {
   "cell_type": "markdown",
   "id": "a90acab4",
   "metadata": {},
   "source": [
    "*First I need to drop Contact Builder given the scarcity of data using that value.*"
   ]
  },
  {
   "cell_type": "code",
   "execution_count": 61,
   "id": "aaac75c8",
   "metadata": {},
   "outputs": [
    {
     "data": {
      "text/plain": [
       "Contact Owner    3214\n",
       "Contact Agent    1529\n",
       "Name: Point of Contact, dtype: int64"
      ]
     },
     "execution_count": 61,
     "metadata": {},
     "output_type": "execute_result"
    }
   ],
   "source": [
    "data = data.drop(data[data['Point of Contact'] == 'Contact Builder'].index)\n",
    "data['Point of Contact'].value_counts()"
   ]
  },
  {
   "cell_type": "code",
   "execution_count": 62,
   "id": "69366f73",
   "metadata": {},
   "outputs": [
    {
     "data": {
      "text/html": [
       "<div>\n",
       "<style scoped>\n",
       "    .dataframe tbody tr th:only-of-type {\n",
       "        vertical-align: middle;\n",
       "    }\n",
       "\n",
       "    .dataframe tbody tr th {\n",
       "        vertical-align: top;\n",
       "    }\n",
       "\n",
       "    .dataframe thead th {\n",
       "        text-align: right;\n",
       "    }\n",
       "</style>\n",
       "<table border=\"1\" class=\"dataframe\">\n",
       "  <thead>\n",
       "    <tr style=\"text-align: right;\">\n",
       "      <th></th>\n",
       "      <th>level_0</th>\n",
       "      <th>index</th>\n",
       "      <th>Posted On</th>\n",
       "      <th>BHK</th>\n",
       "      <th>Rent</th>\n",
       "      <th>Size</th>\n",
       "      <th>Area Type</th>\n",
       "      <th>Furnishing Status</th>\n",
       "      <th>Bathroom</th>\n",
       "      <th>Point of Contact</th>\n",
       "      <th>Floor On</th>\n",
       "      <th>Floor Out Of</th>\n",
       "      <th>Bangalore</th>\n",
       "      <th>Chennai</th>\n",
       "      <th>Delhi</th>\n",
       "      <th>Hyderabad</th>\n",
       "      <th>Kolkata</th>\n",
       "      <th>Mumbai</th>\n",
       "      <th>Bachelors</th>\n",
       "      <th>Family</th>\n",
       "    </tr>\n",
       "  </thead>\n",
       "  <tbody>\n",
       "    <tr>\n",
       "      <th>0</th>\n",
       "      <td>0</td>\n",
       "      <td>0</td>\n",
       "      <td>168</td>\n",
       "      <td>2</td>\n",
       "      <td>10000</td>\n",
       "      <td>1100</td>\n",
       "      <td>1</td>\n",
       "      <td>0</td>\n",
       "      <td>2</td>\n",
       "      <td>Contact Owner</td>\n",
       "      <td>0</td>\n",
       "      <td>2</td>\n",
       "      <td>0.0</td>\n",
       "      <td>0.0</td>\n",
       "      <td>0.0</td>\n",
       "      <td>0.0</td>\n",
       "      <td>1.0</td>\n",
       "      <td>0.0</td>\n",
       "      <td>1</td>\n",
       "      <td>1</td>\n",
       "    </tr>\n",
       "    <tr>\n",
       "      <th>1</th>\n",
       "      <td>1</td>\n",
       "      <td>1</td>\n",
       "      <td>163</td>\n",
       "      <td>2</td>\n",
       "      <td>20000</td>\n",
       "      <td>800</td>\n",
       "      <td>1</td>\n",
       "      <td>1</td>\n",
       "      <td>1</td>\n",
       "      <td>Contact Owner</td>\n",
       "      <td>1</td>\n",
       "      <td>3</td>\n",
       "      <td>0.0</td>\n",
       "      <td>0.0</td>\n",
       "      <td>0.0</td>\n",
       "      <td>0.0</td>\n",
       "      <td>1.0</td>\n",
       "      <td>0.0</td>\n",
       "      <td>1</td>\n",
       "      <td>1</td>\n",
       "    </tr>\n",
       "    <tr>\n",
       "      <th>2</th>\n",
       "      <td>2</td>\n",
       "      <td>2</td>\n",
       "      <td>166</td>\n",
       "      <td>2</td>\n",
       "      <td>17000</td>\n",
       "      <td>1000</td>\n",
       "      <td>1</td>\n",
       "      <td>1</td>\n",
       "      <td>1</td>\n",
       "      <td>Contact Owner</td>\n",
       "      <td>1</td>\n",
       "      <td>3</td>\n",
       "      <td>0.0</td>\n",
       "      <td>0.0</td>\n",
       "      <td>0.0</td>\n",
       "      <td>0.0</td>\n",
       "      <td>1.0</td>\n",
       "      <td>0.0</td>\n",
       "      <td>1</td>\n",
       "      <td>1</td>\n",
       "    </tr>\n",
       "    <tr>\n",
       "      <th>3</th>\n",
       "      <td>3</td>\n",
       "      <td>3</td>\n",
       "      <td>215</td>\n",
       "      <td>2</td>\n",
       "      <td>10000</td>\n",
       "      <td>800</td>\n",
       "      <td>1</td>\n",
       "      <td>0</td>\n",
       "      <td>1</td>\n",
       "      <td>Contact Owner</td>\n",
       "      <td>1</td>\n",
       "      <td>2</td>\n",
       "      <td>0.0</td>\n",
       "      <td>0.0</td>\n",
       "      <td>0.0</td>\n",
       "      <td>0.0</td>\n",
       "      <td>1.0</td>\n",
       "      <td>0.0</td>\n",
       "      <td>1</td>\n",
       "      <td>1</td>\n",
       "    </tr>\n",
       "    <tr>\n",
       "      <th>4</th>\n",
       "      <td>4</td>\n",
       "      <td>4</td>\n",
       "      <td>159</td>\n",
       "      <td>2</td>\n",
       "      <td>7500</td>\n",
       "      <td>850</td>\n",
       "      <td>0</td>\n",
       "      <td>0</td>\n",
       "      <td>1</td>\n",
       "      <td>Contact Owner</td>\n",
       "      <td>1</td>\n",
       "      <td>2</td>\n",
       "      <td>0.0</td>\n",
       "      <td>0.0</td>\n",
       "      <td>0.0</td>\n",
       "      <td>0.0</td>\n",
       "      <td>1.0</td>\n",
       "      <td>0.0</td>\n",
       "      <td>1</td>\n",
       "      <td>0</td>\n",
       "    </tr>\n",
       "    <tr>\n",
       "      <th>...</th>\n",
       "      <td>...</td>\n",
       "      <td>...</td>\n",
       "      <td>...</td>\n",
       "      <td>...</td>\n",
       "      <td>...</td>\n",
       "      <td>...</td>\n",
       "      <td>...</td>\n",
       "      <td>...</td>\n",
       "      <td>...</td>\n",
       "      <td>...</td>\n",
       "      <td>...</td>\n",
       "      <td>...</td>\n",
       "      <td>...</td>\n",
       "      <td>...</td>\n",
       "      <td>...</td>\n",
       "      <td>...</td>\n",
       "      <td>...</td>\n",
       "      <td>...</td>\n",
       "      <td>...</td>\n",
       "      <td>...</td>\n",
       "    </tr>\n",
       "    <tr>\n",
       "      <th>4738</th>\n",
       "      <td>4739</td>\n",
       "      <td>4741</td>\n",
       "      <td>168</td>\n",
       "      <td>2</td>\n",
       "      <td>15000</td>\n",
       "      <td>1000</td>\n",
       "      <td>0</td>\n",
       "      <td>1</td>\n",
       "      <td>2</td>\n",
       "      <td>Contact Owner</td>\n",
       "      <td>3</td>\n",
       "      <td>5</td>\n",
       "      <td>0.0</td>\n",
       "      <td>0.0</td>\n",
       "      <td>0.0</td>\n",
       "      <td>1.0</td>\n",
       "      <td>0.0</td>\n",
       "      <td>0.0</td>\n",
       "      <td>1</td>\n",
       "      <td>1</td>\n",
       "    </tr>\n",
       "    <tr>\n",
       "      <th>4739</th>\n",
       "      <td>4740</td>\n",
       "      <td>4742</td>\n",
       "      <td>165</td>\n",
       "      <td>3</td>\n",
       "      <td>29000</td>\n",
       "      <td>2000</td>\n",
       "      <td>1</td>\n",
       "      <td>1</td>\n",
       "      <td>3</td>\n",
       "      <td>Contact Owner</td>\n",
       "      <td>1</td>\n",
       "      <td>4</td>\n",
       "      <td>0.0</td>\n",
       "      <td>0.0</td>\n",
       "      <td>0.0</td>\n",
       "      <td>1.0</td>\n",
       "      <td>0.0</td>\n",
       "      <td>0.0</td>\n",
       "      <td>1</td>\n",
       "      <td>1</td>\n",
       "    </tr>\n",
       "    <tr>\n",
       "      <th>4740</th>\n",
       "      <td>4741</td>\n",
       "      <td>4743</td>\n",
       "      <td>221</td>\n",
       "      <td>3</td>\n",
       "      <td>35000</td>\n",
       "      <td>1750</td>\n",
       "      <td>0</td>\n",
       "      <td>1</td>\n",
       "      <td>3</td>\n",
       "      <td>Contact Agent</td>\n",
       "      <td>3</td>\n",
       "      <td>5</td>\n",
       "      <td>0.0</td>\n",
       "      <td>0.0</td>\n",
       "      <td>0.0</td>\n",
       "      <td>1.0</td>\n",
       "      <td>0.0</td>\n",
       "      <td>0.0</td>\n",
       "      <td>1</td>\n",
       "      <td>1</td>\n",
       "    </tr>\n",
       "    <tr>\n",
       "      <th>4741</th>\n",
       "      <td>4742</td>\n",
       "      <td>4744</td>\n",
       "      <td>217</td>\n",
       "      <td>3</td>\n",
       "      <td>45000</td>\n",
       "      <td>1500</td>\n",
       "      <td>0</td>\n",
       "      <td>1</td>\n",
       "      <td>2</td>\n",
       "      <td>Contact Agent</td>\n",
       "      <td>23</td>\n",
       "      <td>34</td>\n",
       "      <td>0.0</td>\n",
       "      <td>0.0</td>\n",
       "      <td>0.0</td>\n",
       "      <td>1.0</td>\n",
       "      <td>0.0</td>\n",
       "      <td>0.0</td>\n",
       "      <td>0</td>\n",
       "      <td>1</td>\n",
       "    </tr>\n",
       "    <tr>\n",
       "      <th>4742</th>\n",
       "      <td>4743</td>\n",
       "      <td>4745</td>\n",
       "      <td>154</td>\n",
       "      <td>2</td>\n",
       "      <td>15000</td>\n",
       "      <td>1000</td>\n",
       "      <td>0</td>\n",
       "      <td>0</td>\n",
       "      <td>2</td>\n",
       "      <td>Contact Owner</td>\n",
       "      <td>4</td>\n",
       "      <td>5</td>\n",
       "      <td>0.0</td>\n",
       "      <td>0.0</td>\n",
       "      <td>0.0</td>\n",
       "      <td>1.0</td>\n",
       "      <td>0.0</td>\n",
       "      <td>0.0</td>\n",
       "      <td>1</td>\n",
       "      <td>0</td>\n",
       "    </tr>\n",
       "  </tbody>\n",
       "</table>\n",
       "<p>4743 rows × 20 columns</p>\n",
       "</div>"
      ],
      "text/plain": [
       "      level_0  index  Posted On  BHK   Rent  Size  Area Type  \\\n",
       "0           0      0        168    2  10000  1100          1   \n",
       "1           1      1        163    2  20000   800          1   \n",
       "2           2      2        166    2  17000  1000          1   \n",
       "3           3      3        215    2  10000   800          1   \n",
       "4           4      4        159    2   7500   850          0   \n",
       "...       ...    ...        ...  ...    ...   ...        ...   \n",
       "4738     4739   4741        168    2  15000  1000          0   \n",
       "4739     4740   4742        165    3  29000  2000          1   \n",
       "4740     4741   4743        221    3  35000  1750          0   \n",
       "4741     4742   4744        217    3  45000  1500          0   \n",
       "4742     4743   4745        154    2  15000  1000          0   \n",
       "\n",
       "      Furnishing Status  Bathroom Point of Contact Floor On Floor Out Of  \\\n",
       "0                     0         2    Contact Owner        0            2   \n",
       "1                     1         1    Contact Owner        1            3   \n",
       "2                     1         1    Contact Owner        1            3   \n",
       "3                     0         1    Contact Owner        1            2   \n",
       "4                     0         1    Contact Owner        1            2   \n",
       "...                 ...       ...              ...      ...          ...   \n",
       "4738                  1         2    Contact Owner        3            5   \n",
       "4739                  1         3    Contact Owner        1            4   \n",
       "4740                  1         3    Contact Agent        3            5   \n",
       "4741                  1         2    Contact Agent       23           34   \n",
       "4742                  0         2    Contact Owner        4            5   \n",
       "\n",
       "      Bangalore  Chennai  Delhi  Hyderabad  Kolkata  Mumbai  Bachelors  Family  \n",
       "0           0.0      0.0    0.0        0.0      1.0     0.0          1       1  \n",
       "1           0.0      0.0    0.0        0.0      1.0     0.0          1       1  \n",
       "2           0.0      0.0    0.0        0.0      1.0     0.0          1       1  \n",
       "3           0.0      0.0    0.0        0.0      1.0     0.0          1       1  \n",
       "4           0.0      0.0    0.0        0.0      1.0     0.0          1       0  \n",
       "...         ...      ...    ...        ...      ...     ...        ...     ...  \n",
       "4738        0.0      0.0    0.0        1.0      0.0     0.0          1       1  \n",
       "4739        0.0      0.0    0.0        1.0      0.0     0.0          1       1  \n",
       "4740        0.0      0.0    0.0        1.0      0.0     0.0          1       1  \n",
       "4741        0.0      0.0    0.0        1.0      0.0     0.0          0       1  \n",
       "4742        0.0      0.0    0.0        1.0      0.0     0.0          1       0  \n",
       "\n",
       "[4743 rows x 20 columns]"
      ]
     },
     "metadata": {},
     "output_type": "display_data"
    }
   ],
   "source": [
    "data = data.reset_index()\n",
    "display(data)"
   ]
  },
  {
   "cell_type": "markdown",
   "id": "bc8ee1fa",
   "metadata": {},
   "source": [
    "*Check that dropping rows didn't create any null values unintentionally.*"
   ]
  },
  {
   "cell_type": "code",
   "execution_count": 63,
   "id": "3f36fbe7",
   "metadata": {},
   "outputs": [
    {
     "name": "stdout",
     "output_type": "stream",
     "text": [
      "level_0: 0\n",
      "index: 0\n",
      "Posted On: 0\n",
      "BHK: 0\n",
      "Rent: 0\n",
      "Size: 0\n",
      "Area Type: 0\n",
      "Furnishing Status: 0\n",
      "Bathroom: 0\n",
      "Point of Contact: 0\n",
      "Floor On: 0\n",
      "Floor Out Of: 0\n",
      "Bangalore: 0\n",
      "Chennai: 0\n",
      "Delhi: 0\n",
      "Hyderabad: 0\n",
      "Kolkata: 0\n",
      "Mumbai: 0\n",
      "Bachelors: 0\n",
      "Family: 0\n"
     ]
    }
   ],
   "source": [
    "columns = data.columns\n",
    "for i in columns:\n",
    "    print(str(i) + \":\",data[i].isnull().sum())"
   ]
  },
  {
   "cell_type": "markdown",
   "id": "4b360da9",
   "metadata": {},
   "source": [
    "*Next I just label encode the Point of Contact column.*"
   ]
  },
  {
   "cell_type": "code",
   "execution_count": 64,
   "id": "b4f1bda2",
   "metadata": {},
   "outputs": [
    {
     "data": {
      "text/html": [
       "<div>\n",
       "<style scoped>\n",
       "    .dataframe tbody tr th:only-of-type {\n",
       "        vertical-align: middle;\n",
       "    }\n",
       "\n",
       "    .dataframe tbody tr th {\n",
       "        vertical-align: top;\n",
       "    }\n",
       "\n",
       "    .dataframe thead th {\n",
       "        text-align: right;\n",
       "    }\n",
       "</style>\n",
       "<table border=\"1\" class=\"dataframe\">\n",
       "  <thead>\n",
       "    <tr style=\"text-align: right;\">\n",
       "      <th></th>\n",
       "      <th>level_0</th>\n",
       "      <th>index</th>\n",
       "      <th>Posted On</th>\n",
       "      <th>BHK</th>\n",
       "      <th>Rent</th>\n",
       "      <th>Size</th>\n",
       "      <th>Area Type</th>\n",
       "      <th>Furnishing Status</th>\n",
       "      <th>Bathroom</th>\n",
       "      <th>Point of Contact</th>\n",
       "      <th>Floor On</th>\n",
       "      <th>Floor Out Of</th>\n",
       "      <th>Bangalore</th>\n",
       "      <th>Chennai</th>\n",
       "      <th>Delhi</th>\n",
       "      <th>Hyderabad</th>\n",
       "      <th>Kolkata</th>\n",
       "      <th>Mumbai</th>\n",
       "      <th>Bachelors</th>\n",
       "      <th>Family</th>\n",
       "    </tr>\n",
       "  </thead>\n",
       "  <tbody>\n",
       "    <tr>\n",
       "      <th>0</th>\n",
       "      <td>0</td>\n",
       "      <td>0</td>\n",
       "      <td>168</td>\n",
       "      <td>2</td>\n",
       "      <td>10000</td>\n",
       "      <td>1100</td>\n",
       "      <td>1</td>\n",
       "      <td>0</td>\n",
       "      <td>2</td>\n",
       "      <td>1</td>\n",
       "      <td>0</td>\n",
       "      <td>2</td>\n",
       "      <td>0.0</td>\n",
       "      <td>0.0</td>\n",
       "      <td>0.0</td>\n",
       "      <td>0.0</td>\n",
       "      <td>1.0</td>\n",
       "      <td>0.0</td>\n",
       "      <td>1</td>\n",
       "      <td>1</td>\n",
       "    </tr>\n",
       "    <tr>\n",
       "      <th>1</th>\n",
       "      <td>1</td>\n",
       "      <td>1</td>\n",
       "      <td>163</td>\n",
       "      <td>2</td>\n",
       "      <td>20000</td>\n",
       "      <td>800</td>\n",
       "      <td>1</td>\n",
       "      <td>1</td>\n",
       "      <td>1</td>\n",
       "      <td>1</td>\n",
       "      <td>1</td>\n",
       "      <td>3</td>\n",
       "      <td>0.0</td>\n",
       "      <td>0.0</td>\n",
       "      <td>0.0</td>\n",
       "      <td>0.0</td>\n",
       "      <td>1.0</td>\n",
       "      <td>0.0</td>\n",
       "      <td>1</td>\n",
       "      <td>1</td>\n",
       "    </tr>\n",
       "    <tr>\n",
       "      <th>2</th>\n",
       "      <td>2</td>\n",
       "      <td>2</td>\n",
       "      <td>166</td>\n",
       "      <td>2</td>\n",
       "      <td>17000</td>\n",
       "      <td>1000</td>\n",
       "      <td>1</td>\n",
       "      <td>1</td>\n",
       "      <td>1</td>\n",
       "      <td>1</td>\n",
       "      <td>1</td>\n",
       "      <td>3</td>\n",
       "      <td>0.0</td>\n",
       "      <td>0.0</td>\n",
       "      <td>0.0</td>\n",
       "      <td>0.0</td>\n",
       "      <td>1.0</td>\n",
       "      <td>0.0</td>\n",
       "      <td>1</td>\n",
       "      <td>1</td>\n",
       "    </tr>\n",
       "    <tr>\n",
       "      <th>3</th>\n",
       "      <td>3</td>\n",
       "      <td>3</td>\n",
       "      <td>215</td>\n",
       "      <td>2</td>\n",
       "      <td>10000</td>\n",
       "      <td>800</td>\n",
       "      <td>1</td>\n",
       "      <td>0</td>\n",
       "      <td>1</td>\n",
       "      <td>1</td>\n",
       "      <td>1</td>\n",
       "      <td>2</td>\n",
       "      <td>0.0</td>\n",
       "      <td>0.0</td>\n",
       "      <td>0.0</td>\n",
       "      <td>0.0</td>\n",
       "      <td>1.0</td>\n",
       "      <td>0.0</td>\n",
       "      <td>1</td>\n",
       "      <td>1</td>\n",
       "    </tr>\n",
       "    <tr>\n",
       "      <th>4</th>\n",
       "      <td>4</td>\n",
       "      <td>4</td>\n",
       "      <td>159</td>\n",
       "      <td>2</td>\n",
       "      <td>7500</td>\n",
       "      <td>850</td>\n",
       "      <td>0</td>\n",
       "      <td>0</td>\n",
       "      <td>1</td>\n",
       "      <td>1</td>\n",
       "      <td>1</td>\n",
       "      <td>2</td>\n",
       "      <td>0.0</td>\n",
       "      <td>0.0</td>\n",
       "      <td>0.0</td>\n",
       "      <td>0.0</td>\n",
       "      <td>1.0</td>\n",
       "      <td>0.0</td>\n",
       "      <td>1</td>\n",
       "      <td>0</td>\n",
       "    </tr>\n",
       "    <tr>\n",
       "      <th>...</th>\n",
       "      <td>...</td>\n",
       "      <td>...</td>\n",
       "      <td>...</td>\n",
       "      <td>...</td>\n",
       "      <td>...</td>\n",
       "      <td>...</td>\n",
       "      <td>...</td>\n",
       "      <td>...</td>\n",
       "      <td>...</td>\n",
       "      <td>...</td>\n",
       "      <td>...</td>\n",
       "      <td>...</td>\n",
       "      <td>...</td>\n",
       "      <td>...</td>\n",
       "      <td>...</td>\n",
       "      <td>...</td>\n",
       "      <td>...</td>\n",
       "      <td>...</td>\n",
       "      <td>...</td>\n",
       "      <td>...</td>\n",
       "    </tr>\n",
       "    <tr>\n",
       "      <th>4738</th>\n",
       "      <td>4739</td>\n",
       "      <td>4741</td>\n",
       "      <td>168</td>\n",
       "      <td>2</td>\n",
       "      <td>15000</td>\n",
       "      <td>1000</td>\n",
       "      <td>0</td>\n",
       "      <td>1</td>\n",
       "      <td>2</td>\n",
       "      <td>1</td>\n",
       "      <td>3</td>\n",
       "      <td>5</td>\n",
       "      <td>0.0</td>\n",
       "      <td>0.0</td>\n",
       "      <td>0.0</td>\n",
       "      <td>1.0</td>\n",
       "      <td>0.0</td>\n",
       "      <td>0.0</td>\n",
       "      <td>1</td>\n",
       "      <td>1</td>\n",
       "    </tr>\n",
       "    <tr>\n",
       "      <th>4739</th>\n",
       "      <td>4740</td>\n",
       "      <td>4742</td>\n",
       "      <td>165</td>\n",
       "      <td>3</td>\n",
       "      <td>29000</td>\n",
       "      <td>2000</td>\n",
       "      <td>1</td>\n",
       "      <td>1</td>\n",
       "      <td>3</td>\n",
       "      <td>1</td>\n",
       "      <td>1</td>\n",
       "      <td>4</td>\n",
       "      <td>0.0</td>\n",
       "      <td>0.0</td>\n",
       "      <td>0.0</td>\n",
       "      <td>1.0</td>\n",
       "      <td>0.0</td>\n",
       "      <td>0.0</td>\n",
       "      <td>1</td>\n",
       "      <td>1</td>\n",
       "    </tr>\n",
       "    <tr>\n",
       "      <th>4740</th>\n",
       "      <td>4741</td>\n",
       "      <td>4743</td>\n",
       "      <td>221</td>\n",
       "      <td>3</td>\n",
       "      <td>35000</td>\n",
       "      <td>1750</td>\n",
       "      <td>0</td>\n",
       "      <td>1</td>\n",
       "      <td>3</td>\n",
       "      <td>0</td>\n",
       "      <td>3</td>\n",
       "      <td>5</td>\n",
       "      <td>0.0</td>\n",
       "      <td>0.0</td>\n",
       "      <td>0.0</td>\n",
       "      <td>1.0</td>\n",
       "      <td>0.0</td>\n",
       "      <td>0.0</td>\n",
       "      <td>1</td>\n",
       "      <td>1</td>\n",
       "    </tr>\n",
       "    <tr>\n",
       "      <th>4741</th>\n",
       "      <td>4742</td>\n",
       "      <td>4744</td>\n",
       "      <td>217</td>\n",
       "      <td>3</td>\n",
       "      <td>45000</td>\n",
       "      <td>1500</td>\n",
       "      <td>0</td>\n",
       "      <td>1</td>\n",
       "      <td>2</td>\n",
       "      <td>0</td>\n",
       "      <td>23</td>\n",
       "      <td>34</td>\n",
       "      <td>0.0</td>\n",
       "      <td>0.0</td>\n",
       "      <td>0.0</td>\n",
       "      <td>1.0</td>\n",
       "      <td>0.0</td>\n",
       "      <td>0.0</td>\n",
       "      <td>0</td>\n",
       "      <td>1</td>\n",
       "    </tr>\n",
       "    <tr>\n",
       "      <th>4742</th>\n",
       "      <td>4743</td>\n",
       "      <td>4745</td>\n",
       "      <td>154</td>\n",
       "      <td>2</td>\n",
       "      <td>15000</td>\n",
       "      <td>1000</td>\n",
       "      <td>0</td>\n",
       "      <td>0</td>\n",
       "      <td>2</td>\n",
       "      <td>1</td>\n",
       "      <td>4</td>\n",
       "      <td>5</td>\n",
       "      <td>0.0</td>\n",
       "      <td>0.0</td>\n",
       "      <td>0.0</td>\n",
       "      <td>1.0</td>\n",
       "      <td>0.0</td>\n",
       "      <td>0.0</td>\n",
       "      <td>1</td>\n",
       "      <td>0</td>\n",
       "    </tr>\n",
       "  </tbody>\n",
       "</table>\n",
       "<p>4743 rows × 20 columns</p>\n",
       "</div>"
      ],
      "text/plain": [
       "      level_0  index  Posted On  BHK   Rent  Size  Area Type  \\\n",
       "0           0      0        168    2  10000  1100          1   \n",
       "1           1      1        163    2  20000   800          1   \n",
       "2           2      2        166    2  17000  1000          1   \n",
       "3           3      3        215    2  10000   800          1   \n",
       "4           4      4        159    2   7500   850          0   \n",
       "...       ...    ...        ...  ...    ...   ...        ...   \n",
       "4738     4739   4741        168    2  15000  1000          0   \n",
       "4739     4740   4742        165    3  29000  2000          1   \n",
       "4740     4741   4743        221    3  35000  1750          0   \n",
       "4741     4742   4744        217    3  45000  1500          0   \n",
       "4742     4743   4745        154    2  15000  1000          0   \n",
       "\n",
       "      Furnishing Status  Bathroom  Point of Contact Floor On Floor Out Of  \\\n",
       "0                     0         2                 1        0            2   \n",
       "1                     1         1                 1        1            3   \n",
       "2                     1         1                 1        1            3   \n",
       "3                     0         1                 1        1            2   \n",
       "4                     0         1                 1        1            2   \n",
       "...                 ...       ...               ...      ...          ...   \n",
       "4738                  1         2                 1        3            5   \n",
       "4739                  1         3                 1        1            4   \n",
       "4740                  1         3                 0        3            5   \n",
       "4741                  1         2                 0       23           34   \n",
       "4742                  0         2                 1        4            5   \n",
       "\n",
       "      Bangalore  Chennai  Delhi  Hyderabad  Kolkata  Mumbai  Bachelors  Family  \n",
       "0           0.0      0.0    0.0        0.0      1.0     0.0          1       1  \n",
       "1           0.0      0.0    0.0        0.0      1.0     0.0          1       1  \n",
       "2           0.0      0.0    0.0        0.0      1.0     0.0          1       1  \n",
       "3           0.0      0.0    0.0        0.0      1.0     0.0          1       1  \n",
       "4           0.0      0.0    0.0        0.0      1.0     0.0          1       0  \n",
       "...         ...      ...    ...        ...      ...     ...        ...     ...  \n",
       "4738        0.0      0.0    0.0        1.0      0.0     0.0          1       1  \n",
       "4739        0.0      0.0    0.0        1.0      0.0     0.0          1       1  \n",
       "4740        0.0      0.0    0.0        1.0      0.0     0.0          1       1  \n",
       "4741        0.0      0.0    0.0        1.0      0.0     0.0          0       1  \n",
       "4742        0.0      0.0    0.0        1.0      0.0     0.0          1       0  \n",
       "\n",
       "[4743 rows x 20 columns]"
      ]
     },
     "metadata": {},
     "output_type": "display_data"
    }
   ],
   "source": [
    "data = labelEncodeColumn(data,'Point of Contact')\n",
    "display(data)"
   ]
  },
  {
   "cell_type": "markdown",
   "id": "64587e02",
   "metadata": {},
   "source": [
    "*Now after we remove the columns representing the indices at points in the process, we are finished processing our data.*"
   ]
  },
  {
   "cell_type": "code",
   "execution_count": 65,
   "id": "625e287e",
   "metadata": {},
   "outputs": [
    {
     "data": {
      "text/html": [
       "<div>\n",
       "<style scoped>\n",
       "    .dataframe tbody tr th:only-of-type {\n",
       "        vertical-align: middle;\n",
       "    }\n",
       "\n",
       "    .dataframe tbody tr th {\n",
       "        vertical-align: top;\n",
       "    }\n",
       "\n",
       "    .dataframe thead th {\n",
       "        text-align: right;\n",
       "    }\n",
       "</style>\n",
       "<table border=\"1\" class=\"dataframe\">\n",
       "  <thead>\n",
       "    <tr style=\"text-align: right;\">\n",
       "      <th></th>\n",
       "      <th>Posted On</th>\n",
       "      <th>BHK</th>\n",
       "      <th>Rent</th>\n",
       "      <th>Size</th>\n",
       "      <th>Area Type</th>\n",
       "      <th>Furnishing Status</th>\n",
       "      <th>Bathroom</th>\n",
       "      <th>Point of Contact</th>\n",
       "      <th>Floor On</th>\n",
       "      <th>Floor Out Of</th>\n",
       "      <th>Bangalore</th>\n",
       "      <th>Chennai</th>\n",
       "      <th>Delhi</th>\n",
       "      <th>Hyderabad</th>\n",
       "      <th>Kolkata</th>\n",
       "      <th>Mumbai</th>\n",
       "      <th>Bachelors</th>\n",
       "      <th>Family</th>\n",
       "    </tr>\n",
       "  </thead>\n",
       "  <tbody>\n",
       "    <tr>\n",
       "      <th>0</th>\n",
       "      <td>168</td>\n",
       "      <td>2</td>\n",
       "      <td>10000</td>\n",
       "      <td>1100</td>\n",
       "      <td>1</td>\n",
       "      <td>0</td>\n",
       "      <td>2</td>\n",
       "      <td>1</td>\n",
       "      <td>0</td>\n",
       "      <td>2</td>\n",
       "      <td>0.0</td>\n",
       "      <td>0.0</td>\n",
       "      <td>0.0</td>\n",
       "      <td>0.0</td>\n",
       "      <td>1.0</td>\n",
       "      <td>0.0</td>\n",
       "      <td>1</td>\n",
       "      <td>1</td>\n",
       "    </tr>\n",
       "    <tr>\n",
       "      <th>1</th>\n",
       "      <td>163</td>\n",
       "      <td>2</td>\n",
       "      <td>20000</td>\n",
       "      <td>800</td>\n",
       "      <td>1</td>\n",
       "      <td>1</td>\n",
       "      <td>1</td>\n",
       "      <td>1</td>\n",
       "      <td>1</td>\n",
       "      <td>3</td>\n",
       "      <td>0.0</td>\n",
       "      <td>0.0</td>\n",
       "      <td>0.0</td>\n",
       "      <td>0.0</td>\n",
       "      <td>1.0</td>\n",
       "      <td>0.0</td>\n",
       "      <td>1</td>\n",
       "      <td>1</td>\n",
       "    </tr>\n",
       "    <tr>\n",
       "      <th>2</th>\n",
       "      <td>166</td>\n",
       "      <td>2</td>\n",
       "      <td>17000</td>\n",
       "      <td>1000</td>\n",
       "      <td>1</td>\n",
       "      <td>1</td>\n",
       "      <td>1</td>\n",
       "      <td>1</td>\n",
       "      <td>1</td>\n",
       "      <td>3</td>\n",
       "      <td>0.0</td>\n",
       "      <td>0.0</td>\n",
       "      <td>0.0</td>\n",
       "      <td>0.0</td>\n",
       "      <td>1.0</td>\n",
       "      <td>0.0</td>\n",
       "      <td>1</td>\n",
       "      <td>1</td>\n",
       "    </tr>\n",
       "    <tr>\n",
       "      <th>3</th>\n",
       "      <td>215</td>\n",
       "      <td>2</td>\n",
       "      <td>10000</td>\n",
       "      <td>800</td>\n",
       "      <td>1</td>\n",
       "      <td>0</td>\n",
       "      <td>1</td>\n",
       "      <td>1</td>\n",
       "      <td>1</td>\n",
       "      <td>2</td>\n",
       "      <td>0.0</td>\n",
       "      <td>0.0</td>\n",
       "      <td>0.0</td>\n",
       "      <td>0.0</td>\n",
       "      <td>1.0</td>\n",
       "      <td>0.0</td>\n",
       "      <td>1</td>\n",
       "      <td>1</td>\n",
       "    </tr>\n",
       "    <tr>\n",
       "      <th>4</th>\n",
       "      <td>159</td>\n",
       "      <td>2</td>\n",
       "      <td>7500</td>\n",
       "      <td>850</td>\n",
       "      <td>0</td>\n",
       "      <td>0</td>\n",
       "      <td>1</td>\n",
       "      <td>1</td>\n",
       "      <td>1</td>\n",
       "      <td>2</td>\n",
       "      <td>0.0</td>\n",
       "      <td>0.0</td>\n",
       "      <td>0.0</td>\n",
       "      <td>0.0</td>\n",
       "      <td>1.0</td>\n",
       "      <td>0.0</td>\n",
       "      <td>1</td>\n",
       "      <td>0</td>\n",
       "    </tr>\n",
       "    <tr>\n",
       "      <th>...</th>\n",
       "      <td>...</td>\n",
       "      <td>...</td>\n",
       "      <td>...</td>\n",
       "      <td>...</td>\n",
       "      <td>...</td>\n",
       "      <td>...</td>\n",
       "      <td>...</td>\n",
       "      <td>...</td>\n",
       "      <td>...</td>\n",
       "      <td>...</td>\n",
       "      <td>...</td>\n",
       "      <td>...</td>\n",
       "      <td>...</td>\n",
       "      <td>...</td>\n",
       "      <td>...</td>\n",
       "      <td>...</td>\n",
       "      <td>...</td>\n",
       "      <td>...</td>\n",
       "    </tr>\n",
       "    <tr>\n",
       "      <th>4738</th>\n",
       "      <td>168</td>\n",
       "      <td>2</td>\n",
       "      <td>15000</td>\n",
       "      <td>1000</td>\n",
       "      <td>0</td>\n",
       "      <td>1</td>\n",
       "      <td>2</td>\n",
       "      <td>1</td>\n",
       "      <td>3</td>\n",
       "      <td>5</td>\n",
       "      <td>0.0</td>\n",
       "      <td>0.0</td>\n",
       "      <td>0.0</td>\n",
       "      <td>1.0</td>\n",
       "      <td>0.0</td>\n",
       "      <td>0.0</td>\n",
       "      <td>1</td>\n",
       "      <td>1</td>\n",
       "    </tr>\n",
       "    <tr>\n",
       "      <th>4739</th>\n",
       "      <td>165</td>\n",
       "      <td>3</td>\n",
       "      <td>29000</td>\n",
       "      <td>2000</td>\n",
       "      <td>1</td>\n",
       "      <td>1</td>\n",
       "      <td>3</td>\n",
       "      <td>1</td>\n",
       "      <td>1</td>\n",
       "      <td>4</td>\n",
       "      <td>0.0</td>\n",
       "      <td>0.0</td>\n",
       "      <td>0.0</td>\n",
       "      <td>1.0</td>\n",
       "      <td>0.0</td>\n",
       "      <td>0.0</td>\n",
       "      <td>1</td>\n",
       "      <td>1</td>\n",
       "    </tr>\n",
       "    <tr>\n",
       "      <th>4740</th>\n",
       "      <td>221</td>\n",
       "      <td>3</td>\n",
       "      <td>35000</td>\n",
       "      <td>1750</td>\n",
       "      <td>0</td>\n",
       "      <td>1</td>\n",
       "      <td>3</td>\n",
       "      <td>0</td>\n",
       "      <td>3</td>\n",
       "      <td>5</td>\n",
       "      <td>0.0</td>\n",
       "      <td>0.0</td>\n",
       "      <td>0.0</td>\n",
       "      <td>1.0</td>\n",
       "      <td>0.0</td>\n",
       "      <td>0.0</td>\n",
       "      <td>1</td>\n",
       "      <td>1</td>\n",
       "    </tr>\n",
       "    <tr>\n",
       "      <th>4741</th>\n",
       "      <td>217</td>\n",
       "      <td>3</td>\n",
       "      <td>45000</td>\n",
       "      <td>1500</td>\n",
       "      <td>0</td>\n",
       "      <td>1</td>\n",
       "      <td>2</td>\n",
       "      <td>0</td>\n",
       "      <td>23</td>\n",
       "      <td>34</td>\n",
       "      <td>0.0</td>\n",
       "      <td>0.0</td>\n",
       "      <td>0.0</td>\n",
       "      <td>1.0</td>\n",
       "      <td>0.0</td>\n",
       "      <td>0.0</td>\n",
       "      <td>0</td>\n",
       "      <td>1</td>\n",
       "    </tr>\n",
       "    <tr>\n",
       "      <th>4742</th>\n",
       "      <td>154</td>\n",
       "      <td>2</td>\n",
       "      <td>15000</td>\n",
       "      <td>1000</td>\n",
       "      <td>0</td>\n",
       "      <td>0</td>\n",
       "      <td>2</td>\n",
       "      <td>1</td>\n",
       "      <td>4</td>\n",
       "      <td>5</td>\n",
       "      <td>0.0</td>\n",
       "      <td>0.0</td>\n",
       "      <td>0.0</td>\n",
       "      <td>1.0</td>\n",
       "      <td>0.0</td>\n",
       "      <td>0.0</td>\n",
       "      <td>1</td>\n",
       "      <td>0</td>\n",
       "    </tr>\n",
       "  </tbody>\n",
       "</table>\n",
       "<p>4743 rows × 18 columns</p>\n",
       "</div>"
      ],
      "text/plain": [
       "      Posted On  BHK   Rent  Size  Area Type  Furnishing Status  Bathroom  \\\n",
       "0           168    2  10000  1100          1                  0         2   \n",
       "1           163    2  20000   800          1                  1         1   \n",
       "2           166    2  17000  1000          1                  1         1   \n",
       "3           215    2  10000   800          1                  0         1   \n",
       "4           159    2   7500   850          0                  0         1   \n",
       "...         ...  ...    ...   ...        ...                ...       ...   \n",
       "4738        168    2  15000  1000          0                  1         2   \n",
       "4739        165    3  29000  2000          1                  1         3   \n",
       "4740        221    3  35000  1750          0                  1         3   \n",
       "4741        217    3  45000  1500          0                  1         2   \n",
       "4742        154    2  15000  1000          0                  0         2   \n",
       "\n",
       "      Point of Contact Floor On Floor Out Of  Bangalore  Chennai  Delhi  \\\n",
       "0                    1        0            2        0.0      0.0    0.0   \n",
       "1                    1        1            3        0.0      0.0    0.0   \n",
       "2                    1        1            3        0.0      0.0    0.0   \n",
       "3                    1        1            2        0.0      0.0    0.0   \n",
       "4                    1        1            2        0.0      0.0    0.0   \n",
       "...                ...      ...          ...        ...      ...    ...   \n",
       "4738                 1        3            5        0.0      0.0    0.0   \n",
       "4739                 1        1            4        0.0      0.0    0.0   \n",
       "4740                 0        3            5        0.0      0.0    0.0   \n",
       "4741                 0       23           34        0.0      0.0    0.0   \n",
       "4742                 1        4            5        0.0      0.0    0.0   \n",
       "\n",
       "      Hyderabad  Kolkata  Mumbai  Bachelors  Family  \n",
       "0           0.0      1.0     0.0          1       1  \n",
       "1           0.0      1.0     0.0          1       1  \n",
       "2           0.0      1.0     0.0          1       1  \n",
       "3           0.0      1.0     0.0          1       1  \n",
       "4           0.0      1.0     0.0          1       0  \n",
       "...         ...      ...     ...        ...     ...  \n",
       "4738        1.0      0.0     0.0          1       1  \n",
       "4739        1.0      0.0     0.0          1       1  \n",
       "4740        1.0      0.0     0.0          1       1  \n",
       "4741        1.0      0.0     0.0          0       1  \n",
       "4742        1.0      0.0     0.0          1       0  \n",
       "\n",
       "[4743 rows x 18 columns]"
      ]
     },
     "metadata": {},
     "output_type": "display_data"
    }
   ],
   "source": [
    "data = data.drop(\"level_0\",axis=1)\n",
    "data = data.drop(\"index\",axis=1)\n",
    "display(data)"
   ]
  },
  {
   "cell_type": "markdown",
   "id": "8aaf694d",
   "metadata": {},
   "source": [
    "*Now we just need to make sure that all of our data types are numbers (just not strings)*"
   ]
  },
  {
   "cell_type": "code",
   "execution_count": 66,
   "id": "1b419e32",
   "metadata": {},
   "outputs": [],
   "source": [
    "columns = data.columns\n",
    "for i in columns:\n",
    "    data[i] = data[i].astype(int)"
   ]
  },
  {
   "cell_type": "markdown",
   "id": "4614e191",
   "metadata": {},
   "source": [
    "*Check that the update didn't create any null values unintentionally.*"
   ]
  },
  {
   "cell_type": "code",
   "execution_count": 67,
   "id": "52e48471",
   "metadata": {},
   "outputs": [
    {
     "name": "stdout",
     "output_type": "stream",
     "text": [
      "Posted On: 0\n",
      "BHK: 0\n",
      "Rent: 0\n",
      "Size: 0\n",
      "Area Type: 0\n",
      "Furnishing Status: 0\n",
      "Bathroom: 0\n",
      "Point of Contact: 0\n",
      "Floor On: 0\n",
      "Floor Out Of: 0\n",
      "Bangalore: 0\n",
      "Chennai: 0\n",
      "Delhi: 0\n",
      "Hyderabad: 0\n",
      "Kolkata: 0\n",
      "Mumbai: 0\n",
      "Bachelors: 0\n",
      "Family: 0\n"
     ]
    }
   ],
   "source": [
    "columns = data.columns\n",
    "for i in columns:\n",
    "    print(str(i) + \":\",data[i].isnull().sum())"
   ]
  },
  {
   "cell_type": "markdown",
   "id": "c04fbdeb",
   "metadata": {},
   "source": [
    "# Testing for Linear Relationships in Our Variables with Rent"
   ]
  },
  {
   "cell_type": "code",
   "execution_count": 68,
   "id": "91cea6fc",
   "metadata": {},
   "outputs": [],
   "source": [
    "def check_linear_relationship(compare_from):\n",
    "    compare_col = compare_from\n",
    "    theta = np.polyfit(data[compare_col], data['Rent'],1)\n",
    "    y_line = theta[1] + theta[0] * data[compare_col]\n",
    "    plt.scatter(data[compare_col], data['Rent'], color='red')\n",
    "    plt.plot(data[compare_col], y_line, 'b')\n",
    "    plt.title('Rent Vs ' + str(compare_col), fontsize=14)\n",
    "    plt.xlabel(compare_col, fontsize=14)\n",
    "    plt.ylabel('Rent', fontsize=14)\n",
    "    plt.grid(True)\n",
    "    plt.show()\n",
    "    print(\"The slope of the best fit for\", compare_col, \"is \" + str(theta[0]))"
   ]
  },
  {
   "cell_type": "markdown",
   "id": "b2b6ed4e",
   "metadata": {},
   "source": [
    "### Posted On"
   ]
  },
  {
   "cell_type": "code",
   "execution_count": 69,
   "id": "86f91a58",
   "metadata": {},
   "outputs": [
    {
     "data": {
      "image/png": "[encoded data removed]",
      "text/plain": [
       "<Figure size 640x480 with 1 Axes>"
      ]
     },
     "metadata": {},
     "output_type": "display_data"
    },
    {
     "name": "stdout",
     "output_type": "stream",
     "text": [
      "The slope of the best fit for Posted On is 381.409965141933\n"
     ]
    }
   ],
   "source": [
    "check_linear_relationship(\"Posted On\")"
   ]
  },
  {
   "cell_type": "markdown",
   "id": "97037158",
   "metadata": {},
   "source": [
    "### BHK"
   ]
  },
  {
   "cell_type": "code",
   "execution_count": 70,
   "id": "1955422d",
   "metadata": {},
   "outputs": [
    {
     "data": {
      "image/png": "[encoded data removed]",
      "text/plain": [
       "<Figure size 640x480 with 1 Axes>"
      ]
     },
     "metadata": {},
     "output_type": "display_data"
    },
    {
     "name": "stdout",
     "output_type": "stream",
     "text": [
      "The slope of the best fit for BHK is 34702.721763320005\n"
     ]
    }
   ],
   "source": [
    "check_linear_relationship(\"BHK\")"
   ]
  },
  {
   "cell_type": "markdown",
   "id": "4ea63a1e",
   "metadata": {},
   "source": [
    "### Size"
   ]
  },
  {
   "cell_type": "code",
   "execution_count": 71,
   "id": "c55e0f59",
   "metadata": {},
   "outputs": [
    {
     "data": {
      "image/png": "[encoded data removed]",
      "text/plain": [
       "<Figure size 640x480 with 1 Axes>"
      ]
     },
     "metadata": {},
     "output_type": "display_data"
    },
    {
     "name": "stdout",
     "output_type": "stream",
     "text": [
      "The slope of the best fit for Size is 50.93056286579361\n"
     ]
    }
   ],
   "source": [
    "check_linear_relationship(\"Size\")"
   ]
  },
  {
   "cell_type": "code",
   "execution_count": 72,
   "id": "3196359c",
   "metadata": {},
   "outputs": [
    {
     "data": {
      "image/png": "[encoded data removed]",
      "text/plain": [
       "<Figure size 640x480 with 1 Axes>"
      ]
     },
     "metadata": {},
     "output_type": "display_data"
    },
    {
     "name": "stdout",
     "output_type": "stream",
     "text": [
      "The slope of the best fit for Area Type is -33707.11284392383\n"
     ]
    }
   ],
   "source": [
    "check_linear_relationship(\"Area Type\")"
   ]
  },
  {
   "cell_type": "code",
   "execution_count": 73,
   "id": "25e7837b",
   "metadata": {},
   "outputs": [
    {
     "data": {
      "image/png": "[encoded data removed]",
      "text/plain": [
       "<Figure size 640x480 with 1 Axes>"
      ]
     },
     "metadata": {},
     "output_type": "display_data"
    },
    {
     "name": "stdout",
     "output_type": "stream",
     "text": [
      "The slope of the best fit for Furnishing Status is 16698.37890721133\n"
     ]
    }
   ],
   "source": [
    "check_linear_relationship(\"Furnishing Status\")"
   ]
  },
  {
   "cell_type": "code",
   "execution_count": 74,
   "id": "a98510c5",
   "metadata": {},
   "outputs": [
    {
     "data": {
      "image/png": "[encoded data removed]",
      "text/plain": [
       "<Figure size 640x480 with 1 Axes>"
      ]
     },
     "metadata": {},
     "output_type": "display_data"
    },
    {
     "name": "stdout",
     "output_type": "stream",
     "text": [
      "The slope of the best fit for Bathroom is 38964.99742263778\n"
     ]
    }
   ],
   "source": [
    "check_linear_relationship(\"Bathroom\")"
   ]
  },
  {
   "cell_type": "code",
   "execution_count": 75,
   "id": "3f78af2e",
   "metadata": {},
   "outputs": [
    {
     "data": {
      "image/png": "[encoded data removed]",
      "text/plain": [
       "<Figure size 640x480 with 1 Axes>"
      ]
     },
     "metadata": {},
     "output_type": "display_data"
    },
    {
     "name": "stdout",
     "output_type": "stream",
     "text": [
      "The slope of the best fit for Point of Contact is -56773.09172142984\n"
     ]
    }
   ],
   "source": [
    "check_linear_relationship(\"Point of Contact\")"
   ]
  },
  {
   "cell_type": "code",
   "execution_count": 76,
   "id": "a8f869c3",
   "metadata": {},
   "outputs": [
    {
     "data": {
      "image/png": "[encoded data removed]",
      "text/plain": [
       "<Figure size 640x480 with 1 Axes>"
      ]
     },
     "metadata": {},
     "output_type": "display_data"
    },
    {
     "name": "stdout",
     "output_type": "stream",
     "text": [
      "The slope of the best fit for Floor On is 4416.908432565851\n"
     ]
    },
    {
     "data": {
      "image/png": "[encoded data removed]",
      "text/plain": [
       "<Figure size 640x480 with 1 Axes>"
      ]
     },
     "metadata": {},
     "output_type": "display_data"
    },
    {
     "name": "stdout",
     "output_type": "stream",
     "text": [
      "The slope of the best fit for Floor Out Of is 2905.919939181912\n"
     ]
    }
   ],
   "source": [
    "check_linear_relationship(\"Floor On\")\n",
    "check_linear_relationship(\"Floor Out Of\")"
   ]
  },
  {
   "cell_type": "code",
   "execution_count": 77,
   "id": "a7cd939e",
   "metadata": {},
   "outputs": [
    {
     "data": {
      "image/png": "[encoded data removed]",
      "text/plain": [
       "<Figure size 640x480 with 1 Axes>"
      ]
     },
     "metadata": {},
     "output_type": "display_data"
    },
    {
     "name": "stdout",
     "output_type": "stream",
     "text": [
      "The slope of the best fit for Bachelors is -16669.177673926675\n"
     ]
    },
    {
     "data": {
      "image/png": "[encoded data removed]",
      "text/plain": [
       "<Figure size 640x480 with 1 Axes>"
      ]
     },
     "metadata": {},
     "output_type": "display_data"
    },
    {
     "name": "stdout",
     "output_type": "stream",
     "text": [
      "The slope of the best fit for Family is -8646.970311196477\n"
     ]
    }
   ],
   "source": [
    "check_linear_relationship(\"Bachelors\")\n",
    "check_linear_relationship(\"Family\")"
   ]
  },
  {
   "cell_type": "code",
   "execution_count": 78,
   "id": "d57534ca",
   "metadata": {},
   "outputs": [
    {
     "data": {
      "image/png": "[encoded data removed]",
      "text/plain": [
       "<Figure size 640x480 with 1 Axes>"
      ]
     },
     "metadata": {},
     "output_type": "display_data"
    },
    {
     "name": "stdout",
     "output_type": "stream",
     "text": [
      "The slope of the best fit for Bangalore is -12350.777168655457\n"
     ]
    },
    {
     "data": {
      "image/png": "[encoded data removed]",
      "text/plain": [
       "<Figure size 640x480 with 1 Axes>"
      ]
     },
     "metadata": {},
     "output_type": "display_data"
    },
    {
     "name": "stdout",
     "output_type": "stream",
     "text": [
      "The slope of the best fit for Chennai is -16481.062441349008\n"
     ]
    },
    {
     "data": {
      "image/png": "[encoded data removed]",
      "text/plain": [
       "<Figure size 640x480 with 1 Axes>"
      ]
     },
     "metadata": {},
     "output_type": "display_data"
    },
    {
     "name": "stdout",
     "output_type": "stream",
     "text": [
      "The slope of the best fit for Delhi is -6359.166843087023\n"
     ]
    },
    {
     "data": {
      "image/png": "[encoded data removed]",
      "text/plain": [
       "<Figure size 640x480 with 1 Axes>"
      ]
     },
     "metadata": {},
     "output_type": "display_data"
    },
    {
     "name": "stdout",
     "output_type": "stream",
     "text": [
      "The slope of the best fit for Hyderabad is -17641.901935438953\n"
     ]
    },
    {
     "data": {
      "image/png": "[encoded data removed]",
      "text/plain": [
       "<Figure size 640x480 with 1 Axes>"
      ]
     },
     "metadata": {},
     "output_type": "display_data"
    },
    {
     "name": "stdout",
     "output_type": "stream",
     "text": [
      "The slope of the best fit for Kolkata is -26266.73650416441\n"
     ]
    },
    {
     "data": {
      "image/png": "[encoded data removed]",
      "text/plain": [
       "<Figure size 640x480 with 1 Axes>"
      ]
     },
     "metadata": {},
     "output_type": "display_data"
    },
    {
     "name": "stdout",
     "output_type": "stream",
     "text": [
      "The slope of the best fit for Mumbai is 63279.250608935436\n"
     ]
    }
   ],
   "source": [
    "check_linear_relationship(\"Bangalore\")\n",
    "check_linear_relationship(\"Chennai\")\n",
    "check_linear_relationship(\"Delhi\")\n",
    "check_linear_relationship(\"Hyderabad\")\n",
    "check_linear_relationship(\"Kolkata\")\n",
    "check_linear_relationship(\"Mumbai\")"
   ]
  },
  {
   "cell_type": "markdown",
   "id": "90bff35c",
   "metadata": {},
   "source": [
    "### We know now that despite not directly appearing linear, each of our variables has an acceptably strong linear relationship. While the clustered data points make these difficult to see, the best fit lines' slopes indicate the actual trend."
   ]
  },
  {
   "cell_type": "markdown",
   "id": "89fcda86",
   "metadata": {},
   "source": [
    "### Along with accomplishing initial testing for a basic linear regression model, we can perform PCA to determine if we are using too much information along with get a baseline score for validation purposes given each model we want to test."
   ]
  },
  {
   "cell_type": "code",
   "execution_count": 79,
   "id": "30b04592",
   "metadata": {},
   "outputs": [
    {
     "name": "stdout",
     "output_type": "stream",
     "text": [
      "4743\n"
     ]
    }
   ],
   "source": [
    "print(len(data))"
   ]
  },
  {
   "cell_type": "code",
   "execution_count": 80,
   "id": "40ef670c",
   "metadata": {},
   "outputs": [],
   "source": [
    "def validate(data,reg_type=\"linear_regression\",repeats=3):\n",
    "    columns = data.columns\n",
    "    X = data[columns]\n",
    "    y = np.ravel(data[[\"Rent\"]])\n",
    "    X = X.drop(\"Rent\",axis=1)\n",
    "    num_points = len(data)\n",
    "    \n",
    "    pca = PCA()\n",
    "    X_reduced = pca.fit_transform(scale(X))\n",
    "    \n",
    "    cv = RepeatedKFold(n_splits=10, n_repeats=repeats, random_state=1)\n",
    "    \n",
    "    if reg_type == 'linear':\n",
    "        regr = LinearRegression()\n",
    "    elif reg_type == 'random_forest':\n",
    "        regr = RandomForestRegressor()\n",
    "    elif reg_type == 'lasso':\n",
    "        regr = Lasso()\n",
    "    else:\n",
    "        print(\"you need a valid regression type for pca\")\n",
    "        return\n",
    "    mse = []\n",
    "    \n",
    "    score = -1*model_selection.cross_val_score(regr,\n",
    "           np.ones((len(X_reduced),1)), y, cv=cv,\n",
    "           scoring='neg_mean_squared_error').mean()  \n",
    "    mse.append(score/num_points)\n",
    "    \n",
    "    for i in np.arange(1, len(data.columns)):\n",
    "        score = -1*model_selection.cross_val_score(regr,\n",
    "               X_reduced[:,:i], y, cv=cv, scoring='neg_mean_squared_error').mean()\n",
    "        mse.append(score/num_points)\n",
    "        \n",
    "    plt.plot(mse)\n",
    "    plt.xlabel('Number of Used Components')\n",
    "    plt.ylabel('Total MSE / Number of Rows')\n",
    "    plt.title('Rent')\n",
    "    display(mse)"
   ]
  },
  {
   "cell_type": "code",
   "execution_count": 81,
   "id": "ff0ffa28",
   "metadata": {},
   "outputs": [
    {
     "data": {
      "text/html": [
       "<div>\n",
       "<style scoped>\n",
       "    .dataframe tbody tr th:only-of-type {\n",
       "        vertical-align: middle;\n",
       "    }\n",
       "\n",
       "    .dataframe tbody tr th {\n",
       "        vertical-align: top;\n",
       "    }\n",
       "\n",
       "    .dataframe thead th {\n",
       "        text-align: right;\n",
       "    }\n",
       "</style>\n",
       "<table border=\"1\" class=\"dataframe\">\n",
       "  <thead>\n",
       "    <tr style=\"text-align: right;\">\n",
       "      <th></th>\n",
       "      <th>Posted On</th>\n",
       "      <th>BHK</th>\n",
       "      <th>Size</th>\n",
       "      <th>Area Type</th>\n",
       "      <th>Furnishing Status</th>\n",
       "      <th>Bathroom</th>\n",
       "      <th>Point of Contact</th>\n",
       "      <th>Floor On</th>\n",
       "      <th>Floor Out Of</th>\n",
       "      <th>Bangalore</th>\n",
       "      <th>Chennai</th>\n",
       "      <th>Delhi</th>\n",
       "      <th>Hyderabad</th>\n",
       "      <th>Kolkata</th>\n",
       "      <th>Mumbai</th>\n",
       "      <th>Bachelors</th>\n",
       "      <th>Family</th>\n",
       "    </tr>\n",
       "  </thead>\n",
       "  <tbody>\n",
       "    <tr>\n",
       "      <th>0</th>\n",
       "      <td>168</td>\n",
       "      <td>2</td>\n",
       "      <td>1100</td>\n",
       "      <td>1</td>\n",
       "      <td>0</td>\n",
       "      <td>2</td>\n",
       "      <td>1</td>\n",
       "      <td>0</td>\n",
       "      <td>2</td>\n",
       "      <td>0</td>\n",
       "      <td>0</td>\n",
       "      <td>0</td>\n",
       "      <td>0</td>\n",
       "      <td>1</td>\n",
       "      <td>0</td>\n",
       "      <td>1</td>\n",
       "      <td>1</td>\n",
       "    </tr>\n",
       "    <tr>\n",
       "      <th>1</th>\n",
       "      <td>163</td>\n",
       "      <td>2</td>\n",
       "      <td>800</td>\n",
       "      <td>1</td>\n",
       "      <td>1</td>\n",
       "      <td>1</td>\n",
       "      <td>1</td>\n",
       "      <td>1</td>\n",
       "      <td>3</td>\n",
       "      <td>0</td>\n",
       "      <td>0</td>\n",
       "      <td>0</td>\n",
       "      <td>0</td>\n",
       "      <td>1</td>\n",
       "      <td>0</td>\n",
       "      <td>1</td>\n",
       "      <td>1</td>\n",
       "    </tr>\n",
       "    <tr>\n",
       "      <th>2</th>\n",
       "      <td>166</td>\n",
       "      <td>2</td>\n",
       "      <td>1000</td>\n",
       "      <td>1</td>\n",
       "      <td>1</td>\n",
       "      <td>1</td>\n",
       "      <td>1</td>\n",
       "      <td>1</td>\n",
       "      <td>3</td>\n",
       "      <td>0</td>\n",
       "      <td>0</td>\n",
       "      <td>0</td>\n",
       "      <td>0</td>\n",
       "      <td>1</td>\n",
       "      <td>0</td>\n",
       "      <td>1</td>\n",
       "      <td>1</td>\n",
       "    </tr>\n",
       "    <tr>\n",
       "      <th>3</th>\n",
       "      <td>215</td>\n",
       "      <td>2</td>\n",
       "      <td>800</td>\n",
       "      <td>1</td>\n",
       "      <td>0</td>\n",
       "      <td>1</td>\n",
       "      <td>1</td>\n",
       "      <td>1</td>\n",
       "      <td>2</td>\n",
       "      <td>0</td>\n",
       "      <td>0</td>\n",
       "      <td>0</td>\n",
       "      <td>0</td>\n",
       "      <td>1</td>\n",
       "      <td>0</td>\n",
       "      <td>1</td>\n",
       "      <td>1</td>\n",
       "    </tr>\n",
       "    <tr>\n",
       "      <th>4</th>\n",
       "      <td>159</td>\n",
       "      <td>2</td>\n",
       "      <td>850</td>\n",
       "      <td>0</td>\n",
       "      <td>0</td>\n",
       "      <td>1</td>\n",
       "      <td>1</td>\n",
       "      <td>1</td>\n",
       "      <td>2</td>\n",
       "      <td>0</td>\n",
       "      <td>0</td>\n",
       "      <td>0</td>\n",
       "      <td>0</td>\n",
       "      <td>1</td>\n",
       "      <td>0</td>\n",
       "      <td>1</td>\n",
       "      <td>0</td>\n",
       "    </tr>\n",
       "    <tr>\n",
       "      <th>...</th>\n",
       "      <td>...</td>\n",
       "      <td>...</td>\n",
       "      <td>...</td>\n",
       "      <td>...</td>\n",
       "      <td>...</td>\n",
       "      <td>...</td>\n",
       "      <td>...</td>\n",
       "      <td>...</td>\n",
       "      <td>...</td>\n",
       "      <td>...</td>\n",
       "      <td>...</td>\n",
       "      <td>...</td>\n",
       "      <td>...</td>\n",
       "      <td>...</td>\n",
       "      <td>...</td>\n",
       "      <td>...</td>\n",
       "      <td>...</td>\n",
       "    </tr>\n",
       "    <tr>\n",
       "      <th>4738</th>\n",
       "      <td>168</td>\n",
       "      <td>2</td>\n",
       "      <td>1000</td>\n",
       "      <td>0</td>\n",
       "      <td>1</td>\n",
       "      <td>2</td>\n",
       "      <td>1</td>\n",
       "      <td>3</td>\n",
       "      <td>5</td>\n",
       "      <td>0</td>\n",
       "      <td>0</td>\n",
       "      <td>0</td>\n",
       "      <td>1</td>\n",
       "      <td>0</td>\n",
       "      <td>0</td>\n",
       "      <td>1</td>\n",
       "      <td>1</td>\n",
       "    </tr>\n",
       "    <tr>\n",
       "      <th>4739</th>\n",
       "      <td>165</td>\n",
       "      <td>3</td>\n",
       "      <td>2000</td>\n",
       "      <td>1</td>\n",
       "      <td>1</td>\n",
       "      <td>3</td>\n",
       "      <td>1</td>\n",
       "      <td>1</td>\n",
       "      <td>4</td>\n",
       "      <td>0</td>\n",
       "      <td>0</td>\n",
       "      <td>0</td>\n",
       "      <td>1</td>\n",
       "      <td>0</td>\n",
       "      <td>0</td>\n",
       "      <td>1</td>\n",
       "      <td>1</td>\n",
       "    </tr>\n",
       "    <tr>\n",
       "      <th>4740</th>\n",
       "      <td>221</td>\n",
       "      <td>3</td>\n",
       "      <td>1750</td>\n",
       "      <td>0</td>\n",
       "      <td>1</td>\n",
       "      <td>3</td>\n",
       "      <td>0</td>\n",
       "      <td>3</td>\n",
       "      <td>5</td>\n",
       "      <td>0</td>\n",
       "      <td>0</td>\n",
       "      <td>0</td>\n",
       "      <td>1</td>\n",
       "      <td>0</td>\n",
       "      <td>0</td>\n",
       "      <td>1</td>\n",
       "      <td>1</td>\n",
       "    </tr>\n",
       "    <tr>\n",
       "      <th>4741</th>\n",
       "      <td>217</td>\n",
       "      <td>3</td>\n",
       "      <td>1500</td>\n",
       "      <td>0</td>\n",
       "      <td>1</td>\n",
       "      <td>2</td>\n",
       "      <td>0</td>\n",
       "      <td>23</td>\n",
       "      <td>34</td>\n",
       "      <td>0</td>\n",
       "      <td>0</td>\n",
       "      <td>0</td>\n",
       "      <td>1</td>\n",
       "      <td>0</td>\n",
       "      <td>0</td>\n",
       "      <td>0</td>\n",
       "      <td>1</td>\n",
       "    </tr>\n",
       "    <tr>\n",
       "      <th>4742</th>\n",
       "      <td>154</td>\n",
       "      <td>2</td>\n",
       "      <td>1000</td>\n",
       "      <td>0</td>\n",
       "      <td>0</td>\n",
       "      <td>2</td>\n",
       "      <td>1</td>\n",
       "      <td>4</td>\n",
       "      <td>5</td>\n",
       "      <td>0</td>\n",
       "      <td>0</td>\n",
       "      <td>0</td>\n",
       "      <td>1</td>\n",
       "      <td>0</td>\n",
       "      <td>0</td>\n",
       "      <td>1</td>\n",
       "      <td>0</td>\n",
       "    </tr>\n",
       "  </tbody>\n",
       "</table>\n",
       "<p>4743 rows × 17 columns</p>\n",
       "</div>"
      ],
      "text/plain": [
       "      Posted On  BHK  Size  Area Type  Furnishing Status  Bathroom  \\\n",
       "0           168    2  1100          1                  0         2   \n",
       "1           163    2   800          1                  1         1   \n",
       "2           166    2  1000          1                  1         1   \n",
       "3           215    2   800          1                  0         1   \n",
       "4           159    2   850          0                  0         1   \n",
       "...         ...  ...   ...        ...                ...       ...   \n",
       "4738        168    2  1000          0                  1         2   \n",
       "4739        165    3  2000          1                  1         3   \n",
       "4740        221    3  1750          0                  1         3   \n",
       "4741        217    3  1500          0                  1         2   \n",
       "4742        154    2  1000          0                  0         2   \n",
       "\n",
       "      Point of Contact  Floor On  Floor Out Of  Bangalore  Chennai  Delhi  \\\n",
       "0                    1         0             2          0        0      0   \n",
       "1                    1         1             3          0        0      0   \n",
       "2                    1         1             3          0        0      0   \n",
       "3                    1         1             2          0        0      0   \n",
       "4                    1         1             2          0        0      0   \n",
       "...                ...       ...           ...        ...      ...    ...   \n",
       "4738                 1         3             5          0        0      0   \n",
       "4739                 1         1             4          0        0      0   \n",
       "4740                 0         3             5          0        0      0   \n",
       "4741                 0        23            34          0        0      0   \n",
       "4742                 1         4             5          0        0      0   \n",
       "\n",
       "      Hyderabad  Kolkata  Mumbai  Bachelors  Family  \n",
       "0             0        1       0          1       1  \n",
       "1             0        1       0          1       1  \n",
       "2             0        1       0          1       1  \n",
       "3             0        1       0          1       1  \n",
       "4             0        1       0          1       0  \n",
       "...         ...      ...     ...        ...     ...  \n",
       "4738          1        0       0          1       1  \n",
       "4739          1        0       0          1       1  \n",
       "4740          1        0       0          1       1  \n",
       "4741          1        0       0          0       1  \n",
       "4742          1        0       0          1       0  \n",
       "\n",
       "[4743 rows x 17 columns]"
      ]
     },
     "metadata": {},
     "output_type": "display_data"
    }
   ],
   "source": [
    "columns = data.columns\n",
    "X = data[columns]\n",
    "y = data[[\"Rent\"]]\n",
    "X = X.drop(\"Rent\",axis=1)\n",
    "display(X)"
   ]
  },
  {
   "cell_type": "markdown",
   "id": "d636e609",
   "metadata": {},
   "source": [
    "*First we scale our predictor variables between 0 and 1.*"
   ]
  },
  {
   "cell_type": "code",
   "execution_count": 82,
   "id": "7172d423",
   "metadata": {},
   "outputs": [
    {
     "data": {
      "text/plain": [
       "array([[-1.67364730e+00,  3.60641034e-01, -4.07787686e-01, ...,\n",
       "         4.27396013e-01,  6.48111408e-02, -4.29272193e-15],\n",
       "       [-1.96759968e+00, -2.18057345e-01, -3.25602690e-02, ...,\n",
       "        -3.61976306e-01,  1.84844947e-02, -5.20262108e-16],\n",
       "       [-1.85717210e+00, -7.07665007e-02, -7.85675075e-02, ...,\n",
       "        -4.27679410e-01,  1.35389871e-02, -1.32110627e-16],\n",
       "       ...,\n",
       "       [ 1.92262742e+00,  1.79017838e+00, -5.74236164e-01, ...,\n",
       "         6.91839445e-02, -1.58519595e-01, -1.40720931e-16],\n",
       "       [ 4.31721398e+00,  5.84963035e-02,  1.97528756e+00, ...,\n",
       "        -7.49485728e-01, -2.10730821e-01, -1.60255059e-16],\n",
       "       [-4.58352226e-01,  3.62011834e-01, -9.79998755e-01, ...,\n",
       "         6.86908352e-02, -1.29472729e-01,  1.12675757e-16]])"
      ]
     },
     "execution_count": 82,
     "metadata": {},
     "output_type": "execute_result"
    }
   ],
   "source": [
    "pca = PCA()\n",
    "X_reduced = pca.fit_transform(scale(X))\n",
    "X_reduced"
   ]
  },
  {
   "cell_type": "markdown",
   "id": "697d09e6",
   "metadata": {},
   "source": [
    "*Next we define the cross validation method we will use in our evaluation.*"
   ]
  },
  {
   "cell_type": "code",
   "execution_count": 83,
   "id": "05b5d62d",
   "metadata": {},
   "outputs": [],
   "source": [
    "cv = RepeatedKFold(n_splits=10, n_repeats=3, random_state=1)"
   ]
  },
  {
   "cell_type": "code",
   "execution_count": 84,
   "id": "857df34a",
   "metadata": {},
   "outputs": [],
   "source": [
    "regr = LinearRegression()\n",
    "#regr = RandomForestRegressor()\n",
    "mse = []"
   ]
  },
  {
   "cell_type": "markdown",
   "id": "a687ad76",
   "metadata": {},
   "source": [
    "*Next we calculate MSE with only the intercept.*"
   ]
  },
  {
   "cell_type": "code",
   "execution_count": 85,
   "id": "ea989ad5",
   "metadata": {},
   "outputs": [],
   "source": [
    "score = -1*model_selection.cross_val_score(regr,\n",
    "           np.ones((len(X_reduced),1)), y, cv=cv,\n",
    "           scoring='neg_mean_squared_error').mean()  \n",
    "mse.append(score/len(data))"
   ]
  },
  {
   "cell_type": "markdown",
   "id": "8de5a7bc",
   "metadata": {},
   "source": [
    "*Finally we calculate MSE using cross-validation, adding one component at a time.*"
   ]
  },
  {
   "cell_type": "code",
   "execution_count": 86,
   "id": "d4330f35",
   "metadata": {},
   "outputs": [],
   "source": [
    "for i in np.arange(1, len(data.columns)):\n",
    "    score = -1*model_selection.cross_val_score(regr,\n",
    "               X_reduced[:,:i], y, cv=cv, scoring='neg_mean_squared_error').mean()\n",
    "    mse.append(score/len(data))"
   ]
  },
  {
   "cell_type": "markdown",
   "id": "403ea799",
   "metadata": {},
   "source": [
    "*Plot cross-validation results (found using multiple linear regression with MSE)*"
   ]
  },
  {
   "cell_type": "code",
   "execution_count": 87,
   "id": "03569420",
   "metadata": {},
   "outputs": [
    {
     "data": {
      "text/plain": [
       "[1287064.645617988,\n",
       " 948636.3419790857,\n",
       " 936832.9811155428,\n",
       " 936238.2345440794,\n",
       " 932128.5701074592,\n",
       " 932101.3752710705,\n",
       " 932658.1620894838,\n",
       " 918335.4773693259,\n",
       " 917862.3461375816,\n",
       " 917521.2528698872,\n",
       " 917737.571942625,\n",
       " 907427.2046542506,\n",
       " 900588.8590274155,\n",
       " 901014.2702856803,\n",
       " 881801.3612931567,\n",
       " 882014.4778197267,\n",
       " 882821.519268304,\n",
       " 882816.9372303495]"
      ]
     },
     "execution_count": 87,
     "metadata": {},
     "output_type": "execute_result"
    },
    {
     "data": {
      "image/png": "[encoded data removed]",
      "text/plain": [
       "<Figure size 640x480 with 1 Axes>"
      ]
     },
     "metadata": {},
     "output_type": "display_data"
    }
   ],
   "source": [
    "plt.plot(mse)\n",
    "plt.xlabel('Number of Used Components')\n",
    "plt.ylabel('MSE / Sample Size')\n",
    "plt.title('Rent')\n",
    "mse"
   ]
  },
  {
   "cell_type": "markdown",
   "id": "2a3b4c72",
   "metadata": {},
   "source": [
    "*We can clearly see that each of the principal components reduces the overall MSE of the model except for the last two, meaning we likely have some correlation between some of our variables. This means that next up is testing for correlation or multicollinearity, if the variables are all correlated or if each correlated variable is correlated to a different variable.*"
   ]
  },
  {
   "cell_type": "markdown",
   "id": "e4b70cab",
   "metadata": {},
   "source": [
    "## Testing Variables for Correlation"
   ]
  },
  {
   "cell_type": "code",
   "execution_count": 88,
   "id": "cb576abb",
   "metadata": {},
   "outputs": [],
   "source": [
    "def get_residuals(data,skl_model,trained):\n",
    "    y = data[\"Rent\"]\n",
    "    X = data.drop(\"Rent\",axis=1)\n",
    "    X_train = X[:int(len(X)*.7)]\n",
    "    y_train = y[:int(len(X)*.7)]\n",
    "    X_test = X[int(len(X)*.7):]\n",
    "    y_test = y[int(len(X)*.7):]\n",
    "    \n",
    "    \n",
    "    X_train = X_train.reset_index()\n",
    "    X_test = X_test.reset_index()\n",
    "    y_train = y_train.reset_index()\n",
    "    y_test = y_test.reset_index()\n",
    "    \n",
    "    \n",
    "    if not trained:\n",
    "        skl_model.fit(X_train,y_train)\n",
    "    \n",
    "    full_predictions = skl_model.predict(X_test)\n",
    "    predictions = []\n",
    "    residuals = []\n",
    "    \n",
    "    y_test = y_test.drop(\"index\",axis=1)\n",
    "    \n",
    "    for i in range(len(full_predictions)):\n",
    "        predictions.append(full_predictions[i][1])\n",
    "    \n",
    "    for i in range(len(predictions)):\n",
    "        residuals.append(abs(predictions[i] - y_test[\"Rent\"][i]))\n",
    "           \n",
    "    return residuals\n",
    "                         \n",
    "resids = get_residuals(data,regr,False)"
   ]
  },
  {
   "cell_type": "code",
   "execution_count": 89,
   "id": "90949dd9",
   "metadata": {},
   "outputs": [
    {
     "data": {
      "text/plain": [
       "0.9596730213440284"
      ]
     },
     "execution_count": 89,
     "metadata": {},
     "output_type": "execute_result"
    }
   ],
   "source": [
    "durbin_watson(resids)"
   ]
  },
  {
   "cell_type": "markdown",
   "id": "fd52effe",
   "metadata": {},
   "source": [
    "**The durbin_watson statistic being under 1.5 indicates a relatively strong autocorrelation within the used variables.**\n",
    "\n",
    "This means we now need to test for which of our variables strongly correlate with each other."
   ]
  },
  {
   "cell_type": "code",
   "execution_count": 90,
   "id": "fc11781d",
   "metadata": {},
   "outputs": [],
   "source": [
    "#chisquare(data).statistic\n",
    "\n",
    "#covariance = SUM((xi - avgi)(yj - avgj))/n\n",
    "\n",
    "def areScalarVariablesCorrelated(data,varA,varB):\n",
    "    var1 = scale(data[varA])\n",
    "    var2 = scale(data[varB])\n",
    "    \n",
    "    avg1 = var1.mean()\n",
    "    avg2 = var2.mean()\n",
    "    \n",
    "    if len(var1) != len(var2):\n",
    "        print(\"Please use variables with the same number of entries.\")\n",
    "        return None\n",
    "    \n",
    "    total_sum = 0\n",
    "    for i in range(len(var1)):\n",
    "        total_sum = total_sum + (var1[i] - avg1)*(var2[i] - avg2)\n",
    "    \n",
    "    return total_sum/len(var1)"
   ]
  },
  {
   "cell_type": "code",
   "execution_count": 91,
   "id": "71e8ac6f",
   "metadata": {},
   "outputs": [
    {
     "data": {
      "text/html": [
       "<div>\n",
       "<style scoped>\n",
       "    .dataframe tbody tr th:only-of-type {\n",
       "        vertical-align: middle;\n",
       "    }\n",
       "\n",
       "    .dataframe tbody tr th {\n",
       "        vertical-align: top;\n",
       "    }\n",
       "\n",
       "    .dataframe thead th {\n",
       "        text-align: right;\n",
       "    }\n",
       "</style>\n",
       "<table border=\"1\" class=\"dataframe\">\n",
       "  <thead>\n",
       "    <tr style=\"text-align: right;\">\n",
       "      <th></th>\n",
       "      <th>Posted On</th>\n",
       "      <th>BHK</th>\n",
       "      <th>Rent</th>\n",
       "      <th>Size</th>\n",
       "      <th>Area Type</th>\n",
       "      <th>Furnishing Status</th>\n",
       "      <th>Bathroom</th>\n",
       "      <th>Point of Contact</th>\n",
       "      <th>Floor On</th>\n",
       "      <th>Floor Out Of</th>\n",
       "      <th>Bangalore</th>\n",
       "      <th>Chennai</th>\n",
       "      <th>Delhi</th>\n",
       "      <th>Hyderabad</th>\n",
       "      <th>Kolkata</th>\n",
       "      <th>Mumbai</th>\n",
       "      <th>Bachelors</th>\n",
       "      <th>Family</th>\n",
       "    </tr>\n",
       "  </thead>\n",
       "  <tbody>\n",
       "    <tr>\n",
       "      <th>0</th>\n",
       "      <td>168</td>\n",
       "      <td>2</td>\n",
       "      <td>10000</td>\n",
       "      <td>1100</td>\n",
       "      <td>1</td>\n",
       "      <td>0</td>\n",
       "      <td>2</td>\n",
       "      <td>1</td>\n",
       "      <td>0</td>\n",
       "      <td>2</td>\n",
       "      <td>0</td>\n",
       "      <td>0</td>\n",
       "      <td>0</td>\n",
       "      <td>0</td>\n",
       "      <td>1</td>\n",
       "      <td>0</td>\n",
       "      <td>1</td>\n",
       "      <td>1</td>\n",
       "    </tr>\n",
       "    <tr>\n",
       "      <th>1</th>\n",
       "      <td>163</td>\n",
       "      <td>2</td>\n",
       "      <td>20000</td>\n",
       "      <td>800</td>\n",
       "      <td>1</td>\n",
       "      <td>1</td>\n",
       "      <td>1</td>\n",
       "      <td>1</td>\n",
       "      <td>1</td>\n",
       "      <td>3</td>\n",
       "      <td>0</td>\n",
       "      <td>0</td>\n",
       "      <td>0</td>\n",
       "      <td>0</td>\n",
       "      <td>1</td>\n",
       "      <td>0</td>\n",
       "      <td>1</td>\n",
       "      <td>1</td>\n",
       "    </tr>\n",
       "    <tr>\n",
       "      <th>2</th>\n",
       "      <td>166</td>\n",
       "      <td>2</td>\n",
       "      <td>17000</td>\n",
       "      <td>1000</td>\n",
       "      <td>1</td>\n",
       "      <td>1</td>\n",
       "      <td>1</td>\n",
       "      <td>1</td>\n",
       "      <td>1</td>\n",
       "      <td>3</td>\n",
       "      <td>0</td>\n",
       "      <td>0</td>\n",
       "      <td>0</td>\n",
       "      <td>0</td>\n",
       "      <td>1</td>\n",
       "      <td>0</td>\n",
       "      <td>1</td>\n",
       "      <td>1</td>\n",
       "    </tr>\n",
       "    <tr>\n",
       "      <th>3</th>\n",
       "      <td>215</td>\n",
       "      <td>2</td>\n",
       "      <td>10000</td>\n",
       "      <td>800</td>\n",
       "      <td>1</td>\n",
       "      <td>0</td>\n",
       "      <td>1</td>\n",
       "      <td>1</td>\n",
       "      <td>1</td>\n",
       "      <td>2</td>\n",
       "      <td>0</td>\n",
       "      <td>0</td>\n",
       "      <td>0</td>\n",
       "      <td>0</td>\n",
       "      <td>1</td>\n",
       "      <td>0</td>\n",
       "      <td>1</td>\n",
       "      <td>1</td>\n",
       "    </tr>\n",
       "    <tr>\n",
       "      <th>4</th>\n",
       "      <td>159</td>\n",
       "      <td>2</td>\n",
       "      <td>7500</td>\n",
       "      <td>850</td>\n",
       "      <td>0</td>\n",
       "      <td>0</td>\n",
       "      <td>1</td>\n",
       "      <td>1</td>\n",
       "      <td>1</td>\n",
       "      <td>2</td>\n",
       "      <td>0</td>\n",
       "      <td>0</td>\n",
       "      <td>0</td>\n",
       "      <td>0</td>\n",
       "      <td>1</td>\n",
       "      <td>0</td>\n",
       "      <td>1</td>\n",
       "      <td>0</td>\n",
       "    </tr>\n",
       "    <tr>\n",
       "      <th>...</th>\n",
       "      <td>...</td>\n",
       "      <td>...</td>\n",
       "      <td>...</td>\n",
       "      <td>...</td>\n",
       "      <td>...</td>\n",
       "      <td>...</td>\n",
       "      <td>...</td>\n",
       "      <td>...</td>\n",
       "      <td>...</td>\n",
       "      <td>...</td>\n",
       "      <td>...</td>\n",
       "      <td>...</td>\n",
       "      <td>...</td>\n",
       "      <td>...</td>\n",
       "      <td>...</td>\n",
       "      <td>...</td>\n",
       "      <td>...</td>\n",
       "      <td>...</td>\n",
       "    </tr>\n",
       "    <tr>\n",
       "      <th>4738</th>\n",
       "      <td>168</td>\n",
       "      <td>2</td>\n",
       "      <td>15000</td>\n",
       "      <td>1000</td>\n",
       "      <td>0</td>\n",
       "      <td>1</td>\n",
       "      <td>2</td>\n",
       "      <td>1</td>\n",
       "      <td>3</td>\n",
       "      <td>5</td>\n",
       "      <td>0</td>\n",
       "      <td>0</td>\n",
       "      <td>0</td>\n",
       "      <td>1</td>\n",
       "      <td>0</td>\n",
       "      <td>0</td>\n",
       "      <td>1</td>\n",
       "      <td>1</td>\n",
       "    </tr>\n",
       "    <tr>\n",
       "      <th>4739</th>\n",
       "      <td>165</td>\n",
       "      <td>3</td>\n",
       "      <td>29000</td>\n",
       "      <td>2000</td>\n",
       "      <td>1</td>\n",
       "      <td>1</td>\n",
       "      <td>3</td>\n",
       "      <td>1</td>\n",
       "      <td>1</td>\n",
       "      <td>4</td>\n",
       "      <td>0</td>\n",
       "      <td>0</td>\n",
       "      <td>0</td>\n",
       "      <td>1</td>\n",
       "      <td>0</td>\n",
       "      <td>0</td>\n",
       "      <td>1</td>\n",
       "      <td>1</td>\n",
       "    </tr>\n",
       "    <tr>\n",
       "      <th>4740</th>\n",
       "      <td>221</td>\n",
       "      <td>3</td>\n",
       "      <td>35000</td>\n",
       "      <td>1750</td>\n",
       "      <td>0</td>\n",
       "      <td>1</td>\n",
       "      <td>3</td>\n",
       "      <td>0</td>\n",
       "      <td>3</td>\n",
       "      <td>5</td>\n",
       "      <td>0</td>\n",
       "      <td>0</td>\n",
       "      <td>0</td>\n",
       "      <td>1</td>\n",
       "      <td>0</td>\n",
       "      <td>0</td>\n",
       "      <td>1</td>\n",
       "      <td>1</td>\n",
       "    </tr>\n",
       "    <tr>\n",
       "      <th>4741</th>\n",
       "      <td>217</td>\n",
       "      <td>3</td>\n",
       "      <td>45000</td>\n",
       "      <td>1500</td>\n",
       "      <td>0</td>\n",
       "      <td>1</td>\n",
       "      <td>2</td>\n",
       "      <td>0</td>\n",
       "      <td>23</td>\n",
       "      <td>34</td>\n",
       "      <td>0</td>\n",
       "      <td>0</td>\n",
       "      <td>0</td>\n",
       "      <td>1</td>\n",
       "      <td>0</td>\n",
       "      <td>0</td>\n",
       "      <td>0</td>\n",
       "      <td>1</td>\n",
       "    </tr>\n",
       "    <tr>\n",
       "      <th>4742</th>\n",
       "      <td>154</td>\n",
       "      <td>2</td>\n",
       "      <td>15000</td>\n",
       "      <td>1000</td>\n",
       "      <td>0</td>\n",
       "      <td>0</td>\n",
       "      <td>2</td>\n",
       "      <td>1</td>\n",
       "      <td>4</td>\n",
       "      <td>5</td>\n",
       "      <td>0</td>\n",
       "      <td>0</td>\n",
       "      <td>0</td>\n",
       "      <td>1</td>\n",
       "      <td>0</td>\n",
       "      <td>0</td>\n",
       "      <td>1</td>\n",
       "      <td>0</td>\n",
       "    </tr>\n",
       "  </tbody>\n",
       "</table>\n",
       "<p>4743 rows × 18 columns</p>\n",
       "</div>"
      ],
      "text/plain": [
       "      Posted On  BHK   Rent  Size  Area Type  Furnishing Status  Bathroom  \\\n",
       "0           168    2  10000  1100          1                  0         2   \n",
       "1           163    2  20000   800          1                  1         1   \n",
       "2           166    2  17000  1000          1                  1         1   \n",
       "3           215    2  10000   800          1                  0         1   \n",
       "4           159    2   7500   850          0                  0         1   \n",
       "...         ...  ...    ...   ...        ...                ...       ...   \n",
       "4738        168    2  15000  1000          0                  1         2   \n",
       "4739        165    3  29000  2000          1                  1         3   \n",
       "4740        221    3  35000  1750          0                  1         3   \n",
       "4741        217    3  45000  1500          0                  1         2   \n",
       "4742        154    2  15000  1000          0                  0         2   \n",
       "\n",
       "      Point of Contact  Floor On  Floor Out Of  Bangalore  Chennai  Delhi  \\\n",
       "0                    1         0             2          0        0      0   \n",
       "1                    1         1             3          0        0      0   \n",
       "2                    1         1             3          0        0      0   \n",
       "3                    1         1             2          0        0      0   \n",
       "4                    1         1             2          0        0      0   \n",
       "...                ...       ...           ...        ...      ...    ...   \n",
       "4738                 1         3             5          0        0      0   \n",
       "4739                 1         1             4          0        0      0   \n",
       "4740                 0         3             5          0        0      0   \n",
       "4741                 0        23            34          0        0      0   \n",
       "4742                 1         4             5          0        0      0   \n",
       "\n",
       "      Hyderabad  Kolkata  Mumbai  Bachelors  Family  \n",
       "0             0        1       0          1       1  \n",
       "1             0        1       0          1       1  \n",
       "2             0        1       0          1       1  \n",
       "3             0        1       0          1       1  \n",
       "4             0        1       0          1       0  \n",
       "...         ...      ...     ...        ...     ...  \n",
       "4738          1        0       0          1       1  \n",
       "4739          1        0       0          1       1  \n",
       "4740          1        0       0          1       1  \n",
       "4741          1        0       0          0       1  \n",
       "4742          1        0       0          1       0  \n",
       "\n",
       "[4743 rows x 18 columns]"
      ]
     },
     "metadata": {},
     "output_type": "display_data"
    }
   ],
   "source": [
    "display(data)"
   ]
  },
  {
   "cell_type": "code",
   "execution_count": 92,
   "id": "8cba05aa",
   "metadata": {},
   "outputs": [],
   "source": [
    "def scalarCorrelationMatrix(data):\n",
    "    scalar_columns = ['Posted On','BHK','Size','Bathroom','Floor On','Floor Out Of']\n",
    "\n",
    "    data_columns = data.columns\n",
    "    \n",
    "    for i in scalar_columns:\n",
    "        if not i in data.columns:\n",
    "            scalar_columns.remove(i)\n",
    "    \n",
    "    correlation_columns = []\n",
    "\n",
    "    for i in scalar_columns:\n",
    "        list_column = []\n",
    "        for j in scalar_columns:\n",
    "            list_column.append(areScalarVariablesCorrelated(data,i,j))\n",
    "        correlation_columns.append(pd.Series(list_column,name=i,dtype='float64'))\n",
    "\n",
    "    correlation_frame = pd.concat(correlation_columns,axis=1)\n",
    "    correlation_frame.index = scalar_columns\n",
    "    \n",
    "    return correlation_frame"
   ]
  },
  {
   "cell_type": "code",
   "execution_count": 93,
   "id": "cd94fab7",
   "metadata": {},
   "outputs": [
    {
     "data": {
      "text/html": [
       "<div>\n",
       "<style scoped>\n",
       "    .dataframe tbody tr th:only-of-type {\n",
       "        vertical-align: middle;\n",
       "    }\n",
       "\n",
       "    .dataframe tbody tr th {\n",
       "        vertical-align: top;\n",
       "    }\n",
       "\n",
       "    .dataframe thead th {\n",
       "        text-align: right;\n",
       "    }\n",
       "</style>\n",
       "<table border=\"1\" class=\"dataframe\">\n",
       "  <thead>\n",
       "    <tr style=\"text-align: right;\">\n",
       "      <th></th>\n",
       "      <th>Posted On</th>\n",
       "      <th>BHK</th>\n",
       "      <th>Size</th>\n",
       "      <th>Bathroom</th>\n",
       "      <th>Floor On</th>\n",
       "      <th>Floor Out Of</th>\n",
       "    </tr>\n",
       "  </thead>\n",
       "  <tbody>\n",
       "    <tr>\n",
       "      <th>Posted On</th>\n",
       "      <td>1.000000</td>\n",
       "      <td>0.119176</td>\n",
       "      <td>0.139458</td>\n",
       "      <td>0.160449</td>\n",
       "      <td>0.152949</td>\n",
       "      <td>0.176834</td>\n",
       "    </tr>\n",
       "    <tr>\n",
       "      <th>BHK</th>\n",
       "      <td>0.119176</td>\n",
       "      <td>1.000000</td>\n",
       "      <td>0.716056</td>\n",
       "      <td>0.794772</td>\n",
       "      <td>0.223718</td>\n",
       "      <td>0.247828</td>\n",
       "    </tr>\n",
       "    <tr>\n",
       "      <th>Size</th>\n",
       "      <td>0.139458</td>\n",
       "      <td>0.716056</td>\n",
       "      <td>1.000000</td>\n",
       "      <td>0.740618</td>\n",
       "      <td>0.169785</td>\n",
       "      <td>0.189510</td>\n",
       "    </tr>\n",
       "    <tr>\n",
       "      <th>Bathroom</th>\n",
       "      <td>0.160449</td>\n",
       "      <td>0.794772</td>\n",
       "      <td>0.740618</td>\n",
       "      <td>1.000000</td>\n",
       "      <td>0.330628</td>\n",
       "      <td>0.361870</td>\n",
       "    </tr>\n",
       "    <tr>\n",
       "      <th>Floor On</th>\n",
       "      <td>0.152949</td>\n",
       "      <td>0.223718</td>\n",
       "      <td>0.169785</td>\n",
       "      <td>0.330628</td>\n",
       "      <td>1.000000</td>\n",
       "      <td>0.862063</td>\n",
       "    </tr>\n",
       "    <tr>\n",
       "      <th>Floor Out Of</th>\n",
       "      <td>0.176834</td>\n",
       "      <td>0.247828</td>\n",
       "      <td>0.189510</td>\n",
       "      <td>0.361870</td>\n",
       "      <td>0.862063</td>\n",
       "      <td>1.000000</td>\n",
       "    </tr>\n",
       "  </tbody>\n",
       "</table>\n",
       "</div>"
      ],
      "text/plain": [
       "              Posted On       BHK      Size  Bathroom  Floor On  Floor Out Of\n",
       "Posted On      1.000000  0.119176  0.139458  0.160449  0.152949      0.176834\n",
       "BHK            0.119176  1.000000  0.716056  0.794772  0.223718      0.247828\n",
       "Size           0.139458  0.716056  1.000000  0.740618  0.169785      0.189510\n",
       "Bathroom       0.160449  0.794772  0.740618  1.000000  0.330628      0.361870\n",
       "Floor On       0.152949  0.223718  0.169785  0.330628  1.000000      0.862063\n",
       "Floor Out Of   0.176834  0.247828  0.189510  0.361870  0.862063      1.000000"
      ]
     },
     "metadata": {},
     "output_type": "display_data"
    }
   ],
   "source": [
    "display(scalarCorrelationMatrix(data))"
   ]
  },
  {
   "cell_type": "markdown",
   "id": "a6c6ccb1",
   "metadata": {},
   "source": [
    "**Here the correlation matrix shows the level of correlation between any of the two scalar variables.**\n",
    "\n",
    "The strongest correlations are as follows:\n",
    "\n",
    "1. Floor on and Floor Out Of - This correlation is pretty simple, Floor Out Of is the maximum value that Floor On could be, meaning that as Floor Out Of increases, the potential size of Floor On does as well.\n",
    "\n",
    "    To fix this we could make Floor On into a ratio between current Floor On and Floor Out Of, making the Floor Out Of represent the building size while Floor On will say where in the building it is without scaling linearly along with Floor Out Of.\n",
    "\n",
    "\n",
    "2. Bathroom and BHK - This correlation makes a lot of sense as well, given that Bathroom tells the number of available bathrooms while BHK tells the number of bathroons, hallways, and kitchens. \n",
    "\n",
    "3. Size and Bathroom - The correlation makes sense as the larger a place is, generally the more bathrooms it has and apparently that trend is strong enough to show correlation here.\n",
    "\n",
    "4. Size and BHK - This is part of the same multicollinear issue with the previous two. \n",
    "\n",
    "    To try to fix all three of these we can try this:\n",
    "\n",
    "    First, scale BHK and Bathroom by Size (BHK/Size,Bathroom/Size).\n",
    "\n",
    "    Next, update BHK to be itself minus Bathroom.\n",
    "\n",
    "Check for collinearity after this, should remove correlation with Size for Bathroom and BHK, but still need to see if the processing will affect how the model reads the data."
   ]
  },
  {
   "cell_type": "markdown",
   "id": "5440fd75",
   "metadata": {},
   "source": [
    "## Floor"
   ]
  },
  {
   "cell_type": "code",
   "execution_count": 94,
   "id": "2734742d",
   "metadata": {},
   "outputs": [],
   "source": [
    "def scaleFloor(data):\n",
    "    data[\"Floor On\"].astype(\"float32\",copy=False)\n",
    "    floor_on = data[\"Floor On\"]\n",
    "    floor_out_of = data[\"Floor Out Of\"]\n",
    "    for i in range(len(floor_on)):\n",
    "        if floor_on[i] == 0:\n",
    "            floor_on[i] = 0\n",
    "        else:\n",
    "            floor_on[i] = floor_on[i] / floor_out_of[i]\n",
    "    data[\"Floor On\"] = floor_on\n",
    "    \n",
    "    return data"
   ]
  },
  {
   "cell_type": "code",
   "execution_count": 95,
   "id": "68fc617b",
   "metadata": {},
   "outputs": [
    {
     "data": {
      "text/html": [
       "<div>\n",
       "<style scoped>\n",
       "    .dataframe tbody tr th:only-of-type {\n",
       "        vertical-align: middle;\n",
       "    }\n",
       "\n",
       "    .dataframe tbody tr th {\n",
       "        vertical-align: top;\n",
       "    }\n",
       "\n",
       "    .dataframe thead th {\n",
       "        text-align: right;\n",
       "    }\n",
       "</style>\n",
       "<table border=\"1\" class=\"dataframe\">\n",
       "  <thead>\n",
       "    <tr style=\"text-align: right;\">\n",
       "      <th></th>\n",
       "      <th>Posted On</th>\n",
       "      <th>BHK</th>\n",
       "      <th>Rent</th>\n",
       "      <th>Size</th>\n",
       "      <th>Area Type</th>\n",
       "      <th>Furnishing Status</th>\n",
       "      <th>Bathroom</th>\n",
       "      <th>Point of Contact</th>\n",
       "      <th>Floor On</th>\n",
       "      <th>Floor Out Of</th>\n",
       "      <th>Bangalore</th>\n",
       "      <th>Chennai</th>\n",
       "      <th>Delhi</th>\n",
       "      <th>Hyderabad</th>\n",
       "      <th>Kolkata</th>\n",
       "      <th>Mumbai</th>\n",
       "      <th>Bachelors</th>\n",
       "      <th>Family</th>\n",
       "    </tr>\n",
       "  </thead>\n",
       "  <tbody>\n",
       "    <tr>\n",
       "      <th>0</th>\n",
       "      <td>168</td>\n",
       "      <td>2</td>\n",
       "      <td>10000</td>\n",
       "      <td>1100</td>\n",
       "      <td>1</td>\n",
       "      <td>0</td>\n",
       "      <td>2</td>\n",
       "      <td>1</td>\n",
       "      <td>0</td>\n",
       "      <td>2</td>\n",
       "      <td>0</td>\n",
       "      <td>0</td>\n",
       "      <td>0</td>\n",
       "      <td>0</td>\n",
       "      <td>1</td>\n",
       "      <td>0</td>\n",
       "      <td>1</td>\n",
       "      <td>1</td>\n",
       "    </tr>\n",
       "    <tr>\n",
       "      <th>1</th>\n",
       "      <td>163</td>\n",
       "      <td>2</td>\n",
       "      <td>20000</td>\n",
       "      <td>800</td>\n",
       "      <td>1</td>\n",
       "      <td>1</td>\n",
       "      <td>1</td>\n",
       "      <td>1</td>\n",
       "      <td>1</td>\n",
       "      <td>3</td>\n",
       "      <td>0</td>\n",
       "      <td>0</td>\n",
       "      <td>0</td>\n",
       "      <td>0</td>\n",
       "      <td>1</td>\n",
       "      <td>0</td>\n",
       "      <td>1</td>\n",
       "      <td>1</td>\n",
       "    </tr>\n",
       "    <tr>\n",
       "      <th>2</th>\n",
       "      <td>166</td>\n",
       "      <td>2</td>\n",
       "      <td>17000</td>\n",
       "      <td>1000</td>\n",
       "      <td>1</td>\n",
       "      <td>1</td>\n",
       "      <td>1</td>\n",
       "      <td>1</td>\n",
       "      <td>1</td>\n",
       "      <td>3</td>\n",
       "      <td>0</td>\n",
       "      <td>0</td>\n",
       "      <td>0</td>\n",
       "      <td>0</td>\n",
       "      <td>1</td>\n",
       "      <td>0</td>\n",
       "      <td>1</td>\n",
       "      <td>1</td>\n",
       "    </tr>\n",
       "    <tr>\n",
       "      <th>3</th>\n",
       "      <td>215</td>\n",
       "      <td>2</td>\n",
       "      <td>10000</td>\n",
       "      <td>800</td>\n",
       "      <td>1</td>\n",
       "      <td>0</td>\n",
       "      <td>1</td>\n",
       "      <td>1</td>\n",
       "      <td>1</td>\n",
       "      <td>2</td>\n",
       "      <td>0</td>\n",
       "      <td>0</td>\n",
       "      <td>0</td>\n",
       "      <td>0</td>\n",
       "      <td>1</td>\n",
       "      <td>0</td>\n",
       "      <td>1</td>\n",
       "      <td>1</td>\n",
       "    </tr>\n",
       "    <tr>\n",
       "      <th>4</th>\n",
       "      <td>159</td>\n",
       "      <td>2</td>\n",
       "      <td>7500</td>\n",
       "      <td>850</td>\n",
       "      <td>0</td>\n",
       "      <td>0</td>\n",
       "      <td>1</td>\n",
       "      <td>1</td>\n",
       "      <td>1</td>\n",
       "      <td>2</td>\n",
       "      <td>0</td>\n",
       "      <td>0</td>\n",
       "      <td>0</td>\n",
       "      <td>0</td>\n",
       "      <td>1</td>\n",
       "      <td>0</td>\n",
       "      <td>1</td>\n",
       "      <td>0</td>\n",
       "    </tr>\n",
       "    <tr>\n",
       "      <th>...</th>\n",
       "      <td>...</td>\n",
       "      <td>...</td>\n",
       "      <td>...</td>\n",
       "      <td>...</td>\n",
       "      <td>...</td>\n",
       "      <td>...</td>\n",
       "      <td>...</td>\n",
       "      <td>...</td>\n",
       "      <td>...</td>\n",
       "      <td>...</td>\n",
       "      <td>...</td>\n",
       "      <td>...</td>\n",
       "      <td>...</td>\n",
       "      <td>...</td>\n",
       "      <td>...</td>\n",
       "      <td>...</td>\n",
       "      <td>...</td>\n",
       "      <td>...</td>\n",
       "    </tr>\n",
       "    <tr>\n",
       "      <th>4738</th>\n",
       "      <td>168</td>\n",
       "      <td>2</td>\n",
       "      <td>15000</td>\n",
       "      <td>1000</td>\n",
       "      <td>0</td>\n",
       "      <td>1</td>\n",
       "      <td>2</td>\n",
       "      <td>1</td>\n",
       "      <td>3</td>\n",
       "      <td>5</td>\n",
       "      <td>0</td>\n",
       "      <td>0</td>\n",
       "      <td>0</td>\n",
       "      <td>1</td>\n",
       "      <td>0</td>\n",
       "      <td>0</td>\n",
       "      <td>1</td>\n",
       "      <td>1</td>\n",
       "    </tr>\n",
       "    <tr>\n",
       "      <th>4739</th>\n",
       "      <td>165</td>\n",
       "      <td>3</td>\n",
       "      <td>29000</td>\n",
       "      <td>2000</td>\n",
       "      <td>1</td>\n",
       "      <td>1</td>\n",
       "      <td>3</td>\n",
       "      <td>1</td>\n",
       "      <td>1</td>\n",
       "      <td>4</td>\n",
       "      <td>0</td>\n",
       "      <td>0</td>\n",
       "      <td>0</td>\n",
       "      <td>1</td>\n",
       "      <td>0</td>\n",
       "      <td>0</td>\n",
       "      <td>1</td>\n",
       "      <td>1</td>\n",
       "    </tr>\n",
       "    <tr>\n",
       "      <th>4740</th>\n",
       "      <td>221</td>\n",
       "      <td>3</td>\n",
       "      <td>35000</td>\n",
       "      <td>1750</td>\n",
       "      <td>0</td>\n",
       "      <td>1</td>\n",
       "      <td>3</td>\n",
       "      <td>0</td>\n",
       "      <td>3</td>\n",
       "      <td>5</td>\n",
       "      <td>0</td>\n",
       "      <td>0</td>\n",
       "      <td>0</td>\n",
       "      <td>1</td>\n",
       "      <td>0</td>\n",
       "      <td>0</td>\n",
       "      <td>1</td>\n",
       "      <td>1</td>\n",
       "    </tr>\n",
       "    <tr>\n",
       "      <th>4741</th>\n",
       "      <td>217</td>\n",
       "      <td>3</td>\n",
       "      <td>45000</td>\n",
       "      <td>1500</td>\n",
       "      <td>0</td>\n",
       "      <td>1</td>\n",
       "      <td>2</td>\n",
       "      <td>0</td>\n",
       "      <td>23</td>\n",
       "      <td>34</td>\n",
       "      <td>0</td>\n",
       "      <td>0</td>\n",
       "      <td>0</td>\n",
       "      <td>1</td>\n",
       "      <td>0</td>\n",
       "      <td>0</td>\n",
       "      <td>0</td>\n",
       "      <td>1</td>\n",
       "    </tr>\n",
       "    <tr>\n",
       "      <th>4742</th>\n",
       "      <td>154</td>\n",
       "      <td>2</td>\n",
       "      <td>15000</td>\n",
       "      <td>1000</td>\n",
       "      <td>0</td>\n",
       "      <td>0</td>\n",
       "      <td>2</td>\n",
       "      <td>1</td>\n",
       "      <td>4</td>\n",
       "      <td>5</td>\n",
       "      <td>0</td>\n",
       "      <td>0</td>\n",
       "      <td>0</td>\n",
       "      <td>1</td>\n",
       "      <td>0</td>\n",
       "      <td>0</td>\n",
       "      <td>1</td>\n",
       "      <td>0</td>\n",
       "    </tr>\n",
       "  </tbody>\n",
       "</table>\n",
       "<p>4743 rows × 18 columns</p>\n",
       "</div>"
      ],
      "text/plain": [
       "      Posted On  BHK   Rent  Size  Area Type  Furnishing Status  Bathroom  \\\n",
       "0           168    2  10000  1100          1                  0         2   \n",
       "1           163    2  20000   800          1                  1         1   \n",
       "2           166    2  17000  1000          1                  1         1   \n",
       "3           215    2  10000   800          1                  0         1   \n",
       "4           159    2   7500   850          0                  0         1   \n",
       "...         ...  ...    ...   ...        ...                ...       ...   \n",
       "4738        168    2  15000  1000          0                  1         2   \n",
       "4739        165    3  29000  2000          1                  1         3   \n",
       "4740        221    3  35000  1750          0                  1         3   \n",
       "4741        217    3  45000  1500          0                  1         2   \n",
       "4742        154    2  15000  1000          0                  0         2   \n",
       "\n",
       "      Point of Contact  Floor On  Floor Out Of  Bangalore  Chennai  Delhi  \\\n",
       "0                    1         0             2          0        0      0   \n",
       "1                    1         1             3          0        0      0   \n",
       "2                    1         1             3          0        0      0   \n",
       "3                    1         1             2          0        0      0   \n",
       "4                    1         1             2          0        0      0   \n",
       "...                ...       ...           ...        ...      ...    ...   \n",
       "4738                 1         3             5          0        0      0   \n",
       "4739                 1         1             4          0        0      0   \n",
       "4740                 0         3             5          0        0      0   \n",
       "4741                 0        23            34          0        0      0   \n",
       "4742                 1         4             5          0        0      0   \n",
       "\n",
       "      Hyderabad  Kolkata  Mumbai  Bachelors  Family  \n",
       "0             0        1       0          1       1  \n",
       "1             0        1       0          1       1  \n",
       "2             0        1       0          1       1  \n",
       "3             0        1       0          1       1  \n",
       "4             0        1       0          1       0  \n",
       "...         ...      ...     ...        ...     ...  \n",
       "4738          1        0       0          1       1  \n",
       "4739          1        0       0          1       1  \n",
       "4740          1        0       0          1       1  \n",
       "4741          1        0       0          0       1  \n",
       "4742          1        0       0          1       0  \n",
       "\n",
       "[4743 rows x 18 columns]"
      ]
     },
     "metadata": {},
     "output_type": "display_data"
    }
   ],
   "source": [
    "display(data)"
   ]
  },
  {
   "cell_type": "code",
   "execution_count": 96,
   "id": "8f138ecd",
   "metadata": {},
   "outputs": [
    {
     "data": {
      "text/html": [
       "<div>\n",
       "<style scoped>\n",
       "    .dataframe tbody tr th:only-of-type {\n",
       "        vertical-align: middle;\n",
       "    }\n",
       "\n",
       "    .dataframe tbody tr th {\n",
       "        vertical-align: top;\n",
       "    }\n",
       "\n",
       "    .dataframe thead th {\n",
       "        text-align: right;\n",
       "    }\n",
       "</style>\n",
       "<table border=\"1\" class=\"dataframe\">\n",
       "  <thead>\n",
       "    <tr style=\"text-align: right;\">\n",
       "      <th></th>\n",
       "      <th>Posted On</th>\n",
       "      <th>BHK</th>\n",
       "      <th>Rent</th>\n",
       "      <th>Size</th>\n",
       "      <th>Area Type</th>\n",
       "      <th>Furnishing Status</th>\n",
       "      <th>Bathroom</th>\n",
       "      <th>Point of Contact</th>\n",
       "      <th>Floor On</th>\n",
       "      <th>Floor Out Of</th>\n",
       "      <th>Bangalore</th>\n",
       "      <th>Chennai</th>\n",
       "      <th>Delhi</th>\n",
       "      <th>Hyderabad</th>\n",
       "      <th>Kolkata</th>\n",
       "      <th>Mumbai</th>\n",
       "      <th>Bachelors</th>\n",
       "      <th>Family</th>\n",
       "    </tr>\n",
       "  </thead>\n",
       "  <tbody>\n",
       "    <tr>\n",
       "      <th>0</th>\n",
       "      <td>168</td>\n",
       "      <td>2</td>\n",
       "      <td>10000</td>\n",
       "      <td>1100</td>\n",
       "      <td>1</td>\n",
       "      <td>0</td>\n",
       "      <td>2</td>\n",
       "      <td>1</td>\n",
       "      <td>0.000000</td>\n",
       "      <td>2</td>\n",
       "      <td>0</td>\n",
       "      <td>0</td>\n",
       "      <td>0</td>\n",
       "      <td>0</td>\n",
       "      <td>1</td>\n",
       "      <td>0</td>\n",
       "      <td>1</td>\n",
       "      <td>1</td>\n",
       "    </tr>\n",
       "    <tr>\n",
       "      <th>1</th>\n",
       "      <td>163</td>\n",
       "      <td>2</td>\n",
       "      <td>20000</td>\n",
       "      <td>800</td>\n",
       "      <td>1</td>\n",
       "      <td>1</td>\n",
       "      <td>1</td>\n",
       "      <td>1</td>\n",
       "      <td>0.333333</td>\n",
       "      <td>3</td>\n",
       "      <td>0</td>\n",
       "      <td>0</td>\n",
       "      <td>0</td>\n",
       "      <td>0</td>\n",
       "      <td>1</td>\n",
       "      <td>0</td>\n",
       "      <td>1</td>\n",
       "      <td>1</td>\n",
       "    </tr>\n",
       "    <tr>\n",
       "      <th>2</th>\n",
       "      <td>166</td>\n",
       "      <td>2</td>\n",
       "      <td>17000</td>\n",
       "      <td>1000</td>\n",
       "      <td>1</td>\n",
       "      <td>1</td>\n",
       "      <td>1</td>\n",
       "      <td>1</td>\n",
       "      <td>0.333333</td>\n",
       "      <td>3</td>\n",
       "      <td>0</td>\n",
       "      <td>0</td>\n",
       "      <td>0</td>\n",
       "      <td>0</td>\n",
       "      <td>1</td>\n",
       "      <td>0</td>\n",
       "      <td>1</td>\n",
       "      <td>1</td>\n",
       "    </tr>\n",
       "    <tr>\n",
       "      <th>3</th>\n",
       "      <td>215</td>\n",
       "      <td>2</td>\n",
       "      <td>10000</td>\n",
       "      <td>800</td>\n",
       "      <td>1</td>\n",
       "      <td>0</td>\n",
       "      <td>1</td>\n",
       "      <td>1</td>\n",
       "      <td>0.500000</td>\n",
       "      <td>2</td>\n",
       "      <td>0</td>\n",
       "      <td>0</td>\n",
       "      <td>0</td>\n",
       "      <td>0</td>\n",
       "      <td>1</td>\n",
       "      <td>0</td>\n",
       "      <td>1</td>\n",
       "      <td>1</td>\n",
       "    </tr>\n",
       "    <tr>\n",
       "      <th>4</th>\n",
       "      <td>159</td>\n",
       "      <td>2</td>\n",
       "      <td>7500</td>\n",
       "      <td>850</td>\n",
       "      <td>0</td>\n",
       "      <td>0</td>\n",
       "      <td>1</td>\n",
       "      <td>1</td>\n",
       "      <td>0.500000</td>\n",
       "      <td>2</td>\n",
       "      <td>0</td>\n",
       "      <td>0</td>\n",
       "      <td>0</td>\n",
       "      <td>0</td>\n",
       "      <td>1</td>\n",
       "      <td>0</td>\n",
       "      <td>1</td>\n",
       "      <td>0</td>\n",
       "    </tr>\n",
       "    <tr>\n",
       "      <th>...</th>\n",
       "      <td>...</td>\n",
       "      <td>...</td>\n",
       "      <td>...</td>\n",
       "      <td>...</td>\n",
       "      <td>...</td>\n",
       "      <td>...</td>\n",
       "      <td>...</td>\n",
       "      <td>...</td>\n",
       "      <td>...</td>\n",
       "      <td>...</td>\n",
       "      <td>...</td>\n",
       "      <td>...</td>\n",
       "      <td>...</td>\n",
       "      <td>...</td>\n",
       "      <td>...</td>\n",
       "      <td>...</td>\n",
       "      <td>...</td>\n",
       "      <td>...</td>\n",
       "    </tr>\n",
       "    <tr>\n",
       "      <th>4738</th>\n",
       "      <td>168</td>\n",
       "      <td>2</td>\n",
       "      <td>15000</td>\n",
       "      <td>1000</td>\n",
       "      <td>0</td>\n",
       "      <td>1</td>\n",
       "      <td>2</td>\n",
       "      <td>1</td>\n",
       "      <td>0.600000</td>\n",
       "      <td>5</td>\n",
       "      <td>0</td>\n",
       "      <td>0</td>\n",
       "      <td>0</td>\n",
       "      <td>1</td>\n",
       "      <td>0</td>\n",
       "      <td>0</td>\n",
       "      <td>1</td>\n",
       "      <td>1</td>\n",
       "    </tr>\n",
       "    <tr>\n",
       "      <th>4739</th>\n",
       "      <td>165</td>\n",
       "      <td>3</td>\n",
       "      <td>29000</td>\n",
       "      <td>2000</td>\n",
       "      <td>1</td>\n",
       "      <td>1</td>\n",
       "      <td>3</td>\n",
       "      <td>1</td>\n",
       "      <td>0.250000</td>\n",
       "      <td>4</td>\n",
       "      <td>0</td>\n",
       "      <td>0</td>\n",
       "      <td>0</td>\n",
       "      <td>1</td>\n",
       "      <td>0</td>\n",
       "      <td>0</td>\n",
       "      <td>1</td>\n",
       "      <td>1</td>\n",
       "    </tr>\n",
       "    <tr>\n",
       "      <th>4740</th>\n",
       "      <td>221</td>\n",
       "      <td>3</td>\n",
       "      <td>35000</td>\n",
       "      <td>1750</td>\n",
       "      <td>0</td>\n",
       "      <td>1</td>\n",
       "      <td>3</td>\n",
       "      <td>0</td>\n",
       "      <td>0.600000</td>\n",
       "      <td>5</td>\n",
       "      <td>0</td>\n",
       "      <td>0</td>\n",
       "      <td>0</td>\n",
       "      <td>1</td>\n",
       "      <td>0</td>\n",
       "      <td>0</td>\n",
       "      <td>1</td>\n",
       "      <td>1</td>\n",
       "    </tr>\n",
       "    <tr>\n",
       "      <th>4741</th>\n",
       "      <td>217</td>\n",
       "      <td>3</td>\n",
       "      <td>45000</td>\n",
       "      <td>1500</td>\n",
       "      <td>0</td>\n",
       "      <td>1</td>\n",
       "      <td>2</td>\n",
       "      <td>0</td>\n",
       "      <td>0.676471</td>\n",
       "      <td>34</td>\n",
       "      <td>0</td>\n",
       "      <td>0</td>\n",
       "      <td>0</td>\n",
       "      <td>1</td>\n",
       "      <td>0</td>\n",
       "      <td>0</td>\n",
       "      <td>0</td>\n",
       "      <td>1</td>\n",
       "    </tr>\n",
       "    <tr>\n",
       "      <th>4742</th>\n",
       "      <td>154</td>\n",
       "      <td>2</td>\n",
       "      <td>15000</td>\n",
       "      <td>1000</td>\n",
       "      <td>0</td>\n",
       "      <td>0</td>\n",
       "      <td>2</td>\n",
       "      <td>1</td>\n",
       "      <td>0.800000</td>\n",
       "      <td>5</td>\n",
       "      <td>0</td>\n",
       "      <td>0</td>\n",
       "      <td>0</td>\n",
       "      <td>1</td>\n",
       "      <td>0</td>\n",
       "      <td>0</td>\n",
       "      <td>1</td>\n",
       "      <td>0</td>\n",
       "    </tr>\n",
       "  </tbody>\n",
       "</table>\n",
       "<p>4743 rows × 18 columns</p>\n",
       "</div>"
      ],
      "text/plain": [
       "      Posted On  BHK   Rent  Size  Area Type  Furnishing Status  Bathroom  \\\n",
       "0           168    2  10000  1100          1                  0         2   \n",
       "1           163    2  20000   800          1                  1         1   \n",
       "2           166    2  17000  1000          1                  1         1   \n",
       "3           215    2  10000   800          1                  0         1   \n",
       "4           159    2   7500   850          0                  0         1   \n",
       "...         ...  ...    ...   ...        ...                ...       ...   \n",
       "4738        168    2  15000  1000          0                  1         2   \n",
       "4739        165    3  29000  2000          1                  1         3   \n",
       "4740        221    3  35000  1750          0                  1         3   \n",
       "4741        217    3  45000  1500          0                  1         2   \n",
       "4742        154    2  15000  1000          0                  0         2   \n",
       "\n",
       "      Point of Contact  Floor On  Floor Out Of  Bangalore  Chennai  Delhi  \\\n",
       "0                    1  0.000000             2          0        0      0   \n",
       "1                    1  0.333333             3          0        0      0   \n",
       "2                    1  0.333333             3          0        0      0   \n",
       "3                    1  0.500000             2          0        0      0   \n",
       "4                    1  0.500000             2          0        0      0   \n",
       "...                ...       ...           ...        ...      ...    ...   \n",
       "4738                 1  0.600000             5          0        0      0   \n",
       "4739                 1  0.250000             4          0        0      0   \n",
       "4740                 0  0.600000             5          0        0      0   \n",
       "4741                 0  0.676471            34          0        0      0   \n",
       "4742                 1  0.800000             5          0        0      0   \n",
       "\n",
       "      Hyderabad  Kolkata  Mumbai  Bachelors  Family  \n",
       "0             0        1       0          1       1  \n",
       "1             0        1       0          1       1  \n",
       "2             0        1       0          1       1  \n",
       "3             0        1       0          1       1  \n",
       "4             0        1       0          1       0  \n",
       "...         ...      ...     ...        ...     ...  \n",
       "4738          1        0       0          1       1  \n",
       "4739          1        0       0          1       1  \n",
       "4740          1        0       0          1       1  \n",
       "4741          1        0       0          0       1  \n",
       "4742          1        0       0          1       0  \n",
       "\n",
       "[4743 rows x 18 columns]"
      ]
     },
     "metadata": {},
     "output_type": "display_data"
    }
   ],
   "source": [
    "data = scaleFloor(data)\n",
    "display(data)"
   ]
  },
  {
   "cell_type": "code",
   "execution_count": 97,
   "id": "7e0687fd",
   "metadata": {},
   "outputs": [
    {
     "data": {
      "text/html": [
       "<div>\n",
       "<style scoped>\n",
       "    .dataframe tbody tr th:only-of-type {\n",
       "        vertical-align: middle;\n",
       "    }\n",
       "\n",
       "    .dataframe tbody tr th {\n",
       "        vertical-align: top;\n",
       "    }\n",
       "\n",
       "    .dataframe thead th {\n",
       "        text-align: right;\n",
       "    }\n",
       "</style>\n",
       "<table border=\"1\" class=\"dataframe\">\n",
       "  <thead>\n",
       "    <tr style=\"text-align: right;\">\n",
       "      <th></th>\n",
       "      <th>Posted On</th>\n",
       "      <th>BHK</th>\n",
       "      <th>Size</th>\n",
       "      <th>Bathroom</th>\n",
       "      <th>Floor On</th>\n",
       "      <th>Floor Out Of</th>\n",
       "    </tr>\n",
       "  </thead>\n",
       "  <tbody>\n",
       "    <tr>\n",
       "      <th>Posted On</th>\n",
       "      <td>1.000000</td>\n",
       "      <td>0.119176</td>\n",
       "      <td>0.139458</td>\n",
       "      <td>0.160449</td>\n",
       "      <td>0.046432</td>\n",
       "      <td>0.176834</td>\n",
       "    </tr>\n",
       "    <tr>\n",
       "      <th>BHK</th>\n",
       "      <td>0.119176</td>\n",
       "      <td>1.000000</td>\n",
       "      <td>0.716056</td>\n",
       "      <td>0.794772</td>\n",
       "      <td>0.039376</td>\n",
       "      <td>0.247828</td>\n",
       "    </tr>\n",
       "    <tr>\n",
       "      <th>Size</th>\n",
       "      <td>0.139458</td>\n",
       "      <td>0.716056</td>\n",
       "      <td>1.000000</td>\n",
       "      <td>0.740618</td>\n",
       "      <td>0.025421</td>\n",
       "      <td>0.189510</td>\n",
       "    </tr>\n",
       "    <tr>\n",
       "      <th>Bathroom</th>\n",
       "      <td>0.160449</td>\n",
       "      <td>0.794772</td>\n",
       "      <td>0.740618</td>\n",
       "      <td>1.000000</td>\n",
       "      <td>0.086114</td>\n",
       "      <td>0.361870</td>\n",
       "    </tr>\n",
       "    <tr>\n",
       "      <th>Floor On</th>\n",
       "      <td>0.046432</td>\n",
       "      <td>0.039376</td>\n",
       "      <td>0.025421</td>\n",
       "      <td>0.086114</td>\n",
       "      <td>1.000000</td>\n",
       "      <td>0.084283</td>\n",
       "    </tr>\n",
       "    <tr>\n",
       "      <th>Floor Out Of</th>\n",
       "      <td>0.176834</td>\n",
       "      <td>0.247828</td>\n",
       "      <td>0.189510</td>\n",
       "      <td>0.361870</td>\n",
       "      <td>0.084283</td>\n",
       "      <td>1.000000</td>\n",
       "    </tr>\n",
       "  </tbody>\n",
       "</table>\n",
       "</div>"
      ],
      "text/plain": [
       "              Posted On       BHK      Size  Bathroom  Floor On  Floor Out Of\n",
       "Posted On      1.000000  0.119176  0.139458  0.160449  0.046432      0.176834\n",
       "BHK            0.119176  1.000000  0.716056  0.794772  0.039376      0.247828\n",
       "Size           0.139458  0.716056  1.000000  0.740618  0.025421      0.189510\n",
       "Bathroom       0.160449  0.794772  0.740618  1.000000  0.086114      0.361870\n",
       "Floor On       0.046432  0.039376  0.025421  0.086114  1.000000      0.084283\n",
       "Floor Out Of   0.176834  0.247828  0.189510  0.361870  0.084283      1.000000"
      ]
     },
     "metadata": {},
     "output_type": "display_data"
    }
   ],
   "source": [
    "display(scalarCorrelationMatrix(data))"
   ]
  },
  {
   "cell_type": "markdown",
   "id": "5076f254",
   "metadata": {},
   "source": [
    "**Dropped from .86 to .084, successfully removed significant correlation from Floor On and Floor Out Of.**"
   ]
  },
  {
   "cell_type": "code",
   "execution_count": 98,
   "id": "e46ec259",
   "metadata": {},
   "outputs": [],
   "source": [
    "def sizeBathroomBHKScale(data):\n",
    "    #First scale Bathroom and BHK by Size\n",
    "    data[\"Bathroom\"].astype(\"float32\",copy=False)\n",
    "    data[\"BHK\"].astype(\"float32\",copy=False)\n",
    "    \n",
    "    bathroom = data[\"Bathroom\"]\n",
    "    bhk = data[\"BHK\"]\n",
    "    size = data[\"Size\"]\n",
    "    \n",
    "    for i in range(len(bathroom)):\n",
    "        if size[i] == 0:\n",
    "            size[i] = 1\n",
    "        bathroom[i] = bathroom[i] + bhk[i]\n",
    "        bathroom[i] = bathroom[i] / size[i]\n",
    "            \n",
    "    data[\"Bathroom\"] = bathroom\n",
    "    data = data.drop(\"BHK\",axis=1)\n",
    "    \n",
    "    return data"
   ]
  },
  {
   "cell_type": "code",
   "execution_count": 99,
   "id": "b0d8a59d",
   "metadata": {},
   "outputs": [
    {
     "name": "stderr",
     "output_type": "stream",
     "text": [
      "/var/folders/q9/tdgq365j2tq2_85sl4yvrw7w0000gn/T/ipykernel_64290/613194523.py:13: SettingWithCopyWarning: \n",
      "A value is trying to be set on a copy of a slice from a DataFrame\n",
      "\n",
      "See the caveats in the documentation: https://pandas.pydata.org/pandas-docs/stable/user_guide/indexing.html#returning-a-view-versus-a-copy\n",
      "  bathroom[i] = bathroom[i] + bhk[i]\n",
      "/var/folders/q9/tdgq365j2tq2_85sl4yvrw7w0000gn/T/ipykernel_64290/613194523.py:14: SettingWithCopyWarning: \n",
      "A value is trying to be set on a copy of a slice from a DataFrame\n",
      "\n",
      "See the caveats in the documentation: https://pandas.pydata.org/pandas-docs/stable/user_guide/indexing.html#returning-a-view-versus-a-copy\n",
      "  bathroom[i] = bathroom[i] / size[i]\n"
     ]
    },
    {
     "data": {
      "text/html": [
       "<div>\n",
       "<style scoped>\n",
       "    .dataframe tbody tr th:only-of-type {\n",
       "        vertical-align: middle;\n",
       "    }\n",
       "\n",
       "    .dataframe tbody tr th {\n",
       "        vertical-align: top;\n",
       "    }\n",
       "\n",
       "    .dataframe thead th {\n",
       "        text-align: right;\n",
       "    }\n",
       "</style>\n",
       "<table border=\"1\" class=\"dataframe\">\n",
       "  <thead>\n",
       "    <tr style=\"text-align: right;\">\n",
       "      <th></th>\n",
       "      <th>Posted On</th>\n",
       "      <th>Rent</th>\n",
       "      <th>Size</th>\n",
       "      <th>Area Type</th>\n",
       "      <th>Furnishing Status</th>\n",
       "      <th>Bathroom</th>\n",
       "      <th>Point of Contact</th>\n",
       "      <th>Floor On</th>\n",
       "      <th>Floor Out Of</th>\n",
       "      <th>Bangalore</th>\n",
       "      <th>Chennai</th>\n",
       "      <th>Delhi</th>\n",
       "      <th>Hyderabad</th>\n",
       "      <th>Kolkata</th>\n",
       "      <th>Mumbai</th>\n",
       "      <th>Bachelors</th>\n",
       "      <th>Family</th>\n",
       "    </tr>\n",
       "  </thead>\n",
       "  <tbody>\n",
       "    <tr>\n",
       "      <th>0</th>\n",
       "      <td>168</td>\n",
       "      <td>10000</td>\n",
       "      <td>1100</td>\n",
       "      <td>1</td>\n",
       "      <td>0</td>\n",
       "      <td>0.003636</td>\n",
       "      <td>1</td>\n",
       "      <td>0.000000</td>\n",
       "      <td>2</td>\n",
       "      <td>0</td>\n",
       "      <td>0</td>\n",
       "      <td>0</td>\n",
       "      <td>0</td>\n",
       "      <td>1</td>\n",
       "      <td>0</td>\n",
       "      <td>1</td>\n",
       "      <td>1</td>\n",
       "    </tr>\n",
       "    <tr>\n",
       "      <th>1</th>\n",
       "      <td>163</td>\n",
       "      <td>20000</td>\n",
       "      <td>800</td>\n",
       "      <td>1</td>\n",
       "      <td>1</td>\n",
       "      <td>0.003750</td>\n",
       "      <td>1</td>\n",
       "      <td>0.333333</td>\n",
       "      <td>3</td>\n",
       "      <td>0</td>\n",
       "      <td>0</td>\n",
       "      <td>0</td>\n",
       "      <td>0</td>\n",
       "      <td>1</td>\n",
       "      <td>0</td>\n",
       "      <td>1</td>\n",
       "      <td>1</td>\n",
       "    </tr>\n",
       "    <tr>\n",
       "      <th>2</th>\n",
       "      <td>166</td>\n",
       "      <td>17000</td>\n",
       "      <td>1000</td>\n",
       "      <td>1</td>\n",
       "      <td>1</td>\n",
       "      <td>0.003000</td>\n",
       "      <td>1</td>\n",
       "      <td>0.333333</td>\n",
       "      <td>3</td>\n",
       "      <td>0</td>\n",
       "      <td>0</td>\n",
       "      <td>0</td>\n",
       "      <td>0</td>\n",
       "      <td>1</td>\n",
       "      <td>0</td>\n",
       "      <td>1</td>\n",
       "      <td>1</td>\n",
       "    </tr>\n",
       "    <tr>\n",
       "      <th>3</th>\n",
       "      <td>215</td>\n",
       "      <td>10000</td>\n",
       "      <td>800</td>\n",
       "      <td>1</td>\n",
       "      <td>0</td>\n",
       "      <td>0.003750</td>\n",
       "      <td>1</td>\n",
       "      <td>0.500000</td>\n",
       "      <td>2</td>\n",
       "      <td>0</td>\n",
       "      <td>0</td>\n",
       "      <td>0</td>\n",
       "      <td>0</td>\n",
       "      <td>1</td>\n",
       "      <td>0</td>\n",
       "      <td>1</td>\n",
       "      <td>1</td>\n",
       "    </tr>\n",
       "    <tr>\n",
       "      <th>4</th>\n",
       "      <td>159</td>\n",
       "      <td>7500</td>\n",
       "      <td>850</td>\n",
       "      <td>0</td>\n",
       "      <td>0</td>\n",
       "      <td>0.003529</td>\n",
       "      <td>1</td>\n",
       "      <td>0.500000</td>\n",
       "      <td>2</td>\n",
       "      <td>0</td>\n",
       "      <td>0</td>\n",
       "      <td>0</td>\n",
       "      <td>0</td>\n",
       "      <td>1</td>\n",
       "      <td>0</td>\n",
       "      <td>1</td>\n",
       "      <td>0</td>\n",
       "    </tr>\n",
       "    <tr>\n",
       "      <th>...</th>\n",
       "      <td>...</td>\n",
       "      <td>...</td>\n",
       "      <td>...</td>\n",
       "      <td>...</td>\n",
       "      <td>...</td>\n",
       "      <td>...</td>\n",
       "      <td>...</td>\n",
       "      <td>...</td>\n",
       "      <td>...</td>\n",
       "      <td>...</td>\n",
       "      <td>...</td>\n",
       "      <td>...</td>\n",
       "      <td>...</td>\n",
       "      <td>...</td>\n",
       "      <td>...</td>\n",
       "      <td>...</td>\n",
       "      <td>...</td>\n",
       "    </tr>\n",
       "    <tr>\n",
       "      <th>4738</th>\n",
       "      <td>168</td>\n",
       "      <td>15000</td>\n",
       "      <td>1000</td>\n",
       "      <td>0</td>\n",
       "      <td>1</td>\n",
       "      <td>0.004000</td>\n",
       "      <td>1</td>\n",
       "      <td>0.600000</td>\n",
       "      <td>5</td>\n",
       "      <td>0</td>\n",
       "      <td>0</td>\n",
       "      <td>0</td>\n",
       "      <td>1</td>\n",
       "      <td>0</td>\n",
       "      <td>0</td>\n",
       "      <td>1</td>\n",
       "      <td>1</td>\n",
       "    </tr>\n",
       "    <tr>\n",
       "      <th>4739</th>\n",
       "      <td>165</td>\n",
       "      <td>29000</td>\n",
       "      <td>2000</td>\n",
       "      <td>1</td>\n",
       "      <td>1</td>\n",
       "      <td>0.003000</td>\n",
       "      <td>1</td>\n",
       "      <td>0.250000</td>\n",
       "      <td>4</td>\n",
       "      <td>0</td>\n",
       "      <td>0</td>\n",
       "      <td>0</td>\n",
       "      <td>1</td>\n",
       "      <td>0</td>\n",
       "      <td>0</td>\n",
       "      <td>1</td>\n",
       "      <td>1</td>\n",
       "    </tr>\n",
       "    <tr>\n",
       "      <th>4740</th>\n",
       "      <td>221</td>\n",
       "      <td>35000</td>\n",
       "      <td>1750</td>\n",
       "      <td>0</td>\n",
       "      <td>1</td>\n",
       "      <td>0.003429</td>\n",
       "      <td>0</td>\n",
       "      <td>0.600000</td>\n",
       "      <td>5</td>\n",
       "      <td>0</td>\n",
       "      <td>0</td>\n",
       "      <td>0</td>\n",
       "      <td>1</td>\n",
       "      <td>0</td>\n",
       "      <td>0</td>\n",
       "      <td>1</td>\n",
       "      <td>1</td>\n",
       "    </tr>\n",
       "    <tr>\n",
       "      <th>4741</th>\n",
       "      <td>217</td>\n",
       "      <td>45000</td>\n",
       "      <td>1500</td>\n",
       "      <td>0</td>\n",
       "      <td>1</td>\n",
       "      <td>0.003333</td>\n",
       "      <td>0</td>\n",
       "      <td>0.676471</td>\n",
       "      <td>34</td>\n",
       "      <td>0</td>\n",
       "      <td>0</td>\n",
       "      <td>0</td>\n",
       "      <td>1</td>\n",
       "      <td>0</td>\n",
       "      <td>0</td>\n",
       "      <td>0</td>\n",
       "      <td>1</td>\n",
       "    </tr>\n",
       "    <tr>\n",
       "      <th>4742</th>\n",
       "      <td>154</td>\n",
       "      <td>15000</td>\n",
       "      <td>1000</td>\n",
       "      <td>0</td>\n",
       "      <td>0</td>\n",
       "      <td>0.004000</td>\n",
       "      <td>1</td>\n",
       "      <td>0.800000</td>\n",
       "      <td>5</td>\n",
       "      <td>0</td>\n",
       "      <td>0</td>\n",
       "      <td>0</td>\n",
       "      <td>1</td>\n",
       "      <td>0</td>\n",
       "      <td>0</td>\n",
       "      <td>1</td>\n",
       "      <td>0</td>\n",
       "    </tr>\n",
       "  </tbody>\n",
       "</table>\n",
       "<p>4743 rows × 17 columns</p>\n",
       "</div>"
      ],
      "text/plain": [
       "      Posted On   Rent  Size  Area Type  Furnishing Status  Bathroom  \\\n",
       "0           168  10000  1100          1                  0  0.003636   \n",
       "1           163  20000   800          1                  1  0.003750   \n",
       "2           166  17000  1000          1                  1  0.003000   \n",
       "3           215  10000   800          1                  0  0.003750   \n",
       "4           159   7500   850          0                  0  0.003529   \n",
       "...         ...    ...   ...        ...                ...       ...   \n",
       "4738        168  15000  1000          0                  1  0.004000   \n",
       "4739        165  29000  2000          1                  1  0.003000   \n",
       "4740        221  35000  1750          0                  1  0.003429   \n",
       "4741        217  45000  1500          0                  1  0.003333   \n",
       "4742        154  15000  1000          0                  0  0.004000   \n",
       "\n",
       "      Point of Contact  Floor On  Floor Out Of  Bangalore  Chennai  Delhi  \\\n",
       "0                    1  0.000000             2          0        0      0   \n",
       "1                    1  0.333333             3          0        0      0   \n",
       "2                    1  0.333333             3          0        0      0   \n",
       "3                    1  0.500000             2          0        0      0   \n",
       "4                    1  0.500000             2          0        0      0   \n",
       "...                ...       ...           ...        ...      ...    ...   \n",
       "4738                 1  0.600000             5          0        0      0   \n",
       "4739                 1  0.250000             4          0        0      0   \n",
       "4740                 0  0.600000             5          0        0      0   \n",
       "4741                 0  0.676471            34          0        0      0   \n",
       "4742                 1  0.800000             5          0        0      0   \n",
       "\n",
       "      Hyderabad  Kolkata  Mumbai  Bachelors  Family  \n",
       "0             0        1       0          1       1  \n",
       "1             0        1       0          1       1  \n",
       "2             0        1       0          1       1  \n",
       "3             0        1       0          1       1  \n",
       "4             0        1       0          1       0  \n",
       "...         ...      ...     ...        ...     ...  \n",
       "4738          1        0       0          1       1  \n",
       "4739          1        0       0          1       1  \n",
       "4740          1        0       0          1       1  \n",
       "4741          1        0       0          0       1  \n",
       "4742          1        0       0          1       0  \n",
       "\n",
       "[4743 rows x 17 columns]"
      ]
     },
     "metadata": {},
     "output_type": "display_data"
    }
   ],
   "source": [
    "data = sizeBathroomBHKScale(data)\n",
    "display(data)"
   ]
  },
  {
   "cell_type": "code",
   "execution_count": 100,
   "id": "01ad1070",
   "metadata": {},
   "outputs": [
    {
     "data": {
      "text/html": [
       "<div>\n",
       "<style scoped>\n",
       "    .dataframe tbody tr th:only-of-type {\n",
       "        vertical-align: middle;\n",
       "    }\n",
       "\n",
       "    .dataframe tbody tr th {\n",
       "        vertical-align: top;\n",
       "    }\n",
       "\n",
       "    .dataframe thead th {\n",
       "        text-align: right;\n",
       "    }\n",
       "</style>\n",
       "<table border=\"1\" class=\"dataframe\">\n",
       "  <thead>\n",
       "    <tr style=\"text-align: right;\">\n",
       "      <th></th>\n",
       "      <th>Posted On</th>\n",
       "      <th>Size</th>\n",
       "      <th>Bathroom</th>\n",
       "      <th>Floor On</th>\n",
       "      <th>Floor Out Of</th>\n",
       "    </tr>\n",
       "  </thead>\n",
       "  <tbody>\n",
       "    <tr>\n",
       "      <th>Posted On</th>\n",
       "      <td>1.000000</td>\n",
       "      <td>0.139458</td>\n",
       "      <td>-0.054398</td>\n",
       "      <td>0.046432</td>\n",
       "      <td>0.176834</td>\n",
       "    </tr>\n",
       "    <tr>\n",
       "      <th>Size</th>\n",
       "      <td>0.139458</td>\n",
       "      <td>1.000000</td>\n",
       "      <td>-0.254678</td>\n",
       "      <td>0.025421</td>\n",
       "      <td>0.189510</td>\n",
       "    </tr>\n",
       "    <tr>\n",
       "      <th>Bathroom</th>\n",
       "      <td>-0.054398</td>\n",
       "      <td>-0.254678</td>\n",
       "      <td>1.000000</td>\n",
       "      <td>0.030925</td>\n",
       "      <td>-0.044709</td>\n",
       "    </tr>\n",
       "    <tr>\n",
       "      <th>Floor On</th>\n",
       "      <td>0.046432</td>\n",
       "      <td>0.025421</td>\n",
       "      <td>0.030925</td>\n",
       "      <td>1.000000</td>\n",
       "      <td>0.084283</td>\n",
       "    </tr>\n",
       "    <tr>\n",
       "      <th>Floor Out Of</th>\n",
       "      <td>0.176834</td>\n",
       "      <td>0.189510</td>\n",
       "      <td>-0.044709</td>\n",
       "      <td>0.084283</td>\n",
       "      <td>1.000000</td>\n",
       "    </tr>\n",
       "  </tbody>\n",
       "</table>\n",
       "</div>"
      ],
      "text/plain": [
       "              Posted On      Size  Bathroom  Floor On  Floor Out Of\n",
       "Posted On      1.000000  0.139458 -0.054398  0.046432      0.176834\n",
       "Size           0.139458  1.000000 -0.254678  0.025421      0.189510\n",
       "Bathroom      -0.054398 -0.254678  1.000000  0.030925     -0.044709\n",
       "Floor On       0.046432  0.025421  0.030925  1.000000      0.084283\n",
       "Floor Out Of   0.176834  0.189510 -0.044709  0.084283      1.000000"
      ]
     },
     "metadata": {},
     "output_type": "display_data"
    }
   ],
   "source": [
    "display(scalarCorrelationMatrix(data))"
   ]
  },
  {
   "cell_type": "markdown",
   "id": "bcb1ee4c",
   "metadata": {},
   "source": [
    "**Now some of our correlation is negative, but the degree is significantly smaller indicating much less correlation between the three variables.**"
   ]
  },
  {
   "cell_type": "code",
   "execution_count": 101,
   "id": "47bd937e",
   "metadata": {},
   "outputs": [],
   "source": [
    "resids = get_residuals(data,LinearRegression(),False)"
   ]
  },
  {
   "cell_type": "code",
   "execution_count": 102,
   "id": "69a22f10",
   "metadata": {},
   "outputs": [
    {
     "data": {
      "text/plain": [
       "1.1905205091514115"
      ]
     },
     "execution_count": 102,
     "metadata": {},
     "output_type": "execute_result"
    }
   ],
   "source": [
    "durbin_watson(resids)"
   ]
  },
  {
   "cell_type": "markdown",
   "id": "99b835fd",
   "metadata": {},
   "source": [
    "**We've improved our durbin watson statistic from .95 to 1.19, however our goal is still 1.5.**\n",
    "\n",
    "We have looked close at our scalar variables, now it's time to check our categorical vars."
   ]
  },
  {
   "cell_type": "code",
   "execution_count": 103,
   "id": "7e767ec4",
   "metadata": {},
   "outputs": [],
   "source": [
    "cat_vars = [\"Area Type\",\"Furnishing Status\",\"Point of Contact\",\"Bachelors\",\"Family\",\n",
    "            \"Bangalore\",\"Chennai\",\"Delhi\",\"Hyderabad\",\"Kolkata\",\"Mumbai\"]"
   ]
  },
  {
   "cell_type": "code",
   "execution_count": 104,
   "id": "8e94413e",
   "metadata": {},
   "outputs": [],
   "source": [
    "def getCatCorrelation(data):\n",
    "    result_holder = []\n",
    "    for i in cat_vars:\n",
    "        #cat_holder.append(data[i].value_counts())\n",
    "        for j in cat_vars:\n",
    "            crosstab, test_results, expected = rp.crosstab(data[i], data[j],\n",
    "                                               test= \"chi-square\",\n",
    "                                               expected_freqs= True,\n",
    "                                               prop= \"cell\")\n",
    "            result_holder.append([crosstab,test_results,expected])\n",
    "        \n",
    "    return result_holder\n",
    "    \n",
    "result = getCatCorrelation(data)"
   ]
  },
  {
   "cell_type": "markdown",
   "id": "5f06f816",
   "metadata": {},
   "source": [
    "**Phi and Cramer's V\tInterpretation**\n",
    "\n",
    "0.25:\tVery strong\n",
    "\n",
    "0.15:\tStrong\n",
    "\n",
    "0.10:\tModerate\n",
    "\n",
    "0.05:\tWeak\n",
    "\n",
    "0:\tNo or very weak\n",
    "\n",
    "    "
   ]
  },
  {
   "cell_type": "markdown",
   "id": "26e41dae",
   "metadata": {},
   "source": [
    "## Correlation Strength per Categorical Variable"
   ]
  },
  {
   "cell_type": "code",
   "execution_count": 105,
   "id": "52b34a45",
   "metadata": {},
   "outputs": [],
   "source": [
    "def catCorrMatrix(catCorrResults):\n",
    "    corr_strength = pd.DataFrame()\n",
    "    corr_strength_constructor = []\n",
    "\n",
    "    #n is the starting point (index wise) for the current var\n",
    "    n = 0\n",
    "    interp = False\n",
    "    for i in range(len(cat_vars)): \n",
    "        corr_strength_helper = []\n",
    "        for j in range(len(cat_vars)):\n",
    "            if interp:\n",
    "                if abs(result[n+j][1]['results'][2]) > .25:\n",
    "                    #print(\"Very Strong\")\n",
    "                    corr_strength_helper.append('VS')\n",
    "                elif abs(result[n+j][1]['results'][2]) > .15:\n",
    "                    #print(\"Strong\")\n",
    "                    corr_strength_helper.append('S')\n",
    "                elif abs(result[n+j][1]['results'][2]) > .1:\n",
    "                    #print(\"Moderate\")\n",
    "                    corr_strength_helper.append('M')\n",
    "                elif abs(result[n+j][1]['results'][2]) > .05:\n",
    "                    #print(\"Weak\")\n",
    "                    corr_strength_helper.append('W')\n",
    "                else:\n",
    "                    #print(\"None or Very Weak\")\n",
    "                    corr_strength_helper.append('N')\n",
    "            else:\n",
    "                corr_strength_helper.append(result[n+j][1]['results'][2])\n",
    "\n",
    "        corr_strength_helper = pd.Series(corr_strength_helper,name=cat_vars[i])\n",
    "        corr_strength = pd.concat([corr_strength,corr_strength_helper],axis=1)\n",
    "\n",
    "        n = n + len(cat_vars)\n",
    "\n",
    "    corr_strength.index = cat_vars\n",
    "    \n",
    "    return corr_strength"
   ]
  },
  {
   "cell_type": "code",
   "execution_count": 106,
   "id": "bf32b8a4",
   "metadata": {},
   "outputs": [],
   "source": [
    "corr_strength = catCorrMatrix(result)"
   ]
  },
  {
   "cell_type": "code",
   "execution_count": 107,
   "id": "6c160fb3",
   "metadata": {},
   "outputs": [],
   "source": [
    "def highlightS(x,color):\n",
    "    ones = np.where(x > .99, \"color: white;\", None)\n",
    "    s = np.where(x > .2, f\"color: {color};\", None)\n",
    "    vs = np.where(x > .5, \"color: blue;\", None)\n",
    "    for i in range(len(vs)):\n",
    "        if ones[i] == None:\n",
    "            if not s[i] == None:\n",
    "                if vs[i] == None:\n",
    "                    vs[i] = s[i]\n",
    "        else:\n",
    "            vs[i] = ones[i]\n",
    "    return vs\n",
    "\n",
    "def highlightN(x,color):\n",
    "    return np.where((x == \"N\"), f\"color: {color};\", None)"
   ]
  },
  {
   "cell_type": "code",
   "execution_count": 108,
   "id": "90b6ba85",
   "metadata": {},
   "outputs": [
    {
     "data": {
      "text/html": [
       "<style type=\"text/css\">\n",
       "#T_98800_row0_col0, #T_98800_row1_col1, #T_98800_row2_col2, #T_98800_row3_col3, #T_98800_row4_col4, #T_98800_row5_col5, #T_98800_row6_col6, #T_98800_row7_col7, #T_98800_row8_col8, #T_98800_row9_col9, #T_98800_row10_col10 {\n",
       "  color: white;\n",
       "}\n",
       "#T_98800_row0_col2, #T_98800_row2_col0, #T_98800_row2_col10, #T_98800_row10_col2 {\n",
       "  color: blue;\n",
       "}\n",
       "#T_98800_row0_col4, #T_98800_row0_col10, #T_98800_row4_col0, #T_98800_row5_col6, #T_98800_row5_col8, #T_98800_row5_col10, #T_98800_row6_col5, #T_98800_row6_col8, #T_98800_row6_col10, #T_98800_row8_col5, #T_98800_row8_col6, #T_98800_row8_col10, #T_98800_row10_col0, #T_98800_row10_col5, #T_98800_row10_col6, #T_98800_row10_col8 {\n",
       "  color: green;\n",
       "}\n",
       "</style>\n",
       "<table id=\"T_98800\">\n",
       "  <thead>\n",
       "    <tr>\n",
       "      <th class=\"blank level0\" >&nbsp;</th>\n",
       "      <th id=\"T_98800_level0_col0\" class=\"col_heading level0 col0\" >Area Type</th>\n",
       "      <th id=\"T_98800_level0_col1\" class=\"col_heading level0 col1\" >Furnishing Status</th>\n",
       "      <th id=\"T_98800_level0_col2\" class=\"col_heading level0 col2\" >Point of Contact</th>\n",
       "      <th id=\"T_98800_level0_col3\" class=\"col_heading level0 col3\" >Bachelors</th>\n",
       "      <th id=\"T_98800_level0_col4\" class=\"col_heading level0 col4\" >Family</th>\n",
       "      <th id=\"T_98800_level0_col5\" class=\"col_heading level0 col5\" >Bangalore</th>\n",
       "      <th id=\"T_98800_level0_col6\" class=\"col_heading level0 col6\" >Chennai</th>\n",
       "      <th id=\"T_98800_level0_col7\" class=\"col_heading level0 col7\" >Delhi</th>\n",
       "      <th id=\"T_98800_level0_col8\" class=\"col_heading level0 col8\" >Hyderabad</th>\n",
       "      <th id=\"T_98800_level0_col9\" class=\"col_heading level0 col9\" >Kolkata</th>\n",
       "      <th id=\"T_98800_level0_col10\" class=\"col_heading level0 col10\" >Mumbai</th>\n",
       "    </tr>\n",
       "  </thead>\n",
       "  <tbody>\n",
       "    <tr>\n",
       "      <th id=\"T_98800_level0_row0\" class=\"row_heading level0 row0\" >Area Type</th>\n",
       "      <td id=\"T_98800_row0_col0\" class=\"data row0 col0\" >1.000000</td>\n",
       "      <td id=\"T_98800_row0_col1\" class=\"data row0 col1\" >0.058400</td>\n",
       "      <td id=\"T_98800_row0_col2\" class=\"data row0 col2\" >0.561600</td>\n",
       "      <td id=\"T_98800_row0_col3\" class=\"data row0 col3\" >0.137100</td>\n",
       "      <td id=\"T_98800_row0_col4\" class=\"data row0 col4\" >0.320700</td>\n",
       "      <td id=\"T_98800_row0_col5\" class=\"data row0 col5\" >0.101000</td>\n",
       "      <td id=\"T_98800_row0_col6\" class=\"data row0 col6\" >0.125600</td>\n",
       "      <td id=\"T_98800_row0_col7\" class=\"data row0 col7\" >0.027700</td>\n",
       "      <td id=\"T_98800_row0_col8\" class=\"data row0 col8\" >0.189600</td>\n",
       "      <td id=\"T_98800_row0_col9\" class=\"data row0 col9\" >0.013600</td>\n",
       "      <td id=\"T_98800_row0_col10\" class=\"data row0 col10\" >0.366900</td>\n",
       "    </tr>\n",
       "    <tr>\n",
       "      <th id=\"T_98800_level0_row1\" class=\"row_heading level0 row1\" >Furnishing Status</th>\n",
       "      <td id=\"T_98800_row1_col0\" class=\"data row1 col0\" >0.058400</td>\n",
       "      <td id=\"T_98800_row1_col1\" class=\"data row1 col1\" >1.000000</td>\n",
       "      <td id=\"T_98800_row1_col2\" class=\"data row1 col2\" >0.131600</td>\n",
       "      <td id=\"T_98800_row1_col3\" class=\"data row1 col3\" >0.051400</td>\n",
       "      <td id=\"T_98800_row1_col4\" class=\"data row1 col4\" >0.104800</td>\n",
       "      <td id=\"T_98800_row1_col5\" class=\"data row1 col5\" >0.177700</td>\n",
       "      <td id=\"T_98800_row1_col6\" class=\"data row1 col6\" >0.073100</td>\n",
       "      <td id=\"T_98800_row1_col7\" class=\"data row1 col7\" >0.019300</td>\n",
       "      <td id=\"T_98800_row1_col8\" class=\"data row1 col8\" >0.027900</td>\n",
       "      <td id=\"T_98800_row1_col9\" class=\"data row1 col9\" >0.169400</td>\n",
       "      <td id=\"T_98800_row1_col10\" class=\"data row1 col10\" >0.149300</td>\n",
       "    </tr>\n",
       "    <tr>\n",
       "      <th id=\"T_98800_level0_row2\" class=\"row_heading level0 row2\" >Point of Contact</th>\n",
       "      <td id=\"T_98800_row2_col0\" class=\"data row2 col0\" >0.561600</td>\n",
       "      <td id=\"T_98800_row2_col1\" class=\"data row2 col1\" >0.131600</td>\n",
       "      <td id=\"T_98800_row2_col2\" class=\"data row2 col2\" >1.000000</td>\n",
       "      <td id=\"T_98800_row2_col3\" class=\"data row2 col3\" >0.141400</td>\n",
       "      <td id=\"T_98800_row2_col4\" class=\"data row2 col4\" >0.197600</td>\n",
       "      <td id=\"T_98800_row2_col5\" class=\"data row2 col5\" >0.119900</td>\n",
       "      <td id=\"T_98800_row2_col6\" class=\"data row2 col6\" >0.176700</td>\n",
       "      <td id=\"T_98800_row2_col7\" class=\"data row2 col7\" >0.063500</td>\n",
       "      <td id=\"T_98800_row2_col8\" class=\"data row2 col8\" >0.197500</td>\n",
       "      <td id=\"T_98800_row2_col9\" class=\"data row2 col9\" >0.126500</td>\n",
       "      <td id=\"T_98800_row2_col10\" class=\"data row2 col10\" >0.521500</td>\n",
       "    </tr>\n",
       "    <tr>\n",
       "      <th id=\"T_98800_level0_row3\" class=\"row_heading level0 row3\" >Bachelors</th>\n",
       "      <td id=\"T_98800_row3_col0\" class=\"data row3 col0\" >0.137100</td>\n",
       "      <td id=\"T_98800_row3_col1\" class=\"data row3 col1\" >0.051400</td>\n",
       "      <td id=\"T_98800_row3_col2\" class=\"data row3 col2\" >0.141400</td>\n",
       "      <td id=\"T_98800_row3_col3\" class=\"data row3 col3\" >1.000000</td>\n",
       "      <td id=\"T_98800_row3_col4\" class=\"data row3 col4\" >0.153100</td>\n",
       "      <td id=\"T_98800_row3_col5\" class=\"data row3 col5\" >0.056300</td>\n",
       "      <td id=\"T_98800_row3_col6\" class=\"data row3 col6\" >0.029600</td>\n",
       "      <td id=\"T_98800_row3_col7\" class=\"data row3 col7\" >0.103900</td>\n",
       "      <td id=\"T_98800_row3_col8\" class=\"data row3 col8\" >0.007000</td>\n",
       "      <td id=\"T_98800_row3_col9\" class=\"data row3 col9\" >0.065500</td>\n",
       "      <td id=\"T_98800_row3_col10\" class=\"data row3 col10\" >0.155800</td>\n",
       "    </tr>\n",
       "    <tr>\n",
       "      <th id=\"T_98800_level0_row4\" class=\"row_heading level0 row4\" >Family</th>\n",
       "      <td id=\"T_98800_row4_col0\" class=\"data row4 col0\" >0.320700</td>\n",
       "      <td id=\"T_98800_row4_col1\" class=\"data row4 col1\" >0.104800</td>\n",
       "      <td id=\"T_98800_row4_col2\" class=\"data row4 col2\" >0.197600</td>\n",
       "      <td id=\"T_98800_row4_col3\" class=\"data row4 col3\" >0.153100</td>\n",
       "      <td id=\"T_98800_row4_col4\" class=\"data row4 col4\" >1.000000</td>\n",
       "      <td id=\"T_98800_row4_col5\" class=\"data row4 col5\" >0.028500</td>\n",
       "      <td id=\"T_98800_row4_col6\" class=\"data row4 col6\" >0.026600</td>\n",
       "      <td id=\"T_98800_row4_col7\" class=\"data row4 col7\" >0.093400</td>\n",
       "      <td id=\"T_98800_row4_col8\" class=\"data row4 col8\" >0.071200</td>\n",
       "      <td id=\"T_98800_row4_col9\" class=\"data row4 col9\" >0.053600</td>\n",
       "      <td id=\"T_98800_row4_col10\" class=\"data row4 col10\" >0.002600</td>\n",
       "    </tr>\n",
       "    <tr>\n",
       "      <th id=\"T_98800_level0_row5\" class=\"row_heading level0 row5\" >Bangalore</th>\n",
       "      <td id=\"T_98800_row5_col0\" class=\"data row5 col0\" >0.101000</td>\n",
       "      <td id=\"T_98800_row5_col1\" class=\"data row5 col1\" >0.177700</td>\n",
       "      <td id=\"T_98800_row5_col2\" class=\"data row5 col2\" >0.119900</td>\n",
       "      <td id=\"T_98800_row5_col3\" class=\"data row5 col3\" >0.056300</td>\n",
       "      <td id=\"T_98800_row5_col4\" class=\"data row5 col4\" >0.028500</td>\n",
       "      <td id=\"T_98800_row5_col5\" class=\"data row5 col5\" >1.000000</td>\n",
       "      <td id=\"T_98800_row5_col6\" class=\"data row5 col6\" >0.230300</td>\n",
       "      <td id=\"T_98800_row5_col7\" class=\"data row5 col7\" >0.183300</td>\n",
       "      <td id=\"T_98800_row5_col8\" class=\"data row5 col8\" >0.226500</td>\n",
       "      <td id=\"T_98800_row5_col9\" class=\"data row5 col9\" >0.168900</td>\n",
       "      <td id=\"T_98800_row5_col10\" class=\"data row5 col10\" >0.243300</td>\n",
       "    </tr>\n",
       "    <tr>\n",
       "      <th id=\"T_98800_level0_row6\" class=\"row_heading level0 row6\" >Chennai</th>\n",
       "      <td id=\"T_98800_row6_col0\" class=\"data row6 col0\" >0.125600</td>\n",
       "      <td id=\"T_98800_row6_col1\" class=\"data row6 col1\" >0.073100</td>\n",
       "      <td id=\"T_98800_row6_col2\" class=\"data row6 col2\" >0.176700</td>\n",
       "      <td id=\"T_98800_row6_col3\" class=\"data row6 col3\" >0.029600</td>\n",
       "      <td id=\"T_98800_row6_col4\" class=\"data row6 col4\" >0.026600</td>\n",
       "      <td id=\"T_98800_row6_col5\" class=\"data row6 col5\" >0.230300</td>\n",
       "      <td id=\"T_98800_row6_col6\" class=\"data row6 col6\" >1.000000</td>\n",
       "      <td id=\"T_98800_row6_col7\" class=\"data row6 col7\" >0.183800</td>\n",
       "      <td id=\"T_98800_row6_col8\" class=\"data row6 col8\" >0.227100</td>\n",
       "      <td id=\"T_98800_row6_col9\" class=\"data row6 col9\" >0.169400</td>\n",
       "      <td id=\"T_98800_row6_col10\" class=\"data row6 col10\" >0.244000</td>\n",
       "    </tr>\n",
       "    <tr>\n",
       "      <th id=\"T_98800_level0_row7\" class=\"row_heading level0 row7\" >Delhi</th>\n",
       "      <td id=\"T_98800_row7_col0\" class=\"data row7 col0\" >0.027700</td>\n",
       "      <td id=\"T_98800_row7_col1\" class=\"data row7 col1\" >0.019300</td>\n",
       "      <td id=\"T_98800_row7_col2\" class=\"data row7 col2\" >0.063500</td>\n",
       "      <td id=\"T_98800_row7_col3\" class=\"data row7 col3\" >0.103900</td>\n",
       "      <td id=\"T_98800_row7_col4\" class=\"data row7 col4\" >0.093400</td>\n",
       "      <td id=\"T_98800_row7_col5\" class=\"data row7 col5\" >0.183300</td>\n",
       "      <td id=\"T_98800_row7_col6\" class=\"data row7 col6\" >0.183800</td>\n",
       "      <td id=\"T_98800_row7_col7\" class=\"data row7 col7\" >1.000000</td>\n",
       "      <td id=\"T_98800_row7_col8\" class=\"data row7 col8\" >0.180700</td>\n",
       "      <td id=\"T_98800_row7_col9\" class=\"data row7 col9\" >0.134800</td>\n",
       "      <td id=\"T_98800_row7_col10\" class=\"data row7 col10\" >0.194100</td>\n",
       "    </tr>\n",
       "    <tr>\n",
       "      <th id=\"T_98800_level0_row8\" class=\"row_heading level0 row8\" >Hyderabad</th>\n",
       "      <td id=\"T_98800_row8_col0\" class=\"data row8 col0\" >0.189600</td>\n",
       "      <td id=\"T_98800_row8_col1\" class=\"data row8 col1\" >0.027900</td>\n",
       "      <td id=\"T_98800_row8_col2\" class=\"data row8 col2\" >0.197500</td>\n",
       "      <td id=\"T_98800_row8_col3\" class=\"data row8 col3\" >0.007000</td>\n",
       "      <td id=\"T_98800_row8_col4\" class=\"data row8 col4\" >0.071200</td>\n",
       "      <td id=\"T_98800_row8_col5\" class=\"data row8 col5\" >0.226500</td>\n",
       "      <td id=\"T_98800_row8_col6\" class=\"data row8 col6\" >0.227100</td>\n",
       "      <td id=\"T_98800_row8_col7\" class=\"data row8 col7\" >0.180700</td>\n",
       "      <td id=\"T_98800_row8_col8\" class=\"data row8 col8\" >1.000000</td>\n",
       "      <td id=\"T_98800_row8_col9\" class=\"data row8 col9\" >0.166600</td>\n",
       "      <td id=\"T_98800_row8_col10\" class=\"data row8 col10\" >0.239900</td>\n",
       "    </tr>\n",
       "    <tr>\n",
       "      <th id=\"T_98800_level0_row9\" class=\"row_heading level0 row9\" >Kolkata</th>\n",
       "      <td id=\"T_98800_row9_col0\" class=\"data row9 col0\" >0.013600</td>\n",
       "      <td id=\"T_98800_row9_col1\" class=\"data row9 col1\" >0.169400</td>\n",
       "      <td id=\"T_98800_row9_col2\" class=\"data row9 col2\" >0.126500</td>\n",
       "      <td id=\"T_98800_row9_col3\" class=\"data row9 col3\" >0.065500</td>\n",
       "      <td id=\"T_98800_row9_col4\" class=\"data row9 col4\" >0.053600</td>\n",
       "      <td id=\"T_98800_row9_col5\" class=\"data row9 col5\" >0.168900</td>\n",
       "      <td id=\"T_98800_row9_col6\" class=\"data row9 col6\" >0.169400</td>\n",
       "      <td id=\"T_98800_row9_col7\" class=\"data row9 col7\" >0.134800</td>\n",
       "      <td id=\"T_98800_row9_col8\" class=\"data row9 col8\" >0.166600</td>\n",
       "      <td id=\"T_98800_row9_col9\" class=\"data row9 col9\" >1.000000</td>\n",
       "      <td id=\"T_98800_row9_col10\" class=\"data row9 col10\" >0.178900</td>\n",
       "    </tr>\n",
       "    <tr>\n",
       "      <th id=\"T_98800_level0_row10\" class=\"row_heading level0 row10\" >Mumbai</th>\n",
       "      <td id=\"T_98800_row10_col0\" class=\"data row10 col0\" >0.366900</td>\n",
       "      <td id=\"T_98800_row10_col1\" class=\"data row10 col1\" >0.149300</td>\n",
       "      <td id=\"T_98800_row10_col2\" class=\"data row10 col2\" >0.521500</td>\n",
       "      <td id=\"T_98800_row10_col3\" class=\"data row10 col3\" >0.155800</td>\n",
       "      <td id=\"T_98800_row10_col4\" class=\"data row10 col4\" >0.002600</td>\n",
       "      <td id=\"T_98800_row10_col5\" class=\"data row10 col5\" >0.243300</td>\n",
       "      <td id=\"T_98800_row10_col6\" class=\"data row10 col6\" >0.244000</td>\n",
       "      <td id=\"T_98800_row10_col7\" class=\"data row10 col7\" >0.194100</td>\n",
       "      <td id=\"T_98800_row10_col8\" class=\"data row10 col8\" >0.239900</td>\n",
       "      <td id=\"T_98800_row10_col9\" class=\"data row10 col9\" >0.178900</td>\n",
       "      <td id=\"T_98800_row10_col10\" class=\"data row10 col10\" >1.000000</td>\n",
       "    </tr>\n",
       "  </tbody>\n",
       "</table>\n"
      ],
      "text/plain": [
       "<pandas.io.formats.style.Styler at 0x7f8429f40dc0>"
      ]
     },
     "metadata": {},
     "output_type": "display_data"
    }
   ],
   "source": [
    "display(corr_strength.style.apply(highlightS,color=\"green\"))"
   ]
  },
  {
   "cell_type": "markdown",
   "id": "6075af52",
   "metadata": {},
   "source": [
    "From these we can see a lot of strong and very strong correlation between our categorical variables. The main problematic correlations seem to fall into two groups.\n",
    "\n",
    "The first main group is as follows:\n",
    "\n",
    "1. Point of Contact and Area Type\n",
    "2. Point of Contact and Mumbai\n",
    "3. Mumbai and Area Type\n",
    "4. Family and Area Type\n",
    "\n",
    "In addition to these there is a lot of correlation between the different one-hot encoded cities.\n",
    "\n",
    "5. Bangalore and Mumbai\n",
    "6. Bangalore and Chennai\n",
    "7. Bangalore and Hyderabad\n",
    "8. Chennai and Hyderabad\n",
    "9. Chennai and Mumbai\n",
    "10. Hyderabad and Mumbai"
   ]
  },
  {
   "cell_type": "markdown",
   "id": "7574d888",
   "metadata": {},
   "source": [
    "**First, we can see that Area Type and Point of Contact are collinear, along with Area Type being collinear with Mumbai and Family as well. This seems to indicate that Area Type doesn't present any information not within those other vars, so we can just drop it [IF THIS DOESN'T WORK WE MAY NEED TO SCALE SIZE BY AREA TYPE BEFORE DROPPING IT]**"
   ]
  },
  {
   "cell_type": "code",
   "execution_count": 109,
   "id": "96439a47",
   "metadata": {},
   "outputs": [],
   "source": [
    "data = data.drop(\"Area Type\",axis=1)"
   ]
  },
  {
   "cell_type": "code",
   "execution_count": 110,
   "id": "36bace44",
   "metadata": {},
   "outputs": [],
   "source": [
    "cat_vars = [\"Furnishing Status\",\"Point of Contact\",\"Bachelors\",\"Family\",\n",
    "            \"Bangalore\",\"Chennai\",\"Delhi\",\"Hyderabad\",\"Kolkata\",\"Mumbai\"]"
   ]
  },
  {
   "cell_type": "code",
   "execution_count": 111,
   "id": "1dc5abc0",
   "metadata": {},
   "outputs": [
    {
     "data": {
      "text/html": [
       "<style type=\"text/css\">\n",
       "#T_f0310_row0_col0, #T_f0310_row1_col1, #T_f0310_row2_col2, #T_f0310_row3_col3, #T_f0310_row4_col4, #T_f0310_row5_col5, #T_f0310_row6_col6, #T_f0310_row7_col7, #T_f0310_row8_col8, #T_f0310_row9_col9 {\n",
       "  color: white;\n",
       "}\n",
       "#T_f0310_row1_col9, #T_f0310_row9_col1 {\n",
       "  color: blue;\n",
       "}\n",
       "#T_f0310_row4_col5, #T_f0310_row4_col7, #T_f0310_row4_col9, #T_f0310_row5_col4, #T_f0310_row5_col7, #T_f0310_row5_col9, #T_f0310_row7_col4, #T_f0310_row7_col5, #T_f0310_row7_col9, #T_f0310_row9_col4, #T_f0310_row9_col5, #T_f0310_row9_col7 {\n",
       "  color: green;\n",
       "}\n",
       "</style>\n",
       "<table id=\"T_f0310\">\n",
       "  <thead>\n",
       "    <tr>\n",
       "      <th class=\"blank level0\" >&nbsp;</th>\n",
       "      <th id=\"T_f0310_level0_col0\" class=\"col_heading level0 col0\" >Furnishing Status</th>\n",
       "      <th id=\"T_f0310_level0_col1\" class=\"col_heading level0 col1\" >Point of Contact</th>\n",
       "      <th id=\"T_f0310_level0_col2\" class=\"col_heading level0 col2\" >Bachelors</th>\n",
       "      <th id=\"T_f0310_level0_col3\" class=\"col_heading level0 col3\" >Family</th>\n",
       "      <th id=\"T_f0310_level0_col4\" class=\"col_heading level0 col4\" >Bangalore</th>\n",
       "      <th id=\"T_f0310_level0_col5\" class=\"col_heading level0 col5\" >Chennai</th>\n",
       "      <th id=\"T_f0310_level0_col6\" class=\"col_heading level0 col6\" >Delhi</th>\n",
       "      <th id=\"T_f0310_level0_col7\" class=\"col_heading level0 col7\" >Hyderabad</th>\n",
       "      <th id=\"T_f0310_level0_col8\" class=\"col_heading level0 col8\" >Kolkata</th>\n",
       "      <th id=\"T_f0310_level0_col9\" class=\"col_heading level0 col9\" >Mumbai</th>\n",
       "    </tr>\n",
       "  </thead>\n",
       "  <tbody>\n",
       "    <tr>\n",
       "      <th id=\"T_f0310_level0_row0\" class=\"row_heading level0 row0\" >Furnishing Status</th>\n",
       "      <td id=\"T_f0310_row0_col0\" class=\"data row0 col0\" >1.000000</td>\n",
       "      <td id=\"T_f0310_row0_col1\" class=\"data row0 col1\" >0.131600</td>\n",
       "      <td id=\"T_f0310_row0_col2\" class=\"data row0 col2\" >0.051400</td>\n",
       "      <td id=\"T_f0310_row0_col3\" class=\"data row0 col3\" >0.104800</td>\n",
       "      <td id=\"T_f0310_row0_col4\" class=\"data row0 col4\" >0.177700</td>\n",
       "      <td id=\"T_f0310_row0_col5\" class=\"data row0 col5\" >0.073100</td>\n",
       "      <td id=\"T_f0310_row0_col6\" class=\"data row0 col6\" >0.019300</td>\n",
       "      <td id=\"T_f0310_row0_col7\" class=\"data row0 col7\" >0.027900</td>\n",
       "      <td id=\"T_f0310_row0_col8\" class=\"data row0 col8\" >0.169400</td>\n",
       "      <td id=\"T_f0310_row0_col9\" class=\"data row0 col9\" >0.149300</td>\n",
       "    </tr>\n",
       "    <tr>\n",
       "      <th id=\"T_f0310_level0_row1\" class=\"row_heading level0 row1\" >Point of Contact</th>\n",
       "      <td id=\"T_f0310_row1_col0\" class=\"data row1 col0\" >0.131600</td>\n",
       "      <td id=\"T_f0310_row1_col1\" class=\"data row1 col1\" >1.000000</td>\n",
       "      <td id=\"T_f0310_row1_col2\" class=\"data row1 col2\" >0.141400</td>\n",
       "      <td id=\"T_f0310_row1_col3\" class=\"data row1 col3\" >0.197600</td>\n",
       "      <td id=\"T_f0310_row1_col4\" class=\"data row1 col4\" >0.119900</td>\n",
       "      <td id=\"T_f0310_row1_col5\" class=\"data row1 col5\" >0.176700</td>\n",
       "      <td id=\"T_f0310_row1_col6\" class=\"data row1 col6\" >0.063500</td>\n",
       "      <td id=\"T_f0310_row1_col7\" class=\"data row1 col7\" >0.197500</td>\n",
       "      <td id=\"T_f0310_row1_col8\" class=\"data row1 col8\" >0.126500</td>\n",
       "      <td id=\"T_f0310_row1_col9\" class=\"data row1 col9\" >0.521500</td>\n",
       "    </tr>\n",
       "    <tr>\n",
       "      <th id=\"T_f0310_level0_row2\" class=\"row_heading level0 row2\" >Bachelors</th>\n",
       "      <td id=\"T_f0310_row2_col0\" class=\"data row2 col0\" >0.051400</td>\n",
       "      <td id=\"T_f0310_row2_col1\" class=\"data row2 col1\" >0.141400</td>\n",
       "      <td id=\"T_f0310_row2_col2\" class=\"data row2 col2\" >1.000000</td>\n",
       "      <td id=\"T_f0310_row2_col3\" class=\"data row2 col3\" >0.153100</td>\n",
       "      <td id=\"T_f0310_row2_col4\" class=\"data row2 col4\" >0.056300</td>\n",
       "      <td id=\"T_f0310_row2_col5\" class=\"data row2 col5\" >0.029600</td>\n",
       "      <td id=\"T_f0310_row2_col6\" class=\"data row2 col6\" >0.103900</td>\n",
       "      <td id=\"T_f0310_row2_col7\" class=\"data row2 col7\" >0.007000</td>\n",
       "      <td id=\"T_f0310_row2_col8\" class=\"data row2 col8\" >0.065500</td>\n",
       "      <td id=\"T_f0310_row2_col9\" class=\"data row2 col9\" >0.155800</td>\n",
       "    </tr>\n",
       "    <tr>\n",
       "      <th id=\"T_f0310_level0_row3\" class=\"row_heading level0 row3\" >Family</th>\n",
       "      <td id=\"T_f0310_row3_col0\" class=\"data row3 col0\" >0.104800</td>\n",
       "      <td id=\"T_f0310_row3_col1\" class=\"data row3 col1\" >0.197600</td>\n",
       "      <td id=\"T_f0310_row3_col2\" class=\"data row3 col2\" >0.153100</td>\n",
       "      <td id=\"T_f0310_row3_col3\" class=\"data row3 col3\" >1.000000</td>\n",
       "      <td id=\"T_f0310_row3_col4\" class=\"data row3 col4\" >0.028500</td>\n",
       "      <td id=\"T_f0310_row3_col5\" class=\"data row3 col5\" >0.026600</td>\n",
       "      <td id=\"T_f0310_row3_col6\" class=\"data row3 col6\" >0.093400</td>\n",
       "      <td id=\"T_f0310_row3_col7\" class=\"data row3 col7\" >0.071200</td>\n",
       "      <td id=\"T_f0310_row3_col8\" class=\"data row3 col8\" >0.053600</td>\n",
       "      <td id=\"T_f0310_row3_col9\" class=\"data row3 col9\" >0.002600</td>\n",
       "    </tr>\n",
       "    <tr>\n",
       "      <th id=\"T_f0310_level0_row4\" class=\"row_heading level0 row4\" >Bangalore</th>\n",
       "      <td id=\"T_f0310_row4_col0\" class=\"data row4 col0\" >0.177700</td>\n",
       "      <td id=\"T_f0310_row4_col1\" class=\"data row4 col1\" >0.119900</td>\n",
       "      <td id=\"T_f0310_row4_col2\" class=\"data row4 col2\" >0.056300</td>\n",
       "      <td id=\"T_f0310_row4_col3\" class=\"data row4 col3\" >0.028500</td>\n",
       "      <td id=\"T_f0310_row4_col4\" class=\"data row4 col4\" >1.000000</td>\n",
       "      <td id=\"T_f0310_row4_col5\" class=\"data row4 col5\" >0.230300</td>\n",
       "      <td id=\"T_f0310_row4_col6\" class=\"data row4 col6\" >0.183300</td>\n",
       "      <td id=\"T_f0310_row4_col7\" class=\"data row4 col7\" >0.226500</td>\n",
       "      <td id=\"T_f0310_row4_col8\" class=\"data row4 col8\" >0.168900</td>\n",
       "      <td id=\"T_f0310_row4_col9\" class=\"data row4 col9\" >0.243300</td>\n",
       "    </tr>\n",
       "    <tr>\n",
       "      <th id=\"T_f0310_level0_row5\" class=\"row_heading level0 row5\" >Chennai</th>\n",
       "      <td id=\"T_f0310_row5_col0\" class=\"data row5 col0\" >0.073100</td>\n",
       "      <td id=\"T_f0310_row5_col1\" class=\"data row5 col1\" >0.176700</td>\n",
       "      <td id=\"T_f0310_row5_col2\" class=\"data row5 col2\" >0.029600</td>\n",
       "      <td id=\"T_f0310_row5_col3\" class=\"data row5 col3\" >0.026600</td>\n",
       "      <td id=\"T_f0310_row5_col4\" class=\"data row5 col4\" >0.230300</td>\n",
       "      <td id=\"T_f0310_row5_col5\" class=\"data row5 col5\" >1.000000</td>\n",
       "      <td id=\"T_f0310_row5_col6\" class=\"data row5 col6\" >0.183800</td>\n",
       "      <td id=\"T_f0310_row5_col7\" class=\"data row5 col7\" >0.227100</td>\n",
       "      <td id=\"T_f0310_row5_col8\" class=\"data row5 col8\" >0.169400</td>\n",
       "      <td id=\"T_f0310_row5_col9\" class=\"data row5 col9\" >0.244000</td>\n",
       "    </tr>\n",
       "    <tr>\n",
       "      <th id=\"T_f0310_level0_row6\" class=\"row_heading level0 row6\" >Delhi</th>\n",
       "      <td id=\"T_f0310_row6_col0\" class=\"data row6 col0\" >0.019300</td>\n",
       "      <td id=\"T_f0310_row6_col1\" class=\"data row6 col1\" >0.063500</td>\n",
       "      <td id=\"T_f0310_row6_col2\" class=\"data row6 col2\" >0.103900</td>\n",
       "      <td id=\"T_f0310_row6_col3\" class=\"data row6 col3\" >0.093400</td>\n",
       "      <td id=\"T_f0310_row6_col4\" class=\"data row6 col4\" >0.183300</td>\n",
       "      <td id=\"T_f0310_row6_col5\" class=\"data row6 col5\" >0.183800</td>\n",
       "      <td id=\"T_f0310_row6_col6\" class=\"data row6 col6\" >1.000000</td>\n",
       "      <td id=\"T_f0310_row6_col7\" class=\"data row6 col7\" >0.180700</td>\n",
       "      <td id=\"T_f0310_row6_col8\" class=\"data row6 col8\" >0.134800</td>\n",
       "      <td id=\"T_f0310_row6_col9\" class=\"data row6 col9\" >0.194100</td>\n",
       "    </tr>\n",
       "    <tr>\n",
       "      <th id=\"T_f0310_level0_row7\" class=\"row_heading level0 row7\" >Hyderabad</th>\n",
       "      <td id=\"T_f0310_row7_col0\" class=\"data row7 col0\" >0.027900</td>\n",
       "      <td id=\"T_f0310_row7_col1\" class=\"data row7 col1\" >0.197500</td>\n",
       "      <td id=\"T_f0310_row7_col2\" class=\"data row7 col2\" >0.007000</td>\n",
       "      <td id=\"T_f0310_row7_col3\" class=\"data row7 col3\" >0.071200</td>\n",
       "      <td id=\"T_f0310_row7_col4\" class=\"data row7 col4\" >0.226500</td>\n",
       "      <td id=\"T_f0310_row7_col5\" class=\"data row7 col5\" >0.227100</td>\n",
       "      <td id=\"T_f0310_row7_col6\" class=\"data row7 col6\" >0.180700</td>\n",
       "      <td id=\"T_f0310_row7_col7\" class=\"data row7 col7\" >1.000000</td>\n",
       "      <td id=\"T_f0310_row7_col8\" class=\"data row7 col8\" >0.166600</td>\n",
       "      <td id=\"T_f0310_row7_col9\" class=\"data row7 col9\" >0.239900</td>\n",
       "    </tr>\n",
       "    <tr>\n",
       "      <th id=\"T_f0310_level0_row8\" class=\"row_heading level0 row8\" >Kolkata</th>\n",
       "      <td id=\"T_f0310_row8_col0\" class=\"data row8 col0\" >0.169400</td>\n",
       "      <td id=\"T_f0310_row8_col1\" class=\"data row8 col1\" >0.126500</td>\n",
       "      <td id=\"T_f0310_row8_col2\" class=\"data row8 col2\" >0.065500</td>\n",
       "      <td id=\"T_f0310_row8_col3\" class=\"data row8 col3\" >0.053600</td>\n",
       "      <td id=\"T_f0310_row8_col4\" class=\"data row8 col4\" >0.168900</td>\n",
       "      <td id=\"T_f0310_row8_col5\" class=\"data row8 col5\" >0.169400</td>\n",
       "      <td id=\"T_f0310_row8_col6\" class=\"data row8 col6\" >0.134800</td>\n",
       "      <td id=\"T_f0310_row8_col7\" class=\"data row8 col7\" >0.166600</td>\n",
       "      <td id=\"T_f0310_row8_col8\" class=\"data row8 col8\" >1.000000</td>\n",
       "      <td id=\"T_f0310_row8_col9\" class=\"data row8 col9\" >0.178900</td>\n",
       "    </tr>\n",
       "    <tr>\n",
       "      <th id=\"T_f0310_level0_row9\" class=\"row_heading level0 row9\" >Mumbai</th>\n",
       "      <td id=\"T_f0310_row9_col0\" class=\"data row9 col0\" >0.149300</td>\n",
       "      <td id=\"T_f0310_row9_col1\" class=\"data row9 col1\" >0.521500</td>\n",
       "      <td id=\"T_f0310_row9_col2\" class=\"data row9 col2\" >0.155800</td>\n",
       "      <td id=\"T_f0310_row9_col3\" class=\"data row9 col3\" >0.002600</td>\n",
       "      <td id=\"T_f0310_row9_col4\" class=\"data row9 col4\" >0.243300</td>\n",
       "      <td id=\"T_f0310_row9_col5\" class=\"data row9 col5\" >0.244000</td>\n",
       "      <td id=\"T_f0310_row9_col6\" class=\"data row9 col6\" >0.194100</td>\n",
       "      <td id=\"T_f0310_row9_col7\" class=\"data row9 col7\" >0.239900</td>\n",
       "      <td id=\"T_f0310_row9_col8\" class=\"data row9 col8\" >0.178900</td>\n",
       "      <td id=\"T_f0310_row9_col9\" class=\"data row9 col9\" >1.000000</td>\n",
       "    </tr>\n",
       "  </tbody>\n",
       "</table>\n"
      ],
      "text/plain": [
       "<pandas.io.formats.style.Styler at 0x7f84291bf790>"
      ]
     },
     "metadata": {},
     "output_type": "display_data"
    }
   ],
   "source": [
    "result = getCatCorrelation(data)\n",
    "corr_strength = catCorrMatrix(result)\n",
    "display(corr_strength.style.apply(highlightS,color=\"green\"))"
   ]
  },
  {
   "cell_type": "markdown",
   "id": "a3b7a6d4",
   "metadata": {},
   "source": [
    "**Especially when it comes to the cities there seems to be tons of multicollinearity between all of them other than Delhi and Kolkata. Probably drop all other cities other than one.**"
   ]
  },
  {
   "cell_type": "code",
   "execution_count": 112,
   "id": "80c97e0c",
   "metadata": {},
   "outputs": [],
   "source": [
    "#combine bangalore, chennai, hyderabad, and mumbai into a column with \n",
    "#0 meaning the apartment is not in any of the listed cities, \n",
    "#while 1 means that it is in ANY of the listed cities"
   ]
  },
  {
   "cell_type": "code",
   "execution_count": 113,
   "id": "5a56e047",
   "metadata": {},
   "outputs": [
    {
     "name": "stderr",
     "output_type": "stream",
     "text": [
      "/var/folders/q9/tdgq365j2tq2_85sl4yvrw7w0000gn/T/ipykernel_64290/1071931406.py:7: SettingWithCopyWarning: \n",
      "A value is trying to be set on a copy of a slice from a DataFrame\n",
      "\n",
      "See the caveats in the documentation: https://pandas.pydata.org/pandas-docs/stable/user_guide/indexing.html#returning-a-view-versus-a-copy\n",
      "  data[\"Delhi\"][i] = 1\n"
     ]
    }
   ],
   "source": [
    "for i in range(len(data[\"Delhi\"])):\n",
    "    in_one_of_cities = False\n",
    "    for j in [\"Bangalore\",\"Chennai\",\"Hyderabad\",\"Delhi\"]:\n",
    "        if data[j][i] == 1:\n",
    "            in_one_of_cities = True\n",
    "    if in_one_of_cities:\n",
    "        data[\"Delhi\"][i] = 1"
   ]
  },
  {
   "cell_type": "code",
   "execution_count": 114,
   "id": "02a3dcd5",
   "metadata": {},
   "outputs": [],
   "source": [
    "data = data.drop(\"Bangalore\",axis=1)\n",
    "data = data.drop(\"Chennai\",axis=1)\n",
    "data = data.drop(\"Hyderabad\",axis=1)\n",
    "data = data.drop(\"Kolkata\",axis=1)"
   ]
  },
  {
   "cell_type": "code",
   "execution_count": 115,
   "id": "a6a31824",
   "metadata": {},
   "outputs": [],
   "source": [
    "cat_vars = [\"Furnishing Status\",\"Point of Contact\",\"Bachelors\",\"Family\",\"Delhi\",\"Mumbai\"]"
   ]
  },
  {
   "cell_type": "code",
   "execution_count": 116,
   "id": "2d5962ad",
   "metadata": {},
   "outputs": [
    {
     "data": {
      "text/html": [
       "<style type=\"text/css\">\n",
       "#T_40b76_row0_col0, #T_40b76_row1_col1, #T_40b76_row2_col2, #T_40b76_row3_col3, #T_40b76_row4_col4, #T_40b76_row5_col5 {\n",
       "  color: white;\n",
       "}\n",
       "#T_40b76_row1_col4, #T_40b76_row4_col1 {\n",
       "  color: green;\n",
       "}\n",
       "#T_40b76_row1_col5, #T_40b76_row4_col5, #T_40b76_row5_col1, #T_40b76_row5_col4 {\n",
       "  color: blue;\n",
       "}\n",
       "</style>\n",
       "<table id=\"T_40b76\">\n",
       "  <thead>\n",
       "    <tr>\n",
       "      <th class=\"blank level0\" >&nbsp;</th>\n",
       "      <th id=\"T_40b76_level0_col0\" class=\"col_heading level0 col0\" >Furnishing Status</th>\n",
       "      <th id=\"T_40b76_level0_col1\" class=\"col_heading level0 col1\" >Point of Contact</th>\n",
       "      <th id=\"T_40b76_level0_col2\" class=\"col_heading level0 col2\" >Bachelors</th>\n",
       "      <th id=\"T_40b76_level0_col3\" class=\"col_heading level0 col3\" >Family</th>\n",
       "      <th id=\"T_40b76_level0_col4\" class=\"col_heading level0 col4\" >Delhi</th>\n",
       "      <th id=\"T_40b76_level0_col5\" class=\"col_heading level0 col5\" >Mumbai</th>\n",
       "    </tr>\n",
       "  </thead>\n",
       "  <tbody>\n",
       "    <tr>\n",
       "      <th id=\"T_40b76_level0_row0\" class=\"row_heading level0 row0\" >Furnishing Status</th>\n",
       "      <td id=\"T_40b76_row0_col0\" class=\"data row0 col0\" >1.000000</td>\n",
       "      <td id=\"T_40b76_row0_col1\" class=\"data row0 col1\" >0.131600</td>\n",
       "      <td id=\"T_40b76_row0_col2\" class=\"data row0 col2\" >0.051400</td>\n",
       "      <td id=\"T_40b76_row0_col3\" class=\"data row0 col3\" >0.104800</td>\n",
       "      <td id=\"T_40b76_row0_col4\" class=\"data row0 col4\" >0.164900</td>\n",
       "      <td id=\"T_40b76_row0_col5\" class=\"data row0 col5\" >0.149300</td>\n",
       "    </tr>\n",
       "    <tr>\n",
       "      <th id=\"T_40b76_level0_row1\" class=\"row_heading level0 row1\" >Point of Contact</th>\n",
       "      <td id=\"T_40b76_row1_col0\" class=\"data row1 col0\" >0.131600</td>\n",
       "      <td id=\"T_40b76_row1_col1\" class=\"data row1 col1\" >1.000000</td>\n",
       "      <td id=\"T_40b76_row1_col2\" class=\"data row1 col2\" >0.141400</td>\n",
       "      <td id=\"T_40b76_row1_col3\" class=\"data row1 col3\" >0.197600</td>\n",
       "      <td id=\"T_40b76_row1_col4\" class=\"data row1 col4\" >0.367700</td>\n",
       "      <td id=\"T_40b76_row1_col5\" class=\"data row1 col5\" >0.521500</td>\n",
       "    </tr>\n",
       "    <tr>\n",
       "      <th id=\"T_40b76_level0_row2\" class=\"row_heading level0 row2\" >Bachelors</th>\n",
       "      <td id=\"T_40b76_row2_col0\" class=\"data row2 col0\" >0.051400</td>\n",
       "      <td id=\"T_40b76_row2_col1\" class=\"data row2 col1\" >0.141400</td>\n",
       "      <td id=\"T_40b76_row2_col2\" class=\"data row2 col2\" >1.000000</td>\n",
       "      <td id=\"T_40b76_row2_col3\" class=\"data row2 col3\" >0.153100</td>\n",
       "      <td id=\"T_40b76_row2_col4\" class=\"data row2 col4\" >0.091100</td>\n",
       "      <td id=\"T_40b76_row2_col5\" class=\"data row2 col5\" >0.155800</td>\n",
       "    </tr>\n",
       "    <tr>\n",
       "      <th id=\"T_40b76_level0_row3\" class=\"row_heading level0 row3\" >Family</th>\n",
       "      <td id=\"T_40b76_row3_col0\" class=\"data row3 col0\" >0.104800</td>\n",
       "      <td id=\"T_40b76_row3_col1\" class=\"data row3 col1\" >0.197600</td>\n",
       "      <td id=\"T_40b76_row3_col2\" class=\"data row3 col2\" >0.153100</td>\n",
       "      <td id=\"T_40b76_row3_col3\" class=\"data row3 col3\" >1.000000</td>\n",
       "      <td id=\"T_40b76_row3_col4\" class=\"data row3 col4\" >0.038500</td>\n",
       "      <td id=\"T_40b76_row3_col5\" class=\"data row3 col5\" >0.002600</td>\n",
       "    </tr>\n",
       "    <tr>\n",
       "      <th id=\"T_40b76_level0_row4\" class=\"row_heading level0 row4\" >Delhi</th>\n",
       "      <td id=\"T_40b76_row4_col0\" class=\"data row4 col0\" >0.164900</td>\n",
       "      <td id=\"T_40b76_row4_col1\" class=\"data row4 col1\" >0.367700</td>\n",
       "      <td id=\"T_40b76_row4_col2\" class=\"data row4 col2\" >0.091100</td>\n",
       "      <td id=\"T_40b76_row4_col3\" class=\"data row4 col3\" >0.038500</td>\n",
       "      <td id=\"T_40b76_row4_col4\" class=\"data row4 col4\" >1.000000</td>\n",
       "      <td id=\"T_40b76_row4_col5\" class=\"data row4 col5\" >0.748000</td>\n",
       "    </tr>\n",
       "    <tr>\n",
       "      <th id=\"T_40b76_level0_row5\" class=\"row_heading level0 row5\" >Mumbai</th>\n",
       "      <td id=\"T_40b76_row5_col0\" class=\"data row5 col0\" >0.149300</td>\n",
       "      <td id=\"T_40b76_row5_col1\" class=\"data row5 col1\" >0.521500</td>\n",
       "      <td id=\"T_40b76_row5_col2\" class=\"data row5 col2\" >0.155800</td>\n",
       "      <td id=\"T_40b76_row5_col3\" class=\"data row5 col3\" >0.002600</td>\n",
       "      <td id=\"T_40b76_row5_col4\" class=\"data row5 col4\" >0.748000</td>\n",
       "      <td id=\"T_40b76_row5_col5\" class=\"data row5 col5\" >1.000000</td>\n",
       "    </tr>\n",
       "  </tbody>\n",
       "</table>\n"
      ],
      "text/plain": [
       "<pandas.io.formats.style.Styler at 0x7f83f8de3f40>"
      ]
     },
     "metadata": {},
     "output_type": "display_data"
    }
   ],
   "source": [
    "result = getCatCorrelation(data)\n",
    "corr_strength = catCorrMatrix(result)\n",
    "display(corr_strength.style.apply(highlightS,color=\"green\"))"
   ]
  },
  {
   "cell_type": "markdown",
   "id": "43d307c7",
   "metadata": {},
   "source": [
    "We finally have removed most strong collinearity from our categorical variables. Lets check the durbin watson score again now."
   ]
  },
  {
   "cell_type": "code",
   "execution_count": 117,
   "id": "737bb19e",
   "metadata": {},
   "outputs": [
    {
     "data": {
      "text/plain": [
       "1.2892159219239676"
      ]
     },
     "execution_count": 117,
     "metadata": {},
     "output_type": "execute_result"
    }
   ],
   "source": [
    "resids = get_residuals(data,LinearRegression(),False)\n",
    "durbin_watson(resids)"
   ]
  },
  {
   "cell_type": "markdown",
   "id": "4431e9f6",
   "metadata": {},
   "source": [
    "It seems that we are still a little outside of the range considered normal, as we want at least ~1.5. Looking through these variables we can think that seperating Bachelors and Family may have just contributed to our autocorrelation. Removing one should leave most of the relevant information with the other."
   ]
  },
  {
   "cell_type": "code",
   "execution_count": 118,
   "id": "c3b054ea",
   "metadata": {},
   "outputs": [],
   "source": [
    "#cat_vars = [\"Delhi\",\"Furnishing Status\",\"Family\",\"Mumbai\"]\n",
    "cat_vars = [\"Furnishing Status\",\"Point of Contact\",\"Family\",\"Delhi\",\"Mumbai\"]"
   ]
  },
  {
   "cell_type": "code",
   "execution_count": 119,
   "id": "1022ae2f",
   "metadata": {},
   "outputs": [],
   "source": [
    "data = data.drop(\"Bachelors\",axis=1)"
   ]
  },
  {
   "cell_type": "code",
   "execution_count": 120,
   "id": "d924c9c9",
   "metadata": {},
   "outputs": [
    {
     "data": {
      "text/html": [
       "<style type=\"text/css\">\n",
       "#T_a94fa_row0_col0, #T_a94fa_row1_col1, #T_a94fa_row2_col2, #T_a94fa_row3_col3, #T_a94fa_row4_col4 {\n",
       "  color: white;\n",
       "}\n",
       "#T_a94fa_row1_col3, #T_a94fa_row3_col1 {\n",
       "  color: green;\n",
       "}\n",
       "#T_a94fa_row1_col4, #T_a94fa_row3_col4, #T_a94fa_row4_col1, #T_a94fa_row4_col3 {\n",
       "  color: blue;\n",
       "}\n",
       "</style>\n",
       "<table id=\"T_a94fa\">\n",
       "  <thead>\n",
       "    <tr>\n",
       "      <th class=\"blank level0\" >&nbsp;</th>\n",
       "      <th id=\"T_a94fa_level0_col0\" class=\"col_heading level0 col0\" >Furnishing Status</th>\n",
       "      <th id=\"T_a94fa_level0_col1\" class=\"col_heading level0 col1\" >Point of Contact</th>\n",
       "      <th id=\"T_a94fa_level0_col2\" class=\"col_heading level0 col2\" >Family</th>\n",
       "      <th id=\"T_a94fa_level0_col3\" class=\"col_heading level0 col3\" >Delhi</th>\n",
       "      <th id=\"T_a94fa_level0_col4\" class=\"col_heading level0 col4\" >Mumbai</th>\n",
       "    </tr>\n",
       "  </thead>\n",
       "  <tbody>\n",
       "    <tr>\n",
       "      <th id=\"T_a94fa_level0_row0\" class=\"row_heading level0 row0\" >Furnishing Status</th>\n",
       "      <td id=\"T_a94fa_row0_col0\" class=\"data row0 col0\" >1.000000</td>\n",
       "      <td id=\"T_a94fa_row0_col1\" class=\"data row0 col1\" >0.131600</td>\n",
       "      <td id=\"T_a94fa_row0_col2\" class=\"data row0 col2\" >0.104800</td>\n",
       "      <td id=\"T_a94fa_row0_col3\" class=\"data row0 col3\" >0.164900</td>\n",
       "      <td id=\"T_a94fa_row0_col4\" class=\"data row0 col4\" >0.149300</td>\n",
       "    </tr>\n",
       "    <tr>\n",
       "      <th id=\"T_a94fa_level0_row1\" class=\"row_heading level0 row1\" >Point of Contact</th>\n",
       "      <td id=\"T_a94fa_row1_col0\" class=\"data row1 col0\" >0.131600</td>\n",
       "      <td id=\"T_a94fa_row1_col1\" class=\"data row1 col1\" >1.000000</td>\n",
       "      <td id=\"T_a94fa_row1_col2\" class=\"data row1 col2\" >0.197600</td>\n",
       "      <td id=\"T_a94fa_row1_col3\" class=\"data row1 col3\" >0.367700</td>\n",
       "      <td id=\"T_a94fa_row1_col4\" class=\"data row1 col4\" >0.521500</td>\n",
       "    </tr>\n",
       "    <tr>\n",
       "      <th id=\"T_a94fa_level0_row2\" class=\"row_heading level0 row2\" >Family</th>\n",
       "      <td id=\"T_a94fa_row2_col0\" class=\"data row2 col0\" >0.104800</td>\n",
       "      <td id=\"T_a94fa_row2_col1\" class=\"data row2 col1\" >0.197600</td>\n",
       "      <td id=\"T_a94fa_row2_col2\" class=\"data row2 col2\" >1.000000</td>\n",
       "      <td id=\"T_a94fa_row2_col3\" class=\"data row2 col3\" >0.038500</td>\n",
       "      <td id=\"T_a94fa_row2_col4\" class=\"data row2 col4\" >0.002600</td>\n",
       "    </tr>\n",
       "    <tr>\n",
       "      <th id=\"T_a94fa_level0_row3\" class=\"row_heading level0 row3\" >Delhi</th>\n",
       "      <td id=\"T_a94fa_row3_col0\" class=\"data row3 col0\" >0.164900</td>\n",
       "      <td id=\"T_a94fa_row3_col1\" class=\"data row3 col1\" >0.367700</td>\n",
       "      <td id=\"T_a94fa_row3_col2\" class=\"data row3 col2\" >0.038500</td>\n",
       "      <td id=\"T_a94fa_row3_col3\" class=\"data row3 col3\" >1.000000</td>\n",
       "      <td id=\"T_a94fa_row3_col4\" class=\"data row3 col4\" >0.748000</td>\n",
       "    </tr>\n",
       "    <tr>\n",
       "      <th id=\"T_a94fa_level0_row4\" class=\"row_heading level0 row4\" >Mumbai</th>\n",
       "      <td id=\"T_a94fa_row4_col0\" class=\"data row4 col0\" >0.149300</td>\n",
       "      <td id=\"T_a94fa_row4_col1\" class=\"data row4 col1\" >0.521500</td>\n",
       "      <td id=\"T_a94fa_row4_col2\" class=\"data row4 col2\" >0.002600</td>\n",
       "      <td id=\"T_a94fa_row4_col3\" class=\"data row4 col3\" >0.748000</td>\n",
       "      <td id=\"T_a94fa_row4_col4\" class=\"data row4 col4\" >1.000000</td>\n",
       "    </tr>\n",
       "  </tbody>\n",
       "</table>\n"
      ],
      "text/plain": [
       "<pandas.io.formats.style.Styler at 0x7f8408754610>"
      ]
     },
     "metadata": {},
     "output_type": "display_data"
    }
   ],
   "source": [
    "result = getCatCorrelation(data)\n",
    "corr_strength = catCorrMatrix(result)\n",
    "display(corr_strength.style.apply(highlightS,color=\"green\"))"
   ]
  },
  {
   "cell_type": "code",
   "execution_count": 121,
   "id": "47927691",
   "metadata": {},
   "outputs": [
    {
     "data": {
      "text/plain": [
       "1.2913333656414927"
      ]
     },
     "execution_count": 121,
     "metadata": {},
     "output_type": "execute_result"
    }
   ],
   "source": [
    "resids = get_residuals(data,LinearRegression(),False)\n",
    "durbin_watson(resids)"
   ]
  },
  {
   "cell_type": "code",
   "execution_count": 122,
   "id": "f49da9a3",
   "metadata": {},
   "outputs": [],
   "source": [
    "data = data.drop(\"Point of Contact\",axis=1)\n",
    "\n",
    "cat_vars = [\"Furnishing Status\",\"Family\",\"Delhi\",\"Mumbai\"]"
   ]
  },
  {
   "cell_type": "code",
   "execution_count": 123,
   "id": "75f34f7e",
   "metadata": {},
   "outputs": [
    {
     "data": {
      "text/html": [
       "<style type=\"text/css\">\n",
       "#T_3eb85_row0_col0, #T_3eb85_row1_col1, #T_3eb85_row2_col2, #T_3eb85_row3_col3 {\n",
       "  color: white;\n",
       "}\n",
       "#T_3eb85_row2_col3, #T_3eb85_row3_col2 {\n",
       "  color: blue;\n",
       "}\n",
       "</style>\n",
       "<table id=\"T_3eb85\">\n",
       "  <thead>\n",
       "    <tr>\n",
       "      <th class=\"blank level0\" >&nbsp;</th>\n",
       "      <th id=\"T_3eb85_level0_col0\" class=\"col_heading level0 col0\" >Furnishing Status</th>\n",
       "      <th id=\"T_3eb85_level0_col1\" class=\"col_heading level0 col1\" >Family</th>\n",
       "      <th id=\"T_3eb85_level0_col2\" class=\"col_heading level0 col2\" >Delhi</th>\n",
       "      <th id=\"T_3eb85_level0_col3\" class=\"col_heading level0 col3\" >Mumbai</th>\n",
       "    </tr>\n",
       "  </thead>\n",
       "  <tbody>\n",
       "    <tr>\n",
       "      <th id=\"T_3eb85_level0_row0\" class=\"row_heading level0 row0\" >Furnishing Status</th>\n",
       "      <td id=\"T_3eb85_row0_col0\" class=\"data row0 col0\" >1.000000</td>\n",
       "      <td id=\"T_3eb85_row0_col1\" class=\"data row0 col1\" >0.104800</td>\n",
       "      <td id=\"T_3eb85_row0_col2\" class=\"data row0 col2\" >0.164900</td>\n",
       "      <td id=\"T_3eb85_row0_col3\" class=\"data row0 col3\" >0.149300</td>\n",
       "    </tr>\n",
       "    <tr>\n",
       "      <th id=\"T_3eb85_level0_row1\" class=\"row_heading level0 row1\" >Family</th>\n",
       "      <td id=\"T_3eb85_row1_col0\" class=\"data row1 col0\" >0.104800</td>\n",
       "      <td id=\"T_3eb85_row1_col1\" class=\"data row1 col1\" >1.000000</td>\n",
       "      <td id=\"T_3eb85_row1_col2\" class=\"data row1 col2\" >0.038500</td>\n",
       "      <td id=\"T_3eb85_row1_col3\" class=\"data row1 col3\" >0.002600</td>\n",
       "    </tr>\n",
       "    <tr>\n",
       "      <th id=\"T_3eb85_level0_row2\" class=\"row_heading level0 row2\" >Delhi</th>\n",
       "      <td id=\"T_3eb85_row2_col0\" class=\"data row2 col0\" >0.164900</td>\n",
       "      <td id=\"T_3eb85_row2_col1\" class=\"data row2 col1\" >0.038500</td>\n",
       "      <td id=\"T_3eb85_row2_col2\" class=\"data row2 col2\" >1.000000</td>\n",
       "      <td id=\"T_3eb85_row2_col3\" class=\"data row2 col3\" >0.748000</td>\n",
       "    </tr>\n",
       "    <tr>\n",
       "      <th id=\"T_3eb85_level0_row3\" class=\"row_heading level0 row3\" >Mumbai</th>\n",
       "      <td id=\"T_3eb85_row3_col0\" class=\"data row3 col0\" >0.149300</td>\n",
       "      <td id=\"T_3eb85_row3_col1\" class=\"data row3 col1\" >0.002600</td>\n",
       "      <td id=\"T_3eb85_row3_col2\" class=\"data row3 col2\" >0.748000</td>\n",
       "      <td id=\"T_3eb85_row3_col3\" class=\"data row3 col3\" >1.000000</td>\n",
       "    </tr>\n",
       "  </tbody>\n",
       "</table>\n"
      ],
      "text/plain": [
       "<pandas.io.formats.style.Styler at 0x7f841e53ff10>"
      ]
     },
     "metadata": {},
     "output_type": "display_data"
    }
   ],
   "source": [
    "result = getCatCorrelation(data)\n",
    "corr_strength = catCorrMatrix(result)\n",
    "display(corr_strength.style.apply(highlightS,color=\"green\"))"
   ]
  },
  {
   "cell_type": "code",
   "execution_count": 124,
   "id": "f8d47d2a",
   "metadata": {},
   "outputs": [
    {
     "data": {
      "text/plain": [
       "1.2816699393311142"
      ]
     },
     "execution_count": 124,
     "metadata": {},
     "output_type": "execute_result"
    }
   ],
   "source": [
    "resids = get_residuals(data,LinearRegression(),False)\n",
    "durbin_watson(resids)"
   ]
  },
  {
   "cell_type": "code",
   "execution_count": 125,
   "id": "64ee9dce",
   "metadata": {},
   "outputs": [],
   "source": [
    "data = data.drop(\"Furnishing Status\",axis=1)\n",
    "\n",
    "cat_vars = [\"Family\",\"Delhi\",\"Mumbai\"]"
   ]
  },
  {
   "cell_type": "code",
   "execution_count": 126,
   "id": "8da5076f",
   "metadata": {},
   "outputs": [
    {
     "data": {
      "text/html": [
       "<style type=\"text/css\">\n",
       "#T_41e2b_row0_col0, #T_41e2b_row1_col1, #T_41e2b_row2_col2 {\n",
       "  color: white;\n",
       "}\n",
       "#T_41e2b_row1_col2, #T_41e2b_row2_col1 {\n",
       "  color: blue;\n",
       "}\n",
       "</style>\n",
       "<table id=\"T_41e2b\">\n",
       "  <thead>\n",
       "    <tr>\n",
       "      <th class=\"blank level0\" >&nbsp;</th>\n",
       "      <th id=\"T_41e2b_level0_col0\" class=\"col_heading level0 col0\" >Family</th>\n",
       "      <th id=\"T_41e2b_level0_col1\" class=\"col_heading level0 col1\" >Delhi</th>\n",
       "      <th id=\"T_41e2b_level0_col2\" class=\"col_heading level0 col2\" >Mumbai</th>\n",
       "    </tr>\n",
       "  </thead>\n",
       "  <tbody>\n",
       "    <tr>\n",
       "      <th id=\"T_41e2b_level0_row0\" class=\"row_heading level0 row0\" >Family</th>\n",
       "      <td id=\"T_41e2b_row0_col0\" class=\"data row0 col0\" >1.000000</td>\n",
       "      <td id=\"T_41e2b_row0_col1\" class=\"data row0 col1\" >0.038500</td>\n",
       "      <td id=\"T_41e2b_row0_col2\" class=\"data row0 col2\" >0.002600</td>\n",
       "    </tr>\n",
       "    <tr>\n",
       "      <th id=\"T_41e2b_level0_row1\" class=\"row_heading level0 row1\" >Delhi</th>\n",
       "      <td id=\"T_41e2b_row1_col0\" class=\"data row1 col0\" >0.038500</td>\n",
       "      <td id=\"T_41e2b_row1_col1\" class=\"data row1 col1\" >1.000000</td>\n",
       "      <td id=\"T_41e2b_row1_col2\" class=\"data row1 col2\" >0.748000</td>\n",
       "    </tr>\n",
       "    <tr>\n",
       "      <th id=\"T_41e2b_level0_row2\" class=\"row_heading level0 row2\" >Mumbai</th>\n",
       "      <td id=\"T_41e2b_row2_col0\" class=\"data row2 col0\" >0.002600</td>\n",
       "      <td id=\"T_41e2b_row2_col1\" class=\"data row2 col1\" >0.748000</td>\n",
       "      <td id=\"T_41e2b_row2_col2\" class=\"data row2 col2\" >1.000000</td>\n",
       "    </tr>\n",
       "  </tbody>\n",
       "</table>\n"
      ],
      "text/plain": [
       "<pandas.io.formats.style.Styler at 0x7f8428db1d30>"
      ]
     },
     "metadata": {},
     "output_type": "display_data"
    }
   ],
   "source": [
    "result = getCatCorrelation(data)\n",
    "corr_strength = catCorrMatrix(result)\n",
    "display(corr_strength.style.apply(highlightS,color=\"green\"))"
   ]
  },
  {
   "cell_type": "code",
   "execution_count": 127,
   "id": "3a6a6500",
   "metadata": {},
   "outputs": [
    {
     "data": {
      "text/plain": [
       "1.3000542423479984"
      ]
     },
     "execution_count": 127,
     "metadata": {},
     "output_type": "execute_result"
    }
   ],
   "source": [
    "resids = get_residuals(data,LinearRegression(),False)\n",
    "durbin_watson(resids)"
   ]
  },
  {
   "cell_type": "code",
   "execution_count": 128,
   "id": "1585a3fb",
   "metadata": {},
   "outputs": [],
   "source": [
    "data = data.rename(columns={\"Delhi\":\"InSimilarCities\"})"
   ]
  },
  {
   "cell_type": "code",
   "execution_count": 129,
   "id": "ee245745",
   "metadata": {},
   "outputs": [],
   "source": [
    "#data = data.drop(\"Mumbai\",axis=1)"
   ]
  },
  {
   "cell_type": "code",
   "execution_count": 130,
   "id": "6ce8fc04",
   "metadata": {},
   "outputs": [],
   "source": [
    "cat_vars = [\"Family\",\"InSimilarCities\",\"Mumbai\"]"
   ]
  },
  {
   "cell_type": "code",
   "execution_count": 131,
   "id": "ea73675a",
   "metadata": {},
   "outputs": [
    {
     "data": {
      "text/html": [
       "<style type=\"text/css\">\n",
       "#T_bbb11_row0_col0, #T_bbb11_row1_col1, #T_bbb11_row2_col2 {\n",
       "  color: white;\n",
       "}\n",
       "#T_bbb11_row1_col2, #T_bbb11_row2_col1 {\n",
       "  color: blue;\n",
       "}\n",
       "</style>\n",
       "<table id=\"T_bbb11\">\n",
       "  <thead>\n",
       "    <tr>\n",
       "      <th class=\"blank level0\" >&nbsp;</th>\n",
       "      <th id=\"T_bbb11_level0_col0\" class=\"col_heading level0 col0\" >Family</th>\n",
       "      <th id=\"T_bbb11_level0_col1\" class=\"col_heading level0 col1\" >InSimilarCities</th>\n",
       "      <th id=\"T_bbb11_level0_col2\" class=\"col_heading level0 col2\" >Mumbai</th>\n",
       "    </tr>\n",
       "  </thead>\n",
       "  <tbody>\n",
       "    <tr>\n",
       "      <th id=\"T_bbb11_level0_row0\" class=\"row_heading level0 row0\" >Family</th>\n",
       "      <td id=\"T_bbb11_row0_col0\" class=\"data row0 col0\" >1.000000</td>\n",
       "      <td id=\"T_bbb11_row0_col1\" class=\"data row0 col1\" >0.038500</td>\n",
       "      <td id=\"T_bbb11_row0_col2\" class=\"data row0 col2\" >0.002600</td>\n",
       "    </tr>\n",
       "    <tr>\n",
       "      <th id=\"T_bbb11_level0_row1\" class=\"row_heading level0 row1\" >InSimilarCities</th>\n",
       "      <td id=\"T_bbb11_row1_col0\" class=\"data row1 col0\" >0.038500</td>\n",
       "      <td id=\"T_bbb11_row1_col1\" class=\"data row1 col1\" >1.000000</td>\n",
       "      <td id=\"T_bbb11_row1_col2\" class=\"data row1 col2\" >0.748000</td>\n",
       "    </tr>\n",
       "    <tr>\n",
       "      <th id=\"T_bbb11_level0_row2\" class=\"row_heading level0 row2\" >Mumbai</th>\n",
       "      <td id=\"T_bbb11_row2_col0\" class=\"data row2 col0\" >0.002600</td>\n",
       "      <td id=\"T_bbb11_row2_col1\" class=\"data row2 col1\" >0.748000</td>\n",
       "      <td id=\"T_bbb11_row2_col2\" class=\"data row2 col2\" >1.000000</td>\n",
       "    </tr>\n",
       "  </tbody>\n",
       "</table>\n"
      ],
      "text/plain": [
       "<pandas.io.formats.style.Styler at 0x7f83f9158eb0>"
      ]
     },
     "metadata": {},
     "output_type": "display_data"
    }
   ],
   "source": [
    "result = getCatCorrelation(data)\n",
    "corr_strength = catCorrMatrix(result)\n",
    "display(corr_strength.style.apply(highlightS,color=\"green\"))"
   ]
  },
  {
   "cell_type": "code",
   "execution_count": 132,
   "id": "1960f3b2",
   "metadata": {},
   "outputs": [
    {
     "data": {
      "text/plain": [
       "1.3000542423479984"
      ]
     },
     "execution_count": 132,
     "metadata": {},
     "output_type": "execute_result"
    }
   ],
   "source": [
    "resids = get_residuals(data,LinearRegression(),False)\n",
    "durbin_watson(resids)"
   ]
  },
  {
   "cell_type": "markdown",
   "id": "aa9d1656",
   "metadata": {},
   "source": [
    "**After all this we still only have 1.3. Seeing as we have removed essentially all autocorrelation from our categorical variables by now we can only attribute this to the continuous variables.**"
   ]
  },
  {
   "cell_type": "markdown",
   "id": "03f109c5",
   "metadata": {},
   "source": [
    "# FIX CONTINUOUS AUTOCORRELATION NOW"
   ]
  },
  {
   "cell_type": "code",
   "execution_count": 133,
   "id": "8930ee85",
   "metadata": {},
   "outputs": [
    {
     "data": {
      "text/html": [
       "<div>\n",
       "<style scoped>\n",
       "    .dataframe tbody tr th:only-of-type {\n",
       "        vertical-align: middle;\n",
       "    }\n",
       "\n",
       "    .dataframe tbody tr th {\n",
       "        vertical-align: top;\n",
       "    }\n",
       "\n",
       "    .dataframe thead th {\n",
       "        text-align: right;\n",
       "    }\n",
       "</style>\n",
       "<table border=\"1\" class=\"dataframe\">\n",
       "  <thead>\n",
       "    <tr style=\"text-align: right;\">\n",
       "      <th></th>\n",
       "      <th>Posted On</th>\n",
       "      <th>Rent</th>\n",
       "      <th>Size</th>\n",
       "      <th>Bathroom</th>\n",
       "      <th>Floor On</th>\n",
       "      <th>Floor Out Of</th>\n",
       "      <th>InSimilarCities</th>\n",
       "      <th>Mumbai</th>\n",
       "      <th>Family</th>\n",
       "    </tr>\n",
       "  </thead>\n",
       "  <tbody>\n",
       "    <tr>\n",
       "      <th>0</th>\n",
       "      <td>168</td>\n",
       "      <td>10000</td>\n",
       "      <td>1100</td>\n",
       "      <td>0.003636</td>\n",
       "      <td>0.000000</td>\n",
       "      <td>2</td>\n",
       "      <td>0</td>\n",
       "      <td>0</td>\n",
       "      <td>1</td>\n",
       "    </tr>\n",
       "    <tr>\n",
       "      <th>1</th>\n",
       "      <td>163</td>\n",
       "      <td>20000</td>\n",
       "      <td>800</td>\n",
       "      <td>0.003750</td>\n",
       "      <td>0.333333</td>\n",
       "      <td>3</td>\n",
       "      <td>0</td>\n",
       "      <td>0</td>\n",
       "      <td>1</td>\n",
       "    </tr>\n",
       "    <tr>\n",
       "      <th>2</th>\n",
       "      <td>166</td>\n",
       "      <td>17000</td>\n",
       "      <td>1000</td>\n",
       "      <td>0.003000</td>\n",
       "      <td>0.333333</td>\n",
       "      <td>3</td>\n",
       "      <td>0</td>\n",
       "      <td>0</td>\n",
       "      <td>1</td>\n",
       "    </tr>\n",
       "    <tr>\n",
       "      <th>3</th>\n",
       "      <td>215</td>\n",
       "      <td>10000</td>\n",
       "      <td>800</td>\n",
       "      <td>0.003750</td>\n",
       "      <td>0.500000</td>\n",
       "      <td>2</td>\n",
       "      <td>0</td>\n",
       "      <td>0</td>\n",
       "      <td>1</td>\n",
       "    </tr>\n",
       "    <tr>\n",
       "      <th>4</th>\n",
       "      <td>159</td>\n",
       "      <td>7500</td>\n",
       "      <td>850</td>\n",
       "      <td>0.003529</td>\n",
       "      <td>0.500000</td>\n",
       "      <td>2</td>\n",
       "      <td>0</td>\n",
       "      <td>0</td>\n",
       "      <td>0</td>\n",
       "    </tr>\n",
       "    <tr>\n",
       "      <th>...</th>\n",
       "      <td>...</td>\n",
       "      <td>...</td>\n",
       "      <td>...</td>\n",
       "      <td>...</td>\n",
       "      <td>...</td>\n",
       "      <td>...</td>\n",
       "      <td>...</td>\n",
       "      <td>...</td>\n",
       "      <td>...</td>\n",
       "    </tr>\n",
       "    <tr>\n",
       "      <th>4738</th>\n",
       "      <td>168</td>\n",
       "      <td>15000</td>\n",
       "      <td>1000</td>\n",
       "      <td>0.004000</td>\n",
       "      <td>0.600000</td>\n",
       "      <td>5</td>\n",
       "      <td>1</td>\n",
       "      <td>0</td>\n",
       "      <td>1</td>\n",
       "    </tr>\n",
       "    <tr>\n",
       "      <th>4739</th>\n",
       "      <td>165</td>\n",
       "      <td>29000</td>\n",
       "      <td>2000</td>\n",
       "      <td>0.003000</td>\n",
       "      <td>0.250000</td>\n",
       "      <td>4</td>\n",
       "      <td>1</td>\n",
       "      <td>0</td>\n",
       "      <td>1</td>\n",
       "    </tr>\n",
       "    <tr>\n",
       "      <th>4740</th>\n",
       "      <td>221</td>\n",
       "      <td>35000</td>\n",
       "      <td>1750</td>\n",
       "      <td>0.003429</td>\n",
       "      <td>0.600000</td>\n",
       "      <td>5</td>\n",
       "      <td>1</td>\n",
       "      <td>0</td>\n",
       "      <td>1</td>\n",
       "    </tr>\n",
       "    <tr>\n",
       "      <th>4741</th>\n",
       "      <td>217</td>\n",
       "      <td>45000</td>\n",
       "      <td>1500</td>\n",
       "      <td>0.003333</td>\n",
       "      <td>0.676471</td>\n",
       "      <td>34</td>\n",
       "      <td>1</td>\n",
       "      <td>0</td>\n",
       "      <td>1</td>\n",
       "    </tr>\n",
       "    <tr>\n",
       "      <th>4742</th>\n",
       "      <td>154</td>\n",
       "      <td>15000</td>\n",
       "      <td>1000</td>\n",
       "      <td>0.004000</td>\n",
       "      <td>0.800000</td>\n",
       "      <td>5</td>\n",
       "      <td>1</td>\n",
       "      <td>0</td>\n",
       "      <td>0</td>\n",
       "    </tr>\n",
       "  </tbody>\n",
       "</table>\n",
       "<p>4743 rows × 9 columns</p>\n",
       "</div>"
      ],
      "text/plain": [
       "      Posted On   Rent  Size  Bathroom  Floor On  Floor Out Of  \\\n",
       "0           168  10000  1100  0.003636  0.000000             2   \n",
       "1           163  20000   800  0.003750  0.333333             3   \n",
       "2           166  17000  1000  0.003000  0.333333             3   \n",
       "3           215  10000   800  0.003750  0.500000             2   \n",
       "4           159   7500   850  0.003529  0.500000             2   \n",
       "...         ...    ...   ...       ...       ...           ...   \n",
       "4738        168  15000  1000  0.004000  0.600000             5   \n",
       "4739        165  29000  2000  0.003000  0.250000             4   \n",
       "4740        221  35000  1750  0.003429  0.600000             5   \n",
       "4741        217  45000  1500  0.003333  0.676471            34   \n",
       "4742        154  15000  1000  0.004000  0.800000             5   \n",
       "\n",
       "      InSimilarCities  Mumbai  Family  \n",
       "0                   0       0       1  \n",
       "1                   0       0       1  \n",
       "2                   0       0       1  \n",
       "3                   0       0       1  \n",
       "4                   0       0       0  \n",
       "...               ...     ...     ...  \n",
       "4738                1       0       1  \n",
       "4739                1       0       1  \n",
       "4740                1       0       1  \n",
       "4741                1       0       1  \n",
       "4742                1       0       0  \n",
       "\n",
       "[4743 rows x 9 columns]"
      ]
     },
     "execution_count": 133,
     "metadata": {},
     "output_type": "execute_result"
    }
   ],
   "source": [
    "data"
   ]
  },
  {
   "cell_type": "code",
   "execution_count": 134,
   "id": "5381a5f2",
   "metadata": {},
   "outputs": [
    {
     "name": "stdout",
     "output_type": "stream",
     "text": [
      "you need a valid regression type for pca\n"
     ]
    }
   ],
   "source": [
    "validate(data)"
   ]
  },
  {
   "cell_type": "markdown",
   "id": "60f3bfe3",
   "metadata": {},
   "source": [
    "### After we've removed most of the autocorrelation from our data we just need to remove extreme outlier points and we will have a useable dataset."
   ]
  },
  {
   "cell_type": "code",
   "execution_count": 135,
   "id": "e2ca93d8",
   "metadata": {},
   "outputs": [
    {
     "data": {
      "text/html": [
       "<div>\n",
       "<style scoped>\n",
       "    .dataframe tbody tr th:only-of-type {\n",
       "        vertical-align: middle;\n",
       "    }\n",
       "\n",
       "    .dataframe tbody tr th {\n",
       "        vertical-align: top;\n",
       "    }\n",
       "\n",
       "    .dataframe thead th {\n",
       "        text-align: right;\n",
       "    }\n",
       "</style>\n",
       "<table border=\"1\" class=\"dataframe\">\n",
       "  <thead>\n",
       "    <tr style=\"text-align: right;\">\n",
       "      <th></th>\n",
       "      <th>Posted On</th>\n",
       "      <th>Rent</th>\n",
       "      <th>Size</th>\n",
       "      <th>Bathroom</th>\n",
       "      <th>Floor On</th>\n",
       "      <th>Floor Out Of</th>\n",
       "      <th>InSimilarCities</th>\n",
       "      <th>Mumbai</th>\n",
       "      <th>Family</th>\n",
       "    </tr>\n",
       "  </thead>\n",
       "  <tbody>\n",
       "    <tr>\n",
       "      <th>0</th>\n",
       "      <td>168</td>\n",
       "      <td>10000</td>\n",
       "      <td>1100</td>\n",
       "      <td>0.003636</td>\n",
       "      <td>0.000000</td>\n",
       "      <td>2</td>\n",
       "      <td>0</td>\n",
       "      <td>0</td>\n",
       "      <td>1</td>\n",
       "    </tr>\n",
       "    <tr>\n",
       "      <th>1</th>\n",
       "      <td>163</td>\n",
       "      <td>20000</td>\n",
       "      <td>800</td>\n",
       "      <td>0.003750</td>\n",
       "      <td>0.333333</td>\n",
       "      <td>3</td>\n",
       "      <td>0</td>\n",
       "      <td>0</td>\n",
       "      <td>1</td>\n",
       "    </tr>\n",
       "    <tr>\n",
       "      <th>2</th>\n",
       "      <td>166</td>\n",
       "      <td>17000</td>\n",
       "      <td>1000</td>\n",
       "      <td>0.003000</td>\n",
       "      <td>0.333333</td>\n",
       "      <td>3</td>\n",
       "      <td>0</td>\n",
       "      <td>0</td>\n",
       "      <td>1</td>\n",
       "    </tr>\n",
       "    <tr>\n",
       "      <th>3</th>\n",
       "      <td>215</td>\n",
       "      <td>10000</td>\n",
       "      <td>800</td>\n",
       "      <td>0.003750</td>\n",
       "      <td>0.500000</td>\n",
       "      <td>2</td>\n",
       "      <td>0</td>\n",
       "      <td>0</td>\n",
       "      <td>1</td>\n",
       "    </tr>\n",
       "    <tr>\n",
       "      <th>4</th>\n",
       "      <td>159</td>\n",
       "      <td>7500</td>\n",
       "      <td>850</td>\n",
       "      <td>0.003529</td>\n",
       "      <td>0.500000</td>\n",
       "      <td>2</td>\n",
       "      <td>0</td>\n",
       "      <td>0</td>\n",
       "      <td>0</td>\n",
       "    </tr>\n",
       "    <tr>\n",
       "      <th>...</th>\n",
       "      <td>...</td>\n",
       "      <td>...</td>\n",
       "      <td>...</td>\n",
       "      <td>...</td>\n",
       "      <td>...</td>\n",
       "      <td>...</td>\n",
       "      <td>...</td>\n",
       "      <td>...</td>\n",
       "      <td>...</td>\n",
       "    </tr>\n",
       "    <tr>\n",
       "      <th>4624</th>\n",
       "      <td>168</td>\n",
       "      <td>15000</td>\n",
       "      <td>1000</td>\n",
       "      <td>0.004000</td>\n",
       "      <td>0.600000</td>\n",
       "      <td>5</td>\n",
       "      <td>1</td>\n",
       "      <td>0</td>\n",
       "      <td>1</td>\n",
       "    </tr>\n",
       "    <tr>\n",
       "      <th>4625</th>\n",
       "      <td>165</td>\n",
       "      <td>29000</td>\n",
       "      <td>2000</td>\n",
       "      <td>0.003000</td>\n",
       "      <td>0.250000</td>\n",
       "      <td>4</td>\n",
       "      <td>1</td>\n",
       "      <td>0</td>\n",
       "      <td>1</td>\n",
       "    </tr>\n",
       "    <tr>\n",
       "      <th>4626</th>\n",
       "      <td>221</td>\n",
       "      <td>35000</td>\n",
       "      <td>1750</td>\n",
       "      <td>0.003429</td>\n",
       "      <td>0.600000</td>\n",
       "      <td>5</td>\n",
       "      <td>1</td>\n",
       "      <td>0</td>\n",
       "      <td>1</td>\n",
       "    </tr>\n",
       "    <tr>\n",
       "      <th>4627</th>\n",
       "      <td>217</td>\n",
       "      <td>45000</td>\n",
       "      <td>1500</td>\n",
       "      <td>0.003333</td>\n",
       "      <td>0.676471</td>\n",
       "      <td>34</td>\n",
       "      <td>1</td>\n",
       "      <td>0</td>\n",
       "      <td>1</td>\n",
       "    </tr>\n",
       "    <tr>\n",
       "      <th>4628</th>\n",
       "      <td>154</td>\n",
       "      <td>15000</td>\n",
       "      <td>1000</td>\n",
       "      <td>0.004000</td>\n",
       "      <td>0.800000</td>\n",
       "      <td>5</td>\n",
       "      <td>1</td>\n",
       "      <td>0</td>\n",
       "      <td>0</td>\n",
       "    </tr>\n",
       "  </tbody>\n",
       "</table>\n",
       "<p>4629 rows × 9 columns</p>\n",
       "</div>"
      ],
      "text/plain": [
       "      Posted On   Rent  Size  Bathroom  Floor On  Floor Out Of  \\\n",
       "0           168  10000  1100  0.003636  0.000000             2   \n",
       "1           163  20000   800  0.003750  0.333333             3   \n",
       "2           166  17000  1000  0.003000  0.333333             3   \n",
       "3           215  10000   800  0.003750  0.500000             2   \n",
       "4           159   7500   850  0.003529  0.500000             2   \n",
       "...         ...    ...   ...       ...       ...           ...   \n",
       "4624        168  15000  1000  0.004000  0.600000             5   \n",
       "4625        165  29000  2000  0.003000  0.250000             4   \n",
       "4626        221  35000  1750  0.003429  0.600000             5   \n",
       "4627        217  45000  1500  0.003333  0.676471            34   \n",
       "4628        154  15000  1000  0.004000  0.800000             5   \n",
       "\n",
       "      InSimilarCities  Mumbai  Family  \n",
       "0                   0       0       1  \n",
       "1                   0       0       1  \n",
       "2                   0       0       1  \n",
       "3                   0       0       1  \n",
       "4                   0       0       0  \n",
       "...               ...     ...     ...  \n",
       "4624                1       0       1  \n",
       "4625                1       0       1  \n",
       "4626                1       0       1  \n",
       "4627                1       0       1  \n",
       "4628                1       0       0  \n",
       "\n",
       "[4629 rows x 9 columns]"
      ]
     },
     "execution_count": 135,
     "metadata": {},
     "output_type": "execute_result"
    }
   ],
   "source": [
    "col = \"Rent\"\n",
    "sample_mean = np.mean(data[col],axis=0)\n",
    "sample_std_dev = np.std(data[col],axis=0)\n",
    "row_pointer = 0\n",
    "for row in range(len(data)):\n",
    "    safe = True\n",
    "    val = data.iloc[row_pointer][col]\n",
    "    if val <= sample_mean - 2 * sample_std_dev:\n",
    "        safe = False\n",
    "    elif val >= sample_mean + 2 * sample_std_dev:\n",
    "        safe = False\n",
    "\n",
    "    if not safe:\n",
    "        data = data.drop(row,axis=0)\n",
    "        row_pointer = row_pointer - 1\n",
    "\n",
    "    row_pointer = row_pointer + 1\n",
    "data.reset_index(drop=True)"
   ]
  },
  {
   "cell_type": "code",
   "execution_count": 136,
   "id": "d9411bdd",
   "metadata": {},
   "outputs": [
    {
     "data": {
      "text/html": [
       "<div>\n",
       "<style scoped>\n",
       "    .dataframe tbody tr th:only-of-type {\n",
       "        vertical-align: middle;\n",
       "    }\n",
       "\n",
       "    .dataframe tbody tr th {\n",
       "        vertical-align: top;\n",
       "    }\n",
       "\n",
       "    .dataframe thead th {\n",
       "        text-align: right;\n",
       "    }\n",
       "</style>\n",
       "<table border=\"1\" class=\"dataframe\">\n",
       "  <thead>\n",
       "    <tr style=\"text-align: right;\">\n",
       "      <th></th>\n",
       "      <th>Posted On</th>\n",
       "      <th>Rent</th>\n",
       "      <th>Size</th>\n",
       "      <th>Bathroom</th>\n",
       "      <th>Floor On</th>\n",
       "      <th>Floor Out Of</th>\n",
       "      <th>InSimilarCities</th>\n",
       "      <th>Mumbai</th>\n",
       "      <th>Family</th>\n",
       "    </tr>\n",
       "  </thead>\n",
       "  <tbody>\n",
       "    <tr>\n",
       "      <th>0</th>\n",
       "      <td>168</td>\n",
       "      <td>10000</td>\n",
       "      <td>1100</td>\n",
       "      <td>0.003636</td>\n",
       "      <td>0.000000</td>\n",
       "      <td>2</td>\n",
       "      <td>0</td>\n",
       "      <td>0</td>\n",
       "      <td>1</td>\n",
       "    </tr>\n",
       "    <tr>\n",
       "      <th>1</th>\n",
       "      <td>163</td>\n",
       "      <td>20000</td>\n",
       "      <td>800</td>\n",
       "      <td>0.003750</td>\n",
       "      <td>0.333333</td>\n",
       "      <td>3</td>\n",
       "      <td>0</td>\n",
       "      <td>0</td>\n",
       "      <td>1</td>\n",
       "    </tr>\n",
       "    <tr>\n",
       "      <th>2</th>\n",
       "      <td>166</td>\n",
       "      <td>17000</td>\n",
       "      <td>1000</td>\n",
       "      <td>0.003000</td>\n",
       "      <td>0.333333</td>\n",
       "      <td>3</td>\n",
       "      <td>0</td>\n",
       "      <td>0</td>\n",
       "      <td>1</td>\n",
       "    </tr>\n",
       "    <tr>\n",
       "      <th>3</th>\n",
       "      <td>215</td>\n",
       "      <td>10000</td>\n",
       "      <td>800</td>\n",
       "      <td>0.003750</td>\n",
       "      <td>0.500000</td>\n",
       "      <td>2</td>\n",
       "      <td>0</td>\n",
       "      <td>0</td>\n",
       "      <td>1</td>\n",
       "    </tr>\n",
       "    <tr>\n",
       "      <th>4</th>\n",
       "      <td>159</td>\n",
       "      <td>7500</td>\n",
       "      <td>850</td>\n",
       "      <td>0.003529</td>\n",
       "      <td>0.500000</td>\n",
       "      <td>2</td>\n",
       "      <td>0</td>\n",
       "      <td>0</td>\n",
       "      <td>0</td>\n",
       "    </tr>\n",
       "    <tr>\n",
       "      <th>...</th>\n",
       "      <td>...</td>\n",
       "      <td>...</td>\n",
       "      <td>...</td>\n",
       "      <td>...</td>\n",
       "      <td>...</td>\n",
       "      <td>...</td>\n",
       "      <td>...</td>\n",
       "      <td>...</td>\n",
       "      <td>...</td>\n",
       "    </tr>\n",
       "    <tr>\n",
       "      <th>4738</th>\n",
       "      <td>168</td>\n",
       "      <td>15000</td>\n",
       "      <td>1000</td>\n",
       "      <td>0.004000</td>\n",
       "      <td>0.600000</td>\n",
       "      <td>5</td>\n",
       "      <td>1</td>\n",
       "      <td>0</td>\n",
       "      <td>1</td>\n",
       "    </tr>\n",
       "    <tr>\n",
       "      <th>4739</th>\n",
       "      <td>165</td>\n",
       "      <td>29000</td>\n",
       "      <td>2000</td>\n",
       "      <td>0.003000</td>\n",
       "      <td>0.250000</td>\n",
       "      <td>4</td>\n",
       "      <td>1</td>\n",
       "      <td>0</td>\n",
       "      <td>1</td>\n",
       "    </tr>\n",
       "    <tr>\n",
       "      <th>4740</th>\n",
       "      <td>221</td>\n",
       "      <td>35000</td>\n",
       "      <td>1750</td>\n",
       "      <td>0.003429</td>\n",
       "      <td>0.600000</td>\n",
       "      <td>5</td>\n",
       "      <td>1</td>\n",
       "      <td>0</td>\n",
       "      <td>1</td>\n",
       "    </tr>\n",
       "    <tr>\n",
       "      <th>4741</th>\n",
       "      <td>217</td>\n",
       "      <td>45000</td>\n",
       "      <td>1500</td>\n",
       "      <td>0.003333</td>\n",
       "      <td>0.676471</td>\n",
       "      <td>34</td>\n",
       "      <td>1</td>\n",
       "      <td>0</td>\n",
       "      <td>1</td>\n",
       "    </tr>\n",
       "    <tr>\n",
       "      <th>4742</th>\n",
       "      <td>154</td>\n",
       "      <td>15000</td>\n",
       "      <td>1000</td>\n",
       "      <td>0.004000</td>\n",
       "      <td>0.800000</td>\n",
       "      <td>5</td>\n",
       "      <td>1</td>\n",
       "      <td>0</td>\n",
       "      <td>0</td>\n",
       "    </tr>\n",
       "  </tbody>\n",
       "</table>\n",
       "<p>4629 rows × 9 columns</p>\n",
       "</div>"
      ],
      "text/plain": [
       "      Posted On   Rent  Size  Bathroom  Floor On  Floor Out Of  \\\n",
       "0           168  10000  1100  0.003636  0.000000             2   \n",
       "1           163  20000   800  0.003750  0.333333             3   \n",
       "2           166  17000  1000  0.003000  0.333333             3   \n",
       "3           215  10000   800  0.003750  0.500000             2   \n",
       "4           159   7500   850  0.003529  0.500000             2   \n",
       "...         ...    ...   ...       ...       ...           ...   \n",
       "4738        168  15000  1000  0.004000  0.600000             5   \n",
       "4739        165  29000  2000  0.003000  0.250000             4   \n",
       "4740        221  35000  1750  0.003429  0.600000             5   \n",
       "4741        217  45000  1500  0.003333  0.676471            34   \n",
       "4742        154  15000  1000  0.004000  0.800000             5   \n",
       "\n",
       "      InSimilarCities  Mumbai  Family  \n",
       "0                   0       0       1  \n",
       "1                   0       0       1  \n",
       "2                   0       0       1  \n",
       "3                   0       0       1  \n",
       "4                   0       0       0  \n",
       "...               ...     ...     ...  \n",
       "4738                1       0       1  \n",
       "4739                1       0       1  \n",
       "4740                1       0       1  \n",
       "4741                1       0       1  \n",
       "4742                1       0       0  \n",
       "\n",
       "[4629 rows x 9 columns]"
      ]
     },
     "execution_count": 136,
     "metadata": {},
     "output_type": "execute_result"
    }
   ],
   "source": [
    "data"
   ]
  },
  {
   "cell_type": "code",
   "execution_count": null,
   "id": "253fdc32",
   "metadata": {},
   "outputs": [],
   "source": []
  },
  {
   "cell_type": "code",
   "execution_count": null,
   "id": "8fbf3bcf",
   "metadata": {},
   "outputs": [],
   "source": []
  },
  {
   "cell_type": "markdown",
   "id": "a25b1f36",
   "metadata": {},
   "source": [
    "# Model Usability Experimentation and Model Development"
   ]
  },
  {
   "cell_type": "markdown",
   "id": "91f447d4",
   "metadata": {},
   "source": [
    "### To start model development lets begin by looking at the main types of regression techniques we could potentially use."
   ]
  },
  {
   "cell_type": "markdown",
   "id": "294df9d9",
   "metadata": {},
   "source": [
    "1. Multiple Linear Regression - By this I mean a regression done with the simple/multiple linear regression model ((((EQUATION -   Y = XB + epsilon)))). Uses OLS or Ordinary Least Squares [SUM:(yHat - y)^2]"
   ]
  },
  {
   "cell_type": "markdown",
   "id": "c7784380",
   "metadata": {},
   "source": [
    "2. Neural network regression - This type of model has its advantages, but before testing I think our data sample size is too small from which to learn anything meaningful."
   ]
  },
  {
   "cell_type": "markdown",
   "id": "f1b6e740",
   "metadata": {},
   "source": [
    "3. Lasso Regression - Uses Least Absolute Shrinkage and Selection Operator in place of the classic OLS. Good for datasets with highly correlated variables which you're having a hard time seperating."
   ]
  },
  {
   "cell_type": "markdown",
   "id": "665b5b35",
   "metadata": {},
   "source": [
    "4. Decision Tree or Random Forest Regression - Using either a single main decision tree or a forest of small trees built from random sampling, either case uses these trees to evaluate a sum as the nodes are evaluated which works in the end as a regression."
   ]
  },
  {
   "cell_type": "markdown",
   "id": "7901e24e",
   "metadata": {},
   "source": [
    "5. KNN (or other clustering) - Cluster the data using a KNN or other clustering algorithm, and evaluate the value of any newly presented point by taking the mean of the nearby points after the new point is plotted."
   ]
  },
  {
   "cell_type": "markdown",
   "id": "77647190",
   "metadata": {},
   "source": [
    "6. SVM - SVM's are excellent for both classification and regression due to their use of the kernel trick to create arbitrarily complex domains in which to perform the regression without knowing what those domains are. "
   ]
  },
  {
   "cell_type": "markdown",
   "id": "63d704ad",
   "metadata": {},
   "source": [
    "7. Gaussian Process Regression - Models the probability distribution for the domain of all inputs to the function used rather than for any specific inputs. Sounds really nice, and each prediction comes with a uncertainty measure. "
   ]
  },
  {
   "cell_type": "markdown",
   "id": "ab2c450e",
   "metadata": {},
   "source": [
    "8. Polynomial Regression - Like simple linear regression, but instead of y = x0 + b(x1), the series is increasing polynomials. Therefore, y = x0 + a(x1) + b(x1)^2 + c(x1)^3 + ... n(x1)^n. Seems a little useful, but I have too many variables to use a simple regression model."
   ]
  },
  {
   "cell_type": "markdown",
   "id": "b564dc5a",
   "metadata": {},
   "source": [
    "### Now we just need to decide actual models to test based on these techniques."
   ]
  },
  {
   "cell_type": "markdown",
   "id": "a0100992",
   "metadata": {},
   "source": [
    "1. Multiple Linear Regression"
   ]
  },
  {
   "cell_type": "code",
   "execution_count": 137,
   "id": "5baf07b9",
   "metadata": {},
   "outputs": [
    {
     "data": {
      "text/plain": [
       "[200669.48024001133,\n",
       " 141709.1432361904,\n",
       " 117651.14260125495,\n",
       " 118503.27767291767,\n",
       " 115580.01478607662,\n",
       " 116126.00790571909,\n",
       " 92790.02500293955,\n",
       " 91753.65815811166,\n",
       " 86618.4034032579]"
      ]
     },
     "metadata": {},
     "output_type": "display_data"
    },
    {
     "data": {
      "image/png": "[encoded data removed]",
      "text/plain": [
       "<Figure size 640x480 with 1 Axes>"
      ]
     },
     "metadata": {},
     "output_type": "display_data"
    }
   ],
   "source": [
    "validate(data,reg_type='linear',repeats=50)"
   ]
  },
  {
   "cell_type": "markdown",
   "id": "241a8462",
   "metadata": {},
   "source": [
    "2. Neural Network Regression"
   ]
  },
  {
   "cell_type": "code",
   "execution_count": null,
   "id": "aa64864d",
   "metadata": {},
   "outputs": [],
   "source": []
  },
  {
   "cell_type": "markdown",
   "id": "aecab90d",
   "metadata": {},
   "source": [
    "3. Lasso Regression"
   ]
  },
  {
   "cell_type": "code",
   "execution_count": 138,
   "id": "b3afb9d5",
   "metadata": {},
   "outputs": [
    {
     "data": {
      "text/plain": [
       "[200669.48024001133,\n",
       " 141709.1458432861,\n",
       " 117651.01045505654,\n",
       " 118501.78712147345,\n",
       " 115578.64259745079,\n",
       " 116123.0974641685,\n",
       " 92789.08783296117,\n",
       " 91749.3923483271,\n",
       " 86614.08160241779]"
      ]
     },
     "metadata": {},
     "output_type": "display_data"
    },
    {
     "data": {
      "image/png": "[encoded data removed]",
      "text/plain": [
       "<Figure size 640x480 with 1 Axes>"
      ]
     },
     "metadata": {},
     "output_type": "display_data"
    }
   ],
   "source": [
    "validate(data,reg_type='lasso',repeats=50)"
   ]
  },
  {
   "cell_type": "markdown",
   "id": "063070cf",
   "metadata": {},
   "source": [
    "4. Random Forest Regression"
   ]
  },
  {
   "cell_type": "code",
   "execution_count": null,
   "id": "edaaaa05",
   "metadata": {},
   "outputs": [],
   "source": [
    "validate(data,reg_type='random_forest',repeats=5)"
   ]
  },
  {
   "cell_type": "markdown",
   "id": "de48b0b3",
   "metadata": {},
   "source": [
    "Tends to have the best results but takes significantly longer than the others to run. A good choice for a final model to be deployed, but not great for testing things like preprocessing styles."
   ]
  },
  {
   "cell_type": "markdown",
   "id": "a9181046",
   "metadata": {},
   "source": [
    "5. K-Means Clustering with an SVM Regression per Cluster\n",
    "https://blog.paperspace.com/svr-kmeans-clustering-for-regression/"
   ]
  },
  {
   "cell_type": "markdown",
   "id": "fdb70e1f",
   "metadata": {},
   "source": [
    "6. SVM with Linear Kernel"
   ]
  },
  {
   "cell_type": "markdown",
   "id": "843f22b6",
   "metadata": {},
   "source": [
    "7. SVM with Gaussian Kernel"
   ]
  },
  {
   "cell_type": "markdown",
   "id": "272294bf",
   "metadata": {},
   "source": [
    "8. SVM with Linear Kernel"
   ]
  }
 ],
 "metadata": {
  "kernelspec": {
   "display_name": "Python 3 (ipykernel)",
   "language": "python",
   "name": "python3"
  },
  "language_info": {
   "codemirror_mode": {
    "name": "ipython",
    "version": 3
   },
   "file_extension": ".py",
   "mimetype": "text/x-python",
   "name": "python",
   "nbconvert_exporter": "python",
   "pygments_lexer": "ipython3",
   "version": "3.9.12"
  }
 },
 "nbformat": 4,
 "nbformat_minor": 5
}
